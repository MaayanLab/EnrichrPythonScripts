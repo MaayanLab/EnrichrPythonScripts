{
 "cells": [
  {
   "cell_type": "code",
   "execution_count": 1,
   "metadata": {},
   "outputs": [],
   "source": [
    "import pandas as pd"
   ]
  },
  {
   "cell_type": "code",
   "execution_count": 2,
   "metadata": {},
   "outputs": [
    {
     "data": {
      "text/html": [
       "<div>\n",
       "<style scoped>\n",
       "    .dataframe tbody tr th:only-of-type {\n",
       "        vertical-align: middle;\n",
       "    }\n",
       "\n",
       "    .dataframe tbody tr th {\n",
       "        vertical-align: top;\n",
       "    }\n",
       "\n",
       "    .dataframe thead th {\n",
       "        text-align: right;\n",
       "    }\n",
       "</style>\n",
       "<table border=\"1\" class=\"dataframe\">\n",
       "  <thead>\n",
       "    <tr style=\"text-align: right;\">\n",
       "      <th></th>\n",
       "      <th>id</th>\n",
       "      <th>uniprot_id</th>\n",
       "      <th>hgnc_id</th>\n",
       "      <th>hgnc_symbol</th>\n",
       "      <th>pubmed_id</th>\n",
       "      <th>go_id</th>\n",
       "      <th>go_name</th>\n",
       "      <th>go_domain</th>\n",
       "      <th>evidence_biological_system</th>\n",
       "      <th>evidence_protein_targeting</th>\n",
       "      <th>evidence_experiment_assay</th>\n",
       "      <th>evidence_nontracable_author_statement</th>\n",
       "    </tr>\n",
       "  </thead>\n",
       "  <tbody>\n",
       "    <tr>\n",
       "      <th>0</th>\n",
       "      <td>4533</td>\n",
       "      <td>P0C1X8</td>\n",
       "      <td>HGNC:19679</td>\n",
       "      <td>AAK1</td>\n",
       "      <td>33376223</td>\n",
       "      <td>GO:0140238</td>\n",
       "      <td>presynaptic endocytosis (GO:0140238)</td>\n",
       "      <td>BP</td>\n",
       "      <td>biosys:intacttissue</td>\n",
       "      <td>target:antagonist</td>\n",
       "      <td>ephys:generic</td>\n",
       "      <td>False</td>\n",
       "    </tr>\n",
       "    <tr>\n",
       "      <th>1</th>\n",
       "      <td>4532</td>\n",
       "      <td>Q3UHJ0</td>\n",
       "      <td>HGNC:19679</td>\n",
       "      <td>AAK1</td>\n",
       "      <td>33376223</td>\n",
       "      <td>GO:0140238</td>\n",
       "      <td>presynaptic endocytosis (GO:0140238)</td>\n",
       "      <td>BP</td>\n",
       "      <td>biosys:cultneuron</td>\n",
       "      <td>target:rnai</td>\n",
       "      <td>ephys:generic,ophys:optical</td>\n",
       "      <td>False</td>\n",
       "    </tr>\n",
       "    <tr>\n",
       "      <th>2</th>\n",
       "      <td>2504</td>\n",
       "      <td>P0C1X8</td>\n",
       "      <td>HGNC:19679</td>\n",
       "      <td>AAK1</td>\n",
       "      <td>11877461</td>\n",
       "      <td>GO:0098793</td>\n",
       "      <td>presynapse (GO:0098793)</td>\n",
       "      <td>CC</td>\n",
       "      <td>biosys:cultneuron</td>\n",
       "      <td>target:antibody</td>\n",
       "      <td>mic:confocal</td>\n",
       "      <td>False</td>\n",
       "    </tr>\n",
       "    <tr>\n",
       "      <th>3</th>\n",
       "      <td>2622</td>\n",
       "      <td>Q5XIJ5</td>\n",
       "      <td>HGNC:28756</td>\n",
       "      <td>ABHD17A</td>\n",
       "      <td>27307232</td>\n",
       "      <td>GO:0099033</td>\n",
       "      <td>anchored component of postsynaptic recycling e...</td>\n",
       "      <td>CC</td>\n",
       "      <td>biosys:cultneuron</td>\n",
       "      <td>target:overexpression</td>\n",
       "      <td>mic:confocal</td>\n",
       "      <td>False</td>\n",
       "    </tr>\n",
       "    <tr>\n",
       "      <th>4</th>\n",
       "      <td>2633</td>\n",
       "      <td>Q5XIJ5</td>\n",
       "      <td>HGNC:28756</td>\n",
       "      <td>ABHD17A</td>\n",
       "      <td>27307232</td>\n",
       "      <td>GO:0099175</td>\n",
       "      <td>regulation of postsynapse organization (GO:009...</td>\n",
       "      <td>BP</td>\n",
       "      <td>biosys:cultneuron</td>\n",
       "      <td>target:rnai</td>\n",
       "      <td>mic:confocal,frac:wb</td>\n",
       "      <td>False</td>\n",
       "    </tr>\n",
       "  </tbody>\n",
       "</table>\n",
       "</div>"
      ],
      "text/plain": [
       "     id uniprot_id     hgnc_id hgnc_symbol  pubmed_id       go_id  \\\n",
       "0  4533     P0C1X8  HGNC:19679        AAK1   33376223  GO:0140238   \n",
       "1  4532     Q3UHJ0  HGNC:19679        AAK1   33376223  GO:0140238   \n",
       "2  2504     P0C1X8  HGNC:19679        AAK1   11877461  GO:0098793   \n",
       "3  2622     Q5XIJ5  HGNC:28756     ABHD17A   27307232  GO:0099033   \n",
       "4  2633     Q5XIJ5  HGNC:28756     ABHD17A   27307232  GO:0099175   \n",
       "\n",
       "                                             go_name go_domain  \\\n",
       "0               presynaptic endocytosis (GO:0140238)        BP   \n",
       "1               presynaptic endocytosis (GO:0140238)        BP   \n",
       "2                            presynapse (GO:0098793)        CC   \n",
       "3  anchored component of postsynaptic recycling e...        CC   \n",
       "4  regulation of postsynapse organization (GO:009...        BP   \n",
       "\n",
       "  evidence_biological_system evidence_protein_targeting  \\\n",
       "0        biosys:intacttissue          target:antagonist   \n",
       "1          biosys:cultneuron                target:rnai   \n",
       "2          biosys:cultneuron            target:antibody   \n",
       "3          biosys:cultneuron      target:overexpression   \n",
       "4          biosys:cultneuron                target:rnai   \n",
       "\n",
       "     evidence_experiment_assay  evidence_nontracable_author_statement  \n",
       "0                ephys:generic                                  False  \n",
       "1  ephys:generic,ophys:optical                                  False  \n",
       "2                 mic:confocal                                  False  \n",
       "3                 mic:confocal                                  False  \n",
       "4         mic:confocal,frac:wb                                  False  "
      ]
     },
     "execution_count": 2,
     "metadata": {},
     "output_type": "execute_result"
    }
   ],
   "source": [
    "df = pd.read_csv(\"data/SynGO_bulk_download_release_20210225/syngo_annotations.tsv\", sep=\"\\t\")\n",
    "df.head()"
   ]
  },
  {
   "cell_type": "code",
   "execution_count": 3,
   "metadata": {},
   "outputs": [
    {
     "name": "stdout",
     "output_type": "stream",
     "text": [
      "Terms: 250\n",
      "GO IDs: 250\n",
      "Gene Coverage: 1233\n",
      "Average genes per terms: 12.008\n",
      "Max genes per terms: 236\n",
      "Min genes per terms: 1\n"
     ]
    }
   ],
   "source": [
    "gmt = {}\n",
    "genes = set()\n",
    "go_ids = set()\n",
    "for i in df.iterrows():\n",
    "    data = i[1]\n",
    "    hgnc_symbol_str = data['hgnc_symbol']\n",
    "    for hgnc_symbol in hgnc_symbol_str.split(\";\"):\n",
    "        genes.add(hgnc_symbol)\n",
    "        go_name = data['go_name']\n",
    "        go_id = data['go_id']\n",
    "        go_ids.add(go_id)\n",
    "        go_domain = data['go_domain']\n",
    "        label = \"%s %s\\t\"%(go_name, go_domain)\n",
    "        if label not in gmt:\n",
    "            gmt[label] = set()\n",
    "        gmt[label].add(hgnc_symbol)\n",
    "\n",
    "print(\"Terms: %s\"%len(gmt))\n",
    "print(\"GO IDs: %s\"%len(go_ids))\n",
    "\n",
    "print(\"Gene Coverage: %s\"%len(genes))\n",
    "gene_counts = 0\n",
    "max_genes = 0\n",
    "min_genes = 100\n",
    "for i in gmt.values():\n",
    "    gene_counts += len(i)\n",
    "    if len(i) > max_genes:\n",
    "        max_genes = len(i)\n",
    "    if len(i) < min_genes:\n",
    "        min_genes = len(i)\n",
    "\n",
    "print(\"Average genes per terms: %s\"%(gene_counts/len(gmt)))\n",
    "print(\"Max genes per terms: %s\"%(max_genes))\n",
    "print(\"Min genes per terms: %s\"%(min_genes))\n",
    "\n"
   ]
  },
  {
   "cell_type": "code",
   "execution_count": 4,
   "metadata": {},
   "outputs": [],
   "source": [
    "with open(\"/Users/maayanlab/Documents/codebase/enrichr_utils/gmt/SynGO.gmt\", \"w\") as o:\n",
    "    for k,v in gmt.items():\n",
    "        if len(v) == 0:\n",
    "            print(k)\n",
    "        if len(v) > 0:\n",
    "            line = [k] + list(v) + [\"\\n\"]\n",
    "            o.write(\"\\t\".join(line))\n",
    "    "
   ]
  },
  {
   "cell_type": "code",
   "execution_count": 5,
   "metadata": {},
   "outputs": [
    {
     "data": {
      "text/plain": [
       "1"
      ]
     },
     "execution_count": 5,
     "metadata": {},
     "output_type": "execute_result"
    }
   ],
   "source": [
    "len(v)"
   ]
  },
  {
   "cell_type": "code",
   "execution_count": null,
   "metadata": {},
   "outputs": [],
   "source": []
  }
 ],
 "metadata": {
  "kernelspec": {
   "display_name": "Python 3.9.15 ('venv': venv)",
   "language": "python",
   "name": "python3"
  },
  "language_info": {
   "codemirror_mode": {
    "name": "ipython",
    "version": 3
   },
   "file_extension": ".py",
   "mimetype": "text/x-python",
   "name": "python",
   "nbconvert_exporter": "python",
   "pygments_lexer": "ipython3",
   "version": "3.9.15"
  },
  "orig_nbformat": 4,
  "vscode": {
   "interpreter": {
    "hash": "43fa70dbc3e0e900c09e1e9e147b0eb772ee319912638d9a00663e86ab5de451"
   }
  }
 },
 "nbformat": 4,
 "nbformat_minor": 2
}
