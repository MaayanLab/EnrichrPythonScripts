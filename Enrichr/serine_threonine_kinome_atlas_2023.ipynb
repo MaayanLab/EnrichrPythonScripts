{
 "cells": [
  {
   "cell_type": "code",
   "execution_count": 1,
   "metadata": {},
   "outputs": [],
   "source": [
    "import pandas as pd\n",
    "from tqdm import tqdm\n",
    "import matplotlib.pyplot as plt\n",
    "import requests\n",
    "import json\n",
    "import re\n",
    "import os\n",
    "import math\n",
    "from maayanlab_bioinformatics.harmonization.ncbi_genes import ncbi_genes_lookup"
   ]
  },
  {
   "cell_type": "code",
   "execution_count": 2,
   "metadata": {},
   "outputs": [],
   "source": [
    "gene_lookup = ncbi_genes_lookup()"
   ]
  },
  {
   "cell_type": "code",
   "execution_count": 3,
   "metadata": {},
   "outputs": [],
   "source": [
    "df = pd.read_csv(\"../data/41586_2022_5575_MOESM5_ESM/Supplementary Table 3-Table 1.tsv\", sep=\"\\t\")"
   ]
  },
  {
   "cell_type": "code",
   "execution_count": 4,
   "metadata": {},
   "outputs": [],
   "source": [
    "kinases = [i for i in df.columns if \"_percentile\" in i and i != \"median_percentile\"]\n",
    "columns = [\"Protein\", \"Gene\"] + kinases"
   ]
  },
  {
   "cell_type": "code",
   "execution_count": 5,
   "metadata": {},
   "outputs": [
    {
     "data": {
      "text/html": [
       "<div>\n",
       "<style scoped>\n",
       "    .dataframe tbody tr th:only-of-type {\n",
       "        vertical-align: middle;\n",
       "    }\n",
       "\n",
       "    .dataframe tbody tr th {\n",
       "        vertical-align: top;\n",
       "    }\n",
       "\n",
       "    .dataframe thead th {\n",
       "        text-align: right;\n",
       "    }\n",
       "</style>\n",
       "<table border=\"1\" class=\"dataframe\">\n",
       "  <thead>\n",
       "    <tr style=\"text-align: right;\">\n",
       "      <th></th>\n",
       "      <th>Protein</th>\n",
       "      <th>Gene</th>\n",
       "      <th>AAK1_percentile</th>\n",
       "      <th>ACVR2A_percentile</th>\n",
       "      <th>ACVR2B_percentile</th>\n",
       "      <th>AKT1_percentile</th>\n",
       "      <th>AKT2_percentile</th>\n",
       "      <th>AKT3_percentile</th>\n",
       "      <th>ALK2_percentile</th>\n",
       "      <th>ALK4_percentile</th>\n",
       "      <th>...</th>\n",
       "      <th>VRK1_percentile</th>\n",
       "      <th>VRK2_percentile</th>\n",
       "      <th>WNK1_percentile</th>\n",
       "      <th>WNK3_percentile</th>\n",
       "      <th>WNK4_percentile</th>\n",
       "      <th>YANK2_percentile</th>\n",
       "      <th>YANK3_percentile</th>\n",
       "      <th>YSK1_percentile</th>\n",
       "      <th>YSK4_percentile</th>\n",
       "      <th>ZAK_percentile</th>\n",
       "    </tr>\n",
       "  </thead>\n",
       "  <tbody>\n",
       "    <tr>\n",
       "      <th>0</th>\n",
       "      <td>A0A075B6Q4</td>\n",
       "      <td>NaN</td>\n",
       "      <td>0.47</td>\n",
       "      <td>74.44</td>\n",
       "      <td>83.75</td>\n",
       "      <td>40.80</td>\n",
       "      <td>33.48</td>\n",
       "      <td>33.87</td>\n",
       "      <td>88.45</td>\n",
       "      <td>72.01</td>\n",
       "      <td>...</td>\n",
       "      <td>30.69</td>\n",
       "      <td>8.06</td>\n",
       "      <td>52.70</td>\n",
       "      <td>62.29</td>\n",
       "      <td>40.63</td>\n",
       "      <td>32.83</td>\n",
       "      <td>31.77</td>\n",
       "      <td>16.17</td>\n",
       "      <td>65.22</td>\n",
       "      <td>38.69</td>\n",
       "    </tr>\n",
       "    <tr>\n",
       "      <th>1</th>\n",
       "      <td>A0A075B6Q4</td>\n",
       "      <td>NaN</td>\n",
       "      <td>22.55</td>\n",
       "      <td>79.51</td>\n",
       "      <td>83.59</td>\n",
       "      <td>14.92</td>\n",
       "      <td>14.63</td>\n",
       "      <td>18.58</td>\n",
       "      <td>92.46</td>\n",
       "      <td>62.42</td>\n",
       "      <td>...</td>\n",
       "      <td>13.28</td>\n",
       "      <td>8.57</td>\n",
       "      <td>15.44</td>\n",
       "      <td>26.16</td>\n",
       "      <td>11.66</td>\n",
       "      <td>54.85</td>\n",
       "      <td>40.65</td>\n",
       "      <td>2.34</td>\n",
       "      <td>14.99</td>\n",
       "      <td>0.78</td>\n",
       "    </tr>\n",
       "    <tr>\n",
       "      <th>2</th>\n",
       "      <td>A0A075B6Q4</td>\n",
       "      <td>NaN</td>\n",
       "      <td>4.22</td>\n",
       "      <td>90.58</td>\n",
       "      <td>93.27</td>\n",
       "      <td>12.36</td>\n",
       "      <td>8.18</td>\n",
       "      <td>6.02</td>\n",
       "      <td>88.18</td>\n",
       "      <td>43.07</td>\n",
       "      <td>...</td>\n",
       "      <td>11.14</td>\n",
       "      <td>3.85</td>\n",
       "      <td>13.65</td>\n",
       "      <td>37.74</td>\n",
       "      <td>12.04</td>\n",
       "      <td>93.60</td>\n",
       "      <td>66.93</td>\n",
       "      <td>14.60</td>\n",
       "      <td>61.21</td>\n",
       "      <td>47.62</td>\n",
       "    </tr>\n",
       "    <tr>\n",
       "      <th>3</th>\n",
       "      <td>A0A075B6Q4</td>\n",
       "      <td>NaN</td>\n",
       "      <td>52.67</td>\n",
       "      <td>95.24</td>\n",
       "      <td>94.46</td>\n",
       "      <td>56.05</td>\n",
       "      <td>55.90</td>\n",
       "      <td>56.53</td>\n",
       "      <td>92.37</td>\n",
       "      <td>97.98</td>\n",
       "      <td>...</td>\n",
       "      <td>71.79</td>\n",
       "      <td>40.39</td>\n",
       "      <td>51.63</td>\n",
       "      <td>85.37</td>\n",
       "      <td>78.68</td>\n",
       "      <td>91.31</td>\n",
       "      <td>73.52</td>\n",
       "      <td>76.66</td>\n",
       "      <td>90.57</td>\n",
       "      <td>82.24</td>\n",
       "    </tr>\n",
       "    <tr>\n",
       "      <th>4</th>\n",
       "      <td>A0A075B6Q4</td>\n",
       "      <td>NaN</td>\n",
       "      <td>25.22</td>\n",
       "      <td>60.68</td>\n",
       "      <td>69.21</td>\n",
       "      <td>56.89</td>\n",
       "      <td>29.80</td>\n",
       "      <td>38.44</td>\n",
       "      <td>54.40</td>\n",
       "      <td>28.66</td>\n",
       "      <td>...</td>\n",
       "      <td>88.47</td>\n",
       "      <td>50.70</td>\n",
       "      <td>59.56</td>\n",
       "      <td>91.74</td>\n",
       "      <td>73.35</td>\n",
       "      <td>83.93</td>\n",
       "      <td>53.65</td>\n",
       "      <td>74.42</td>\n",
       "      <td>53.19</td>\n",
       "      <td>74.98</td>\n",
       "    </tr>\n",
       "  </tbody>\n",
       "</table>\n",
       "<p>5 rows × 305 columns</p>\n",
       "</div>"
      ],
      "text/plain": [
       "      Protein Gene  AAK1_percentile  ACVR2A_percentile  ACVR2B_percentile  \\\n",
       "0  A0A075B6Q4  NaN             0.47              74.44              83.75   \n",
       "1  A0A075B6Q4  NaN            22.55              79.51              83.59   \n",
       "2  A0A075B6Q4  NaN             4.22              90.58              93.27   \n",
       "3  A0A075B6Q4  NaN            52.67              95.24              94.46   \n",
       "4  A0A075B6Q4  NaN            25.22              60.68              69.21   \n",
       "\n",
       "   AKT1_percentile  AKT2_percentile  AKT3_percentile  ALK2_percentile  \\\n",
       "0            40.80            33.48            33.87            88.45   \n",
       "1            14.92            14.63            18.58            92.46   \n",
       "2            12.36             8.18             6.02            88.18   \n",
       "3            56.05            55.90            56.53            92.37   \n",
       "4            56.89            29.80            38.44            54.40   \n",
       "\n",
       "   ALK4_percentile  ...  VRK1_percentile  VRK2_percentile  WNK1_percentile  \\\n",
       "0            72.01  ...            30.69             8.06            52.70   \n",
       "1            62.42  ...            13.28             8.57            15.44   \n",
       "2            43.07  ...            11.14             3.85            13.65   \n",
       "3            97.98  ...            71.79            40.39            51.63   \n",
       "4            28.66  ...            88.47            50.70            59.56   \n",
       "\n",
       "   WNK3_percentile  WNK4_percentile  YANK2_percentile  YANK3_percentile  \\\n",
       "0            62.29            40.63             32.83             31.77   \n",
       "1            26.16            11.66             54.85             40.65   \n",
       "2            37.74            12.04             93.60             66.93   \n",
       "3            85.37            78.68             91.31             73.52   \n",
       "4            91.74            73.35             83.93             53.65   \n",
       "\n",
       "   YSK1_percentile  YSK4_percentile  ZAK_percentile  \n",
       "0            16.17            65.22           38.69  \n",
       "1             2.34            14.99            0.78  \n",
       "2            14.60            61.21           47.62  \n",
       "3            76.66            90.57           82.24  \n",
       "4            74.42            53.19           74.98  \n",
       "\n",
       "[5 rows x 305 columns]"
      ]
     },
     "execution_count": 5,
     "metadata": {},
     "output_type": "execute_result"
    }
   ],
   "source": [
    "df = df[columns]\n",
    "df.head()"
   ]
  },
  {
   "cell_type": "code",
   "execution_count": 6,
   "metadata": {},
   "outputs": [
    {
     "data": {
      "text/plain": [
       "(89784, 305)"
      ]
     },
     "execution_count": 6,
     "metadata": {},
     "output_type": "execute_result"
    }
   ],
   "source": [
    "df.shape"
   ]
  },
  {
   "cell_type": "code",
   "execution_count": 7,
   "metadata": {},
   "outputs": [],
   "source": [
    "gmt = {}\n",
    "proteins = set()\n",
    "for i in kinases:\n",
    "    kinase = i.replace(\"_percentile\", \"\")\n",
    "    phosphorylated_proteins = set()\n",
    "    for i, vals in df[df[i] > 99.0].iterrows():\n",
    "        if type(vals.Gene) != str and math.isnan(vals.Gene):\n",
    "            proteins.add(vals.Protein)\n",
    "            for g in vals.Protein.split(\"; \"):\n",
    "                gene = gene_lookup(g)\n",
    "                if gene:\n",
    "                    phosphorylated_proteins.add(gene)\n",
    "        else:\n",
    "            for g in vals.Gene.split(\"; \"):\n",
    "                gene = gene_lookup(g)\n",
    "                if gene:\n",
    "                    phosphorylated_proteins.add(gene)\n",
    "    gmt[kinase] = list(phosphorylated_proteins)"
   ]
  },
  {
   "cell_type": "code",
   "execution_count": 8,
   "metadata": {},
   "outputs": [],
   "source": [
    "gene_set_sizes = []\n",
    "gene_set_sizes_counts = {}\n",
    "all_proteins = set()\n",
    "for k,v in gmt.items():\n",
    "    l = len(v)\n",
    "    if l not in gene_set_sizes_counts:\n",
    "        gene_set_sizes_counts[l] = 0\n",
    "    gene_set_sizes_counts[l] += 1\n",
    "    gene_set_sizes.append(l)\n",
    "    all_proteins = all_proteins.union(v)"
   ]
  },
  {
   "cell_type": "code",
   "execution_count": 9,
   "metadata": {},
   "outputs": [
    {
     "data": {
      "text/plain": [
       "(626, 979, 9021, 10606)"
      ]
     },
     "execution_count": 9,
     "metadata": {},
     "output_type": "execute_result"
    }
   ],
   "source": [
    "min(gene_set_sizes), max(gene_set_sizes), len(all_proteins), len(set(df.Protein))"
   ]
  },
  {
   "cell_type": "code",
   "execution_count": 10,
   "metadata": {},
   "outputs": [
    {
     "data": {
      "text/html": [
       "<div>\n",
       "<style scoped>\n",
       "    .dataframe tbody tr th:only-of-type {\n",
       "        vertical-align: middle;\n",
       "    }\n",
       "\n",
       "    .dataframe tbody tr th {\n",
       "        vertical-align: top;\n",
       "    }\n",
       "\n",
       "    .dataframe thead th {\n",
       "        text-align: right;\n",
       "    }\n",
       "</style>\n",
       "<table border=\"1\" class=\"dataframe\">\n",
       "  <thead>\n",
       "    <tr style=\"text-align: right;\">\n",
       "      <th></th>\n",
       "      <th>count</th>\n",
       "    </tr>\n",
       "    <tr>\n",
       "      <th>Gene set size</th>\n",
       "      <th></th>\n",
       "    </tr>\n",
       "  </thead>\n",
       "  <tbody>\n",
       "    <tr>\n",
       "      <th>626</th>\n",
       "      <td>1</td>\n",
       "    </tr>\n",
       "    <tr>\n",
       "      <th>637</th>\n",
       "      <td>1</td>\n",
       "    </tr>\n",
       "    <tr>\n",
       "      <th>641</th>\n",
       "      <td>1</td>\n",
       "    </tr>\n",
       "    <tr>\n",
       "      <th>649</th>\n",
       "      <td>1</td>\n",
       "    </tr>\n",
       "    <tr>\n",
       "      <th>652</th>\n",
       "      <td>2</td>\n",
       "    </tr>\n",
       "    <tr>\n",
       "      <th>...</th>\n",
       "      <td>...</td>\n",
       "    </tr>\n",
       "    <tr>\n",
       "      <th>953</th>\n",
       "      <td>2</td>\n",
       "    </tr>\n",
       "    <tr>\n",
       "      <th>956</th>\n",
       "      <td>1</td>\n",
       "    </tr>\n",
       "    <tr>\n",
       "      <th>958</th>\n",
       "      <td>1</td>\n",
       "    </tr>\n",
       "    <tr>\n",
       "      <th>969</th>\n",
       "      <td>1</td>\n",
       "    </tr>\n",
       "    <tr>\n",
       "      <th>979</th>\n",
       "      <td>1</td>\n",
       "    </tr>\n",
       "  </tbody>\n",
       "</table>\n",
       "<p>188 rows × 1 columns</p>\n",
       "</div>"
      ],
      "text/plain": [
       "               count\n",
       "Gene set size       \n",
       "626                1\n",
       "637                1\n",
       "641                1\n",
       "649                1\n",
       "652                2\n",
       "...              ...\n",
       "953                2\n",
       "956                1\n",
       "958                1\n",
       "969                1\n",
       "979                1\n",
       "\n",
       "[188 rows x 1 columns]"
      ]
     },
     "execution_count": 10,
     "metadata": {},
     "output_type": "execute_result"
    }
   ],
   "source": [
    "counts = pd.DataFrame.from_dict(gene_set_sizes_counts, orient=\"index\", columns=[\"count\"]).sort_index()\n",
    "counts.index.name = \"Gene set size\"\n",
    "counts"
   ]
  },
  {
   "cell_type": "code",
   "execution_count": 11,
   "metadata": {},
   "outputs": [
    {
     "data": {
      "text/plain": [
       "Text(0.5, 1.0, 'Gene set counts')"
      ]
     },
     "execution_count": 11,
     "metadata": {},
     "output_type": "execute_result"
    },
    {
     "data": {
      "image/png": "[encoded data removed]",
      "text/plain": [
       "<Figure size 640x480 with 1 Axes>"
      ]
     },
     "metadata": {},
     "output_type": "display_data"
    }
   ],
   "source": [
    "pd.Series(gene_set_sizes).hist()\n",
    "plt.title(\"Gene set counts\")"
   ]
  },
  {
   "cell_type": "code",
   "execution_count": 12,
   "metadata": {},
   "outputs": [],
   "source": [
    "with open(\"../output/serine_threonine_kinome_atlas_2023.gmt\", \"w\") as o:\n",
    "    for k,v in gmt.items():\n",
    "        row = [k, \"\"] + v\n",
    "        o.write(\"\\t\".join(row))\n",
    "        o.write(\"\\n\")"
   ]
  },
  {
   "cell_type": "code",
   "execution_count": null,
   "metadata": {},
   "outputs": [],
   "source": []
  }
 ],
 "metadata": {
  "kernelspec": {
   "display_name": "venv",
   "language": "python",
   "name": "python3"
  },
  "language_info": {
   "codemirror_mode": {
    "name": "ipython",
    "version": 3
   },
   "file_extension": ".py",
   "mimetype": "text/x-python",
   "name": "python",
   "nbconvert_exporter": "python",
   "pygments_lexer": "ipython3",
   "version": "3.10.16"
  },
  "orig_nbformat": 4,
  "vscode": {
   "interpreter": {
    "hash": "466ce508b09f751bc1f1be3a756fcd3cfb6bdb8e435e0f1a3c8f12104a038ae0"
   }
  }
 },
 "nbformat": 4,
 "nbformat_minor": 2
}
