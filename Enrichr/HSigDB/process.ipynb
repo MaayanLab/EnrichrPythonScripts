{
 "cells": [
  {
   "cell_type": "code",
   "execution_count": 1,
   "metadata": {},
   "outputs": [],
   "source": [
    "import re"
   ]
  },
  {
   "cell_type": "code",
   "execution_count": 34,
   "metadata": {},
   "outputs": [
    {
     "data": {
      "text/plain": [
       "{'label': '[Up]_Expression_in_VUB01_vs_VUB03_NPCs', 'id': 'GEO:GSE7178'}"
      ]
     },
     "execution_count": 34,
     "metadata": {},
     "output_type": "execute_result"
    }
   ],
   "source": [
    "val = '\"736_[Up]_Expression_in_VUB01_vs_VUB03_NPCs_[GEO:GSE7178]\"'\n",
    "pattern='\"[0-9]*_(?P<label>.*)_\\[(?P<id>.*)\\]\"'\n",
    "pattern2='(?P<label>.*)_\\[.*:(?P<id>.*)\\]'\n",
    "\n",
    "re.match(pattern, val).groupdict()"
   ]
  },
  {
   "cell_type": "code",
   "execution_count": 44,
   "metadata": {},
   "outputs": [],
   "source": [
    "with open(\"../gmt/HDSigDB_human_2023.gmt.txt\") as o:\n",
    "\twith open(\"../out/HDSigDB_human_2023.gmt\", 'w') as w:\n",
    "\t\tfor line in o:\n",
    "\t\t\tlabel, _, *genes = line.strip().split(\"\\t\")\n",
    "\t\t\td = re.match(pattern, label).groupdict()\n",
    "\t\t\tlabel = d[\"label\"]\n",
    "\t\t\tuid = d[\"id\"].split(\":\")[-1]\n",
    "\t\t\tif \"[Up]\" in label or \"[Down]\" or \"[up]\" in label or \"[down]\" in label:\n",
    "\t\t\t\tlabel = label.replace(\"[\", \"\").replace(\"]\", \"\")\n",
    "\t\t\tr = re.match(pattern2, label)\n",
    "\t\t\tif r:\n",
    "\t\t\t\tlabel = r['label']\n",
    "\t\t\tif \"[\" in label:\n",
    "\t\t\t\tprint(label)\n",
    "\t\t\tlabel = \"%s_%s\"%(label, uid)\n",
    "\t\t\tw.write(\"\\t\".join([label, '', *genes]))\n",
    "\t\t\tw.write('\\n')"
   ]
  },
  {
   "cell_type": "code",
   "execution_count": 45,
   "metadata": {},
   "outputs": [],
   "source": [
    "with open(\"../gmt/HDSigDB_mouse_2023.gmt.txt\") as o:\n",
    "\twith open(\"../out/HDSigDB_mouse_2023.gmt\", 'w') as w:\n",
    "\t\tfor line in o:\n",
    "\t\t\tlabel, _, *genes = line.strip().split(\"\\t\")\n",
    "\t\t\td = re.match(pattern, label).groupdict()\n",
    "\t\t\tlabel = d[\"label\"]\n",
    "\t\t\tuid = d[\"id\"].split(\":\")[-1]\n",
    "\t\t\tif \"[Up]\" in label or \"[Down]\" or \"[up]\" in label or \"[down]\" in label:\n",
    "\t\t\t\tlabel = label.replace(\"[\", \"\").replace(\"]\", \"\")\n",
    "\t\t\tr = re.match(pattern2, label)\n",
    "\t\t\tif r:\n",
    "\t\t\t\tlabel = r['label']\n",
    "\t\t\tif \"[\" in label:\n",
    "\t\t\t\tprint(label)\n",
    "\t\t\tlabel = \"%s_%s\"%(label, uid)\n",
    "\t\t\tw.write(\"\\t\".join([label, '', *genes]))\n",
    "\t\t\tw.write('\\n')"
   ]
  },
  {
   "cell_type": "code",
   "execution_count": null,
   "metadata": {},
   "outputs": [],
   "source": []
  }
 ],
 "metadata": {
  "kernelspec": {
   "display_name": "venv",
   "language": "python",
   "name": "python3"
  },
  "language_info": {
   "codemirror_mode": {
    "name": "ipython",
    "version": 3
   },
   "file_extension": ".py",
   "mimetype": "text/x-python",
   "name": "python",
   "nbconvert_exporter": "python",
   "pygments_lexer": "ipython3",
   "version": "3.10.14"
  }
 },
 "nbformat": 4,
 "nbformat_minor": 2
}
