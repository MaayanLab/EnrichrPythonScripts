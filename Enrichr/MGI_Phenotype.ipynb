{
 "cells": [
  {
   "cell_type": "markdown",
   "metadata": {},
   "source": [
    "# Mouse Gene Ontology (MGI)"
   ]
  },
  {
   "cell_type": "markdown",
   "metadata": {},
   "source": [
    "Author: Moshe Silverstein <br/>\n",
    "Date: 7-17 <br/>\n",
    "Data Downloaded: 04-2017 <br/>\n",
    "Data Source: http://www.informatics.jax.org/"
   ]
  },
  {
   "cell_type": "code",
   "execution_count": 39,
   "metadata": {
    "tags": []
   },
   "outputs": [],
   "source": [
    "import sys, datetime\n",
    "import numpy as np\n",
    "import pandas as pd\n",
    "import importlib\n",
    "# import untility_functions as uf\n",
    "%matplotlib inline"
   ]
  },
  {
   "cell_type": "code",
   "execution_count": 40,
   "metadata": {},
   "outputs": [],
   "source": [
    "def createBinaryMatrix(inputDF, ppi=False):\n",
    "\n",
    "    if ppi:\n",
    "\n",
    "        genes = list(set(inputDF.iloc[:,0].unique().tolist()+inputDF.iloc[:,1].unique().tolist()))\n",
    "\n",
    "        matrix = pd.DataFrame(index=genes, columns=genes, data=0)\n",
    "\n",
    "        for i, gene in enumerate(genes):\n",
    "\n",
    "            lst = inputDF[inputDF.iloc[:,0] == gene].iloc[:,1].tolist()\n",
    "            lst += inputDF[inputDF.iloc[:,1] == gene].iloc[:,0].tolist()\n",
    "            lst = set(lst)\n",
    "            lst.discard(gene)\n",
    "            lst = list(lst)\n",
    "\n",
    "            matrloc.loc[gene, lst] = 1\n",
    "\n",
    "        return(matrix)\n",
    "\n",
    "    else:\n",
    "        genes = list(set(inputDF.iloc[:,0].unique().tolist()))\n",
    "\n",
    "        attributes = list(set(inputDF.iloc[:,1].unique().tolist()))\n",
    "\n",
    "        matrix = pd.DataFrame(index=genes, columns=attributes, data=0.0)\n",
    "\n",
    "        for i, gene in enumerate(genes):\n",
    "\n",
    "            lst = inputDF.loc[(inputDF.iloc[:,0] == gene), inputDF.columns[1]].values.tolist()\n",
    "\n",
    "            matrix.at[gene, lst] = 1\n",
    "\n",
    "        return(matrix)"
   ]
  },
  {
   "cell_type": "code",
   "execution_count": 41,
   "metadata": {},
   "outputs": [],
   "source": [
    "def mapgenesymbols(inputDF):\n",
    "    mappingDF = pd.read_csv('mappingFile_2017.txt', sep='\\t', header=None, index_col=0)\n",
    "    inputDF.reset_index(inplace=True)\n",
    "\n",
    "\n",
    "    lst1 = []\n",
    "\n",
    "    for i, index in enumerate(inputDF.index):\n",
    "\n",
    "        if inputDF.loc[index, inputDF.columns[0]] in mappingDF.index:\n",
    "            lst1.append(mappingDF.loc[inputDF.loc[index, inputDF.columns[0]], 1])\n",
    "        else:\n",
    "            lst1.append(np.nan)\n",
    "\n",
    "\n",
    "    inputDF[inputDF.columns[0]] = lst1\n",
    "\n",
    "\n",
    "    inputDF.dropna(inplace=True, subset=[inputDF.columns[0]])\n",
    "    inputDF.set_index(inputDF.columns[0], inplace=True)"
   ]
  },
  {
   "cell_type": "code",
   "execution_count": 42,
   "metadata": {},
   "outputs": [],
   "source": [
    "def createUpGeneSetLib(inputDF, name, details=None):\n",
    "\n",
    "    filenameGMT = f'{name}.gmt'\n",
    "    for col in inputDF.columns:\n",
    "\n",
    "        index = inputDF[inputDF[col] == 1].index\n",
    "\n",
    "        lst = index.values.tolist()\n",
    "\n",
    "        if len(lst) > 5 and len(lst) <= 2000:\n",
    "\n",
    "            lst.insert(0, col)\n",
    "            if details:\n",
    "                lst.insert(1, details[i])\n",
    "            else:\n",
    "                lst.insert(1, 'NA')\n",
    "            lst = ['{0}\\t'.format(elem) for elem in lst] # add tabs between terms in the lst\n",
    "            lst.insert(len(lst), '\\n') # add a newline char at the end of each lst\n",
    "\n",
    "            with open(filenameGMT, 'a') as the_file:\n",
    "                the_file.writelines(lst)"
   ]
  },
  {
   "cell_type": "markdown",
   "metadata": {},
   "source": [
    "# Load Data"
   ]
  },
  {
   "cell_type": "code",
   "execution_count": 43,
   "metadata": {},
   "outputs": [],
   "source": [
    "df = pd.read_table('http://www.informatics.jax.org/downloads/reports/MGI_GenePheno.rpt', header=None)"
   ]
  },
  {
   "cell_type": "code",
   "execution_count": null,
   "metadata": {},
   "outputs": [],
   "source": [
    "df.head()"
   ]
  },
  {
   "cell_type": "code",
   "execution_count": null,
   "metadata": {},
   "outputs": [],
   "source": [
    "df.shape"
   ]
  },
  {
   "cell_type": "markdown",
   "metadata": {},
   "source": [
    "# Get Relevent Columns and Name Them"
   ]
  },
  {
   "cell_type": "code",
   "execution_count": null,
   "metadata": {},
   "outputs": [],
   "source": [
    "# df.drop(7, axis=1, inplace=True) # drop blank column"
   ]
  },
  {
   "cell_type": "code",
   "execution_count": 44,
   "metadata": {
    "tags": []
   },
   "outputs": [],
   "source": [
    "col = ['Allelic Composition','Allele Symbol(s)','Allele ID(s)','Genetic Background','Mammalian Phenotype ID','PubMed ID','MGI Marker Accession ID (comma-delimited)','MGI Genotype Accession ID (comma-delimited)']"
   ]
  },
  {
   "cell_type": "code",
   "execution_count": 45,
   "metadata": {
    "tags": []
   },
   "outputs": [],
   "source": [
    "df.columns = col"
   ]
  },
  {
   "cell_type": "code",
   "execution_count": 46,
   "metadata": {},
   "outputs": [
    {
     "data": {
      "text/html": [
       "<div>\n",
       "<style scoped>\n",
       "    .dataframe tbody tr th:only-of-type {\n",
       "        vertical-align: middle;\n",
       "    }\n",
       "\n",
       "    .dataframe tbody tr th {\n",
       "        vertical-align: top;\n",
       "    }\n",
       "\n",
       "    .dataframe thead th {\n",
       "        text-align: right;\n",
       "    }\n",
       "</style>\n",
       "<table border=\"1\" class=\"dataframe\">\n",
       "  <thead>\n",
       "    <tr style=\"text-align: right;\">\n",
       "      <th></th>\n",
       "      <th>Allelic Composition</th>\n",
       "      <th>Allele Symbol(s)</th>\n",
       "      <th>Allele ID(s)</th>\n",
       "      <th>Genetic Background</th>\n",
       "      <th>Mammalian Phenotype ID</th>\n",
       "      <th>PubMed ID</th>\n",
       "      <th>MGI Marker Accession ID (comma-delimited)</th>\n",
       "      <th>MGI Genotype Accession ID (comma-delimited)</th>\n",
       "    </tr>\n",
       "  </thead>\n",
       "  <tbody>\n",
       "    <tr>\n",
       "      <th>0</th>\n",
       "      <td>Rb1&lt;tm1Tyj&gt;/Rb1&lt;tm1Tyj&gt;</td>\n",
       "      <td>Rb1&lt;tm1Tyj&gt;</td>\n",
       "      <td>MGI:1857242</td>\n",
       "      <td>involves: 129S2/SvPas</td>\n",
       "      <td>MP:0000600</td>\n",
       "      <td>12529408</td>\n",
       "      <td>MGI:97874</td>\n",
       "      <td>MGI:2166359</td>\n",
       "    </tr>\n",
       "    <tr>\n",
       "      <th>1</th>\n",
       "      <td>Rb1&lt;tm1Tyj&gt;/Rb1&lt;tm1Tyj&gt;</td>\n",
       "      <td>Rb1&lt;tm1Tyj&gt;</td>\n",
       "      <td>MGI:1857242</td>\n",
       "      <td>involves: 129S2/SvPas</td>\n",
       "      <td>MP:0001716</td>\n",
       "      <td>16449662</td>\n",
       "      <td>MGI:97874</td>\n",
       "      <td>MGI:2166359</td>\n",
       "    </tr>\n",
       "    <tr>\n",
       "      <th>2</th>\n",
       "      <td>Rb1&lt;tm1Tyj&gt;/Rb1&lt;tm1Tyj&gt;</td>\n",
       "      <td>Rb1&lt;tm1Tyj&gt;</td>\n",
       "      <td>MGI:1857242</td>\n",
       "      <td>involves: 129S2/SvPas</td>\n",
       "      <td>MP:0001698</td>\n",
       "      <td>16449662</td>\n",
       "      <td>MGI:97874</td>\n",
       "      <td>MGI:2166359</td>\n",
       "    </tr>\n",
       "    <tr>\n",
       "      <th>3</th>\n",
       "      <td>Rb1&lt;tm1Tyj&gt;/Rb1&lt;tm1Tyj&gt;</td>\n",
       "      <td>Rb1&lt;tm1Tyj&gt;</td>\n",
       "      <td>MGI:1857242</td>\n",
       "      <td>involves: 129S2/SvPas</td>\n",
       "      <td>MP:0001092</td>\n",
       "      <td>16449662</td>\n",
       "      <td>MGI:97874</td>\n",
       "      <td>MGI:2166359</td>\n",
       "    </tr>\n",
       "    <tr>\n",
       "      <th>4</th>\n",
       "      <td>Rb1&lt;tm1Tyj&gt;/Rb1&lt;tm1Tyj&gt;</td>\n",
       "      <td>Rb1&lt;tm1Tyj&gt;</td>\n",
       "      <td>MGI:1857242</td>\n",
       "      <td>involves: 129S2/SvPas</td>\n",
       "      <td>MP:0000961</td>\n",
       "      <td>16449662</td>\n",
       "      <td>MGI:97874</td>\n",
       "      <td>MGI:2166359</td>\n",
       "    </tr>\n",
       "  </tbody>\n",
       "</table>\n",
       "</div>"
      ],
      "text/plain": [
       "       Allelic Composition Allele Symbol(s) Allele ID(s)  \\\n",
       "0  Rb1<tm1Tyj>/Rb1<tm1Tyj>      Rb1<tm1Tyj>  MGI:1857242   \n",
       "1  Rb1<tm1Tyj>/Rb1<tm1Tyj>      Rb1<tm1Tyj>  MGI:1857242   \n",
       "2  Rb1<tm1Tyj>/Rb1<tm1Tyj>      Rb1<tm1Tyj>  MGI:1857242   \n",
       "3  Rb1<tm1Tyj>/Rb1<tm1Tyj>      Rb1<tm1Tyj>  MGI:1857242   \n",
       "4  Rb1<tm1Tyj>/Rb1<tm1Tyj>      Rb1<tm1Tyj>  MGI:1857242   \n",
       "\n",
       "      Genetic Background Mammalian Phenotype ID PubMed ID  \\\n",
       "0  involves: 129S2/SvPas             MP:0000600  12529408   \n",
       "1  involves: 129S2/SvPas             MP:0001716  16449662   \n",
       "2  involves: 129S2/SvPas             MP:0001698  16449662   \n",
       "3  involves: 129S2/SvPas             MP:0001092  16449662   \n",
       "4  involves: 129S2/SvPas             MP:0000961  16449662   \n",
       "\n",
       "  MGI Marker Accession ID (comma-delimited)  \\\n",
       "0                                 MGI:97874   \n",
       "1                                 MGI:97874   \n",
       "2                                 MGI:97874   \n",
       "3                                 MGI:97874   \n",
       "4                                 MGI:97874   \n",
       "\n",
       "  MGI Genotype Accession ID (comma-delimited)  \n",
       "0                                 MGI:2166359  \n",
       "1                                 MGI:2166359  \n",
       "2                                 MGI:2166359  \n",
       "3                                 MGI:2166359  \n",
       "4                                 MGI:2166359  "
      ]
     },
     "execution_count": 46,
     "metadata": {},
     "output_type": "execute_result"
    }
   ],
   "source": [
    "df.head()"
   ]
  },
  {
   "cell_type": "markdown",
   "metadata": {},
   "source": [
    "# Load Gene Data"
   ]
  },
  {
   "cell_type": "code",
   "execution_count": 47,
   "metadata": {
    "tags": []
   },
   "outputs": [],
   "source": [
    "gene_meta = pd.read_table('http://www.informatics.jax.org/downloads/reports/MRK_GXDAssay.rpt', header=None)"
   ]
  },
  {
   "cell_type": "code",
   "execution_count": 48,
   "metadata": {
    "tags": []
   },
   "outputs": [],
   "source": [
    "gene_meta.set_index(0, inplace=True)"
   ]
  },
  {
   "cell_type": "code",
   "execution_count": 49,
   "metadata": {},
   "outputs": [
    {
     "data": {
      "text/html": [
       "<div>\n",
       "<style scoped>\n",
       "    .dataframe tbody tr th:only-of-type {\n",
       "        vertical-align: middle;\n",
       "    }\n",
       "\n",
       "    .dataframe tbody tr th {\n",
       "        vertical-align: top;\n",
       "    }\n",
       "\n",
       "    .dataframe thead th {\n",
       "        text-align: right;\n",
       "    }\n",
       "</style>\n",
       "<table border=\"1\" class=\"dataframe\">\n",
       "  <thead>\n",
       "    <tr style=\"text-align: right;\">\n",
       "      <th></th>\n",
       "      <th>1</th>\n",
       "      <th>2</th>\n",
       "    </tr>\n",
       "    <tr>\n",
       "      <th>0</th>\n",
       "      <th></th>\n",
       "      <th></th>\n",
       "    </tr>\n",
       "  </thead>\n",
       "  <tbody>\n",
       "    <tr>\n",
       "      <th>MGI:101757</th>\n",
       "      <td>Cfl1</td>\n",
       "      <td>MGI:4836610,MGI:4836612,MGI:4836613,MGI:483661...</td>\n",
       "    </tr>\n",
       "    <tr>\n",
       "      <th>MGI:101759</th>\n",
       "      <td>Syt4</td>\n",
       "      <td>MGI:3522221,MGI:3522268,MGI:5421150</td>\n",
       "    </tr>\n",
       "    <tr>\n",
       "      <th>MGI:101760</th>\n",
       "      <td>Sfswap</td>\n",
       "      <td>MGI:4945277</td>\n",
       "    </tr>\n",
       "    <tr>\n",
       "      <th>MGI:101761</th>\n",
       "      <td>Hmga2</td>\n",
       "      <td>MGI:2654714,MGI:2654715,MGI:2657185,MGI:265718...</td>\n",
       "    </tr>\n",
       "    <tr>\n",
       "      <th>MGI:101762</th>\n",
       "      <td>Elk3</td>\n",
       "      <td>MGI:2655709,MGI:2655710,MGI:3507694,MGI:350888...</td>\n",
       "    </tr>\n",
       "  </tbody>\n",
       "</table>\n",
       "</div>"
      ],
      "text/plain": [
       "                 1                                                  2\n",
       "0                                                                    \n",
       "MGI:101757    Cfl1  MGI:4836610,MGI:4836612,MGI:4836613,MGI:483661...\n",
       "MGI:101759    Syt4                MGI:3522221,MGI:3522268,MGI:5421150\n",
       "MGI:101760  Sfswap                                        MGI:4945277\n",
       "MGI:101761   Hmga2  MGI:2654714,MGI:2654715,MGI:2657185,MGI:265718...\n",
       "MGI:101762    Elk3  MGI:2655709,MGI:2655710,MGI:3507694,MGI:350888..."
      ]
     },
     "execution_count": 49,
     "metadata": {},
     "output_type": "execute_result"
    }
   ],
   "source": [
    "gene_meta.head()"
   ]
  },
  {
   "cell_type": "markdown",
   "metadata": {},
   "source": [
    "# Get Relevent Data and Map Gene ID's to Symbols"
   ]
  },
  {
   "cell_type": "code",
   "execution_count": 50,
   "metadata": {},
   "outputs": [],
   "source": [
    "ontology_df = pd.DataFrame()\n",
    "\n",
    "i = 0\n",
    "\n",
    "for index in df.index:\n",
    "    mgi_maid = df.loc[index, 'MGI Marker Accession ID (comma-delimited)'].split(',')\n",
    "    \n",
    "    if len(mgi_maid) > 1:\n",
    "        for mgi in mgi_maid:\n",
    "            if mgi in gene_meta.index:\n",
    "                lst = []\n",
    "                lst.append(gene_meta.loc[mgi, 1])\n",
    "                lst.append(df.loc[index, 'Mammalian Phenotype ID'])\n",
    "                df = pd.concat([df, pd.DataFrame(data=lst).T])\n",
    "    else:\n",
    "        mgi = mgi_maid[0]\n",
    "        if mgi in gene_meta.index:\n",
    "            lst = []\n",
    "            lst.append(gene_meta.loc[mgi, 1])\n",
    "            lst.append(df.loc[index, 'Mammalian Phenotype ID'])\n",
    "            ontology_df = pd.concat([ontology_df, pd.DataFrame(data=lst).T])"
   ]
  },
  {
   "cell_type": "code",
   "execution_count": 51,
   "metadata": {
    "tags": []
   },
   "outputs": [],
   "source": [
    "ontology_df.drop_duplicates(inplace=True)\n",
    "\n",
    "ontology_df.reset_index(inplace=True)\n",
    "\n",
    "ontology_df.drop('index', axis=1,inplace=True)"
   ]
  },
  {
   "cell_type": "code",
   "execution_count": 52,
   "metadata": {},
   "outputs": [
    {
     "data": {
      "text/html": [
       "<div>\n",
       "<style scoped>\n",
       "    .dataframe tbody tr th:only-of-type {\n",
       "        vertical-align: middle;\n",
       "    }\n",
       "\n",
       "    .dataframe tbody tr th {\n",
       "        vertical-align: top;\n",
       "    }\n",
       "\n",
       "    .dataframe thead th {\n",
       "        text-align: right;\n",
       "    }\n",
       "</style>\n",
       "<table border=\"1\" class=\"dataframe\">\n",
       "  <thead>\n",
       "    <tr style=\"text-align: right;\">\n",
       "      <th></th>\n",
       "      <th>0</th>\n",
       "      <th>1</th>\n",
       "    </tr>\n",
       "  </thead>\n",
       "  <tbody>\n",
       "    <tr>\n",
       "      <th>0</th>\n",
       "      <td>Rb1</td>\n",
       "      <td>MP:0000600</td>\n",
       "    </tr>\n",
       "    <tr>\n",
       "      <th>1</th>\n",
       "      <td>Rb1</td>\n",
       "      <td>MP:0001716</td>\n",
       "    </tr>\n",
       "    <tr>\n",
       "      <th>2</th>\n",
       "      <td>Rb1</td>\n",
       "      <td>MP:0001698</td>\n",
       "    </tr>\n",
       "    <tr>\n",
       "      <th>3</th>\n",
       "      <td>Rb1</td>\n",
       "      <td>MP:0001092</td>\n",
       "    </tr>\n",
       "    <tr>\n",
       "      <th>4</th>\n",
       "      <td>Rb1</td>\n",
       "      <td>MP:0000961</td>\n",
       "    </tr>\n",
       "  </tbody>\n",
       "</table>\n",
       "</div>"
      ],
      "text/plain": [
       "     0           1\n",
       "0  Rb1  MP:0000600\n",
       "1  Rb1  MP:0001716\n",
       "2  Rb1  MP:0001698\n",
       "3  Rb1  MP:0001092\n",
       "4  Rb1  MP:0000961"
      ]
     },
     "execution_count": 52,
     "metadata": {},
     "output_type": "execute_result"
    }
   ],
   "source": [
    "ontology_df.head()"
   ]
  },
  {
   "cell_type": "code",
   "execution_count": 53,
   "metadata": {},
   "outputs": [
    {
     "data": {
      "text/plain": [
       "(174909, 2)"
      ]
     },
     "execution_count": 53,
     "metadata": {},
     "output_type": "execute_result"
    }
   ],
   "source": [
    "ontology_df.shape"
   ]
  },
  {
   "cell_type": "markdown",
   "metadata": {},
   "source": [
    "# Load Ontology Metadata"
   ]
  },
  {
   "cell_type": "code",
   "execution_count": 56,
   "metadata": {
    "tags": []
   },
   "outputs": [],
   "source": [
    "ontology_meta = pd.read_table('http://www.informatics.jax.org/downloads/reports/VOC_MammalianPhenotype.rpt', header=None)"
   ]
  },
  {
   "cell_type": "code",
   "execution_count": 57,
   "metadata": {
    "tags": []
   },
   "outputs": [],
   "source": [
    "ontology_meta.set_index(0, inplace=True)"
   ]
  },
  {
   "cell_type": "code",
   "execution_count": 58,
   "metadata": {},
   "outputs": [
    {
     "data": {
      "text/html": [
       "<div>\n",
       "<style scoped>\n",
       "    .dataframe tbody tr th:only-of-type {\n",
       "        vertical-align: middle;\n",
       "    }\n",
       "\n",
       "    .dataframe tbody tr th {\n",
       "        vertical-align: top;\n",
       "    }\n",
       "\n",
       "    .dataframe thead th {\n",
       "        text-align: right;\n",
       "    }\n",
       "</style>\n",
       "<table border=\"1\" class=\"dataframe\">\n",
       "  <thead>\n",
       "    <tr style=\"text-align: right;\">\n",
       "      <th></th>\n",
       "      <th>1</th>\n",
       "      <th>2</th>\n",
       "    </tr>\n",
       "    <tr>\n",
       "      <th>0</th>\n",
       "      <th></th>\n",
       "      <th></th>\n",
       "    </tr>\n",
       "  </thead>\n",
       "  <tbody>\n",
       "    <tr>\n",
       "      <th>MP:0000001</th>\n",
       "      <td>mammalian phenotype</td>\n",
       "      <td>the observable morphological, physiological, b...</td>\n",
       "    </tr>\n",
       "    <tr>\n",
       "      <th>MP:0000002</th>\n",
       "      <td>obsolete Morphology</td>\n",
       "      <td>OBSOLETE.</td>\n",
       "    </tr>\n",
       "    <tr>\n",
       "      <th>MP:0000003</th>\n",
       "      <td>abnormal adipose tissue morphology</td>\n",
       "      <td>any structural anomaly of the connective tissu...</td>\n",
       "    </tr>\n",
       "    <tr>\n",
       "      <th>MP:0000005</th>\n",
       "      <td>increased brown adipose tissue amount</td>\n",
       "      <td>increased amount of the thermogenic form of ad...</td>\n",
       "    </tr>\n",
       "    <tr>\n",
       "      <th>MP:0000008</th>\n",
       "      <td>increased white adipose tissue amount</td>\n",
       "      <td>increased quantity of fat-storing cells/tissue</td>\n",
       "    </tr>\n",
       "  </tbody>\n",
       "</table>\n",
       "</div>"
      ],
      "text/plain": [
       "                                                1  \\\n",
       "0                                                   \n",
       "MP:0000001                    mammalian phenotype   \n",
       "MP:0000002                    obsolete Morphology   \n",
       "MP:0000003     abnormal adipose tissue morphology   \n",
       "MP:0000005  increased brown adipose tissue amount   \n",
       "MP:0000008  increased white adipose tissue amount   \n",
       "\n",
       "                                                            2  \n",
       "0                                                              \n",
       "MP:0000001  the observable morphological, physiological, b...  \n",
       "MP:0000002                                          OBSOLETE.  \n",
       "MP:0000003  any structural anomaly of the connective tissu...  \n",
       "MP:0000005  increased amount of the thermogenic form of ad...  \n",
       "MP:0000008     increased quantity of fat-storing cells/tissue  "
      ]
     },
     "execution_count": 58,
     "metadata": {},
     "output_type": "execute_result"
    }
   ],
   "source": [
    "ontology_meta.head()"
   ]
  },
  {
   "cell_type": "markdown",
   "metadata": {},
   "source": [
    "# Map Ontology to Ontology ID's"
   ]
  },
  {
   "cell_type": "code",
   "execution_count": 95,
   "metadata": {},
   "outputs": [],
   "source": [
    "lst = []\n",
    "\n",
    "for index in ontology_df.index:\n",
    "    term = ontology_meta.loc[ontology_df.loc[index, 1], 1]\n",
    "                             \n",
    "    lst.append(f'{term} {ontology_df.loc[index, 1]}')\n",
    "\n",
    "ontology_df[1] = lst"
   ]
  },
  {
   "cell_type": "code",
   "execution_count": 96,
   "metadata": {
    "tags": []
   },
   "outputs": [],
   "source": [
    "ontology_df.drop_duplicates(inplace=True)\n",
    "\n",
    "ontology_df.reset_index(inplace=True)\n",
    "\n",
    "ontology_df.drop('index', axis=1,inplace=True)"
   ]
  },
  {
   "cell_type": "code",
   "execution_count": 97,
   "metadata": {
    "tags": []
   },
   "outputs": [
    {
     "data": {
      "text/html": [
       "<div>\n",
       "<style scoped>\n",
       "    .dataframe tbody tr th:only-of-type {\n",
       "        vertical-align: middle;\n",
       "    }\n",
       "\n",
       "    .dataframe tbody tr th {\n",
       "        vertical-align: top;\n",
       "    }\n",
       "\n",
       "    .dataframe thead th {\n",
       "        text-align: right;\n",
       "    }\n",
       "</style>\n",
       "<table border=\"1\" class=\"dataframe\">\n",
       "  <thead>\n",
       "    <tr style=\"text-align: right;\">\n",
       "      <th></th>\n",
       "      <th>0</th>\n",
       "      <th>1</th>\n",
       "    </tr>\n",
       "  </thead>\n",
       "  <tbody>\n",
       "    <tr>\n",
       "      <th>0</th>\n",
       "      <td>Rb1</td>\n",
       "      <td>liver hypoplasia MP:0000600</td>\n",
       "    </tr>\n",
       "    <tr>\n",
       "      <th>1</th>\n",
       "      <td>Rb1</td>\n",
       "      <td>abnormal placenta labyrinth morphology MP:0001716</td>\n",
       "    </tr>\n",
       "    <tr>\n",
       "      <th>2</th>\n",
       "      <td>Rb1</td>\n",
       "      <td>decreased embryo size MP:0001698</td>\n",
       "    </tr>\n",
       "    <tr>\n",
       "      <th>3</th>\n",
       "      <td>Rb1</td>\n",
       "      <td>abnormal trigeminal ganglion morphology MP:000...</td>\n",
       "    </tr>\n",
       "    <tr>\n",
       "      <th>4</th>\n",
       "      <td>Rb1</td>\n",
       "      <td>abnormal dorsal root ganglion morphology MP:00...</td>\n",
       "    </tr>\n",
       "  </tbody>\n",
       "</table>\n",
       "</div>"
      ],
      "text/plain": [
       "     0                                                  1\n",
       "0  Rb1                        liver hypoplasia MP:0000600\n",
       "1  Rb1  abnormal placenta labyrinth morphology MP:0001716\n",
       "2  Rb1                   decreased embryo size MP:0001698\n",
       "3  Rb1  abnormal trigeminal ganglion morphology MP:000...\n",
       "4  Rb1  abnormal dorsal root ganglion morphology MP:00..."
      ]
     },
     "execution_count": 97,
     "metadata": {},
     "output_type": "execute_result"
    }
   ],
   "source": [
    "ontology_df.head()"
   ]
  },
  {
   "cell_type": "code",
   "execution_count": 98,
   "metadata": {},
   "outputs": [
    {
     "data": {
      "text/plain": [
       "(174909, 2)"
      ]
     },
     "execution_count": 98,
     "metadata": {},
     "output_type": "execute_result"
    }
   ],
   "source": [
    "ontology_df.shape"
   ]
  },
  {
   "cell_type": "markdown",
   "metadata": {},
   "source": [
    "# Map Gene Symbols To Up-to-date Approved Gene Symbols"
   ]
  },
  {
   "cell_type": "code",
   "execution_count": 99,
   "metadata": {
    "tags": []
   },
   "outputs": [],
   "source": [
    "ontology_df.set_index(0, inplace=True)"
   ]
  },
  {
   "cell_type": "code",
   "execution_count": 100,
   "metadata": {},
   "outputs": [],
   "source": [
    "mapgenesymbols(ontology_df)"
   ]
  },
  {
   "cell_type": "code",
   "execution_count": 101,
   "metadata": {},
   "outputs": [
    {
     "data": {
      "text/plain": [
       "(165579, 1)"
      ]
     },
     "execution_count": 101,
     "metadata": {},
     "output_type": "execute_result"
    }
   ],
   "source": [
    "ontology_df.shape"
   ]
  },
  {
   "cell_type": "markdown",
   "metadata": {},
   "source": [
    "# Create Binary Matrix"
   ]
  },
  {
   "cell_type": "code",
   "execution_count": 102,
   "metadata": {},
   "outputs": [],
   "source": [
    "ontology_df.reset_index(inplace=True)"
   ]
  },
  {
   "cell_type": "code",
   "execution_count": 103,
   "metadata": {},
   "outputs": [],
   "source": [
    "binary_matrix = createBinaryMatrix(ontology_df)"
   ]
  },
  {
   "cell_type": "code",
   "execution_count": 104,
   "metadata": {},
   "outputs": [
    {
     "data": {
      "text/html": [
       "<div>\n",
       "<style scoped>\n",
       "    .dataframe tbody tr th:only-of-type {\n",
       "        vertical-align: middle;\n",
       "    }\n",
       "\n",
       "    .dataframe tbody tr th {\n",
       "        vertical-align: top;\n",
       "    }\n",
       "\n",
       "    .dataframe thead th {\n",
       "        text-align: right;\n",
       "    }\n",
       "</style>\n",
       "<table border=\"1\" class=\"dataframe\">\n",
       "  <thead>\n",
       "    <tr style=\"text-align: right;\">\n",
       "      <th></th>\n",
       "      <th>abnormal aortic valve cusp morphology MP:0010595</th>\n",
       "      <th>increased blood uric acid level MP:0008821</th>\n",
       "      <th>thin tail MP:0000589</th>\n",
       "      <th>decreased susceptibility to dopaminergic neuron neurotoxicity MP:0011452</th>\n",
       "      <th>small basisphenoid bone MP:0004462</th>\n",
       "      <th>absent metacarpal bones MP:0003074</th>\n",
       "      <th>polycythemia MP:0002872</th>\n",
       "      <th>abnormal leukotriene level MP:0009813</th>\n",
       "      <th>fused dorsal root ganglion MP:0000963</th>\n",
       "      <th>increased cerebellar foliation MP:0020531</th>\n",
       "      <th>...</th>\n",
       "      <th>decreased glutamine level MP:0030707</th>\n",
       "      <th>small incus MP:0030106</th>\n",
       "      <th>abnormal synaptic glutamate release MP:0004494</th>\n",
       "      <th>abnormal canal of Schlemm morphology MP:0005204</th>\n",
       "      <th>abnormal milk composition MP:0004047</th>\n",
       "      <th>head tilt MP:0005191</th>\n",
       "      <th>abnormal hippocampus pyramidal cell layer MP:0008284</th>\n",
       "      <th>epididymal inflammation MP:0003596</th>\n",
       "      <th>lacrimal gland hypertrophy MP:0013454</th>\n",
       "      <th>pulmonary artery hypoplasia MP:0010460</th>\n",
       "    </tr>\n",
       "  </thead>\n",
       "  <tbody>\n",
       "    <tr>\n",
       "      <th>FADS1</th>\n",
       "      <td>0.0</td>\n",
       "      <td>0.0</td>\n",
       "      <td>0.0</td>\n",
       "      <td>0.0</td>\n",
       "      <td>0.0</td>\n",
       "      <td>0.0</td>\n",
       "      <td>0.0</td>\n",
       "      <td>0.0</td>\n",
       "      <td>0.0</td>\n",
       "      <td>0.0</td>\n",
       "      <td>...</td>\n",
       "      <td>0.0</td>\n",
       "      <td>0.0</td>\n",
       "      <td>0.0</td>\n",
       "      <td>0.0</td>\n",
       "      <td>0.0</td>\n",
       "      <td>0.0</td>\n",
       "      <td>0.0</td>\n",
       "      <td>0.0</td>\n",
       "      <td>0.0</td>\n",
       "      <td>0.0</td>\n",
       "    </tr>\n",
       "    <tr>\n",
       "      <th>USP42</th>\n",
       "      <td>0.0</td>\n",
       "      <td>0.0</td>\n",
       "      <td>0.0</td>\n",
       "      <td>0.0</td>\n",
       "      <td>0.0</td>\n",
       "      <td>0.0</td>\n",
       "      <td>0.0</td>\n",
       "      <td>0.0</td>\n",
       "      <td>0.0</td>\n",
       "      <td>0.0</td>\n",
       "      <td>...</td>\n",
       "      <td>0.0</td>\n",
       "      <td>0.0</td>\n",
       "      <td>0.0</td>\n",
       "      <td>0.0</td>\n",
       "      <td>0.0</td>\n",
       "      <td>0.0</td>\n",
       "      <td>0.0</td>\n",
       "      <td>0.0</td>\n",
       "      <td>0.0</td>\n",
       "      <td>0.0</td>\n",
       "    </tr>\n",
       "    <tr>\n",
       "      <th>FANCA</th>\n",
       "      <td>0.0</td>\n",
       "      <td>0.0</td>\n",
       "      <td>0.0</td>\n",
       "      <td>0.0</td>\n",
       "      <td>0.0</td>\n",
       "      <td>0.0</td>\n",
       "      <td>0.0</td>\n",
       "      <td>0.0</td>\n",
       "      <td>0.0</td>\n",
       "      <td>0.0</td>\n",
       "      <td>...</td>\n",
       "      <td>0.0</td>\n",
       "      <td>0.0</td>\n",
       "      <td>0.0</td>\n",
       "      <td>0.0</td>\n",
       "      <td>0.0</td>\n",
       "      <td>0.0</td>\n",
       "      <td>0.0</td>\n",
       "      <td>0.0</td>\n",
       "      <td>0.0</td>\n",
       "      <td>0.0</td>\n",
       "    </tr>\n",
       "    <tr>\n",
       "      <th>MMP16</th>\n",
       "      <td>0.0</td>\n",
       "      <td>0.0</td>\n",
       "      <td>0.0</td>\n",
       "      <td>0.0</td>\n",
       "      <td>0.0</td>\n",
       "      <td>0.0</td>\n",
       "      <td>0.0</td>\n",
       "      <td>0.0</td>\n",
       "      <td>0.0</td>\n",
       "      <td>0.0</td>\n",
       "      <td>...</td>\n",
       "      <td>0.0</td>\n",
       "      <td>0.0</td>\n",
       "      <td>0.0</td>\n",
       "      <td>0.0</td>\n",
       "      <td>0.0</td>\n",
       "      <td>0.0</td>\n",
       "      <td>0.0</td>\n",
       "      <td>0.0</td>\n",
       "      <td>0.0</td>\n",
       "      <td>0.0</td>\n",
       "    </tr>\n",
       "    <tr>\n",
       "      <th>SCNN1G</th>\n",
       "      <td>0.0</td>\n",
       "      <td>0.0</td>\n",
       "      <td>0.0</td>\n",
       "      <td>0.0</td>\n",
       "      <td>0.0</td>\n",
       "      <td>0.0</td>\n",
       "      <td>0.0</td>\n",
       "      <td>0.0</td>\n",
       "      <td>0.0</td>\n",
       "      <td>0.0</td>\n",
       "      <td>...</td>\n",
       "      <td>0.0</td>\n",
       "      <td>0.0</td>\n",
       "      <td>0.0</td>\n",
       "      <td>0.0</td>\n",
       "      <td>0.0</td>\n",
       "      <td>0.0</td>\n",
       "      <td>0.0</td>\n",
       "      <td>0.0</td>\n",
       "      <td>0.0</td>\n",
       "      <td>0.0</td>\n",
       "    </tr>\n",
       "  </tbody>\n",
       "</table>\n",
       "<p>5 rows × 9753 columns</p>\n",
       "</div>"
      ],
      "text/plain": [
       "        abnormal aortic valve cusp morphology MP:0010595  \\\n",
       "FADS1                                                0.0   \n",
       "USP42                                                0.0   \n",
       "FANCA                                                0.0   \n",
       "MMP16                                                0.0   \n",
       "SCNN1G                                               0.0   \n",
       "\n",
       "        increased blood uric acid level MP:0008821  thin tail MP:0000589  \\\n",
       "FADS1                                          0.0                   0.0   \n",
       "USP42                                          0.0                   0.0   \n",
       "FANCA                                          0.0                   0.0   \n",
       "MMP16                                          0.0                   0.0   \n",
       "SCNN1G                                         0.0                   0.0   \n",
       "\n",
       "        decreased susceptibility to dopaminergic neuron neurotoxicity MP:0011452  \\\n",
       "FADS1                                                 0.0                          \n",
       "USP42                                                 0.0                          \n",
       "FANCA                                                 0.0                          \n",
       "MMP16                                                 0.0                          \n",
       "SCNN1G                                                0.0                          \n",
       "\n",
       "        small basisphenoid bone MP:0004462  \\\n",
       "FADS1                                  0.0   \n",
       "USP42                                  0.0   \n",
       "FANCA                                  0.0   \n",
       "MMP16                                  0.0   \n",
       "SCNN1G                                 0.0   \n",
       "\n",
       "        absent metacarpal bones MP:0003074  polycythemia MP:0002872  \\\n",
       "FADS1                                  0.0                      0.0   \n",
       "USP42                                  0.0                      0.0   \n",
       "FANCA                                  0.0                      0.0   \n",
       "MMP16                                  0.0                      0.0   \n",
       "SCNN1G                                 0.0                      0.0   \n",
       "\n",
       "        abnormal leukotriene level MP:0009813  \\\n",
       "FADS1                                     0.0   \n",
       "USP42                                     0.0   \n",
       "FANCA                                     0.0   \n",
       "MMP16                                     0.0   \n",
       "SCNN1G                                    0.0   \n",
       "\n",
       "        fused dorsal root ganglion MP:0000963  \\\n",
       "FADS1                                     0.0   \n",
       "USP42                                     0.0   \n",
       "FANCA                                     0.0   \n",
       "MMP16                                     0.0   \n",
       "SCNN1G                                    0.0   \n",
       "\n",
       "        increased cerebellar foliation MP:0020531  ...  \\\n",
       "FADS1                                         0.0  ...   \n",
       "USP42                                         0.0  ...   \n",
       "FANCA                                         0.0  ...   \n",
       "MMP16                                         0.0  ...   \n",
       "SCNN1G                                        0.0  ...   \n",
       "\n",
       "        decreased glutamine level MP:0030707  small incus MP:0030106  \\\n",
       "FADS1                                    0.0                     0.0   \n",
       "USP42                                    0.0                     0.0   \n",
       "FANCA                                    0.0                     0.0   \n",
       "MMP16                                    0.0                     0.0   \n",
       "SCNN1G                                   0.0                     0.0   \n",
       "\n",
       "        abnormal synaptic glutamate release MP:0004494  \\\n",
       "FADS1                                              0.0   \n",
       "USP42                                              0.0   \n",
       "FANCA                                              0.0   \n",
       "MMP16                                              0.0   \n",
       "SCNN1G                                             0.0   \n",
       "\n",
       "        abnormal canal of Schlemm morphology MP:0005204  \\\n",
       "FADS1                                               0.0   \n",
       "USP42                                               0.0   \n",
       "FANCA                                               0.0   \n",
       "MMP16                                               0.0   \n",
       "SCNN1G                                              0.0   \n",
       "\n",
       "        abnormal milk composition MP:0004047  head tilt MP:0005191  \\\n",
       "FADS1                                    0.0                   0.0   \n",
       "USP42                                    0.0                   0.0   \n",
       "FANCA                                    0.0                   0.0   \n",
       "MMP16                                    0.0                   0.0   \n",
       "SCNN1G                                   0.0                   0.0   \n",
       "\n",
       "        abnormal hippocampus pyramidal cell layer MP:0008284  \\\n",
       "FADS1                                                 0.0      \n",
       "USP42                                                 0.0      \n",
       "FANCA                                                 0.0      \n",
       "MMP16                                                 0.0      \n",
       "SCNN1G                                                0.0      \n",
       "\n",
       "        epididymal inflammation MP:0003596  \\\n",
       "FADS1                                  0.0   \n",
       "USP42                                  0.0   \n",
       "FANCA                                  0.0   \n",
       "MMP16                                  0.0   \n",
       "SCNN1G                                 0.0   \n",
       "\n",
       "        lacrimal gland hypertrophy MP:0013454  \\\n",
       "FADS1                                     0.0   \n",
       "USP42                                     0.0   \n",
       "FANCA                                     0.0   \n",
       "MMP16                                     0.0   \n",
       "SCNN1G                                    0.0   \n",
       "\n",
       "        pulmonary artery hypoplasia MP:0010460  \n",
       "FADS1                                      0.0  \n",
       "USP42                                      0.0  \n",
       "FANCA                                      0.0  \n",
       "MMP16                                      0.0  \n",
       "SCNN1G                                     0.0  \n",
       "\n",
       "[5 rows x 9753 columns]"
      ]
     },
     "execution_count": 104,
     "metadata": {},
     "output_type": "execute_result"
    }
   ],
   "source": [
    "binary_matrix.head()"
   ]
  },
  {
   "cell_type": "code",
   "execution_count": 105,
   "metadata": {},
   "outputs": [
    {
     "data": {
      "text/plain": [
       "(9792, 9753)"
      ]
     },
     "execution_count": 105,
     "metadata": {},
     "output_type": "execute_result"
    }
   ],
   "source": [
    "binary_matrix.shape"
   ]
  },
  {
   "cell_type": "markdown",
   "metadata": {},
   "source": [
    "# Save Binary Matrix"
   ]
  },
  {
   "cell_type": "code",
   "execution_count": 106,
   "metadata": {},
   "outputs": [],
   "source": [
    "binary_matrix.to_csv('mgi_binary_matrix.tsv.zip', sep='\\t', compression='gzip')"
   ]
  },
  {
   "cell_type": "markdown",
   "metadata": {},
   "source": [
    "# Create Gene Set Library"
   ]
  },
  {
   "cell_type": "code",
   "execution_count": 108,
   "metadata": {},
   "outputs": [],
   "source": [
    "createUpGeneSetLib(binary_matrix, 'MGI_Mammalian_Phenotype_Level_4_2021')"
   ]
  },
  {
   "cell_type": "code",
   "execution_count": null,
   "metadata": {},
   "outputs": [],
   "source": []
  }
 ],
 "metadata": {
  "kernelspec": {
   "display_name": "Python 3",
   "language": "python",
   "name": "python3"
  },
  "language_info": {
   "codemirror_mode": {
    "name": "ipython",
    "version": 3
   },
   "file_extension": ".py",
   "mimetype": "text/x-python",
   "name": "python",
   "nbconvert_exporter": "python",
   "pygments_lexer": "ipython3",
   "version": "3.9.2"
  }
 },
 "nbformat": 4,
 "nbformat_minor": 4
}
