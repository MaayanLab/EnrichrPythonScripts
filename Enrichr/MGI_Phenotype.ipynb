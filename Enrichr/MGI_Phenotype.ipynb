{
 "cells": [
  {
   "cell_type": "markdown",
   "metadata": {},
   "source": [
    "# Mouse Gene Ontology (MGI) Mammalian Phenotype processing script"
   ]
  },
  {
   "cell_type": "markdown",
   "metadata": {},
   "source": [
    "Maxim Kuleshov, 6/14/2021<br/>\n",
    "Data Source: http://www.informatics.jax.org/"
   ]
  },
  {
   "cell_type": "code",
   "execution_count": 29,
   "metadata": {
    "tags": []
   },
   "outputs": [],
   "source": [
    "import sys, datetime\n",
    "import numpy as np\n",
    "import pandas as pd\n",
    "import importlib\n",
    "# import untility_functions as uf\n",
    "from maayanlab_bioinformatics.harmonization import ncbi_genes_lookup\n",
    "%matplotlib inline"
   ]
  },
  {
   "cell_type": "code",
   "execution_count": 30,
   "metadata": {},
   "outputs": [],
   "source": [
    "gene_lookup = ncbi_genes_lookup()"
   ]
  },
  {
   "cell_type": "code",
   "execution_count": 32,
   "metadata": {},
   "outputs": [
    {
     "data": {
      "text/plain": [
       "'MTFMT'"
      ]
     },
     "execution_count": 32,
     "metadata": {},
     "output_type": "execute_result"
    }
   ],
   "source": [
    "gene_lookup('MTFMT')"
   ]
  },
  {
   "cell_type": "code",
   "execution_count": 33,
   "metadata": {},
   "outputs": [
    {
     "data": {
      "text/html": [
       "<div>\n",
       "<style scoped>\n",
       "    .dataframe tbody tr th:only-of-type {\n",
       "        vertical-align: middle;\n",
       "    }\n",
       "\n",
       "    .dataframe tbody tr th {\n",
       "        vertical-align: top;\n",
       "    }\n",
       "\n",
       "    .dataframe thead th {\n",
       "        text-align: right;\n",
       "    }\n",
       "</style>\n",
       "<table border=\"1\" class=\"dataframe\">\n",
       "  <thead>\n",
       "    <tr style=\"text-align: right;\">\n",
       "      <th></th>\n",
       "      <th>DB Class Key</th>\n",
       "      <th>Common Organism Name</th>\n",
       "      <th>NCBI Taxon ID</th>\n",
       "      <th>Symbol</th>\n",
       "      <th>EntrezGene ID</th>\n",
       "      <th>Mouse MGI ID</th>\n",
       "      <th>HGNC ID</th>\n",
       "      <th>OMIM Gene ID</th>\n",
       "      <th>Genetic Location</th>\n",
       "      <th>Genome Coordinates (mouse: GRCm39 human: GRCh38)</th>\n",
       "      <th>Nucleotide RefSeq IDs</th>\n",
       "      <th>Protein RefSeq IDs</th>\n",
       "      <th>SWISS_PROT IDs</th>\n",
       "    </tr>\n",
       "  </thead>\n",
       "  <tbody>\n",
       "    <tr>\n",
       "      <th>0</th>\n",
       "      <td>47367020</td>\n",
       "      <td>mouse, laboratory</td>\n",
       "      <td>10090</td>\n",
       "      <td>Banf1</td>\n",
       "      <td>23825</td>\n",
       "      <td>MGI:1346330</td>\n",
       "      <td>NaN</td>\n",
       "      <td>NaN</td>\n",
       "      <td>Chr19 4.31 cM</td>\n",
       "      <td>Chr19:5414661-5416904(-)</td>\n",
       "      <td>NM_001038231,NM_011793,NM_001286608</td>\n",
       "      <td>NP_001033320,NP_001273537,NP_035923</td>\n",
       "      <td>O54962</td>\n",
       "    </tr>\n",
       "    <tr>\n",
       "      <th>1</th>\n",
       "      <td>47367020</td>\n",
       "      <td>human</td>\n",
       "      <td>9606</td>\n",
       "      <td>BANF1</td>\n",
       "      <td>8815</td>\n",
       "      <td>NaN</td>\n",
       "      <td>HGNC:17397</td>\n",
       "      <td>OMIM:603811</td>\n",
       "      <td>Chr11 q13.1</td>\n",
       "      <td>Chr11:66002079-66004149(+)</td>\n",
       "      <td>NM_003860,NM_001143985</td>\n",
       "      <td>NP_001137457,NP_003851,XP_016874004,XP_054226339</td>\n",
       "      <td>O75531</td>\n",
       "    </tr>\n",
       "    <tr>\n",
       "      <th>2</th>\n",
       "      <td>47367021</td>\n",
       "      <td>mouse, laboratory</td>\n",
       "      <td>10090</td>\n",
       "      <td>Pde9a</td>\n",
       "      <td>18585</td>\n",
       "      <td>MGI:1277179</td>\n",
       "      <td>NaN</td>\n",
       "      <td>NaN</td>\n",
       "      <td>Chr17 16.23 cM</td>\n",
       "      <td>Chr17:31605184-31695284(+)</td>\n",
       "      <td>NM_001410689,NM_001410688,XM_036160401,XM_0361...</td>\n",
       "      <td>XP_036016295,XP_036016294,XP_036016293,XP_0360...</td>\n",
       "      <td>O70628</td>\n",
       "    </tr>\n",
       "    <tr>\n",
       "      <th>3</th>\n",
       "      <td>47367021</td>\n",
       "      <td>human</td>\n",
       "      <td>9606</td>\n",
       "      <td>PDE9A</td>\n",
       "      <td>5152</td>\n",
       "      <td>NaN</td>\n",
       "      <td>HGNC:8795</td>\n",
       "      <td>OMIM:602973</td>\n",
       "      <td>Chr21 q22.3</td>\n",
       "      <td>Chr21:42653621-42775509(+)</td>\n",
       "      <td>NM_001001571,NM_001315533,NM_002606,NM_0010015...</td>\n",
       "      <td>NP_001001567,NP_001001568,NP_001001569,NP_0010...</td>\n",
       "      <td>O76083</td>\n",
       "    </tr>\n",
       "    <tr>\n",
       "      <th>4</th>\n",
       "      <td>47367022</td>\n",
       "      <td>mouse, laboratory</td>\n",
       "      <td>10090</td>\n",
       "      <td>Asrgl1</td>\n",
       "      <td>66514</td>\n",
       "      <td>MGI:1913764</td>\n",
       "      <td>NaN</td>\n",
       "      <td>NaN</td>\n",
       "      <td>Chr19 6.06 cM</td>\n",
       "      <td>Chr19:9089083-9112930(-)</td>\n",
       "      <td>NM_025610</td>\n",
       "      <td>NP_079886</td>\n",
       "      <td>Q8C0M9</td>\n",
       "    </tr>\n",
       "  </tbody>\n",
       "</table>\n",
       "</div>"
      ],
      "text/plain": [
       "   DB Class Key Common Organism Name  NCBI Taxon ID  Symbol  EntrezGene ID  \\\n",
       "0      47367020    mouse, laboratory          10090   Banf1          23825   \n",
       "1      47367020                human           9606   BANF1           8815   \n",
       "2      47367021    mouse, laboratory          10090   Pde9a          18585   \n",
       "3      47367021                human           9606   PDE9A           5152   \n",
       "4      47367022    mouse, laboratory          10090  Asrgl1          66514   \n",
       "\n",
       "  Mouse MGI ID     HGNC ID OMIM Gene ID Genetic Location  \\\n",
       "0  MGI:1346330         NaN          NaN    Chr19 4.31 cM   \n",
       "1          NaN  HGNC:17397  OMIM:603811      Chr11 q13.1   \n",
       "2  MGI:1277179         NaN          NaN   Chr17 16.23 cM   \n",
       "3          NaN   HGNC:8795  OMIM:602973      Chr21 q22.3   \n",
       "4  MGI:1913764         NaN          NaN    Chr19 6.06 cM   \n",
       "\n",
       "  Genome Coordinates (mouse: GRCm39 human: GRCh38)  \\\n",
       "0                         Chr19:5414661-5416904(-)   \n",
       "1                       Chr11:66002079-66004149(+)   \n",
       "2                       Chr17:31605184-31695284(+)   \n",
       "3                       Chr21:42653621-42775509(+)   \n",
       "4                         Chr19:9089083-9112930(-)   \n",
       "\n",
       "                               Nucleotide RefSeq IDs  \\\n",
       "0                NM_001038231,NM_011793,NM_001286608   \n",
       "1                             NM_003860,NM_001143985   \n",
       "2  NM_001410689,NM_001410688,XM_036160401,XM_0361...   \n",
       "3  NM_001001571,NM_001315533,NM_002606,NM_0010015...   \n",
       "4                                          NM_025610   \n",
       "\n",
       "                                  Protein RefSeq IDs SWISS_PROT IDs  \n",
       "0                NP_001033320,NP_001273537,NP_035923         O54962  \n",
       "1   NP_001137457,NP_003851,XP_016874004,XP_054226339         O75531  \n",
       "2  XP_036016295,XP_036016294,XP_036016293,XP_0360...         O70628  \n",
       "3  NP_001001567,NP_001001568,NP_001001569,NP_0010...         O76083  \n",
       "4                                          NP_079886         Q8C0M9  "
      ]
     },
     "execution_count": 33,
     "metadata": {},
     "output_type": "execute_result"
    }
   ],
   "source": [
    "mapper = pd.read_table('http://www.informatics.jax.org/downloads/reports/HOM_MouseHumanSequence.rpt')\n",
    "mapper.head()"
   ]
  },
  {
   "cell_type": "code",
   "execution_count": 63,
   "metadata": {},
   "outputs": [
    {
     "data": {
      "text/plain": [
       "((21812, 2), (24586, 2))"
      ]
     },
     "execution_count": 63,
     "metadata": {},
     "output_type": "execute_result"
    }
   ],
   "source": [
    "mouse = mapper[mapper['NCBI Taxon ID'] == 10090][['DB Class Key', 'Symbol']]\n",
    "human = mapper[mapper['NCBI Taxon ID'] == 9606][['DB Class Key', 'Symbol']]\n",
    "\n",
    "mouse.shape, human.shape"
   ]
  },
  {
   "cell_type": "code",
   "execution_count": 64,
   "metadata": {},
   "outputs": [
    {
     "data": {
      "text/plain": [
       "(24586, 20120)"
      ]
     },
     "execution_count": 64,
     "metadata": {},
     "output_type": "execute_result"
    }
   ],
   "source": [
    "len(human['DB Class Key']), len(set(human['DB Class Key']))"
   ]
  },
  {
   "cell_type": "code",
   "execution_count": 69,
   "metadata": {},
   "outputs": [
    {
     "data": {
      "text/plain": [
       "20117"
      ]
     },
     "execution_count": 69,
     "metadata": {},
     "output_type": "execute_result"
    }
   ],
   "source": [
    "len(set(human['DB Class Key']).intersection(set(mouse['DB Class Key'])))"
   ]
  },
  {
   "cell_type": "code",
   "execution_count": 79,
   "metadata": {},
   "outputs": [],
   "source": [
    "mapper = pd.merge(mouse, human, on='DB Class Key', how=\"inner\", suffixes=('_mouse', '_human'))"
   ]
  },
  {
   "cell_type": "code",
   "execution_count": 80,
   "metadata": {},
   "outputs": [
    {
     "data": {
      "text/plain": [
       "(20117, 19323)"
      ]
     },
     "execution_count": 80,
     "metadata": {},
     "output_type": "execute_result"
    }
   ],
   "source": [
    "len(mapper[\"Symbol_mouse\"].unique()), len(mapper[\"Symbol_human\"].unique())"
   ]
  },
  {
   "cell_type": "code",
   "execution_count": 81,
   "metadata": {},
   "outputs": [],
   "source": [
    "mapper = mapper.set_index('Symbol_mouse')"
   ]
  },
  {
   "cell_type": "code",
   "execution_count": 84,
   "metadata": {},
   "outputs": [],
   "source": [
    "mapper = mapper[~mapper.index.duplicated(keep='first')]"
   ]
  },
  {
   "cell_type": "code",
   "execution_count": 85,
   "metadata": {},
   "outputs": [
    {
     "data": {
      "text/html": [
       "<div>\n",
       "<style scoped>\n",
       "    .dataframe tbody tr th:only-of-type {\n",
       "        vertical-align: middle;\n",
       "    }\n",
       "\n",
       "    .dataframe tbody tr th {\n",
       "        vertical-align: top;\n",
       "    }\n",
       "\n",
       "    .dataframe thead th {\n",
       "        text-align: right;\n",
       "    }\n",
       "</style>\n",
       "<table border=\"1\" class=\"dataframe\">\n",
       "  <thead>\n",
       "    <tr style=\"text-align: right;\">\n",
       "      <th></th>\n",
       "      <th>DB Class Key</th>\n",
       "      <th>Symbol_human</th>\n",
       "    </tr>\n",
       "    <tr>\n",
       "      <th>Symbol_mouse</th>\n",
       "      <th></th>\n",
       "      <th></th>\n",
       "    </tr>\n",
       "  </thead>\n",
       "  <tbody>\n",
       "    <tr>\n",
       "      <th>Banf1</th>\n",
       "      <td>47367020</td>\n",
       "      <td>BANF1</td>\n",
       "    </tr>\n",
       "    <tr>\n",
       "      <th>Pde9a</th>\n",
       "      <td>47367021</td>\n",
       "      <td>PDE9A</td>\n",
       "    </tr>\n",
       "    <tr>\n",
       "      <th>Asrgl1</th>\n",
       "      <td>47367022</td>\n",
       "      <td>ASRGL1</td>\n",
       "    </tr>\n",
       "    <tr>\n",
       "      <th>Clpb</th>\n",
       "      <td>47367023</td>\n",
       "      <td>CLPB</td>\n",
       "    </tr>\n",
       "    <tr>\n",
       "      <th>Emd</th>\n",
       "      <td>47367024</td>\n",
       "      <td>EMD</td>\n",
       "    </tr>\n",
       "    <tr>\n",
       "      <th>...</th>\n",
       "      <td>...</td>\n",
       "      <td>...</td>\n",
       "    </tr>\n",
       "    <tr>\n",
       "      <th>Zswim1</th>\n",
       "      <td>47387708</td>\n",
       "      <td>ZSWIM1</td>\n",
       "    </tr>\n",
       "    <tr>\n",
       "      <th>Zswim3</th>\n",
       "      <td>47387709</td>\n",
       "      <td>ZSWIM3</td>\n",
       "    </tr>\n",
       "    <tr>\n",
       "      <th>Zswim4</th>\n",
       "      <td>47387710</td>\n",
       "      <td>ZSWIM4</td>\n",
       "    </tr>\n",
       "    <tr>\n",
       "      <th>Zswim9</th>\n",
       "      <td>47387711</td>\n",
       "      <td>ZSWIM9</td>\n",
       "    </tr>\n",
       "    <tr>\n",
       "      <th>Zwint</th>\n",
       "      <td>47387712</td>\n",
       "      <td>ZWINT</td>\n",
       "    </tr>\n",
       "  </tbody>\n",
       "</table>\n",
       "<p>20117 rows × 2 columns</p>\n",
       "</div>"
      ],
      "text/plain": [
       "              DB Class Key Symbol_human\n",
       "Symbol_mouse                           \n",
       "Banf1             47367020        BANF1\n",
       "Pde9a             47367021        PDE9A\n",
       "Asrgl1            47367022       ASRGL1\n",
       "Clpb              47367023         CLPB\n",
       "Emd               47367024          EMD\n",
       "...                    ...          ...\n",
       "Zswim1            47387708       ZSWIM1\n",
       "Zswim3            47387709       ZSWIM3\n",
       "Zswim4            47387710       ZSWIM4\n",
       "Zswim9            47387711       ZSWIM9\n",
       "Zwint             47387712        ZWINT\n",
       "\n",
       "[20117 rows x 2 columns]"
      ]
     },
     "execution_count": 85,
     "metadata": {},
     "output_type": "execute_result"
    }
   ],
   "source": [
    "mapper"
   ]
  },
  {
   "cell_type": "code",
   "execution_count": 99,
   "metadata": {},
   "outputs": [],
   "source": [
    "def createBinaryMatrix(inputDF, ppi=False):\n",
    "\n",
    "    if ppi:\n",
    "\n",
    "        genes = list(set(inputDF.iloc[:,0].unique().tolist()+inputDF.iloc[:,1].unique().tolist()))\n",
    "\n",
    "        matrix = pd.DataFrame(index=genes, columns=genes, data=0)\n",
    "\n",
    "        for i, gene in enumerate(genes):\n",
    "\n",
    "            lst = inputDF[inputDF.iloc[:,0] == gene].iloc[:,1].tolist()\n",
    "            lst += inputDF[inputDF.iloc[:,1] == gene].iloc[:,0].tolist()\n",
    "            lst = set(lst)\n",
    "            lst.discard(gene)\n",
    "            lst = list(lst)\n",
    "\n",
    "            matrloc.loc[gene, lst] = 1\n",
    "\n",
    "        return(matrix)\n",
    "\n",
    "    else:\n",
    "        genes = list(set(inputDF.iloc[:,0].unique().tolist()))\n",
    "\n",
    "        attributes = list(set(inputDF.iloc[:,1].unique().tolist()))\n",
    "\n",
    "        matrix = pd.DataFrame(index=genes, columns=attributes, data=0.0)\n",
    "\n",
    "        for i, gene in enumerate(genes):\n",
    "\n",
    "            lst = inputDF.loc[(inputDF.iloc[:,0] == gene), inputDF.columns[1]].values.tolist()\n",
    "\n",
    "            matrix.loc[gene, lst] = 1\n",
    "\n",
    "        return(matrix)"
   ]
  },
  {
   "cell_type": "code",
   "execution_count": 86,
   "metadata": {},
   "outputs": [],
   "source": [
    "def mapgenesymbols(inputDF):\n",
    "    # mappingDF = pd.read_csv('mappingFile_2017.txt', sep='\\t', header=None, index_col=0)\n",
    "    inputDF.reset_index(inplace=True)\n",
    "\n",
    "\n",
    "    lst1 = []\n",
    "\n",
    "    for i, index in enumerate(inputDF.index):\n",
    "\n",
    "        if inputDF.loc[index, inputDF.columns[0]] in mapper.index:\n",
    "            lst1.append(mapper.loc[inputDF.loc[index, inputDF.columns[0]], \"Symbol_human\"])\n",
    "        else:\n",
    "            lst1.append(np.nan)\n",
    "\n",
    "\n",
    "    inputDF[inputDF.columns[0]] = lst1\n",
    "\n",
    "\n",
    "    inputDF.dropna(inplace=True, subset=[inputDF.columns[0]])\n",
    "    inputDF.set_index(inputDF.columns[0], inplace=True)"
   ]
  },
  {
   "cell_type": "code",
   "execution_count": 4,
   "metadata": {},
   "outputs": [],
   "source": [
    "def createUpGeneSetLib(inputDF, name, details=None):\n",
    "\n",
    "    filenameGMT = f'{name}.gmt'\n",
    "    for col in inputDF.columns:\n",
    "\n",
    "        index = inputDF[inputDF[col] == 1].index\n",
    "\n",
    "        lst = index.values.tolist()\n",
    "\n",
    "        if len(lst) > 5 and len(lst) <= 2000:\n",
    "\n",
    "            lst.insert(0, col)\n",
    "            if details:\n",
    "                lst.insert(1, details[i])\n",
    "            else:\n",
    "                lst.insert(1, 'NA')\n",
    "            lst = ['{0}\\t'.format(elem) for elem in lst] # add tabs between terms in the lst\n",
    "            lst.insert(len(lst), '\\n') # add a newline char at the end of each lst\n",
    "\n",
    "            with open(filenameGMT, 'a') as the_file:\n",
    "                the_file.writelines(lst)"
   ]
  },
  {
   "cell_type": "markdown",
   "metadata": {},
   "source": [
    "# Load Data"
   ]
  },
  {
   "cell_type": "code",
   "execution_count": 5,
   "metadata": {},
   "outputs": [],
   "source": [
    "df = pd.read_table('http://www.informatics.jax.org/downloads/reports/MGI_GenePheno.rpt', header=None)"
   ]
  },
  {
   "cell_type": "code",
   "execution_count": 6,
   "metadata": {},
   "outputs": [
    {
     "data": {
      "text/html": [
       "<div>\n",
       "<style scoped>\n",
       "    .dataframe tbody tr th:only-of-type {\n",
       "        vertical-align: middle;\n",
       "    }\n",
       "\n",
       "    .dataframe tbody tr th {\n",
       "        vertical-align: top;\n",
       "    }\n",
       "\n",
       "    .dataframe thead th {\n",
       "        text-align: right;\n",
       "    }\n",
       "</style>\n",
       "<table border=\"1\" class=\"dataframe\">\n",
       "  <thead>\n",
       "    <tr style=\"text-align: right;\">\n",
       "      <th></th>\n",
       "      <th>0</th>\n",
       "      <th>1</th>\n",
       "      <th>2</th>\n",
       "      <th>3</th>\n",
       "      <th>4</th>\n",
       "      <th>5</th>\n",
       "      <th>6</th>\n",
       "      <th>7</th>\n",
       "    </tr>\n",
       "  </thead>\n",
       "  <tbody>\n",
       "    <tr>\n",
       "      <th>0</th>\n",
       "      <td>Rb1&lt;tm1Tyj&gt;/Rb1&lt;tm1Tyj&gt;</td>\n",
       "      <td>Rb1&lt;tm1Tyj&gt;</td>\n",
       "      <td>MGI:1857242</td>\n",
       "      <td>involves: 129S2/SvPas</td>\n",
       "      <td>MP:0000600</td>\n",
       "      <td>12529408</td>\n",
       "      <td>MGI:97874</td>\n",
       "      <td>MGI:2166359</td>\n",
       "    </tr>\n",
       "    <tr>\n",
       "      <th>1</th>\n",
       "      <td>Rb1&lt;tm1Tyj&gt;/Rb1&lt;tm1Tyj&gt;</td>\n",
       "      <td>Rb1&lt;tm1Tyj&gt;</td>\n",
       "      <td>MGI:1857242</td>\n",
       "      <td>involves: 129S2/SvPas</td>\n",
       "      <td>MP:0001716</td>\n",
       "      <td>16449662</td>\n",
       "      <td>MGI:97874</td>\n",
       "      <td>MGI:2166359</td>\n",
       "    </tr>\n",
       "    <tr>\n",
       "      <th>2</th>\n",
       "      <td>Rb1&lt;tm1Tyj&gt;/Rb1&lt;tm1Tyj&gt;</td>\n",
       "      <td>Rb1&lt;tm1Tyj&gt;</td>\n",
       "      <td>MGI:1857242</td>\n",
       "      <td>involves: 129S2/SvPas</td>\n",
       "      <td>MP:0001698</td>\n",
       "      <td>16449662</td>\n",
       "      <td>MGI:97874</td>\n",
       "      <td>MGI:2166359</td>\n",
       "    </tr>\n",
       "    <tr>\n",
       "      <th>3</th>\n",
       "      <td>Rb1&lt;tm1Tyj&gt;/Rb1&lt;tm1Tyj&gt;</td>\n",
       "      <td>Rb1&lt;tm1Tyj&gt;</td>\n",
       "      <td>MGI:1857242</td>\n",
       "      <td>involves: 129S2/SvPas</td>\n",
       "      <td>MP:0001092</td>\n",
       "      <td>16449662</td>\n",
       "      <td>MGI:97874</td>\n",
       "      <td>MGI:2166359</td>\n",
       "    </tr>\n",
       "    <tr>\n",
       "      <th>4</th>\n",
       "      <td>Rb1&lt;tm1Tyj&gt;/Rb1&lt;tm1Tyj&gt;</td>\n",
       "      <td>Rb1&lt;tm1Tyj&gt;</td>\n",
       "      <td>MGI:1857242</td>\n",
       "      <td>involves: 129S2/SvPas</td>\n",
       "      <td>MP:0000961</td>\n",
       "      <td>16449662</td>\n",
       "      <td>MGI:97874</td>\n",
       "      <td>MGI:2166359</td>\n",
       "    </tr>\n",
       "  </tbody>\n",
       "</table>\n",
       "</div>"
      ],
      "text/plain": [
       "                         0            1            2                      3  \\\n",
       "0  Rb1<tm1Tyj>/Rb1<tm1Tyj>  Rb1<tm1Tyj>  MGI:1857242  involves: 129S2/SvPas   \n",
       "1  Rb1<tm1Tyj>/Rb1<tm1Tyj>  Rb1<tm1Tyj>  MGI:1857242  involves: 129S2/SvPas   \n",
       "2  Rb1<tm1Tyj>/Rb1<tm1Tyj>  Rb1<tm1Tyj>  MGI:1857242  involves: 129S2/SvPas   \n",
       "3  Rb1<tm1Tyj>/Rb1<tm1Tyj>  Rb1<tm1Tyj>  MGI:1857242  involves: 129S2/SvPas   \n",
       "4  Rb1<tm1Tyj>/Rb1<tm1Tyj>  Rb1<tm1Tyj>  MGI:1857242  involves: 129S2/SvPas   \n",
       "\n",
       "            4         5          6            7  \n",
       "0  MP:0000600  12529408  MGI:97874  MGI:2166359  \n",
       "1  MP:0001716  16449662  MGI:97874  MGI:2166359  \n",
       "2  MP:0001698  16449662  MGI:97874  MGI:2166359  \n",
       "3  MP:0001092  16449662  MGI:97874  MGI:2166359  \n",
       "4  MP:0000961  16449662  MGI:97874  MGI:2166359  "
      ]
     },
     "execution_count": 6,
     "metadata": {},
     "output_type": "execute_result"
    }
   ],
   "source": [
    "df.head()"
   ]
  },
  {
   "cell_type": "code",
   "execution_count": 7,
   "metadata": {},
   "outputs": [
    {
     "data": {
      "text/plain": [
       "(272580, 8)"
      ]
     },
     "execution_count": 7,
     "metadata": {},
     "output_type": "execute_result"
    }
   ],
   "source": [
    "df.shape"
   ]
  },
  {
   "cell_type": "markdown",
   "metadata": {},
   "source": [
    "# Get Relevent Columns and Name Them"
   ]
  },
  {
   "cell_type": "code",
   "execution_count": 8,
   "metadata": {},
   "outputs": [],
   "source": [
    "# df.drop(7, axis=1, inplace=True) # drop blank column"
   ]
  },
  {
   "cell_type": "code",
   "execution_count": 9,
   "metadata": {
    "tags": []
   },
   "outputs": [],
   "source": [
    "col = ['Allelic Composition','Allele Symbol(s)','Allele ID(s)','Genetic Background','Mammalian Phenotype ID','PubMed ID','MGI Marker Accession ID (comma-delimited)','MGI Genotype Accession ID (comma-delimited)']"
   ]
  },
  {
   "cell_type": "code",
   "execution_count": 10,
   "metadata": {
    "tags": []
   },
   "outputs": [],
   "source": [
    "df.columns = col"
   ]
  },
  {
   "cell_type": "code",
   "execution_count": 11,
   "metadata": {},
   "outputs": [
    {
     "data": {
      "text/html": [
       "<div>\n",
       "<style scoped>\n",
       "    .dataframe tbody tr th:only-of-type {\n",
       "        vertical-align: middle;\n",
       "    }\n",
       "\n",
       "    .dataframe tbody tr th {\n",
       "        vertical-align: top;\n",
       "    }\n",
       "\n",
       "    .dataframe thead th {\n",
       "        text-align: right;\n",
       "    }\n",
       "</style>\n",
       "<table border=\"1\" class=\"dataframe\">\n",
       "  <thead>\n",
       "    <tr style=\"text-align: right;\">\n",
       "      <th></th>\n",
       "      <th>Allelic Composition</th>\n",
       "      <th>Allele Symbol(s)</th>\n",
       "      <th>Allele ID(s)</th>\n",
       "      <th>Genetic Background</th>\n",
       "      <th>Mammalian Phenotype ID</th>\n",
       "      <th>PubMed ID</th>\n",
       "      <th>MGI Marker Accession ID (comma-delimited)</th>\n",
       "      <th>MGI Genotype Accession ID (comma-delimited)</th>\n",
       "    </tr>\n",
       "  </thead>\n",
       "  <tbody>\n",
       "    <tr>\n",
       "      <th>0</th>\n",
       "      <td>Rb1&lt;tm1Tyj&gt;/Rb1&lt;tm1Tyj&gt;</td>\n",
       "      <td>Rb1&lt;tm1Tyj&gt;</td>\n",
       "      <td>MGI:1857242</td>\n",
       "      <td>involves: 129S2/SvPas</td>\n",
       "      <td>MP:0000600</td>\n",
       "      <td>12529408</td>\n",
       "      <td>MGI:97874</td>\n",
       "      <td>MGI:2166359</td>\n",
       "    </tr>\n",
       "    <tr>\n",
       "      <th>1</th>\n",
       "      <td>Rb1&lt;tm1Tyj&gt;/Rb1&lt;tm1Tyj&gt;</td>\n",
       "      <td>Rb1&lt;tm1Tyj&gt;</td>\n",
       "      <td>MGI:1857242</td>\n",
       "      <td>involves: 129S2/SvPas</td>\n",
       "      <td>MP:0001716</td>\n",
       "      <td>16449662</td>\n",
       "      <td>MGI:97874</td>\n",
       "      <td>MGI:2166359</td>\n",
       "    </tr>\n",
       "    <tr>\n",
       "      <th>2</th>\n",
       "      <td>Rb1&lt;tm1Tyj&gt;/Rb1&lt;tm1Tyj&gt;</td>\n",
       "      <td>Rb1&lt;tm1Tyj&gt;</td>\n",
       "      <td>MGI:1857242</td>\n",
       "      <td>involves: 129S2/SvPas</td>\n",
       "      <td>MP:0001698</td>\n",
       "      <td>16449662</td>\n",
       "      <td>MGI:97874</td>\n",
       "      <td>MGI:2166359</td>\n",
       "    </tr>\n",
       "    <tr>\n",
       "      <th>3</th>\n",
       "      <td>Rb1&lt;tm1Tyj&gt;/Rb1&lt;tm1Tyj&gt;</td>\n",
       "      <td>Rb1&lt;tm1Tyj&gt;</td>\n",
       "      <td>MGI:1857242</td>\n",
       "      <td>involves: 129S2/SvPas</td>\n",
       "      <td>MP:0001092</td>\n",
       "      <td>16449662</td>\n",
       "      <td>MGI:97874</td>\n",
       "      <td>MGI:2166359</td>\n",
       "    </tr>\n",
       "    <tr>\n",
       "      <th>4</th>\n",
       "      <td>Rb1&lt;tm1Tyj&gt;/Rb1&lt;tm1Tyj&gt;</td>\n",
       "      <td>Rb1&lt;tm1Tyj&gt;</td>\n",
       "      <td>MGI:1857242</td>\n",
       "      <td>involves: 129S2/SvPas</td>\n",
       "      <td>MP:0000961</td>\n",
       "      <td>16449662</td>\n",
       "      <td>MGI:97874</td>\n",
       "      <td>MGI:2166359</td>\n",
       "    </tr>\n",
       "  </tbody>\n",
       "</table>\n",
       "</div>"
      ],
      "text/plain": [
       "       Allelic Composition Allele Symbol(s) Allele ID(s)  \\\n",
       "0  Rb1<tm1Tyj>/Rb1<tm1Tyj>      Rb1<tm1Tyj>  MGI:1857242   \n",
       "1  Rb1<tm1Tyj>/Rb1<tm1Tyj>      Rb1<tm1Tyj>  MGI:1857242   \n",
       "2  Rb1<tm1Tyj>/Rb1<tm1Tyj>      Rb1<tm1Tyj>  MGI:1857242   \n",
       "3  Rb1<tm1Tyj>/Rb1<tm1Tyj>      Rb1<tm1Tyj>  MGI:1857242   \n",
       "4  Rb1<tm1Tyj>/Rb1<tm1Tyj>      Rb1<tm1Tyj>  MGI:1857242   \n",
       "\n",
       "      Genetic Background Mammalian Phenotype ID PubMed ID  \\\n",
       "0  involves: 129S2/SvPas             MP:0000600  12529408   \n",
       "1  involves: 129S2/SvPas             MP:0001716  16449662   \n",
       "2  involves: 129S2/SvPas             MP:0001698  16449662   \n",
       "3  involves: 129S2/SvPas             MP:0001092  16449662   \n",
       "4  involves: 129S2/SvPas             MP:0000961  16449662   \n",
       "\n",
       "  MGI Marker Accession ID (comma-delimited)  \\\n",
       "0                                 MGI:97874   \n",
       "1                                 MGI:97874   \n",
       "2                                 MGI:97874   \n",
       "3                                 MGI:97874   \n",
       "4                                 MGI:97874   \n",
       "\n",
       "  MGI Genotype Accession ID (comma-delimited)  \n",
       "0                                 MGI:2166359  \n",
       "1                                 MGI:2166359  \n",
       "2                                 MGI:2166359  \n",
       "3                                 MGI:2166359  \n",
       "4                                 MGI:2166359  "
      ]
     },
     "execution_count": 11,
     "metadata": {},
     "output_type": "execute_result"
    }
   ],
   "source": [
    "df.head()"
   ]
  },
  {
   "cell_type": "markdown",
   "metadata": {},
   "source": [
    "# Load Gene Data"
   ]
  },
  {
   "cell_type": "code",
   "execution_count": 12,
   "metadata": {
    "tags": []
   },
   "outputs": [],
   "source": [
    "gene_meta = pd.read_table('http://www.informatics.jax.org/downloads/reports/MRK_GXDAssay.rpt', header=None)"
   ]
  },
  {
   "cell_type": "code",
   "execution_count": 13,
   "metadata": {
    "tags": []
   },
   "outputs": [],
   "source": [
    "gene_meta.set_index(0, inplace=True)"
   ]
  },
  {
   "cell_type": "code",
   "execution_count": 14,
   "metadata": {},
   "outputs": [
    {
     "data": {
      "text/html": [
       "<div>\n",
       "<style scoped>\n",
       "    .dataframe tbody tr th:only-of-type {\n",
       "        vertical-align: middle;\n",
       "    }\n",
       "\n",
       "    .dataframe tbody tr th {\n",
       "        vertical-align: top;\n",
       "    }\n",
       "\n",
       "    .dataframe thead th {\n",
       "        text-align: right;\n",
       "    }\n",
       "</style>\n",
       "<table border=\"1\" class=\"dataframe\">\n",
       "  <thead>\n",
       "    <tr style=\"text-align: right;\">\n",
       "      <th></th>\n",
       "      <th>1</th>\n",
       "      <th>2</th>\n",
       "    </tr>\n",
       "    <tr>\n",
       "      <th>0</th>\n",
       "      <th></th>\n",
       "      <th></th>\n",
       "    </tr>\n",
       "  </thead>\n",
       "  <tbody>\n",
       "    <tr>\n",
       "      <th>MGI:101757</th>\n",
       "      <td>Cfl1</td>\n",
       "      <td>MGI:4836610,MGI:4836612,MGI:4836613,MGI:483661...</td>\n",
       "    </tr>\n",
       "    <tr>\n",
       "      <th>MGI:101759</th>\n",
       "      <td>Syt4</td>\n",
       "      <td>MGI:3522221,MGI:3522268,MGI:5421150,MGI:7522875</td>\n",
       "    </tr>\n",
       "    <tr>\n",
       "      <th>MGI:101760</th>\n",
       "      <td>Sfswap</td>\n",
       "      <td>MGI:4945277,MGI:7531520</td>\n",
       "    </tr>\n",
       "    <tr>\n",
       "      <th>MGI:101761</th>\n",
       "      <td>Hmga2</td>\n",
       "      <td>MGI:2654714,MGI:2654715,MGI:2657185,MGI:265718...</td>\n",
       "    </tr>\n",
       "    <tr>\n",
       "      <th>MGI:101762</th>\n",
       "      <td>Elk3</td>\n",
       "      <td>MGI:2655709,MGI:2655710,MGI:3507694,MGI:350888...</td>\n",
       "    </tr>\n",
       "  </tbody>\n",
       "</table>\n",
       "</div>"
      ],
      "text/plain": [
       "                 1                                                  2\n",
       "0                                                                    \n",
       "MGI:101757    Cfl1  MGI:4836610,MGI:4836612,MGI:4836613,MGI:483661...\n",
       "MGI:101759    Syt4    MGI:3522221,MGI:3522268,MGI:5421150,MGI:7522875\n",
       "MGI:101760  Sfswap                            MGI:4945277,MGI:7531520\n",
       "MGI:101761   Hmga2  MGI:2654714,MGI:2654715,MGI:2657185,MGI:265718...\n",
       "MGI:101762    Elk3  MGI:2655709,MGI:2655710,MGI:3507694,MGI:350888..."
      ]
     },
     "execution_count": 14,
     "metadata": {},
     "output_type": "execute_result"
    }
   ],
   "source": [
    "gene_meta.head()"
   ]
  },
  {
   "cell_type": "markdown",
   "metadata": {},
   "source": [
    "# Get Relevent Data and Map Gene ID's to Symbols"
   ]
  },
  {
   "cell_type": "code",
   "execution_count": 15,
   "metadata": {},
   "outputs": [],
   "source": [
    "ontology_df = pd.DataFrame()\n",
    "\n",
    "i = 0\n",
    "\n",
    "for index in df.index:\n",
    "    mgi_maid = df.loc[index, 'MGI Marker Accession ID (comma-delimited)'].split(',')\n",
    "    \n",
    "    if len(mgi_maid) > 1:\n",
    "        for mgi in mgi_maid:\n",
    "            if mgi in gene_meta.index:\n",
    "                lst = []\n",
    "                lst.append(gene_meta.loc[mgi, 1])\n",
    "                lst.append(df.loc[index, 'Mammalian Phenotype ID'])\n",
    "                df = pd.concat([df, pd.DataFrame(data=lst).T])\n",
    "    else:\n",
    "        mgi = mgi_maid[0]\n",
    "        if mgi in gene_meta.index:\n",
    "            lst = []\n",
    "            lst.append(gene_meta.loc[mgi, 1])\n",
    "            lst.append(df.loc[index, 'Mammalian Phenotype ID'])\n",
    "            ontology_df = pd.concat([ontology_df, pd.DataFrame(data=lst).T])"
   ]
  },
  {
   "cell_type": "code",
   "execution_count": 16,
   "metadata": {
    "tags": []
   },
   "outputs": [],
   "source": [
    "ontology_df.drop_duplicates(inplace=True)\n",
    "\n",
    "ontology_df.reset_index(inplace=True)\n",
    "\n",
    "ontology_df.drop('index', axis=1,inplace=True)"
   ]
  },
  {
   "cell_type": "code",
   "execution_count": 17,
   "metadata": {},
   "outputs": [
    {
     "data": {
      "text/html": [
       "<div>\n",
       "<style scoped>\n",
       "    .dataframe tbody tr th:only-of-type {\n",
       "        vertical-align: middle;\n",
       "    }\n",
       "\n",
       "    .dataframe tbody tr th {\n",
       "        vertical-align: top;\n",
       "    }\n",
       "\n",
       "    .dataframe thead th {\n",
       "        text-align: right;\n",
       "    }\n",
       "</style>\n",
       "<table border=\"1\" class=\"dataframe\">\n",
       "  <thead>\n",
       "    <tr style=\"text-align: right;\">\n",
       "      <th></th>\n",
       "      <th>0</th>\n",
       "      <th>1</th>\n",
       "    </tr>\n",
       "  </thead>\n",
       "  <tbody>\n",
       "    <tr>\n",
       "      <th>0</th>\n",
       "      <td>Rb1</td>\n",
       "      <td>MP:0000600</td>\n",
       "    </tr>\n",
       "    <tr>\n",
       "      <th>1</th>\n",
       "      <td>Rb1</td>\n",
       "      <td>MP:0001716</td>\n",
       "    </tr>\n",
       "    <tr>\n",
       "      <th>2</th>\n",
       "      <td>Rb1</td>\n",
       "      <td>MP:0001698</td>\n",
       "    </tr>\n",
       "    <tr>\n",
       "      <th>3</th>\n",
       "      <td>Rb1</td>\n",
       "      <td>MP:0001092</td>\n",
       "    </tr>\n",
       "    <tr>\n",
       "      <th>4</th>\n",
       "      <td>Rb1</td>\n",
       "      <td>MP:0000961</td>\n",
       "    </tr>\n",
       "  </tbody>\n",
       "</table>\n",
       "</div>"
      ],
      "text/plain": [
       "     0           1\n",
       "0  Rb1  MP:0000600\n",
       "1  Rb1  MP:0001716\n",
       "2  Rb1  MP:0001698\n",
       "3  Rb1  MP:0001092\n",
       "4  Rb1  MP:0000961"
      ]
     },
     "execution_count": 17,
     "metadata": {},
     "output_type": "execute_result"
    }
   ],
   "source": [
    "ontology_df.head()"
   ]
  },
  {
   "cell_type": "code",
   "execution_count": 18,
   "metadata": {},
   "outputs": [
    {
     "data": {
      "text/plain": [
       "(195629, 2)"
      ]
     },
     "execution_count": 18,
     "metadata": {},
     "output_type": "execute_result"
    }
   ],
   "source": [
    "ontology_df.shape"
   ]
  },
  {
   "cell_type": "markdown",
   "metadata": {},
   "source": [
    "# Load Ontology Metadata"
   ]
  },
  {
   "cell_type": "code",
   "execution_count": 19,
   "metadata": {
    "tags": []
   },
   "outputs": [],
   "source": [
    "ontology_meta = pd.read_table('http://www.informatics.jax.org/downloads/reports/VOC_MammalianPhenotype.rpt', header=None)"
   ]
  },
  {
   "cell_type": "code",
   "execution_count": 20,
   "metadata": {
    "tags": []
   },
   "outputs": [],
   "source": [
    "ontology_meta.set_index(0, inplace=True)"
   ]
  },
  {
   "cell_type": "code",
   "execution_count": 21,
   "metadata": {},
   "outputs": [
    {
     "data": {
      "text/html": [
       "<div>\n",
       "<style scoped>\n",
       "    .dataframe tbody tr th:only-of-type {\n",
       "        vertical-align: middle;\n",
       "    }\n",
       "\n",
       "    .dataframe tbody tr th {\n",
       "        vertical-align: top;\n",
       "    }\n",
       "\n",
       "    .dataframe thead th {\n",
       "        text-align: right;\n",
       "    }\n",
       "</style>\n",
       "<table border=\"1\" class=\"dataframe\">\n",
       "  <thead>\n",
       "    <tr style=\"text-align: right;\">\n",
       "      <th></th>\n",
       "      <th>1</th>\n",
       "      <th>2</th>\n",
       "    </tr>\n",
       "    <tr>\n",
       "      <th>0</th>\n",
       "      <th></th>\n",
       "      <th></th>\n",
       "    </tr>\n",
       "  </thead>\n",
       "  <tbody>\n",
       "    <tr>\n",
       "      <th>MP:0000001</th>\n",
       "      <td>mammalian phenotype</td>\n",
       "      <td>the observable morphological, physiological, b...</td>\n",
       "    </tr>\n",
       "    <tr>\n",
       "      <th>MP:0000002</th>\n",
       "      <td>obsolete Morphology</td>\n",
       "      <td>OBSOLETE.</td>\n",
       "    </tr>\n",
       "    <tr>\n",
       "      <th>MP:0000003</th>\n",
       "      <td>abnormal adipose tissue morphology</td>\n",
       "      <td>any structural anomaly of the connective tissu...</td>\n",
       "    </tr>\n",
       "    <tr>\n",
       "      <th>MP:0000005</th>\n",
       "      <td>increased brown adipose tissue amount</td>\n",
       "      <td>increased amount of the thermogenic form of ad...</td>\n",
       "    </tr>\n",
       "    <tr>\n",
       "      <th>MP:0000008</th>\n",
       "      <td>increased white adipose tissue amount</td>\n",
       "      <td>increased quantity of fat-storing cells/tissue</td>\n",
       "    </tr>\n",
       "  </tbody>\n",
       "</table>\n",
       "</div>"
      ],
      "text/plain": [
       "                                                1  \\\n",
       "0                                                   \n",
       "MP:0000001                    mammalian phenotype   \n",
       "MP:0000002                    obsolete Morphology   \n",
       "MP:0000003     abnormal adipose tissue morphology   \n",
       "MP:0000005  increased brown adipose tissue amount   \n",
       "MP:0000008  increased white adipose tissue amount   \n",
       "\n",
       "                                                            2  \n",
       "0                                                              \n",
       "MP:0000001  the observable morphological, physiological, b...  \n",
       "MP:0000002                                          OBSOLETE.  \n",
       "MP:0000003  any structural anomaly of the connective tissu...  \n",
       "MP:0000005  increased amount of the thermogenic form of ad...  \n",
       "MP:0000008     increased quantity of fat-storing cells/tissue  "
      ]
     },
     "execution_count": 21,
     "metadata": {},
     "output_type": "execute_result"
    }
   ],
   "source": [
    "ontology_meta.head()"
   ]
  },
  {
   "cell_type": "markdown",
   "metadata": {},
   "source": [
    "# Map Ontology to Ontology ID's"
   ]
  },
  {
   "cell_type": "code",
   "execution_count": 22,
   "metadata": {},
   "outputs": [],
   "source": [
    "lst = []\n",
    "\n",
    "for index in ontology_df.index:\n",
    "    term = ontology_meta.loc[ontology_df.loc[index, 1], 1]\n",
    "                             \n",
    "    lst.append(f'{term} {ontology_df.loc[index, 1]}')\n",
    "\n",
    "ontology_df[1] = lst"
   ]
  },
  {
   "cell_type": "code",
   "execution_count": 23,
   "metadata": {
    "tags": []
   },
   "outputs": [],
   "source": [
    "ontology_df.drop_duplicates(inplace=True)\n",
    "\n",
    "ontology_df.reset_index(inplace=True)\n",
    "\n",
    "ontology_df.drop('index', axis=1,inplace=True)"
   ]
  },
  {
   "cell_type": "code",
   "execution_count": 24,
   "metadata": {
    "tags": []
   },
   "outputs": [
    {
     "data": {
      "text/html": [
       "<div>\n",
       "<style scoped>\n",
       "    .dataframe tbody tr th:only-of-type {\n",
       "        vertical-align: middle;\n",
       "    }\n",
       "\n",
       "    .dataframe tbody tr th {\n",
       "        vertical-align: top;\n",
       "    }\n",
       "\n",
       "    .dataframe thead th {\n",
       "        text-align: right;\n",
       "    }\n",
       "</style>\n",
       "<table border=\"1\" class=\"dataframe\">\n",
       "  <thead>\n",
       "    <tr style=\"text-align: right;\">\n",
       "      <th></th>\n",
       "      <th>0</th>\n",
       "      <th>1</th>\n",
       "    </tr>\n",
       "  </thead>\n",
       "  <tbody>\n",
       "    <tr>\n",
       "      <th>0</th>\n",
       "      <td>Rb1</td>\n",
       "      <td>liver hypoplasia MP:0000600</td>\n",
       "    </tr>\n",
       "    <tr>\n",
       "      <th>1</th>\n",
       "      <td>Rb1</td>\n",
       "      <td>abnormal placenta labyrinth morphology MP:0001716</td>\n",
       "    </tr>\n",
       "    <tr>\n",
       "      <th>2</th>\n",
       "      <td>Rb1</td>\n",
       "      <td>decreased embryo size MP:0001698</td>\n",
       "    </tr>\n",
       "    <tr>\n",
       "      <th>3</th>\n",
       "      <td>Rb1</td>\n",
       "      <td>abnormal trigeminal ganglion morphology MP:000...</td>\n",
       "    </tr>\n",
       "    <tr>\n",
       "      <th>4</th>\n",
       "      <td>Rb1</td>\n",
       "      <td>abnormal dorsal root ganglion morphology MP:00...</td>\n",
       "    </tr>\n",
       "  </tbody>\n",
       "</table>\n",
       "</div>"
      ],
      "text/plain": [
       "     0                                                  1\n",
       "0  Rb1                        liver hypoplasia MP:0000600\n",
       "1  Rb1  abnormal placenta labyrinth morphology MP:0001716\n",
       "2  Rb1                   decreased embryo size MP:0001698\n",
       "3  Rb1  abnormal trigeminal ganglion morphology MP:000...\n",
       "4  Rb1  abnormal dorsal root ganglion morphology MP:00..."
      ]
     },
     "execution_count": 24,
     "metadata": {},
     "output_type": "execute_result"
    }
   ],
   "source": [
    "ontology_df.head()"
   ]
  },
  {
   "cell_type": "code",
   "execution_count": 25,
   "metadata": {},
   "outputs": [
    {
     "data": {
      "text/plain": [
       "(195629, 2)"
      ]
     },
     "execution_count": 25,
     "metadata": {},
     "output_type": "execute_result"
    }
   ],
   "source": [
    "ontology_df.shape"
   ]
  },
  {
   "cell_type": "markdown",
   "metadata": {},
   "source": [
    "# Map Gene Symbols To Up-to-date Approved Gene Symbols"
   ]
  },
  {
   "cell_type": "code",
   "execution_count": 26,
   "metadata": {
    "tags": []
   },
   "outputs": [],
   "source": [
    "ontology_df.set_index(0, inplace=True)"
   ]
  },
  {
   "cell_type": "code",
   "execution_count": 28,
   "metadata": {},
   "outputs": [
    {
     "data": {
      "text/html": [
       "<div>\n",
       "<style scoped>\n",
       "    .dataframe tbody tr th:only-of-type {\n",
       "        vertical-align: middle;\n",
       "    }\n",
       "\n",
       "    .dataframe tbody tr th {\n",
       "        vertical-align: top;\n",
       "    }\n",
       "\n",
       "    .dataframe thead th {\n",
       "        text-align: right;\n",
       "    }\n",
       "</style>\n",
       "<table border=\"1\" class=\"dataframe\">\n",
       "  <thead>\n",
       "    <tr style=\"text-align: right;\">\n",
       "      <th></th>\n",
       "      <th>1</th>\n",
       "    </tr>\n",
       "    <tr>\n",
       "      <th>0</th>\n",
       "      <th></th>\n",
       "    </tr>\n",
       "  </thead>\n",
       "  <tbody>\n",
       "    <tr>\n",
       "      <th>Rb1</th>\n",
       "      <td>liver hypoplasia MP:0000600</td>\n",
       "    </tr>\n",
       "    <tr>\n",
       "      <th>Rb1</th>\n",
       "      <td>abnormal placenta labyrinth morphology MP:0001716</td>\n",
       "    </tr>\n",
       "    <tr>\n",
       "      <th>Rb1</th>\n",
       "      <td>decreased embryo size MP:0001698</td>\n",
       "    </tr>\n",
       "    <tr>\n",
       "      <th>Rb1</th>\n",
       "      <td>abnormal trigeminal ganglion morphology MP:000...</td>\n",
       "    </tr>\n",
       "    <tr>\n",
       "      <th>Rb1</th>\n",
       "      <td>abnormal dorsal root ganglion morphology MP:00...</td>\n",
       "    </tr>\n",
       "    <tr>\n",
       "      <th>...</th>\n",
       "      <td>...</td>\n",
       "    </tr>\n",
       "    <tr>\n",
       "      <th>Mtfmt</th>\n",
       "      <td>decreased circulating alanine transaminase lev...</td>\n",
       "    </tr>\n",
       "    <tr>\n",
       "      <th>Mtfmt</th>\n",
       "      <td>decreased circulating interleukin-1 beta level...</td>\n",
       "    </tr>\n",
       "    <tr>\n",
       "      <th>Mtfmt</th>\n",
       "      <td>decreased subcutaneous adipose tissue amount M...</td>\n",
       "    </tr>\n",
       "    <tr>\n",
       "      <th>Mtfmt</th>\n",
       "      <td>decreased epididymal fat pad weight MP:0009289</td>\n",
       "    </tr>\n",
       "    <tr>\n",
       "      <th>Mtfmt</th>\n",
       "      <td>decreased liver triglyceride level MP:0009356</td>\n",
       "    </tr>\n",
       "  </tbody>\n",
       "</table>\n",
       "<p>195629 rows × 1 columns</p>\n",
       "</div>"
      ],
      "text/plain": [
       "                                                       1\n",
       "0                                                       \n",
       "Rb1                          liver hypoplasia MP:0000600\n",
       "Rb1    abnormal placenta labyrinth morphology MP:0001716\n",
       "Rb1                     decreased embryo size MP:0001698\n",
       "Rb1    abnormal trigeminal ganglion morphology MP:000...\n",
       "Rb1    abnormal dorsal root ganglion morphology MP:00...\n",
       "...                                                  ...\n",
       "Mtfmt  decreased circulating alanine transaminase lev...\n",
       "Mtfmt  decreased circulating interleukin-1 beta level...\n",
       "Mtfmt  decreased subcutaneous adipose tissue amount M...\n",
       "Mtfmt     decreased epididymal fat pad weight MP:0009289\n",
       "Mtfmt      decreased liver triglyceride level MP:0009356\n",
       "\n",
       "[195629 rows x 1 columns]"
      ]
     },
     "execution_count": 28,
     "metadata": {},
     "output_type": "execute_result"
    }
   ],
   "source": [
    "ontology_df"
   ]
  },
  {
   "cell_type": "code",
   "execution_count": 87,
   "metadata": {},
   "outputs": [],
   "source": [
    "mapgenesymbols(ontology_df)"
   ]
  },
  {
   "cell_type": "code",
   "execution_count": 88,
   "metadata": {},
   "outputs": [
    {
     "data": {
      "text/html": [
       "<div>\n",
       "<style scoped>\n",
       "    .dataframe tbody tr th:only-of-type {\n",
       "        vertical-align: middle;\n",
       "    }\n",
       "\n",
       "    .dataframe tbody tr th {\n",
       "        vertical-align: top;\n",
       "    }\n",
       "\n",
       "    .dataframe thead th {\n",
       "        text-align: right;\n",
       "    }\n",
       "</style>\n",
       "<table border=\"1\" class=\"dataframe\">\n",
       "  <thead>\n",
       "    <tr style=\"text-align: right;\">\n",
       "      <th></th>\n",
       "      <th>1</th>\n",
       "    </tr>\n",
       "    <tr>\n",
       "      <th>0</th>\n",
       "      <th></th>\n",
       "    </tr>\n",
       "  </thead>\n",
       "  <tbody>\n",
       "    <tr>\n",
       "      <th>RB1</th>\n",
       "      <td>liver hypoplasia MP:0000600</td>\n",
       "    </tr>\n",
       "    <tr>\n",
       "      <th>RB1</th>\n",
       "      <td>abnormal placenta labyrinth morphology MP:0001716</td>\n",
       "    </tr>\n",
       "    <tr>\n",
       "      <th>RB1</th>\n",
       "      <td>decreased embryo size MP:0001698</td>\n",
       "    </tr>\n",
       "    <tr>\n",
       "      <th>RB1</th>\n",
       "      <td>abnormal trigeminal ganglion morphology MP:000...</td>\n",
       "    </tr>\n",
       "    <tr>\n",
       "      <th>RB1</th>\n",
       "      <td>abnormal dorsal root ganglion morphology MP:00...</td>\n",
       "    </tr>\n",
       "    <tr>\n",
       "      <th>...</th>\n",
       "      <td>...</td>\n",
       "    </tr>\n",
       "    <tr>\n",
       "      <th>MTFMT</th>\n",
       "      <td>decreased circulating alanine transaminase lev...</td>\n",
       "    </tr>\n",
       "    <tr>\n",
       "      <th>MTFMT</th>\n",
       "      <td>decreased circulating interleukin-1 beta level...</td>\n",
       "    </tr>\n",
       "    <tr>\n",
       "      <th>MTFMT</th>\n",
       "      <td>decreased subcutaneous adipose tissue amount M...</td>\n",
       "    </tr>\n",
       "    <tr>\n",
       "      <th>MTFMT</th>\n",
       "      <td>decreased epididymal fat pad weight MP:0009289</td>\n",
       "    </tr>\n",
       "    <tr>\n",
       "      <th>MTFMT</th>\n",
       "      <td>decreased liver triglyceride level MP:0009356</td>\n",
       "    </tr>\n",
       "  </tbody>\n",
       "</table>\n",
       "<p>194405 rows × 1 columns</p>\n",
       "</div>"
      ],
      "text/plain": [
       "                                                       1\n",
       "0                                                       \n",
       "RB1                          liver hypoplasia MP:0000600\n",
       "RB1    abnormal placenta labyrinth morphology MP:0001716\n",
       "RB1                     decreased embryo size MP:0001698\n",
       "RB1    abnormal trigeminal ganglion morphology MP:000...\n",
       "RB1    abnormal dorsal root ganglion morphology MP:00...\n",
       "...                                                  ...\n",
       "MTFMT  decreased circulating alanine transaminase lev...\n",
       "MTFMT  decreased circulating interleukin-1 beta level...\n",
       "MTFMT  decreased subcutaneous adipose tissue amount M...\n",
       "MTFMT     decreased epididymal fat pad weight MP:0009289\n",
       "MTFMT      decreased liver triglyceride level MP:0009356\n",
       "\n",
       "[194405 rows x 1 columns]"
      ]
     },
     "execution_count": 88,
     "metadata": {},
     "output_type": "execute_result"
    }
   ],
   "source": [
    "ontology_df"
   ]
  },
  {
   "cell_type": "markdown",
   "metadata": {},
   "source": [
    "# Create Binary Matrix"
   ]
  },
  {
   "cell_type": "code",
   "execution_count": 89,
   "metadata": {},
   "outputs": [],
   "source": [
    "ontology_df.reset_index(inplace=True)"
   ]
  },
  {
   "cell_type": "code",
   "execution_count": 115,
   "metadata": {},
   "outputs": [
    {
     "data": {
      "text/html": [
       "<div>\n",
       "<style scoped>\n",
       "    .dataframe tbody tr th:only-of-type {\n",
       "        vertical-align: middle;\n",
       "    }\n",
       "\n",
       "    .dataframe tbody tr th {\n",
       "        vertical-align: top;\n",
       "    }\n",
       "\n",
       "    .dataframe thead th {\n",
       "        text-align: right;\n",
       "    }\n",
       "</style>\n",
       "<table border=\"1\" class=\"dataframe\">\n",
       "  <thead>\n",
       "    <tr style=\"text-align: right;\">\n",
       "      <th></th>\n",
       "      <th>0</th>\n",
       "      <th>1</th>\n",
       "    </tr>\n",
       "  </thead>\n",
       "  <tbody>\n",
       "  </tbody>\n",
       "</table>\n",
       "</div>"
      ],
      "text/plain": [
       "Empty DataFrame\n",
       "Columns: [0, 1]\n",
       "Index: []"
      ]
     },
     "execution_count": 115,
     "metadata": {},
     "output_type": "execute_result"
    }
   ],
   "source": [
    "ontology_df[ontology_df[1].isna()]"
   ]
  },
  {
   "cell_type": "code",
   "execution_count": 110,
   "metadata": {},
   "outputs": [],
   "source": [
    "ontology_group = ontology_df.groupby(1)"
   ]
  },
  {
   "cell_type": "code",
   "execution_count": 111,
   "metadata": {},
   "outputs": [
    {
     "data": {
      "text/html": [
       "<div>\n",
       "<style scoped>\n",
       "    .dataframe tbody tr th:only-of-type {\n",
       "        vertical-align: middle;\n",
       "    }\n",
       "\n",
       "    .dataframe tbody tr th {\n",
       "        vertical-align: top;\n",
       "    }\n",
       "\n",
       "    .dataframe thead th {\n",
       "        text-align: right;\n",
       "    }\n",
       "</style>\n",
       "<table border=\"1\" class=\"dataframe\">\n",
       "  <thead>\n",
       "    <tr style=\"text-align: right;\">\n",
       "      <th></th>\n",
       "      <th>0</th>\n",
       "      <th>1</th>\n",
       "    </tr>\n",
       "  </thead>\n",
       "  <tbody>\n",
       "    <tr>\n",
       "      <th>47652</th>\n",
       "      <td>SEMA3E</td>\n",
       "      <td>Bergmeister's papilla MP:0012539</td>\n",
       "    </tr>\n",
       "  </tbody>\n",
       "</table>\n",
       "</div>"
      ],
      "text/plain": [
       "            0                                 1\n",
       "47652  SEMA3E  Bergmeister's papilla MP:0012539"
      ]
     },
     "execution_count": 111,
     "metadata": {},
     "output_type": "execute_result"
    }
   ],
   "source": [
    "ontology_group.get_group(\"Bergmeister's papilla MP:0012539\")"
   ]
  },
  {
   "cell_type": "code",
   "execution_count": 116,
   "metadata": {},
   "outputs": [],
   "source": [
    "with open('out/MGI_Mammalian_Phenotype_Level_4_2021.gmt', 'w') as o:\n",
    "\tfor group in ontology_group.groups:\n",
    "\t\tgenes = set(ontology_group.get_group(group)[0])\n",
    "\t\tif len(genes) > 5:\n",
    "\t\t\to.write(\"\\t\".join([group, '', *list(genes)]) + \"\\n\")\n"
   ]
  },
  {
   "cell_type": "code",
   "execution_count": 117,
   "metadata": {},
   "outputs": [],
   "source": [
    "binary_matrix = createBinaryMatrix(ontology_df)"
   ]
  },
  {
   "cell_type": "code",
   "execution_count": 119,
   "metadata": {},
   "outputs": [],
   "source": [
    "binary_matrix.head()"
   ]
  },
  {
   "cell_type": "code",
   "execution_count": null,
   "metadata": {},
   "outputs": [
    {
     "data": {
      "text/plain": [
       "(9792, 9753)"
      ]
     },
     "execution_count": 105,
     "metadata": {},
     "output_type": "execute_result"
    }
   ],
   "source": [
    "binary_matrix.shape"
   ]
  },
  {
   "cell_type": "markdown",
   "metadata": {},
   "source": [
    "# Save Binary Matrix"
   ]
  },
  {
   "cell_type": "code",
   "execution_count": null,
   "metadata": {},
   "outputs": [],
   "source": [
    "binary_matrix.to_csv('out/mgi_binary_matrix.tsv.zip', sep='\\t', compression='gzip')"
   ]
  },
  {
   "cell_type": "markdown",
   "metadata": {},
   "source": [
    "# Create Gene Set Library"
   ]
  },
  {
   "cell_type": "code",
   "execution_count": 118,
   "metadata": {},
   "outputs": [],
   "source": [
    "createUpGeneSetLib(binary_matrix, 'out/MGI_Mammalian_Phenotype_Level_4_2021')"
   ]
  },
  {
   "cell_type": "code",
   "execution_count": null,
   "metadata": {},
   "outputs": [],
   "source": []
  }
 ],
 "metadata": {
  "kernelspec": {
   "display_name": "Python 3",
   "language": "python",
   "name": "python3"
  },
  "language_info": {
   "codemirror_mode": {
    "name": "ipython",
    "version": 3
   },
   "file_extension": ".py",
   "mimetype": "text/x-python",
   "name": "python",
   "nbconvert_exporter": "python",
   "pygments_lexer": "ipython3",
   "version": "3.10.14"
  }
 },
 "nbformat": 4,
 "nbformat_minor": 4
}
