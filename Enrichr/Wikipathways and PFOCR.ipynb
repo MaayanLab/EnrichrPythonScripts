{
 "cells": [
  {
   "cell_type": "code",
   "execution_count": 1,
   "metadata": {},
   "outputs": [],
   "source": [
    "import requests\n",
    "from tqdm import tqdm\n",
    "from maayanlab_bioinformatics.harmonization import ncbi_genes_lookup"
   ]
  },
  {
   "cell_type": "code",
   "execution_count": 2,
   "metadata": {},
   "outputs": [],
   "source": [
    "gene_lookup = ncbi_genes_lookup()"
   ]
  },
  {
   "cell_type": "markdown",
   "metadata": {},
   "source": [
    "## Wikipathways"
   ]
  },
  {
   "cell_type": "code",
   "execution_count": 3,
   "metadata": {},
   "outputs": [],
   "source": [
    "url = \"https://data.wikipathways.org/20230910/gmt/wikipathways-20230910-gmt-Homo_sapiens.gmt\"\n",
    "res = requests.get(url)\n",
    "gmt = res.text"
   ]
  },
  {
   "cell_type": "code",
   "execution_count": 4,
   "metadata": {},
   "outputs": [
    {
     "name": "stderr",
     "output_type": "stream",
     "text": [
      "  0%|          | 0/839 [00:00<?, ?it/s]"
     ]
    },
    {
     "name": "stderr",
     "output_type": "stream",
     "text": [
      "100%|██████████| 839/839 [00:00<00:00, 38736.54it/s]\n"
     ]
    }
   ],
   "source": [
    "with open(\"out/WikiPathway_2023_Human.gmt\", \"w\") as w:\n",
    "    for line in tqdm(gmt.strip().split(\"\\n\")):\n",
    "        label, url, *genes = line.strip().split(\"\\t\")\n",
    "        desc, _v, id, org = label.split(\"%\")\n",
    "        label = \"%s %s\"%(desc, id)\n",
    "        row = [label, \"\", *[gene_lookup(g) for g in genes if gene_lookup(g)]]\n",
    "        if len(row) > 6:\n",
    "            w.write(\"\\t\".join(row))\n",
    "            w.write(\"\\n\")"
   ]
  },
  {
   "cell_type": "markdown",
   "metadata": {},
   "source": [
    "## PFOCR"
   ]
  },
  {
   "cell_type": "code",
   "execution_count": 5,
   "metadata": {},
   "outputs": [],
   "source": [
    "url = \"https://data.wikipathways.org/pfocr/20230401/pfocr-20230401-gmt-Homo_sapiens.gmt\"\n",
    "res = requests.get(url)\n",
    "gmt = res.text"
   ]
  },
  {
   "cell_type": "code",
   "execution_count": 6,
   "metadata": {},
   "outputs": [
    {
     "name": "stderr",
     "output_type": "stream",
     "text": [
      "100%|██████████| 71383/71383 [00:00<00:00, 129265.04it/s]\n"
     ]
    }
   ],
   "source": [
    "with open(\"out/PFOCR_Pathways_2023.gmt\", \"w\") as w:\n",
    "    for line in tqdm(gmt.strip().split(\"\\n\")):\n",
    "        label, description, *genes = line.strip().split(\"\\t\")\n",
    "        row = [label, '', *[gene_lookup(g) for g in genes if gene_lookup(g)]]\n",
    "        if len(row) > 6:\n",
    "            w.write(\"\\t\".join(row))\n",
    "            w.write(\"\\n\")"
   ]
  },
  {
   "cell_type": "code",
   "execution_count": null,
   "metadata": {},
   "outputs": [],
   "source": []
  }
 ],
 "metadata": {
  "kernelspec": {
   "display_name": "venv",
   "language": "python",
   "name": "python3"
  },
  "language_info": {
   "codemirror_mode": {
    "name": "ipython",
    "version": 3
   },
   "file_extension": ".py",
   "mimetype": "text/x-python",
   "name": "python",
   "nbconvert_exporter": "python",
   "pygments_lexer": "ipython3",
   "version": "3.10.9"
  },
  "orig_nbformat": 4
 },
 "nbformat": 4,
 "nbformat_minor": 2
}
