{
 "cells": [
  {
   "cell_type": "markdown",
   "metadata": {},
   "source": [
    "# Gene Ontology (GO) Cellular Component"
   ]
  },
  {
   "cell_type": "markdown",
   "metadata": {},
   "source": [
    "Author: Zachary Flamholz  \n",
    "Date: 06-2018  \n",
    "Database: http://flybase.org/   \n",
    "Data: http://geneontology.org/gene-associations/gene_association.fb.gz    \n",
    "Companion file: http://ftp.ncbi.nlm.nih.gov/gene/DATA/GENE_INFO/Invertebrates/Drosophila_melanogaster.gene_info.gz, http://snapshot.geneontology.org/ontology/go-basic.obo    "
   ]
  },
  {
   "cell_type": "code",
   "execution_count": 1,
   "metadata": {},
   "outputs": [],
   "source": [
    "import numpy as np\n",
    "import pandas as pd\n",
    "import sys, datetime\n",
    "import goenrich\n",
    "import scipy.stats as stat"
   ]
  },
  {
   "cell_type": "markdown",
   "metadata": {},
   "source": [
    "# Versions of Modules in Use"
   ]
  },
  {
   "cell_type": "code",
   "execution_count": null,
   "metadata": {},
   "outputs": [],
   "source": [
    "%load_ext version_information\n",
    "%version_information numpy, pandas"
   ]
  },
  {
   "cell_type": "markdown",
   "metadata": {},
   "source": [
    "## read in data"
   ]
  },
  {
   "cell_type": "code",
   "execution_count": 2,
   "metadata": {},
   "outputs": [],
   "source": [
    "df = pd.read_csv('goa_human.gaf', sep='`', skiprows=41, header=None)"
   ]
  },
  {
   "cell_type": "code",
   "execution_count": 3,
   "metadata": {},
   "outputs": [
    {
     "data": {
      "text/html": [
       "<div>\n",
       "<style scoped>\n",
       "    .dataframe tbody tr th:only-of-type {\n",
       "        vertical-align: middle;\n",
       "    }\n",
       "\n",
       "    .dataframe tbody tr th {\n",
       "        vertical-align: top;\n",
       "    }\n",
       "\n",
       "    .dataframe thead th {\n",
       "        text-align: right;\n",
       "    }\n",
       "</style>\n",
       "<table border=\"1\" class=\"dataframe\">\n",
       "  <thead>\n",
       "    <tr style=\"text-align: right;\">\n",
       "      <th></th>\n",
       "      <th>0</th>\n",
       "    </tr>\n",
       "  </thead>\n",
       "  <tbody>\n",
       "    <tr>\n",
       "      <th>0</th>\n",
       "      <td>UniProtKB\\tA0A024RBG1\\tNUDT4B\\tenables\\tGO:000...</td>\n",
       "    </tr>\n",
       "    <tr>\n",
       "      <th>1</th>\n",
       "      <td>UniProtKB\\tA0A024RBG1\\tNUDT4B\\tenables\\tGO:004...</td>\n",
       "    </tr>\n",
       "    <tr>\n",
       "      <th>2</th>\n",
       "      <td>UniProtKB\\tA0A024RBG1\\tNUDT4B\\tenables\\tGO:005...</td>\n",
       "    </tr>\n",
       "    <tr>\n",
       "      <th>3</th>\n",
       "      <td>UniProtKB\\tA0A024RBG1\\tNUDT4B\\tenables\\tGO:005...</td>\n",
       "    </tr>\n",
       "    <tr>\n",
       "      <th>4</th>\n",
       "      <td>UniProtKB\\tA0A024RBG1\\tNUDT4B\\tlocated_in\\tGO:...</td>\n",
       "    </tr>\n",
       "  </tbody>\n",
       "</table>\n",
       "</div>"
      ],
      "text/plain": [
       "                                                   0\n",
       "0  UniProtKB\\tA0A024RBG1\\tNUDT4B\\tenables\\tGO:000...\n",
       "1  UniProtKB\\tA0A024RBG1\\tNUDT4B\\tenables\\tGO:004...\n",
       "2  UniProtKB\\tA0A024RBG1\\tNUDT4B\\tenables\\tGO:005...\n",
       "3  UniProtKB\\tA0A024RBG1\\tNUDT4B\\tenables\\tGO:005...\n",
       "4  UniProtKB\\tA0A024RBG1\\tNUDT4B\\tlocated_in\\tGO:..."
      ]
     },
     "execution_count": 3,
     "metadata": {},
     "output_type": "execute_result"
    }
   ],
   "source": [
    "df.head()"
   ]
  },
  {
   "cell_type": "code",
   "execution_count": 4,
   "metadata": {},
   "outputs": [
    {
     "name": "stdout",
     "output_type": "stream",
     "text": [
      "Progress: 100%  619347 Out of 619347   \r"
     ]
    }
   ],
   "source": [
    "## code copied from Gene Ontology (GO) Biological component by Moshe Silverstein \n",
    "\n",
    "matrix = np.chararray((df.shape[0], 17), itemsize=150, unicode=True)\n",
    "\n",
    "for i, row in enumerate(df.itertuples()):\n",
    "    \n",
    "    progressPercent = ((i+1)/len(df.index))*100\n",
    "\n",
    "    sys.stdout.write(\"Progress: %d%%  %d Out of %d   \\r\" % (progressPercent, (i+1), len(df.index)))\n",
    "    sys.stdout.flush()\n",
    "    \n",
    "    lst = row[1].split('\\t')\n",
    "\n",
    "    matrix[i, :] = lst\n",
    "\n",
    "df_clean = pd.DataFrame(data=matrix)"
   ]
  },
  {
   "cell_type": "code",
   "execution_count": 5,
   "metadata": {},
   "outputs": [
    {
     "data": {
      "text/html": [
       "<div>\n",
       "<style scoped>\n",
       "    .dataframe tbody tr th:only-of-type {\n",
       "        vertical-align: middle;\n",
       "    }\n",
       "\n",
       "    .dataframe tbody tr th {\n",
       "        vertical-align: top;\n",
       "    }\n",
       "\n",
       "    .dataframe thead th {\n",
       "        text-align: right;\n",
       "    }\n",
       "</style>\n",
       "<table border=\"1\" class=\"dataframe\">\n",
       "  <thead>\n",
       "    <tr style=\"text-align: right;\">\n",
       "      <th></th>\n",
       "      <th>0</th>\n",
       "      <th>1</th>\n",
       "      <th>2</th>\n",
       "      <th>3</th>\n",
       "      <th>4</th>\n",
       "      <th>5</th>\n",
       "      <th>6</th>\n",
       "      <th>7</th>\n",
       "      <th>8</th>\n",
       "      <th>9</th>\n",
       "      <th>10</th>\n",
       "      <th>11</th>\n",
       "      <th>12</th>\n",
       "      <th>13</th>\n",
       "      <th>14</th>\n",
       "      <th>15</th>\n",
       "      <th>16</th>\n",
       "    </tr>\n",
       "  </thead>\n",
       "  <tbody>\n",
       "    <tr>\n",
       "      <th>0</th>\n",
       "      <td>UniProtKB</td>\n",
       "      <td>A0A024RBG1</td>\n",
       "      <td>NUDT4B</td>\n",
       "      <td>enables</td>\n",
       "      <td>GO:0003723</td>\n",
       "      <td>GO_REF:0000043</td>\n",
       "      <td>IEA</td>\n",
       "      <td>UniProtKB-KW:KW-0694</td>\n",
       "      <td>F</td>\n",
       "      <td>Diphosphoinositol polyphosphate phosphohydrola...</td>\n",
       "      <td>NUDT4B</td>\n",
       "      <td>protein</td>\n",
       "      <td>taxon:9606</td>\n",
       "      <td>20210417</td>\n",
       "      <td>UniProt</td>\n",
       "      <td></td>\n",
       "      <td></td>\n",
       "    </tr>\n",
       "    <tr>\n",
       "      <th>1</th>\n",
       "      <td>UniProtKB</td>\n",
       "      <td>A0A024RBG1</td>\n",
       "      <td>NUDT4B</td>\n",
       "      <td>enables</td>\n",
       "      <td>GO:0046872</td>\n",
       "      <td>GO_REF:0000043</td>\n",
       "      <td>IEA</td>\n",
       "      <td>UniProtKB-KW:KW-0479</td>\n",
       "      <td>F</td>\n",
       "      <td>Diphosphoinositol polyphosphate phosphohydrola...</td>\n",
       "      <td>NUDT4B</td>\n",
       "      <td>protein</td>\n",
       "      <td>taxon:9606</td>\n",
       "      <td>20210417</td>\n",
       "      <td>UniProt</td>\n",
       "      <td></td>\n",
       "      <td></td>\n",
       "    </tr>\n",
       "    <tr>\n",
       "      <th>2</th>\n",
       "      <td>UniProtKB</td>\n",
       "      <td>A0A024RBG1</td>\n",
       "      <td>NUDT4B</td>\n",
       "      <td>enables</td>\n",
       "      <td>GO:0052840</td>\n",
       "      <td>GO_REF:0000003</td>\n",
       "      <td>IEA</td>\n",
       "      <td>EC:3.6.1.52</td>\n",
       "      <td>F</td>\n",
       "      <td>Diphosphoinositol polyphosphate phosphohydrola...</td>\n",
       "      <td>NUDT4B</td>\n",
       "      <td>protein</td>\n",
       "      <td>taxon:9606</td>\n",
       "      <td>20210417</td>\n",
       "      <td>UniProt</td>\n",
       "      <td></td>\n",
       "      <td></td>\n",
       "    </tr>\n",
       "    <tr>\n",
       "      <th>3</th>\n",
       "      <td>UniProtKB</td>\n",
       "      <td>A0A024RBG1</td>\n",
       "      <td>NUDT4B</td>\n",
       "      <td>enables</td>\n",
       "      <td>GO:0052842</td>\n",
       "      <td>GO_REF:0000003</td>\n",
       "      <td>IEA</td>\n",
       "      <td>EC:3.6.1.52</td>\n",
       "      <td>F</td>\n",
       "      <td>Diphosphoinositol polyphosphate phosphohydrola...</td>\n",
       "      <td>NUDT4B</td>\n",
       "      <td>protein</td>\n",
       "      <td>taxon:9606</td>\n",
       "      <td>20210417</td>\n",
       "      <td>UniProt</td>\n",
       "      <td></td>\n",
       "      <td></td>\n",
       "    </tr>\n",
       "    <tr>\n",
       "      <th>4</th>\n",
       "      <td>UniProtKB</td>\n",
       "      <td>A0A024RBG1</td>\n",
       "      <td>NUDT4B</td>\n",
       "      <td>located_in</td>\n",
       "      <td>GO:0005829</td>\n",
       "      <td>GO_REF:0000052</td>\n",
       "      <td>IDA</td>\n",
       "      <td></td>\n",
       "      <td>C</td>\n",
       "      <td>Diphosphoinositol polyphosphate phosphohydrola...</td>\n",
       "      <td>NUDT4B</td>\n",
       "      <td>protein</td>\n",
       "      <td>taxon:9606</td>\n",
       "      <td>20161204</td>\n",
       "      <td>HPA</td>\n",
       "      <td></td>\n",
       "      <td></td>\n",
       "    </tr>\n",
       "    <tr>\n",
       "      <th>5</th>\n",
       "      <td>UniProtKB</td>\n",
       "      <td>A0A075B6H7</td>\n",
       "      <td>IGKV3-7</td>\n",
       "      <td>involved_in</td>\n",
       "      <td>GO:0002250</td>\n",
       "      <td>GO_REF:0000043</td>\n",
       "      <td>IEA</td>\n",
       "      <td>UniProtKB-KW:KW-1064</td>\n",
       "      <td>P</td>\n",
       "      <td>Probable non-functional immunoglobulin kappa v...</td>\n",
       "      <td>IGKV3-7</td>\n",
       "      <td>protein</td>\n",
       "      <td>taxon:9606</td>\n",
       "      <td>20210417</td>\n",
       "      <td>UniProt</td>\n",
       "      <td></td>\n",
       "      <td></td>\n",
       "    </tr>\n",
       "    <tr>\n",
       "      <th>6</th>\n",
       "      <td>UniProtKB</td>\n",
       "      <td>A0A075B6H7</td>\n",
       "      <td>IGKV3-7</td>\n",
       "      <td>located_in</td>\n",
       "      <td>GO:0005886</td>\n",
       "      <td>GO_REF:0000044</td>\n",
       "      <td>IEA</td>\n",
       "      <td>UniProtKB-SubCell:SL-0039</td>\n",
       "      <td>C</td>\n",
       "      <td>Probable non-functional immunoglobulin kappa v...</td>\n",
       "      <td>IGKV3-7</td>\n",
       "      <td>protein</td>\n",
       "      <td>taxon:9606</td>\n",
       "      <td>20210417</td>\n",
       "      <td>UniProt</td>\n",
       "      <td></td>\n",
       "      <td></td>\n",
       "    </tr>\n",
       "    <tr>\n",
       "      <th>7</th>\n",
       "      <td>UniProtKB</td>\n",
       "      <td>A0A075B6H7</td>\n",
       "      <td>IGKV3-7</td>\n",
       "      <td>part_of</td>\n",
       "      <td>GO:0019814</td>\n",
       "      <td>GO_REF:0000043</td>\n",
       "      <td>IEA</td>\n",
       "      <td>UniProtKB-KW:KW-1280</td>\n",
       "      <td>C</td>\n",
       "      <td>Probable non-functional immunoglobulin kappa v...</td>\n",
       "      <td>IGKV3-7</td>\n",
       "      <td>protein</td>\n",
       "      <td>taxon:9606</td>\n",
       "      <td>20210417</td>\n",
       "      <td>UniProt</td>\n",
       "      <td></td>\n",
       "      <td></td>\n",
       "    </tr>\n",
       "    <tr>\n",
       "      <th>8</th>\n",
       "      <td>UniProtKB</td>\n",
       "      <td>A0A075B6H8</td>\n",
       "      <td>IGKV1D-42</td>\n",
       "      <td>involved_in</td>\n",
       "      <td>GO:0002250</td>\n",
       "      <td>GO_REF:0000043</td>\n",
       "      <td>IEA</td>\n",
       "      <td>UniProtKB-KW:KW-1064</td>\n",
       "      <td>P</td>\n",
       "      <td>Probable non-functional immunoglobulin kappa v...</td>\n",
       "      <td>IGKV1D-42</td>\n",
       "      <td>protein</td>\n",
       "      <td>taxon:9606</td>\n",
       "      <td>20210417</td>\n",
       "      <td>UniProt</td>\n",
       "      <td></td>\n",
       "      <td></td>\n",
       "    </tr>\n",
       "    <tr>\n",
       "      <th>9</th>\n",
       "      <td>UniProtKB</td>\n",
       "      <td>A0A075B6H8</td>\n",
       "      <td>IGKV1D-42</td>\n",
       "      <td>located_in</td>\n",
       "      <td>GO:0005886</td>\n",
       "      <td>GO_REF:0000044</td>\n",
       "      <td>IEA</td>\n",
       "      <td>UniProtKB-SubCell:SL-0039</td>\n",
       "      <td>C</td>\n",
       "      <td>Probable non-functional immunoglobulin kappa v...</td>\n",
       "      <td>IGKV1D-42</td>\n",
       "      <td>protein</td>\n",
       "      <td>taxon:9606</td>\n",
       "      <td>20210417</td>\n",
       "      <td>UniProt</td>\n",
       "      <td></td>\n",
       "      <td></td>\n",
       "    </tr>\n",
       "  </tbody>\n",
       "</table>\n",
       "</div>"
      ],
      "text/plain": [
       "          0           1          2            3           4               5   \\\n",
       "0  UniProtKB  A0A024RBG1     NUDT4B      enables  GO:0003723  GO_REF:0000043   \n",
       "1  UniProtKB  A0A024RBG1     NUDT4B      enables  GO:0046872  GO_REF:0000043   \n",
       "2  UniProtKB  A0A024RBG1     NUDT4B      enables  GO:0052840  GO_REF:0000003   \n",
       "3  UniProtKB  A0A024RBG1     NUDT4B      enables  GO:0052842  GO_REF:0000003   \n",
       "4  UniProtKB  A0A024RBG1     NUDT4B   located_in  GO:0005829  GO_REF:0000052   \n",
       "5  UniProtKB  A0A075B6H7    IGKV3-7  involved_in  GO:0002250  GO_REF:0000043   \n",
       "6  UniProtKB  A0A075B6H7    IGKV3-7   located_in  GO:0005886  GO_REF:0000044   \n",
       "7  UniProtKB  A0A075B6H7    IGKV3-7      part_of  GO:0019814  GO_REF:0000043   \n",
       "8  UniProtKB  A0A075B6H8  IGKV1D-42  involved_in  GO:0002250  GO_REF:0000043   \n",
       "9  UniProtKB  A0A075B6H8  IGKV1D-42   located_in  GO:0005886  GO_REF:0000044   \n",
       "\n",
       "    6                          7  8   \\\n",
       "0  IEA       UniProtKB-KW:KW-0694  F   \n",
       "1  IEA       UniProtKB-KW:KW-0479  F   \n",
       "2  IEA                EC:3.6.1.52  F   \n",
       "3  IEA                EC:3.6.1.52  F   \n",
       "4  IDA                             C   \n",
       "5  IEA       UniProtKB-KW:KW-1064  P   \n",
       "6  IEA  UniProtKB-SubCell:SL-0039  C   \n",
       "7  IEA       UniProtKB-KW:KW-1280  C   \n",
       "8  IEA       UniProtKB-KW:KW-1064  P   \n",
       "9  IEA  UniProtKB-SubCell:SL-0039  C   \n",
       "\n",
       "                                                  9          10       11  \\\n",
       "0  Diphosphoinositol polyphosphate phosphohydrola...     NUDT4B  protein   \n",
       "1  Diphosphoinositol polyphosphate phosphohydrola...     NUDT4B  protein   \n",
       "2  Diphosphoinositol polyphosphate phosphohydrola...     NUDT4B  protein   \n",
       "3  Diphosphoinositol polyphosphate phosphohydrola...     NUDT4B  protein   \n",
       "4  Diphosphoinositol polyphosphate phosphohydrola...     NUDT4B  protein   \n",
       "5  Probable non-functional immunoglobulin kappa v...    IGKV3-7  protein   \n",
       "6  Probable non-functional immunoglobulin kappa v...    IGKV3-7  protein   \n",
       "7  Probable non-functional immunoglobulin kappa v...    IGKV3-7  protein   \n",
       "8  Probable non-functional immunoglobulin kappa v...  IGKV1D-42  protein   \n",
       "9  Probable non-functional immunoglobulin kappa v...  IGKV1D-42  protein   \n",
       "\n",
       "           12        13       14 15 16  \n",
       "0  taxon:9606  20210417  UniProt        \n",
       "1  taxon:9606  20210417  UniProt        \n",
       "2  taxon:9606  20210417  UniProt        \n",
       "3  taxon:9606  20210417  UniProt        \n",
       "4  taxon:9606  20161204      HPA        \n",
       "5  taxon:9606  20210417  UniProt        \n",
       "6  taxon:9606  20210417  UniProt        \n",
       "7  taxon:9606  20210417  UniProt        \n",
       "8  taxon:9606  20210417  UniProt        \n",
       "9  taxon:9606  20210417  UniProt        "
      ]
     },
     "execution_count": 5,
     "metadata": {},
     "output_type": "execute_result"
    }
   ],
   "source": [
    "df_clean.head(10)"
   ]
  },
  {
   "cell_type": "code",
   "execution_count": 6,
   "metadata": {},
   "outputs": [],
   "source": [
    "columns = [\"DB\", \"DB gene ID\", \"Gene symbol\", \"Qualifier\", \"GO ID\", \"Reference\", \"Evidence code\", \"Evidence from\", \"GO class\", \"attribute\", \"Locus tag\", \"gene/protein\", \"tax id\", \"date\", \"Assigned by\", \"additional information\", \"empty\"]"
   ]
  },
  {
   "cell_type": "code",
   "execution_count": 7,
   "metadata": {},
   "outputs": [],
   "source": [
    "df_clean.columns = columns"
   ]
  },
  {
   "cell_type": "code",
   "execution_count": 8,
   "metadata": {},
   "outputs": [
    {
     "data": {
      "text/html": [
       "<div>\n",
       "<style scoped>\n",
       "    .dataframe tbody tr th:only-of-type {\n",
       "        vertical-align: middle;\n",
       "    }\n",
       "\n",
       "    .dataframe tbody tr th {\n",
       "        vertical-align: top;\n",
       "    }\n",
       "\n",
       "    .dataframe thead th {\n",
       "        text-align: right;\n",
       "    }\n",
       "</style>\n",
       "<table border=\"1\" class=\"dataframe\">\n",
       "  <thead>\n",
       "    <tr style=\"text-align: right;\">\n",
       "      <th></th>\n",
       "      <th>DB</th>\n",
       "      <th>DB gene ID</th>\n",
       "      <th>Gene symbol</th>\n",
       "      <th>Qualifier</th>\n",
       "      <th>GO ID</th>\n",
       "      <th>Reference</th>\n",
       "      <th>Evidence code</th>\n",
       "      <th>Evidence from</th>\n",
       "      <th>GO class</th>\n",
       "      <th>attribute</th>\n",
       "      <th>Locus tag</th>\n",
       "      <th>gene/protein</th>\n",
       "      <th>tax id</th>\n",
       "      <th>date</th>\n",
       "      <th>Assigned by</th>\n",
       "      <th>additional information</th>\n",
       "      <th>empty</th>\n",
       "    </tr>\n",
       "  </thead>\n",
       "  <tbody>\n",
       "    <tr>\n",
       "      <th>0</th>\n",
       "      <td>UniProtKB</td>\n",
       "      <td>A0A024RBG1</td>\n",
       "      <td>NUDT4B</td>\n",
       "      <td>enables</td>\n",
       "      <td>GO:0003723</td>\n",
       "      <td>GO_REF:0000043</td>\n",
       "      <td>IEA</td>\n",
       "      <td>UniProtKB-KW:KW-0694</td>\n",
       "      <td>F</td>\n",
       "      <td>Diphosphoinositol polyphosphate phosphohydrola...</td>\n",
       "      <td>NUDT4B</td>\n",
       "      <td>protein</td>\n",
       "      <td>taxon:9606</td>\n",
       "      <td>20210417</td>\n",
       "      <td>UniProt</td>\n",
       "      <td></td>\n",
       "      <td></td>\n",
       "    </tr>\n",
       "    <tr>\n",
       "      <th>1</th>\n",
       "      <td>UniProtKB</td>\n",
       "      <td>A0A024RBG1</td>\n",
       "      <td>NUDT4B</td>\n",
       "      <td>enables</td>\n",
       "      <td>GO:0046872</td>\n",
       "      <td>GO_REF:0000043</td>\n",
       "      <td>IEA</td>\n",
       "      <td>UniProtKB-KW:KW-0479</td>\n",
       "      <td>F</td>\n",
       "      <td>Diphosphoinositol polyphosphate phosphohydrola...</td>\n",
       "      <td>NUDT4B</td>\n",
       "      <td>protein</td>\n",
       "      <td>taxon:9606</td>\n",
       "      <td>20210417</td>\n",
       "      <td>UniProt</td>\n",
       "      <td></td>\n",
       "      <td></td>\n",
       "    </tr>\n",
       "    <tr>\n",
       "      <th>2</th>\n",
       "      <td>UniProtKB</td>\n",
       "      <td>A0A024RBG1</td>\n",
       "      <td>NUDT4B</td>\n",
       "      <td>enables</td>\n",
       "      <td>GO:0052840</td>\n",
       "      <td>GO_REF:0000003</td>\n",
       "      <td>IEA</td>\n",
       "      <td>EC:3.6.1.52</td>\n",
       "      <td>F</td>\n",
       "      <td>Diphosphoinositol polyphosphate phosphohydrola...</td>\n",
       "      <td>NUDT4B</td>\n",
       "      <td>protein</td>\n",
       "      <td>taxon:9606</td>\n",
       "      <td>20210417</td>\n",
       "      <td>UniProt</td>\n",
       "      <td></td>\n",
       "      <td></td>\n",
       "    </tr>\n",
       "    <tr>\n",
       "      <th>3</th>\n",
       "      <td>UniProtKB</td>\n",
       "      <td>A0A024RBG1</td>\n",
       "      <td>NUDT4B</td>\n",
       "      <td>enables</td>\n",
       "      <td>GO:0052842</td>\n",
       "      <td>GO_REF:0000003</td>\n",
       "      <td>IEA</td>\n",
       "      <td>EC:3.6.1.52</td>\n",
       "      <td>F</td>\n",
       "      <td>Diphosphoinositol polyphosphate phosphohydrola...</td>\n",
       "      <td>NUDT4B</td>\n",
       "      <td>protein</td>\n",
       "      <td>taxon:9606</td>\n",
       "      <td>20210417</td>\n",
       "      <td>UniProt</td>\n",
       "      <td></td>\n",
       "      <td></td>\n",
       "    </tr>\n",
       "    <tr>\n",
       "      <th>4</th>\n",
       "      <td>UniProtKB</td>\n",
       "      <td>A0A024RBG1</td>\n",
       "      <td>NUDT4B</td>\n",
       "      <td>located_in</td>\n",
       "      <td>GO:0005829</td>\n",
       "      <td>GO_REF:0000052</td>\n",
       "      <td>IDA</td>\n",
       "      <td></td>\n",
       "      <td>C</td>\n",
       "      <td>Diphosphoinositol polyphosphate phosphohydrola...</td>\n",
       "      <td>NUDT4B</td>\n",
       "      <td>protein</td>\n",
       "      <td>taxon:9606</td>\n",
       "      <td>20161204</td>\n",
       "      <td>HPA</td>\n",
       "      <td></td>\n",
       "      <td></td>\n",
       "    </tr>\n",
       "  </tbody>\n",
       "</table>\n",
       "</div>"
      ],
      "text/plain": [
       "          DB  DB gene ID Gene symbol   Qualifier       GO ID       Reference  \\\n",
       "0  UniProtKB  A0A024RBG1      NUDT4B     enables  GO:0003723  GO_REF:0000043   \n",
       "1  UniProtKB  A0A024RBG1      NUDT4B     enables  GO:0046872  GO_REF:0000043   \n",
       "2  UniProtKB  A0A024RBG1      NUDT4B     enables  GO:0052840  GO_REF:0000003   \n",
       "3  UniProtKB  A0A024RBG1      NUDT4B     enables  GO:0052842  GO_REF:0000003   \n",
       "4  UniProtKB  A0A024RBG1      NUDT4B  located_in  GO:0005829  GO_REF:0000052   \n",
       "\n",
       "  Evidence code         Evidence from GO class  \\\n",
       "0           IEA  UniProtKB-KW:KW-0694        F   \n",
       "1           IEA  UniProtKB-KW:KW-0479        F   \n",
       "2           IEA           EC:3.6.1.52        F   \n",
       "3           IEA           EC:3.6.1.52        F   \n",
       "4           IDA                              C   \n",
       "\n",
       "                                           attribute Locus tag gene/protein  \\\n",
       "0  Diphosphoinositol polyphosphate phosphohydrola...    NUDT4B      protein   \n",
       "1  Diphosphoinositol polyphosphate phosphohydrola...    NUDT4B      protein   \n",
       "2  Diphosphoinositol polyphosphate phosphohydrola...    NUDT4B      protein   \n",
       "3  Diphosphoinositol polyphosphate phosphohydrola...    NUDT4B      protein   \n",
       "4  Diphosphoinositol polyphosphate phosphohydrola...    NUDT4B      protein   \n",
       "\n",
       "       tax id      date Assigned by additional information empty  \n",
       "0  taxon:9606  20210417     UniProt                               \n",
       "1  taxon:9606  20210417     UniProt                               \n",
       "2  taxon:9606  20210417     UniProt                               \n",
       "3  taxon:9606  20210417     UniProt                               \n",
       "4  taxon:9606  20161204         HPA                               "
      ]
     },
     "execution_count": 8,
     "metadata": {},
     "output_type": "execute_result"
    }
   ],
   "source": [
    "df_clean.head()"
   ]
  },
  {
   "cell_type": "code",
   "execution_count": 9,
   "metadata": {},
   "outputs": [],
   "source": [
    "df_component = df_clean[df_clean[\"GO class\"] == 'C'].copy()"
   ]
  },
  {
   "cell_type": "code",
   "execution_count": 10,
   "metadata": {},
   "outputs": [
    {
     "data": {
      "text/plain": [
       "(171166, 17)"
      ]
     },
     "execution_count": 10,
     "metadata": {},
     "output_type": "execute_result"
    }
   ],
   "source": [
    "df_component.shape"
   ]
  },
  {
   "cell_type": "code",
   "execution_count": 11,
   "metadata": {},
   "outputs": [],
   "source": [
    "# remove any annotation assigned by electronic matching and with the NOT qualifier which is used to specify a gene is not associated with a term\n",
    "df_component = df_component[df_component[\"Evidence code\"] != 'IEA']\n",
    "df_component = df_component[df_component[\"Qualifier\"] != 'NOT']"
   ]
  },
  {
   "cell_type": "code",
   "execution_count": 12,
   "metadata": {},
   "outputs": [],
   "source": [
    "df_component = df_component[['Gene symbol', 'GO ID']]\n",
    "df_component.reset_index(inplace=True)\n",
    "df_component = df_component.drop(columns = 'index')"
   ]
  },
  {
   "cell_type": "code",
   "execution_count": 13,
   "metadata": {},
   "outputs": [
    {
     "data": {
      "text/plain": [
       "(153396, 2)"
      ]
     },
     "execution_count": 13,
     "metadata": {},
     "output_type": "execute_result"
    }
   ],
   "source": [
    "df_component.shape"
   ]
  },
  {
   "cell_type": "markdown",
   "metadata": {},
   "source": [
    "## load GO digraph"
   ]
  },
  {
   "cell_type": "code",
   "execution_count": 14,
   "metadata": {},
   "outputs": [],
   "source": [
    "digraph = goenrich.obo.ontology('go-basic.obo')"
   ]
  },
  {
   "cell_type": "markdown",
   "metadata": {},
   "source": [
    "## only keep GO IDs with depth =>4, replace others with NaN and then remove those rows"
   ]
  },
  {
   "cell_type": "code",
   "execution_count": 15,
   "metadata": {},
   "outputs": [],
   "source": [
    "lst = []"
   ]
  },
  {
   "cell_type": "code",
   "execution_count": 16,
   "metadata": {},
   "outputs": [
    {
     "name": "stdout",
     "output_type": "stream",
     "text": [
      "Progress: 100%  153396 Out of 153396   \r"
     ]
    }
   ],
   "source": [
    "## code copied from Gene Ontology (GO) Biological component by Moshe Silverstein \n",
    "for i, index in enumerate(df_component.index):\n",
    "    \n",
    "    progressPercent = ((i+1)/len(df_component.index))*100\n",
    "\n",
    "    sys.stdout.write(\"Progress: %d%%  %d Out of %d   \\r\" % (progressPercent, (i+1), len(df_component.index)))\n",
    "    sys.stdout.flush()\n",
    "    try:\n",
    "        term = df_component.loc[index, 'GO ID']\n",
    "        if term in digraph.nodes:\n",
    "            if digraph.nodes[term]['depth'] >= 4:\n",
    "                lst.append(term)\n",
    "            else:\n",
    "                lst.append(np.nan)\n",
    "        else:\n",
    "            lst.append(np.nan)\n",
    "    except:\n",
    "        break"
   ]
  },
  {
   "cell_type": "code",
   "execution_count": 17,
   "metadata": {},
   "outputs": [],
   "source": [
    "df_component['GO ID'] = lst"
   ]
  },
  {
   "cell_type": "code",
   "execution_count": 18,
   "metadata": {},
   "outputs": [
    {
     "data": {
      "text/plain": [
       "(153396, 2)"
      ]
     },
     "execution_count": 18,
     "metadata": {},
     "output_type": "execute_result"
    }
   ],
   "source": [
    "df_component.shape"
   ]
  },
  {
   "cell_type": "code",
   "execution_count": 19,
   "metadata": {},
   "outputs": [],
   "source": [
    "df_component.dropna(inplace=True)"
   ]
  },
  {
   "cell_type": "code",
   "execution_count": 20,
   "metadata": {},
   "outputs": [
    {
     "data": {
      "text/plain": [
       "(38229, 2)"
      ]
     },
     "execution_count": 20,
     "metadata": {},
     "output_type": "execute_result"
    }
   ],
   "source": [
    "df_component.shape"
   ]
  },
  {
   "cell_type": "code",
   "execution_count": 21,
   "metadata": {},
   "outputs": [
    {
     "data": {
      "text/html": [
       "<div>\n",
       "<style scoped>\n",
       "    .dataframe tbody tr th:only-of-type {\n",
       "        vertical-align: middle;\n",
       "    }\n",
       "\n",
       "    .dataframe tbody tr th {\n",
       "        vertical-align: top;\n",
       "    }\n",
       "\n",
       "    .dataframe thead th {\n",
       "        text-align: right;\n",
       "    }\n",
       "</style>\n",
       "<table border=\"1\" class=\"dataframe\">\n",
       "  <thead>\n",
       "    <tr style=\"text-align: right;\">\n",
       "      <th></th>\n",
       "      <th>Gene symbol</th>\n",
       "      <th>GO ID</th>\n",
       "    </tr>\n",
       "  </thead>\n",
       "  <tbody>\n",
       "    <tr>\n",
       "      <th>1</th>\n",
       "      <td>TRBV19</td>\n",
       "      <td>GO:0042105</td>\n",
       "    </tr>\n",
       "    <tr>\n",
       "      <th>122</th>\n",
       "      <td>TRAV27</td>\n",
       "      <td>GO:0042105</td>\n",
       "    </tr>\n",
       "    <tr>\n",
       "      <th>124</th>\n",
       "      <td>MEIKIN</td>\n",
       "      <td>GO:0000779</td>\n",
       "    </tr>\n",
       "    <tr>\n",
       "      <th>144</th>\n",
       "      <td>TRAV19</td>\n",
       "      <td>GO:0005887</td>\n",
       "    </tr>\n",
       "    <tr>\n",
       "      <th>146</th>\n",
       "      <td>PIGBOS1</td>\n",
       "      <td>GO:0031307</td>\n",
       "    </tr>\n",
       "  </tbody>\n",
       "</table>\n",
       "</div>"
      ],
      "text/plain": [
       "    Gene symbol       GO ID\n",
       "1        TRBV19  GO:0042105\n",
       "122      TRAV27  GO:0042105\n",
       "124      MEIKIN  GO:0000779\n",
       "144      TRAV19  GO:0005887\n",
       "146     PIGBOS1  GO:0031307"
      ]
     },
     "execution_count": 21,
     "metadata": {},
     "output_type": "execute_result"
    }
   ],
   "source": [
    "df_component.head()"
   ]
  },
  {
   "cell_type": "markdown",
   "metadata": {},
   "source": [
    "## term propagation-propergate child gene term relationships to parent terms"
   ]
  },
  {
   "cell_type": "code",
   "execution_count": 22,
   "metadata": {},
   "outputs": [],
   "source": [
    "## code copied from Gene Ontology (GO) Biological component by Moshe Silverstein \n",
    "lst1 = []\n",
    "lst2 = []\n",
    "\n",
    "for i,index in enumerate(df_component.index):\n",
    "    \n",
    "#     progressPercent = ((i+1)/len(df.index))*100\n",
    "\n",
    "#     sys.stdout.write(\"Progress: %d%%  %d Out of %d   \\r\" % (progressPercent, (i+1), len(df.index)))\n",
    "#     sys.stdout.flush()\n",
    "    \n",
    "#     term = df.loc[index, 'GO ID']\n",
    "#     for parent in digraph.predecessors(term):\n",
    "#         if parent in digraph.node:\n",
    "#             if digraph.node[parent]['depth'] >= 4:\n",
    "#                 lst1.append(df.loc[index, 'DB Object Symbol'])\n",
    "#                 lst2.append(parent)\n",
    "#                 print(term, parent)\n",
    "    term = df_component.loc[index, 'GO ID']\n",
    "    for parent in digraph.successors(term):\n",
    "        if parent in digraph.nodes:\n",
    "            if digraph.nodes[parent]['depth'] >= 4:\n",
    "                lst1.append(df_component.loc[index, 'Gene symbol'])\n",
    "                lst2.append(parent)\n",
    "#                 print(term, parent)\n",
    "\n",
    "\n",
    "temp = pd.DataFrame()\n",
    "temp['Gene symbol'] = lst1\n",
    "temp['GO ID']  = lst2\n",
    "df_component = pd.concat([df_component, temp])\n",
    "df_component.reset_index(inplace=True)\n",
    "df_component = df_component.drop(columns = 'index')"
   ]
  },
  {
   "cell_type": "code",
   "execution_count": 23,
   "metadata": {},
   "outputs": [
    {
     "data": {
      "text/plain": [
       "(76064, 2)"
      ]
     },
     "execution_count": 23,
     "metadata": {},
     "output_type": "execute_result"
    }
   ],
   "source": [
    "df_component.shape"
   ]
  },
  {
   "cell_type": "code",
   "execution_count": 24,
   "metadata": {},
   "outputs": [
    {
     "data": {
      "text/html": [
       "<div>\n",
       "<style scoped>\n",
       "    .dataframe tbody tr th:only-of-type {\n",
       "        vertical-align: middle;\n",
       "    }\n",
       "\n",
       "    .dataframe tbody tr th {\n",
       "        vertical-align: top;\n",
       "    }\n",
       "\n",
       "    .dataframe thead th {\n",
       "        text-align: right;\n",
       "    }\n",
       "</style>\n",
       "<table border=\"1\" class=\"dataframe\">\n",
       "  <thead>\n",
       "    <tr style=\"text-align: right;\">\n",
       "      <th></th>\n",
       "      <th>Gene symbol</th>\n",
       "      <th>GO ID</th>\n",
       "    </tr>\n",
       "  </thead>\n",
       "  <tbody>\n",
       "    <tr>\n",
       "      <th>0</th>\n",
       "      <td>TRBV19</td>\n",
       "      <td>GO:0042105</td>\n",
       "    </tr>\n",
       "    <tr>\n",
       "      <th>1</th>\n",
       "      <td>TRAV27</td>\n",
       "      <td>GO:0042105</td>\n",
       "    </tr>\n",
       "    <tr>\n",
       "      <th>2</th>\n",
       "      <td>MEIKIN</td>\n",
       "      <td>GO:0000779</td>\n",
       "    </tr>\n",
       "    <tr>\n",
       "      <th>3</th>\n",
       "      <td>TRAV19</td>\n",
       "      <td>GO:0005887</td>\n",
       "    </tr>\n",
       "    <tr>\n",
       "      <th>4</th>\n",
       "      <td>PIGBOS1</td>\n",
       "      <td>GO:0031307</td>\n",
       "    </tr>\n",
       "  </tbody>\n",
       "</table>\n",
       "</div>"
      ],
      "text/plain": [
       "  Gene symbol       GO ID\n",
       "0      TRBV19  GO:0042105\n",
       "1      TRAV27  GO:0042105\n",
       "2      MEIKIN  GO:0000779\n",
       "3      TRAV19  GO:0005887\n",
       "4     PIGBOS1  GO:0031307"
      ]
     },
     "execution_count": 24,
     "metadata": {},
     "output_type": "execute_result"
    }
   ],
   "source": [
    "df_component.head()"
   ]
  },
  {
   "cell_type": "markdown",
   "metadata": {},
   "source": [
    "## map GO ID to descriptive name"
   ]
  },
  {
   "cell_type": "code",
   "execution_count": 25,
   "metadata": {},
   "outputs": [],
   "source": [
    "lst = []"
   ]
  },
  {
   "cell_type": "code",
   "execution_count": null,
   "metadata": {},
   "outputs": [
    {
     "name": "stdout",
     "output_type": "stream",
     "text": [
      "Progress: 99%  76034 Out of 76064   \r"
     ]
    }
   ],
   "source": [
    "## code copied from Gene Ontology (GO) Biological component by Moshe Silverstein \n",
    "for i,index in enumerate(df_component.index):\n",
    "    \n",
    "    progressPercent = ((i+1)/len(df_component.index))*100\n",
    "\n",
    "    sys.stdout.write(\"Progress: %d%%  %d Out of %d   \\r\" % (progressPercent, (i+1), len(df_component.index)))\n",
    "    sys.stdout.flush()\n",
    "    try:\n",
    "        lst.append(str(digraph.nodes[df_component.loc[index, 'GO ID']]['name'])+' '+ '('+str(df_component.loc[index, 'GO ID'])+')')\n",
    "    except:\n",
    "        break"
   ]
  },
  {
   "cell_type": "code",
   "execution_count": 27,
   "metadata": {},
   "outputs": [],
   "source": [
    "df_component['GO ID'] = lst"
   ]
  },
  {
   "cell_type": "code",
   "execution_count": 28,
   "metadata": {},
   "outputs": [
    {
     "data": {
      "text/html": [
       "<div>\n",
       "<style scoped>\n",
       "    .dataframe tbody tr th:only-of-type {\n",
       "        vertical-align: middle;\n",
       "    }\n",
       "\n",
       "    .dataframe tbody tr th {\n",
       "        vertical-align: top;\n",
       "    }\n",
       "\n",
       "    .dataframe thead th {\n",
       "        text-align: right;\n",
       "    }\n",
       "</style>\n",
       "<table border=\"1\" class=\"dataframe\">\n",
       "  <thead>\n",
       "    <tr style=\"text-align: right;\">\n",
       "      <th></th>\n",
       "      <th>Gene symbol</th>\n",
       "      <th>GO ID</th>\n",
       "    </tr>\n",
       "  </thead>\n",
       "  <tbody>\n",
       "    <tr>\n",
       "      <th>0</th>\n",
       "      <td>TRBV19</td>\n",
       "      <td>alpha-beta T cell receptor complex (GO:0042105)</td>\n",
       "    </tr>\n",
       "    <tr>\n",
       "      <th>1</th>\n",
       "      <td>TRAV27</td>\n",
       "      <td>alpha-beta T cell receptor complex (GO:0042105)</td>\n",
       "    </tr>\n",
       "    <tr>\n",
       "      <th>2</th>\n",
       "      <td>MEIKIN</td>\n",
       "      <td>condensed chromosome, centromeric region (GO:0...</td>\n",
       "    </tr>\n",
       "    <tr>\n",
       "      <th>3</th>\n",
       "      <td>TRAV19</td>\n",
       "      <td>integral component of plasma membrane (GO:0005...</td>\n",
       "    </tr>\n",
       "    <tr>\n",
       "      <th>4</th>\n",
       "      <td>PIGBOS1</td>\n",
       "      <td>integral component of mitochondrial outer memb...</td>\n",
       "    </tr>\n",
       "  </tbody>\n",
       "</table>\n",
       "</div>"
      ],
      "text/plain": [
       "  Gene symbol                                              GO ID\n",
       "0      TRBV19    alpha-beta T cell receptor complex (GO:0042105)\n",
       "1      TRAV27    alpha-beta T cell receptor complex (GO:0042105)\n",
       "2      MEIKIN  condensed chromosome, centromeric region (GO:0...\n",
       "3      TRAV19  integral component of plasma membrane (GO:0005...\n",
       "4     PIGBOS1  integral component of mitochondrial outer memb..."
      ]
     },
     "execution_count": 28,
     "metadata": {},
     "output_type": "execute_result"
    }
   ],
   "source": [
    "df_component.head()"
   ]
  },
  {
   "cell_type": "code",
   "execution_count": 29,
   "metadata": {},
   "outputs": [],
   "source": [
    "df_component.drop_duplicates(inplace=True)"
   ]
  },
  {
   "cell_type": "code",
   "execution_count": 30,
   "metadata": {},
   "outputs": [
    {
     "data": {
      "text/html": [
       "<div>\n",
       "<style scoped>\n",
       "    .dataframe tbody tr th:only-of-type {\n",
       "        vertical-align: middle;\n",
       "    }\n",
       "\n",
       "    .dataframe tbody tr th {\n",
       "        vertical-align: top;\n",
       "    }\n",
       "\n",
       "    .dataframe thead th {\n",
       "        text-align: right;\n",
       "    }\n",
       "</style>\n",
       "<table border=\"1\" class=\"dataframe\">\n",
       "  <thead>\n",
       "    <tr style=\"text-align: right;\">\n",
       "      <th></th>\n",
       "      <th>Gene symbol</th>\n",
       "      <th>GO ID</th>\n",
       "    </tr>\n",
       "  </thead>\n",
       "  <tbody>\n",
       "    <tr>\n",
       "      <th>0</th>\n",
       "      <td>TRBV19</td>\n",
       "      <td>alpha-beta T cell receptor complex (GO:0042105)</td>\n",
       "    </tr>\n",
       "    <tr>\n",
       "      <th>1</th>\n",
       "      <td>TRAV27</td>\n",
       "      <td>alpha-beta T cell receptor complex (GO:0042105)</td>\n",
       "    </tr>\n",
       "    <tr>\n",
       "      <th>2</th>\n",
       "      <td>MEIKIN</td>\n",
       "      <td>condensed chromosome, centromeric region (GO:0...</td>\n",
       "    </tr>\n",
       "    <tr>\n",
       "      <th>3</th>\n",
       "      <td>TRAV19</td>\n",
       "      <td>integral component of plasma membrane (GO:0005...</td>\n",
       "    </tr>\n",
       "    <tr>\n",
       "      <th>4</th>\n",
       "      <td>PIGBOS1</td>\n",
       "      <td>integral component of mitochondrial outer memb...</td>\n",
       "    </tr>\n",
       "  </tbody>\n",
       "</table>\n",
       "</div>"
      ],
      "text/plain": [
       "  Gene symbol                                              GO ID\n",
       "0      TRBV19    alpha-beta T cell receptor complex (GO:0042105)\n",
       "1      TRAV27    alpha-beta T cell receptor complex (GO:0042105)\n",
       "2      MEIKIN  condensed chromosome, centromeric region (GO:0...\n",
       "3      TRAV19  integral component of plasma membrane (GO:0005...\n",
       "4     PIGBOS1  integral component of mitochondrial outer memb..."
      ]
     },
     "execution_count": 30,
     "metadata": {},
     "output_type": "execute_result"
    }
   ],
   "source": [
    "df_component.head()"
   ]
  },
  {
   "cell_type": "code",
   "execution_count": 31,
   "metadata": {},
   "outputs": [],
   "source": [
    "df_component.reset_index(inplace=True)"
   ]
  },
  {
   "cell_type": "code",
   "execution_count": 32,
   "metadata": {},
   "outputs": [
    {
     "data": {
      "text/html": [
       "<div>\n",
       "<style scoped>\n",
       "    .dataframe tbody tr th:only-of-type {\n",
       "        vertical-align: middle;\n",
       "    }\n",
       "\n",
       "    .dataframe tbody tr th {\n",
       "        vertical-align: top;\n",
       "    }\n",
       "\n",
       "    .dataframe thead th {\n",
       "        text-align: right;\n",
       "    }\n",
       "</style>\n",
       "<table border=\"1\" class=\"dataframe\">\n",
       "  <thead>\n",
       "    <tr style=\"text-align: right;\">\n",
       "      <th></th>\n",
       "      <th>index</th>\n",
       "      <th>Gene symbol</th>\n",
       "      <th>GO ID</th>\n",
       "    </tr>\n",
       "  </thead>\n",
       "  <tbody>\n",
       "    <tr>\n",
       "      <th>0</th>\n",
       "      <td>0</td>\n",
       "      <td>TRBV19</td>\n",
       "      <td>alpha-beta T cell receptor complex (GO:0042105)</td>\n",
       "    </tr>\n",
       "    <tr>\n",
       "      <th>1</th>\n",
       "      <td>1</td>\n",
       "      <td>TRAV27</td>\n",
       "      <td>alpha-beta T cell receptor complex (GO:0042105)</td>\n",
       "    </tr>\n",
       "    <tr>\n",
       "      <th>2</th>\n",
       "      <td>2</td>\n",
       "      <td>MEIKIN</td>\n",
       "      <td>condensed chromosome, centromeric region (GO:0...</td>\n",
       "    </tr>\n",
       "    <tr>\n",
       "      <th>3</th>\n",
       "      <td>3</td>\n",
       "      <td>TRAV19</td>\n",
       "      <td>integral component of plasma membrane (GO:0005...</td>\n",
       "    </tr>\n",
       "    <tr>\n",
       "      <th>4</th>\n",
       "      <td>4</td>\n",
       "      <td>PIGBOS1</td>\n",
       "      <td>integral component of mitochondrial outer memb...</td>\n",
       "    </tr>\n",
       "  </tbody>\n",
       "</table>\n",
       "</div>"
      ],
      "text/plain": [
       "   index Gene symbol                                              GO ID\n",
       "0      0      TRBV19    alpha-beta T cell receptor complex (GO:0042105)\n",
       "1      1      TRAV27    alpha-beta T cell receptor complex (GO:0042105)\n",
       "2      2      MEIKIN  condensed chromosome, centromeric region (GO:0...\n",
       "3      3      TRAV19  integral component of plasma membrane (GO:0005...\n",
       "4      4     PIGBOS1  integral component of mitochondrial outer memb..."
      ]
     },
     "execution_count": 32,
     "metadata": {},
     "output_type": "execute_result"
    }
   ],
   "source": [
    "df_component.head()"
   ]
  },
  {
   "cell_type": "code",
   "execution_count": 33,
   "metadata": {},
   "outputs": [],
   "source": [
    "df_component = df_component.drop(columns = 'index')"
   ]
  },
  {
   "cell_type": "code",
   "execution_count": 34,
   "metadata": {},
   "outputs": [
    {
     "data": {
      "text/html": [
       "<div>\n",
       "<style scoped>\n",
       "    .dataframe tbody tr th:only-of-type {\n",
       "        vertical-align: middle;\n",
       "    }\n",
       "\n",
       "    .dataframe tbody tr th {\n",
       "        vertical-align: top;\n",
       "    }\n",
       "\n",
       "    .dataframe thead th {\n",
       "        text-align: right;\n",
       "    }\n",
       "</style>\n",
       "<table border=\"1\" class=\"dataframe\">\n",
       "  <thead>\n",
       "    <tr style=\"text-align: right;\">\n",
       "      <th></th>\n",
       "      <th>Gene symbol</th>\n",
       "      <th>GO ID</th>\n",
       "    </tr>\n",
       "  </thead>\n",
       "  <tbody>\n",
       "    <tr>\n",
       "      <th>0</th>\n",
       "      <td>TRBV19</td>\n",
       "      <td>alpha-beta T cell receptor complex (GO:0042105)</td>\n",
       "    </tr>\n",
       "    <tr>\n",
       "      <th>1</th>\n",
       "      <td>TRAV27</td>\n",
       "      <td>alpha-beta T cell receptor complex (GO:0042105)</td>\n",
       "    </tr>\n",
       "    <tr>\n",
       "      <th>2</th>\n",
       "      <td>MEIKIN</td>\n",
       "      <td>condensed chromosome, centromeric region (GO:0...</td>\n",
       "    </tr>\n",
       "    <tr>\n",
       "      <th>3</th>\n",
       "      <td>TRAV19</td>\n",
       "      <td>integral component of plasma membrane (GO:0005...</td>\n",
       "    </tr>\n",
       "    <tr>\n",
       "      <th>4</th>\n",
       "      <td>PIGBOS1</td>\n",
       "      <td>integral component of mitochondrial outer memb...</td>\n",
       "    </tr>\n",
       "  </tbody>\n",
       "</table>\n",
       "</div>"
      ],
      "text/plain": [
       "  Gene symbol                                              GO ID\n",
       "0      TRBV19    alpha-beta T cell receptor complex (GO:0042105)\n",
       "1      TRAV27    alpha-beta T cell receptor complex (GO:0042105)\n",
       "2      MEIKIN  condensed chromosome, centromeric region (GO:0...\n",
       "3      TRAV19  integral component of plasma membrane (GO:0005...\n",
       "4     PIGBOS1  integral component of mitochondrial outer memb..."
      ]
     },
     "execution_count": 34,
     "metadata": {},
     "output_type": "execute_result"
    }
   ],
   "source": [
    "df_component.head()"
   ]
  },
  {
   "cell_type": "code",
   "execution_count": 35,
   "metadata": {},
   "outputs": [
    {
     "data": {
      "text/plain": [
       "(42630, 2)"
      ]
     },
     "execution_count": 35,
     "metadata": {},
     "output_type": "execute_result"
    }
   ],
   "source": [
    "df_component.shape"
   ]
  },
  {
   "cell_type": "code",
   "execution_count": 36,
   "metadata": {},
   "outputs": [
    {
     "data": {
      "text/plain": [
       "926"
      ]
     },
     "execution_count": 36,
     "metadata": {},
     "output_type": "execute_result"
    }
   ],
   "source": [
    "number_terms = len(df_component.iloc[:, 1].unique())\n",
    "number_terms"
   ]
  },
  {
   "cell_type": "markdown",
   "metadata": {},
   "source": [
    "## build the protein-coding gene list"
   ]
  },
  {
   "cell_type": "code",
   "execution_count": 37,
   "metadata": {},
   "outputs": [],
   "source": [
    "dMelanogaster_geneInfo = pd.read_csv(\"Homo_sapiens.gene_info\", sep=\"\\t\")"
   ]
  },
  {
   "cell_type": "code",
   "execution_count": 38,
   "metadata": {},
   "outputs": [
    {
     "data": {
      "text/html": [
       "<div>\n",
       "<style scoped>\n",
       "    .dataframe tbody tr th:only-of-type {\n",
       "        vertical-align: middle;\n",
       "    }\n",
       "\n",
       "    .dataframe tbody tr th {\n",
       "        vertical-align: top;\n",
       "    }\n",
       "\n",
       "    .dataframe thead th {\n",
       "        text-align: right;\n",
       "    }\n",
       "</style>\n",
       "<table border=\"1\" class=\"dataframe\">\n",
       "  <thead>\n",
       "    <tr style=\"text-align: right;\">\n",
       "      <th></th>\n",
       "      <th>#tax_id</th>\n",
       "      <th>GeneID</th>\n",
       "      <th>Symbol</th>\n",
       "      <th>LocusTag</th>\n",
       "      <th>Synonyms</th>\n",
       "      <th>dbXrefs</th>\n",
       "      <th>chromosome</th>\n",
       "      <th>map_location</th>\n",
       "      <th>description</th>\n",
       "      <th>type_of_gene</th>\n",
       "      <th>Symbol_from_nomenclature_authority</th>\n",
       "      <th>Full_name_from_nomenclature_authority</th>\n",
       "      <th>Nomenclature_status</th>\n",
       "      <th>Other_designations</th>\n",
       "      <th>Modification_date</th>\n",
       "      <th>Feature_type</th>\n",
       "    </tr>\n",
       "  </thead>\n",
       "  <tbody>\n",
       "    <tr>\n",
       "      <th>0</th>\n",
       "      <td>9606</td>\n",
       "      <td>1</td>\n",
       "      <td>A1BG</td>\n",
       "      <td>-</td>\n",
       "      <td>A1B|ABG|GAB|HYST2477</td>\n",
       "      <td>MIM:138670|HGNC:HGNC:5|Ensembl:ENSG00000121410</td>\n",
       "      <td>19</td>\n",
       "      <td>19q13.43</td>\n",
       "      <td>alpha-1-B glycoprotein</td>\n",
       "      <td>protein-coding</td>\n",
       "      <td>A1BG</td>\n",
       "      <td>alpha-1-B glycoprotein</td>\n",
       "      <td>O</td>\n",
       "      <td>alpha-1B-glycoprotein|HEL-S-163pA|epididymis s...</td>\n",
       "      <td>20210518</td>\n",
       "      <td>-</td>\n",
       "    </tr>\n",
       "    <tr>\n",
       "      <th>1</th>\n",
       "      <td>9606</td>\n",
       "      <td>2</td>\n",
       "      <td>A2M</td>\n",
       "      <td>-</td>\n",
       "      <td>A2MD|CPAMD5|FWP007|S863-7</td>\n",
       "      <td>MIM:103950|HGNC:HGNC:7|Ensembl:ENSG00000175899</td>\n",
       "      <td>12</td>\n",
       "      <td>12p13.31</td>\n",
       "      <td>alpha-2-macroglobulin</td>\n",
       "      <td>protein-coding</td>\n",
       "      <td>A2M</td>\n",
       "      <td>alpha-2-macroglobulin</td>\n",
       "      <td>O</td>\n",
       "      <td>alpha-2-macroglobulin|C3 and PZP-like alpha-2-...</td>\n",
       "      <td>20210524</td>\n",
       "      <td>-</td>\n",
       "    </tr>\n",
       "    <tr>\n",
       "      <th>2</th>\n",
       "      <td>9606</td>\n",
       "      <td>3</td>\n",
       "      <td>A2MP1</td>\n",
       "      <td>-</td>\n",
       "      <td>A2MP</td>\n",
       "      <td>HGNC:HGNC:8|Ensembl:ENSG00000256069</td>\n",
       "      <td>12</td>\n",
       "      <td>12p13.31</td>\n",
       "      <td>alpha-2-macroglobulin pseudogene 1</td>\n",
       "      <td>pseudo</td>\n",
       "      <td>A2MP1</td>\n",
       "      <td>alpha-2-macroglobulin pseudogene 1</td>\n",
       "      <td>O</td>\n",
       "      <td>pregnancy-zone protein pseudogene</td>\n",
       "      <td>20210518</td>\n",
       "      <td>-</td>\n",
       "    </tr>\n",
       "    <tr>\n",
       "      <th>3</th>\n",
       "      <td>9606</td>\n",
       "      <td>9</td>\n",
       "      <td>NAT1</td>\n",
       "      <td>-</td>\n",
       "      <td>AAC1|MNAT|NAT-1|NATI</td>\n",
       "      <td>MIM:108345|HGNC:HGNC:7645|Ensembl:ENSG00000171428</td>\n",
       "      <td>8</td>\n",
       "      <td>8p22</td>\n",
       "      <td>N-acetyltransferase 1</td>\n",
       "      <td>protein-coding</td>\n",
       "      <td>NAT1</td>\n",
       "      <td>N-acetyltransferase 1</td>\n",
       "      <td>O</td>\n",
       "      <td>arylamine N-acetyltransferase 1|N-acetyltransf...</td>\n",
       "      <td>20210607</td>\n",
       "      <td>-</td>\n",
       "    </tr>\n",
       "    <tr>\n",
       "      <th>4</th>\n",
       "      <td>9606</td>\n",
       "      <td>10</td>\n",
       "      <td>NAT2</td>\n",
       "      <td>-</td>\n",
       "      <td>AAC2|NAT-2|PNAT</td>\n",
       "      <td>MIM:612182|HGNC:HGNC:7646|Ensembl:ENSG00000156006</td>\n",
       "      <td>8</td>\n",
       "      <td>8p22</td>\n",
       "      <td>N-acetyltransferase 2</td>\n",
       "      <td>protein-coding</td>\n",
       "      <td>NAT2</td>\n",
       "      <td>N-acetyltransferase 2</td>\n",
       "      <td>O</td>\n",
       "      <td>arylamine N-acetyltransferase 2|N-acetyltransf...</td>\n",
       "      <td>20210518</td>\n",
       "      <td>-</td>\n",
       "    </tr>\n",
       "  </tbody>\n",
       "</table>\n",
       "</div>"
      ],
      "text/plain": [
       "   #tax_id  GeneID Symbol LocusTag                   Synonyms  \\\n",
       "0     9606       1   A1BG        -       A1B|ABG|GAB|HYST2477   \n",
       "1     9606       2    A2M        -  A2MD|CPAMD5|FWP007|S863-7   \n",
       "2     9606       3  A2MP1        -                       A2MP   \n",
       "3     9606       9   NAT1        -       AAC1|MNAT|NAT-1|NATI   \n",
       "4     9606      10   NAT2        -            AAC2|NAT-2|PNAT   \n",
       "\n",
       "                                             dbXrefs chromosome map_location  \\\n",
       "0     MIM:138670|HGNC:HGNC:5|Ensembl:ENSG00000121410         19     19q13.43   \n",
       "1     MIM:103950|HGNC:HGNC:7|Ensembl:ENSG00000175899         12     12p13.31   \n",
       "2                HGNC:HGNC:8|Ensembl:ENSG00000256069         12     12p13.31   \n",
       "3  MIM:108345|HGNC:HGNC:7645|Ensembl:ENSG00000171428          8         8p22   \n",
       "4  MIM:612182|HGNC:HGNC:7646|Ensembl:ENSG00000156006          8         8p22   \n",
       "\n",
       "                          description    type_of_gene  \\\n",
       "0              alpha-1-B glycoprotein  protein-coding   \n",
       "1               alpha-2-macroglobulin  protein-coding   \n",
       "2  alpha-2-macroglobulin pseudogene 1          pseudo   \n",
       "3               N-acetyltransferase 1  protein-coding   \n",
       "4               N-acetyltransferase 2  protein-coding   \n",
       "\n",
       "  Symbol_from_nomenclature_authority Full_name_from_nomenclature_authority  \\\n",
       "0                               A1BG                alpha-1-B glycoprotein   \n",
       "1                                A2M                 alpha-2-macroglobulin   \n",
       "2                              A2MP1    alpha-2-macroglobulin pseudogene 1   \n",
       "3                               NAT1                 N-acetyltransferase 1   \n",
       "4                               NAT2                 N-acetyltransferase 2   \n",
       "\n",
       "  Nomenclature_status                                 Other_designations  \\\n",
       "0                   O  alpha-1B-glycoprotein|HEL-S-163pA|epididymis s...   \n",
       "1                   O  alpha-2-macroglobulin|C3 and PZP-like alpha-2-...   \n",
       "2                   O                  pregnancy-zone protein pseudogene   \n",
       "3                   O  arylamine N-acetyltransferase 1|N-acetyltransf...   \n",
       "4                   O  arylamine N-acetyltransferase 2|N-acetyltransf...   \n",
       "\n",
       "   Modification_date Feature_type  \n",
       "0           20210518            -  \n",
       "1           20210524            -  \n",
       "2           20210518            -  \n",
       "3           20210607            -  \n",
       "4           20210518            -  "
      ]
     },
     "execution_count": 38,
     "metadata": {},
     "output_type": "execute_result"
    }
   ],
   "source": [
    "dMelanogaster_geneInfo.head()"
   ]
  },
  {
   "cell_type": "code",
   "execution_count": 39,
   "metadata": {},
   "outputs": [
    {
     "data": {
      "text/plain": [
       "(62728, 16)"
      ]
     },
     "execution_count": 39,
     "metadata": {},
     "output_type": "execute_result"
    }
   ],
   "source": [
    "dMelanogaster_geneInfo.shape"
   ]
  },
  {
   "cell_type": "code",
   "execution_count": 40,
   "metadata": {},
   "outputs": [],
   "source": [
    "dMelanogaster_proteinCoding = dMelanogaster_geneInfo[dMelanogaster_geneInfo[\"type_of_gene\"] == \"protein-coding\"]"
   ]
  },
  {
   "cell_type": "code",
   "execution_count": 41,
   "metadata": {},
   "outputs": [
    {
     "data": {
      "text/plain": [
       "(19688, 16)"
      ]
     },
     "execution_count": 41,
     "metadata": {},
     "output_type": "execute_result"
    }
   ],
   "source": [
    "dMelanogaster_proteinCoding.shape"
   ]
  },
  {
   "cell_type": "markdown",
   "metadata": {},
   "source": [
    "## only keep gene symbolys that are in the S cerevisiae table"
   ]
  },
  {
   "cell_type": "code",
   "execution_count": 42,
   "metadata": {},
   "outputs": [],
   "source": [
    "df_component_protein = df_component.loc[df_component[\"Gene symbol\"].isin(dMelanogaster_proteinCoding[\"Symbol\"].unique())]"
   ]
  },
  {
   "cell_type": "code",
   "execution_count": 43,
   "metadata": {},
   "outputs": [
    {
     "data": {
      "text/plain": [
       "(41947, 2)"
      ]
     },
     "execution_count": 43,
     "metadata": {},
     "output_type": "execute_result"
    }
   ],
   "source": [
    "df_component_protein.shape"
   ]
  },
  {
   "cell_type": "code",
   "execution_count": 45,
   "metadata": {},
   "outputs": [
    {
     "name": "stdout",
     "output_type": "stream",
     "text": [
      "Progress: 3%  32 Out of 926   \r"
     ]
    },
    {
     "name": "stderr",
     "output_type": "stream",
     "text": [
      "<ipython-input-45-03a6ea2da7d4>:15: SettingWithCopyWarning: \n",
      "A value is trying to be set on a copy of a slice from a DataFrame.\n",
      "Try using .loc[row_indexer,col_indexer] = value instead\n",
      "\n",
      "See the caveats in the documentation: https://pandas.pydata.org/pandas-docs/stable/user_guide/indexing.html#returning-a-view-versus-a-copy\n",
      "  df_byTerm[\"Gene symbol\"] = df_byTerm[\"Gene symbol\"].apply(split_splice)\n"
     ]
    },
    {
     "name": "stdout",
     "output_type": "stream",
     "text": [
      "Progress: 100%  926 Out of 926   \r"
     ]
    }
   ],
   "source": [
    "filename = 'GO_Cellular_Component_2021.gmt'\n",
    "file = open(filename,'w+') \n",
    "terms = df_component_protein[\"GO ID\"].unique()\n",
    "for i,term in enumerate(terms):\n",
    "    \n",
    "    progressPercent = ((i+1)/len(terms))*100\n",
    "    sys.stdout.write(\"Progress: %d%%  %d Out of %d   \\r\" % (progressPercent, (i+1), len(terms)))\n",
    "    sys.stdout.flush()\n",
    "            \n",
    "    df_byTerm = df_component_protein.loc[df_component_protein[\"GO ID\"] == term]\n",
    "    \n",
    "    if df_byTerm.shape[0] > 4:\n",
    "        # split splice variant names\n",
    "        split_splice = lambda x: x.split('.')[0]\n",
    "        df_byTerm[\"Gene symbol\"] = df_byTerm[\"Gene symbol\"].apply(split_splice)\n",
    "        \n",
    "        \n",
    "        if len(df_byTerm[\"Gene symbol\"].unique()) > 4:\n",
    "            file.write(\"%s\\t\" % term)\n",
    "            file.write(\"\\t\")\n",
    "            genes = df_byTerm[\"Gene symbol\"].unique()\n",
    "    \n",
    "            for gene in genes:\n",
    "                file.write(\"%s\\t\" % gene)\n",
    "            file.write(\"\\n\")\n",
    "        \n",
    "file.close()"
   ]
  },
  {
   "cell_type": "code",
   "execution_count": null,
   "metadata": {},
   "outputs": [],
   "source": []
  }
 ],
 "metadata": {
  "kernelspec": {
   "display_name": "Python 3",
   "language": "python",
   "name": "python3"
  },
  "language_info": {
   "codemirror_mode": {
    "name": "ipython",
    "version": 3
   },
   "file_extension": ".py",
   "mimetype": "text/x-python",
   "name": "python",
   "nbconvert_exporter": "python",
   "pygments_lexer": "ipython3",
   "version": "3.9.2"
  }
 },
 "nbformat": 4,
 "nbformat_minor": 4
}
