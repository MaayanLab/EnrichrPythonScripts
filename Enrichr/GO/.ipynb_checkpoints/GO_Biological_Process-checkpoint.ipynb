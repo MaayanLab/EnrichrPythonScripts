{
 "cells": [
  {
   "cell_type": "markdown",
   "metadata": {},
   "source": [
    "# Gene Ontology (GO) Biological Process"
   ]
  },
  {
   "cell_type": "code",
   "execution_count": null,
   "metadata": {},
   "outputs": [],
   "source": [
    "import numpy as np\n",
    "import pandas as pd\n",
    "import sys, datetime\n",
    "import goenrich\n",
    "import scipy.stats as stat"
   ]
  },
  {
   "cell_type": "code",
   "execution_count": null,
   "metadata": {},
   "outputs": [],
   "source": [
    "df = pd.read_csv('http://current.geneontology.org/annotations/goa_human.gaf.gz', sep='`', skiprows=41, header=None)"
   ]
  },
  {
   "cell_type": "code",
   "execution_count": null,
   "metadata": {},
   "outputs": [],
   "source": [
    "df.head()"
   ]
  },
  {
   "cell_type": "code",
   "execution_count": null,
   "metadata": {},
   "outputs": [],
   "source": [
    "## code copied from Gene Ontology (GO) Biological Process by Moshe Silverstein \n",
    "\n",
    "matrix = np.chararray((df.shape[0], 17), itemsize=150, unicode=True)\n",
    "\n",
    "for i, row in enumerate(df.itertuples()):\n",
    "    matrix[i, :] = row[1].split('\\t')\n",
    "\n",
    "df_clean = pd.DataFrame(data=matrix)"
   ]
  },
  {
   "cell_type": "code",
   "execution_count": null,
   "metadata": {},
   "outputs": [],
   "source": [
    "df_clean.head(10)"
   ]
  },
  {
   "cell_type": "code",
   "execution_count": null,
   "metadata": {},
   "outputs": [],
   "source": [
    "columns = [\"DB\", \"DB gene ID\", \"Gene symbol\", \"Qualifier\", \"GO ID\", \"Reference\", \"Evidence code\", \"Evidence from\", \"GO class\", \"attribute\", \"Locus tag\", \"gene/protein\", \"tax id\", \"date\", \"Assigned by\", \"additional information\", \"empty\"]"
   ]
  },
  {
   "cell_type": "code",
   "execution_count": null,
   "metadata": {},
   "outputs": [],
   "source": [
    "df_clean.columns = columns"
   ]
  },
  {
   "cell_type": "code",
   "execution_count": null,
   "metadata": {},
   "outputs": [],
   "source": [
    "df_clean.head()"
   ]
  },
  {
   "cell_type": "code",
   "execution_count": null,
   "metadata": {},
   "outputs": [],
   "source": [
    "df_process = df_clean[df_clean[\"GO class\"] == 'P'].copy()"
   ]
  },
  {
   "cell_type": "code",
   "execution_count": null,
   "metadata": {},
   "outputs": [],
   "source": [
    "df_process.shape"
   ]
  },
  {
   "cell_type": "code",
   "execution_count": null,
   "metadata": {},
   "outputs": [],
   "source": [
    "# remove any annotation assigned by electronic matching and with the NOT qualifier which is used to specify a gene is not associated with a term\n",
    "df_process = df_process[df_process[\"Evidence code\"] != 'IEA']\n",
    "df_process = df_process[df_process[\"Qualifier\"] != 'NOT']"
   ]
  },
  {
   "cell_type": "code",
   "execution_count": null,
   "metadata": {},
   "outputs": [],
   "source": [
    "df_process = df_process[['Gene symbol', 'GO ID']]\n",
    "df_process.reset_index(inplace=True)\n",
    "df_process = df_process.drop(columns = 'index')"
   ]
  },
  {
   "cell_type": "code",
   "execution_count": null,
   "metadata": {},
   "outputs": [],
   "source": [
    "df_process.shape"
   ]
  },
  {
   "cell_type": "markdown",
   "metadata": {},
   "source": [
    "## Load GO digraph"
   ]
  },
  {
   "cell_type": "markdown",
   "metadata": {},
   "source": [
    "http://snapshot.geneontology.org/ontology/go-basic.obo    "
   ]
  },
  {
   "cell_type": "code",
   "execution_count": null,
   "metadata": {},
   "outputs": [],
   "source": [
    "digraph = goenrich.obo.ontology('go-basic.obo')"
   ]
  },
  {
   "cell_type": "markdown",
   "metadata": {},
   "source": [
    "## Keep GO ids with depth => 4"
   ]
  },
  {
   "cell_type": "code",
   "execution_count": null,
   "metadata": {},
   "outputs": [],
   "source": [
    "## code copied from Gene Ontology (GO) Biological Process by Moshe Silverstein \n",
    "\n",
    "lst = []\n",
    "\n",
    "for i,index in enumerate(df_process.index):\n",
    "    term = df_process.loc[index, 'GO ID']\n",
    "    if term in digraph.nodes:\n",
    "        if digraph.nodes[term]['depth'] >= 4:\n",
    "            lst.append(term)\n",
    "        else:\n",
    "            lst.append(np.nan)\n",
    "    else:\n",
    "        lst.append(np.nan)\n",
    "           \n",
    "df_process['GO ID'] = lst"
   ]
  },
  {
   "cell_type": "code",
   "execution_count": null,
   "metadata": {},
   "outputs": [],
   "source": [
    "df_process.shape"
   ]
  },
  {
   "cell_type": "code",
   "execution_count": null,
   "metadata": {},
   "outputs": [],
   "source": [
    "df_process.dropna(inplace=True)"
   ]
  },
  {
   "cell_type": "code",
   "execution_count": null,
   "metadata": {},
   "outputs": [],
   "source": [
    "df_process.shape"
   ]
  },
  {
   "cell_type": "code",
   "execution_count": null,
   "metadata": {},
   "outputs": [],
   "source": [
    "df_process.head()"
   ]
  },
  {
   "cell_type": "markdown",
   "metadata": {},
   "source": [
    "## Term propagation: child term relationships to parent terms"
   ]
  },
  {
   "cell_type": "code",
   "execution_count": null,
   "metadata": {},
   "outputs": [],
   "source": [
    "## code copied from Gene Ontology (GO) Biological Process by Moshe Silverstein \n",
    "lst1 = []\n",
    "lst2 = []\n",
    "\n",
    "for i,index in enumerate(df_process.index):\n",
    "    term = df_process.loc[index, 'GO ID']\n",
    "    for parent in digraph.successors(term):\n",
    "        if parent in digraph.nodes:\n",
    "            if digraph.nodes[parent]['depth'] >= 4:\n",
    "                lst1.append(df_process.loc[index, 'Gene symbol'])\n",
    "                lst2.append(parent)\n",
    "\n",
    "\n",
    "temp = pd.DataFrame()\n",
    "temp['Gene symbol'] = lst1\n",
    "temp['GO ID']  = lst2\n",
    "df_process = pd.concat([df_process, temp])\n",
    "df_process.reset_index(inplace=True)\n",
    "df_process = df_process.drop(columns = 'index')"
   ]
  },
  {
   "cell_type": "code",
   "execution_count": null,
   "metadata": {},
   "outputs": [],
   "source": [
    "df_process.shape"
   ]
  },
  {
   "cell_type": "code",
   "execution_count": null,
   "metadata": {},
   "outputs": [],
   "source": [
    "df_process.head()"
   ]
  },
  {
   "cell_type": "markdown",
   "metadata": {},
   "source": [
    "## Map GO ids to descriptive names"
   ]
  },
  {
   "cell_type": "code",
   "execution_count": null,
   "metadata": {},
   "outputs": [],
   "source": [
    "## code copied from Gene Ontology (GO) Biological Process by Moshe Silverstein \n",
    "lst = []\n",
    "\n",
    "for index in df_process.index:\n",
    "    lst.append(str(digraph.nodes[df_process.loc[index, 'GO ID']]['name'])+' '+ '('+str(df_process.loc[index, 'GO ID'])+')') \n",
    "    \n",
    "df_process['GO ID'] = lst"
   ]
  },
  {
   "cell_type": "code",
   "execution_count": null,
   "metadata": {},
   "outputs": [],
   "source": [
    "df_process.head()"
   ]
  },
  {
   "cell_type": "code",
   "execution_count": null,
   "metadata": {},
   "outputs": [],
   "source": [
    "df_process.drop_duplicates(inplace=True)"
   ]
  },
  {
   "cell_type": "code",
   "execution_count": null,
   "metadata": {},
   "outputs": [],
   "source": [
    "df_process.head()"
   ]
  },
  {
   "cell_type": "code",
   "execution_count": null,
   "metadata": {},
   "outputs": [],
   "source": [
    "df_process.reset_index(inplace=True)"
   ]
  },
  {
   "cell_type": "code",
   "execution_count": null,
   "metadata": {},
   "outputs": [],
   "source": [
    "df_process.head()"
   ]
  },
  {
   "cell_type": "code",
   "execution_count": null,
   "metadata": {},
   "outputs": [],
   "source": [
    "df_process = df_process.drop(columns = 'index')"
   ]
  },
  {
   "cell_type": "code",
   "execution_count": null,
   "metadata": {},
   "outputs": [],
   "source": [
    "df_process.head()"
   ]
  },
  {
   "cell_type": "code",
   "execution_count": null,
   "metadata": {},
   "outputs": [],
   "source": [
    "df_process.shape"
   ]
  },
  {
   "cell_type": "code",
   "execution_count": null,
   "metadata": {},
   "outputs": [],
   "source": [
    "number_terms = len(df_process.iloc[:, 1].unique())\n",
    "number_terms"
   ]
  },
  {
   "cell_type": "markdown",
   "metadata": {},
   "source": [
    "## Build the protein-coding gene reference list"
   ]
  },
  {
   "cell_type": "code",
   "execution_count": null,
   "metadata": {},
   "outputs": [],
   "source": [
    "hs_geneInfo = pd.read_csv(\"https://ftp.ncbi.nlm.nih.gov/gene/DATA/GENE_INFO/Mammalia/Homo_sapiens.gene_info.gz\", sep=\"\\t\")"
   ]
  },
  {
   "cell_type": "code",
   "execution_count": null,
   "metadata": {},
   "outputs": [],
   "source": [
    "hs_geneInfo.head()"
   ]
  },
  {
   "cell_type": "code",
   "execution_count": null,
   "metadata": {},
   "outputs": [],
   "source": [
    "hs_geneInfo.shape"
   ]
  },
  {
   "cell_type": "code",
   "execution_count": null,
   "metadata": {},
   "outputs": [],
   "source": [
    "hs_proteinCoding = hs_geneInfo[hs_geneInfo[\"type_of_gene\"] == \"protein-coding\"]"
   ]
  },
  {
   "cell_type": "code",
   "execution_count": null,
   "metadata": {},
   "outputs": [],
   "source": [
    "hs_proteinCoding.shape"
   ]
  },
  {
   "cell_type": "markdown",
   "metadata": {},
   "source": [
    "## Keep gene symbols that are in the Homo sapience table"
   ]
  },
  {
   "cell_type": "code",
   "execution_count": null,
   "metadata": {},
   "outputs": [],
   "source": [
    "df_process_protein = df_process.loc[df_process[\"Gene symbol\"].isin(hs_proteinCoding[\"Symbol\"].unique())]"
   ]
  },
  {
   "cell_type": "code",
   "execution_count": null,
   "metadata": {},
   "outputs": [],
   "source": [
    "df_process_protein.shape"
   ]
  },
  {
   "cell_type": "code",
   "execution_count": null,
   "metadata": {},
   "outputs": [],
   "source": [
    "filename = 'GO_Biological_Process_2021.gmt'\n",
    "file = open(filename,'w') \n",
    "terms = df_process_protein[\"GO ID\"].unique()\n",
    "lines = []\n",
    "t = '\\t'\n",
    "for term in terms:\n",
    "    df_byTerm = df_process_protein.loc[df_process_protein[\"GO ID\"] == term]\n",
    "    \n",
    "    if df_byTerm.shape[0] > 4:\n",
    "        # split splice variant names\n",
    "        df_byTerm[\"Gene symbol\"] = df_byTerm[\"Gene symbol\"].apply(lambda x: x.split('.')[0])        \n",
    "        \n",
    "        if len(df_byTerm[\"Gene symbol\"].unique()) > 4:\n",
    "            lines.append('{}\\t\\t{}'.format(term, \"\\t\".join(df_byTerm[\"Gene symbol\"].unique())))\n",
    "\n",
    "file.write('\\n'.join(lines))\n",
    "file.close()"
   ]
  },
  {
   "cell_type": "code",
   "execution_count": null,
   "metadata": {},
   "outputs": [],
   "source": []
  }
 ],
 "metadata": {
  "kernelspec": {
   "display_name": "Python 3",
   "language": "python",
   "name": "python3"
  },
  "language_info": {
   "codemirror_mode": {
    "name": "ipython",
    "version": 3
   },
   "file_extension": ".py",
   "mimetype": "text/x-python",
   "name": "python",
   "nbconvert_exporter": "python",
   "pygments_lexer": "ipython3",
   "version": "3.9.2"
  }
 },
 "nbformat": 4,
 "nbformat_minor": 4
}
