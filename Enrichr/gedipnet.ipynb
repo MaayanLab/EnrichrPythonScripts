{
 "cells": [
  {
   "cell_type": "code",
   "execution_count": 1,
   "metadata": {},
   "outputs": [],
   "source": [
    "import pandas as pd\n",
    "import csv"
   ]
  },
  {
   "cell_type": "code",
   "execution_count": 2,
   "metadata": {},
   "outputs": [
    {
     "data": {
      "text/html": [
       "<div>\n",
       "<style scoped>\n",
       "    .dataframe tbody tr th:only-of-type {\n",
       "        vertical-align: middle;\n",
       "    }\n",
       "\n",
       "    .dataframe tbody tr th {\n",
       "        vertical-align: top;\n",
       "    }\n",
       "\n",
       "    .dataframe thead th {\n",
       "        text-align: right;\n",
       "    }\n",
       "</style>\n",
       "<table border=\"1\" class=\"dataframe\">\n",
       "  <thead>\n",
       "    <tr style=\"text-align: right;\">\n",
       "      <th></th>\n",
       "      <th>diseaseName_GeDiPNet</th>\n",
       "      <th>geneId</th>\n",
       "      <th>geneSymbol</th>\n",
       "    </tr>\n",
       "  </thead>\n",
       "  <tbody>\n",
       "    <tr>\n",
       "      <th>0</th>\n",
       "      <td>10p12-p11 Deletion Syndrome</td>\n",
       "      <td>51322</td>\n",
       "      <td>WAC</td>\n",
       "    </tr>\n",
       "    <tr>\n",
       "      <th>1</th>\n",
       "      <td>11-beta-hydroxylase deficiency</td>\n",
       "      <td>1584</td>\n",
       "      <td>CYP11B1</td>\n",
       "    </tr>\n",
       "    <tr>\n",
       "      <th>2</th>\n",
       "      <td>11p deletion syndrome</td>\n",
       "      <td>627</td>\n",
       "      <td>BDNF</td>\n",
       "    </tr>\n",
       "    <tr>\n",
       "      <th>3</th>\n",
       "      <td>11p deletion syndrome</td>\n",
       "      <td>5080</td>\n",
       "      <td>PAX6</td>\n",
       "    </tr>\n",
       "    <tr>\n",
       "      <th>4</th>\n",
       "      <td>11p deletion syndrome</td>\n",
       "      <td>7490</td>\n",
       "      <td>WT1</td>\n",
       "    </tr>\n",
       "  </tbody>\n",
       "</table>\n",
       "</div>"
      ],
      "text/plain": [
       "             diseaseName_GeDiPNet  geneId geneSymbol\n",
       "0     10p12-p11 Deletion Syndrome   51322        WAC\n",
       "1  11-beta-hydroxylase deficiency    1584    CYP11B1\n",
       "2           11p deletion syndrome     627       BDNF\n",
       "3           11p deletion syndrome    5080       PAX6\n",
       "4           11p deletion syndrome    7490        WT1"
      ]
     },
     "execution_count": 2,
     "metadata": {},
     "output_type": "execute_result"
    }
   ],
   "source": [
    "df = pd.read_csv(\"data/GDA_GeDiPNet.txt\", sep=\"\\t\")\n",
    "df.head()"
   ]
  },
  {
   "cell_type": "code",
   "execution_count": 3,
   "metadata": {},
   "outputs": [],
   "source": [
    "gmt = {}\n",
    "for i, row in df.iterrows():\n",
    "    disease = row['diseaseName_GeDiPNet']\n",
    "    gene = row['geneSymbol']\n",
    "    if disease not in gmt:\n",
    "        gmt[disease] = set()\n",
    "    gmt[disease].add(gene)"
   ]
  },
  {
   "cell_type": "code",
   "execution_count": 5,
   "metadata": {},
   "outputs": [],
   "source": [
    "with open('output/GeDiPNet_2023.gmt', 'w') as o:\n",
    "    csv_writer = csv.writer(o, delimiter=\"\\t\")\n",
    "    for k,v in gmt.items():\n",
    "        if len(v) >= 5:\n",
    "            row = [k, ''] + list(v)\n",
    "            csv_writer.writerow(row)"
   ]
  },
  {
   "cell_type": "code",
   "execution_count": null,
   "metadata": {},
   "outputs": [],
   "source": []
  }
 ],
 "metadata": {
  "kernelspec": {
   "display_name": "venv",
   "language": "python",
   "name": "python3"
  },
  "language_info": {
   "codemirror_mode": {
    "name": "ipython",
    "version": 3
   },
   "file_extension": ".py",
   "mimetype": "text/x-python",
   "name": "python",
   "nbconvert_exporter": "python",
   "pygments_lexer": "ipython3",
   "version": "3.9.16"
  },
  "orig_nbformat": 4
 },
 "nbformat": 4,
 "nbformat_minor": 2
}
