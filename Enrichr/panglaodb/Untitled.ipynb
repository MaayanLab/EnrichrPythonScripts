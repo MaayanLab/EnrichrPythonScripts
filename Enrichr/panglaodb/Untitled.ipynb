{
 "cells": [
  {
   "cell_type": "code",
   "execution_count": 1,
   "id": "brutal-gardening",
   "metadata": {},
   "outputs": [],
   "source": [
    "import pandas as pd"
   ]
  },
  {
   "cell_type": "code",
   "execution_count": 2,
   "id": "serial-ontario",
   "metadata": {},
   "outputs": [],
   "source": [
    "df = pd.read_csv('https://panglaodb.se/markers/PanglaoDB_markers_27_Mar_2020.tsv.gz', sep='\\t')"
   ]
  },
  {
   "cell_type": "code",
   "execution_count": 3,
   "id": "aquatic-finish",
   "metadata": {},
   "outputs": [],
   "source": [
    "df = df[['organ', 'germ layer', 'cell type','official gene symbol', 'gene type']]"
   ]
  },
  {
   "cell_type": "code",
   "execution_count": 4,
   "id": "documentary-values",
   "metadata": {},
   "outputs": [
    {
     "data": {
      "text/html": [
       "<div>\n",
       "<style scoped>\n",
       "    .dataframe tbody tr th:only-of-type {\n",
       "        vertical-align: middle;\n",
       "    }\n",
       "\n",
       "    .dataframe tbody tr th {\n",
       "        vertical-align: top;\n",
       "    }\n",
       "\n",
       "    .dataframe thead th {\n",
       "        text-align: right;\n",
       "    }\n",
       "</style>\n",
       "<table border=\"1\" class=\"dataframe\">\n",
       "  <thead>\n",
       "    <tr style=\"text-align: right;\">\n",
       "      <th></th>\n",
       "      <th>organ</th>\n",
       "      <th>germ layer</th>\n",
       "      <th>cell type</th>\n",
       "      <th>official gene symbol</th>\n",
       "      <th>gene type</th>\n",
       "    </tr>\n",
       "  </thead>\n",
       "  <tbody>\n",
       "    <tr>\n",
       "      <th>0</th>\n",
       "      <td>Pancreas</td>\n",
       "      <td>Endoderm</td>\n",
       "      <td>Acinar cells</td>\n",
       "      <td>CTRB1</td>\n",
       "      <td>protein-coding gene</td>\n",
       "    </tr>\n",
       "    <tr>\n",
       "      <th>1</th>\n",
       "      <td>Pancreas</td>\n",
       "      <td>Endoderm</td>\n",
       "      <td>Acinar cells</td>\n",
       "      <td>KLK1</td>\n",
       "      <td>protein-coding gene</td>\n",
       "    </tr>\n",
       "    <tr>\n",
       "      <th>2</th>\n",
       "      <td>Pancreas</td>\n",
       "      <td>Endoderm</td>\n",
       "      <td>Acinar cells</td>\n",
       "      <td>RBPJL</td>\n",
       "      <td>protein-coding gene</td>\n",
       "    </tr>\n",
       "    <tr>\n",
       "      <th>3</th>\n",
       "      <td>Pancreas</td>\n",
       "      <td>Endoderm</td>\n",
       "      <td>Acinar cells</td>\n",
       "      <td>PTF1A</td>\n",
       "      <td>protein-coding gene</td>\n",
       "    </tr>\n",
       "    <tr>\n",
       "      <th>4</th>\n",
       "      <td>Pancreas</td>\n",
       "      <td>Endoderm</td>\n",
       "      <td>Acinar cells</td>\n",
       "      <td>TRY4</td>\n",
       "      <td>protein coding gene</td>\n",
       "    </tr>\n",
       "  </tbody>\n",
       "</table>\n",
       "</div>"
      ],
      "text/plain": [
       "      organ germ layer     cell type official gene symbol            gene type\n",
       "0  Pancreas   Endoderm  Acinar cells                CTRB1  protein-coding gene\n",
       "1  Pancreas   Endoderm  Acinar cells                 KLK1  protein-coding gene\n",
       "2  Pancreas   Endoderm  Acinar cells                RBPJL  protein-coding gene\n",
       "3  Pancreas   Endoderm  Acinar cells                PTF1A  protein-coding gene\n",
       "4  Pancreas   Endoderm  Acinar cells                 TRY4  protein coding gene"
      ]
     },
     "execution_count": 4,
     "metadata": {},
     "output_type": "execute_result"
    }
   ],
   "source": [
    "df.head()"
   ]
  },
  {
   "cell_type": "code",
   "execution_count": 9,
   "id": "dangerous-criminal",
   "metadata": {},
   "outputs": [],
   "source": [
    "from collections import defaultdict"
   ]
  },
  {
   "cell_type": "code",
   "execution_count": 10,
   "id": "considered-catch",
   "metadata": {},
   "outputs": [],
   "source": [
    "p = defaultdict(list)"
   ]
  },
  {
   "cell_type": "code",
   "execution_count": 11,
   "id": "parental-negotiation",
   "metadata": {},
   "outputs": [],
   "source": [
    "for l in df_clean.values.tolist():\n",
    "    cell_t, gene = l\n",
    "    p[cell_t].append(gene)"
   ]
  },
  {
   "cell_type": "code",
   "execution_count": 23,
   "id": "refined-vessel",
   "metadata": {},
   "outputs": [],
   "source": [
    "l = []\n",
    "for k, v in p.items():\n",
    "    genes = '\\t'.join(v)\n",
    "    l.append('{}\\t\\t{}'.format(k, genes))"
   ]
  },
  {
   "cell_type": "code",
   "execution_count": 24,
   "id": "sitting-defensive",
   "metadata": {},
   "outputs": [],
   "source": [
    "with open('panglaodb.gmt', 'w') as p_file:\n",
    "    p_file.write('\\n'.join(l))"
   ]
  },
  {
   "cell_type": "code",
   "execution_count": null,
   "id": "smooth-theorem",
   "metadata": {},
   "outputs": [],
   "source": []
  }
 ],
 "metadata": {
  "kernelspec": {
   "display_name": "Python 3",
   "language": "python",
   "name": "python3"
  },
  "language_info": {
   "codemirror_mode": {
    "name": "ipython",
    "version": 3
   },
   "file_extension": ".py",
   "mimetype": "text/x-python",
   "name": "python",
   "nbconvert_exporter": "python",
   "pygments_lexer": "ipython3",
   "version": "3.9.2"
  }
 },
 "nbformat": 4,
 "nbformat_minor": 5
}
