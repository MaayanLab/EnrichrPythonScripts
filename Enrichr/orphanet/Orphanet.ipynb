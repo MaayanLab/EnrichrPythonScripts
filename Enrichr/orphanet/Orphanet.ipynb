{
 "cells": [
  {
   "cell_type": "code",
   "execution_count": 1,
   "id": "theoretical-documentation",
   "metadata": {},
   "outputs": [],
   "source": [
    "import pandas as pd\n",
    "import xmltodict\n",
    "from collections import defaultdict\n",
    "import requests\n",
    "import operator\n",
    "from string import punctuation\n",
    "from tqdm.notebook import trange, tqdm"
   ]
  },
  {
   "cell_type": "code",
   "execution_count": 63,
   "id": "compound-surprise",
   "metadata": {},
   "outputs": [],
   "source": [
    "def isNaN(num):\n",
    "    return num != num"
   ]
  },
  {
   "cell_type": "code",
   "execution_count": 71,
   "id": "dynamic-following",
   "metadata": {},
   "outputs": [],
   "source": [
    "def is_gene_name(gene_name):\n",
    "    if any(char in set(punctuation) for char in gene_name):\n",
    "        # Isoform?\n",
    "        if '.' in gene_name:\n",
    "            # Isoform of a cryptic gene?\n",
    "            return is_gene_name(gene_name.split('.')[0])\n",
    "        else:\n",
    "            return False\n",
    "    else:\n",
    "        return True"
   ]
  },
  {
   "cell_type": "code",
   "execution_count": 72,
   "id": "representative-filter",
   "metadata": {},
   "outputs": [],
   "source": [
    "def geneshot_gene_similarity(genes, similarity):\n",
    "    url = 'https://maayanlab.cloud/geneshot/api/associate'\n",
    "    if isinstance(genes, str):\n",
    "        genes = [genes]\n",
    "    payload = {'similarity': similarity, 'gene_list': genes}\n",
    "    headers = {'Cookie': ''}\n",
    "    response = requests.post(url, headers=headers, json=payload)\n",
    "    return response.json()"
   ]
  },
  {
   "cell_type": "code",
   "execution_count": 73,
   "id": "accessible-coffee",
   "metadata": {},
   "outputs": [],
   "source": [
    "def extract_genes(gs_gene_sim, key = 'simScore', top=100):\n",
    "    # Iterate over GeneShot results and return top N genes\n",
    "    # Filter names with special characters by default\n",
    "    gene_res = {k: v[key] for k, v in gs_gene_sim.items()}\n",
    "\n",
    "    # Check if genes have 1. non-NaN values 2. majority of genes have different scores\n",
    "    scores = list(gene_res.values())\n",
    "    perc_uniq = len(set(scores[:int(top)]))\n",
    "    if perc_uniq / int(top) < 0.2:\n",
    "        return []\n",
    "\n",
    "    for score in scores:\n",
    "        if isNaN(score):\n",
    "            return []\n",
    "\n",
    "    # I hope you're running Python3.7+, don't you?\n",
    "    s = sorted(gene_res.items(), key=operator.itemgetter(1, 0), reverse=True)\n",
    "    # Detect and collapse isoforms\n",
    "    # list(set()) doesn't work as set() messes up ordering\n",
    "    # Dictionary retains order, even though scores are rewritten by lower ones\n",
    "    top_genes = list({k.split('.')[0]: v for k, v in s if is_gene_name(k)})[:int(top)]\n",
    "    return sorted(top_genes)"
   ]
  },
  {
   "cell_type": "code",
   "execution_count": 2,
   "id": "social-recommendation",
   "metadata": {},
   "outputs": [],
   "source": [
    "# Download from http://www.orphadata.org/data/xml/en_product6.xml and save in UTF-8 encoding\n",
    "disease_list = xmltodict.parse(open('en_product6.xml').read())['JDBOR']['DisorderList']['Disorder']"
   ]
  },
  {
   "cell_type": "code",
   "execution_count": 103,
   "id": "innocent-platinum",
   "metadata": {},
   "outputs": [
    {
     "data": {
      "application/vnd.jupyter.widget-view+json": {
       "model_id": "e054837338604e79bccf5c12fe2a3529",
       "version_major": 2,
       "version_minor": 0
      },
      "text/plain": [
       "  0%|          | 0/3847 [00:00<?, ?it/s]"
      ]
     },
     "metadata": {},
     "output_type": "display_data"
    }
   ],
   "source": [
    "orpha_dict = defaultdict(list)\n",
    "for i in trange(len(disease_list)):\n",
    "    disease = disease_list[i]\n",
    "    name = disease['Name']['#text']\n",
    "    if disease['DisorderGeneAssociationList']['@count'] == '1':\n",
    "        g = disease['DisorderGeneAssociationList']['DisorderGeneAssociation']['Gene']['Symbol']        \n",
    "        aug_g = extract_genes(geneshot_gene_similarity(g, 'coexpression')['association'])\n",
    "        orpha_dict[name] += [g] + aug_g\n",
    "    else:\n",
    "        for gene in disease['DisorderGeneAssociationList']['DisorderGeneAssociation']:\n",
    "            orpha_dict[name].append(gene['Gene']['Symbol'])\n",
    "        gs = orpha_dict[name]\n",
    "        aug_gs = extract_genes(geneshot_gene_similarity(gs, 'coexpression')['association'])\n",
    "        orpha_dict[name] += gs + aug_gs"
   ]
  },
  {
   "cell_type": "code",
   "execution_count": 104,
   "id": "blessed-fraction",
   "metadata": {},
   "outputs": [],
   "source": [
    "with open('orphanet.gmt', 'w') as orph_file:\n",
    "    orph_file.write('\\n'.join(sorted('{}\\t\\t{}'.format(k, '\\t'.join(v)) for k,v in orpha_dict.items())))"
   ]
  },
  {
   "cell_type": "code",
   "execution_count": 4,
   "id": "surprising-northwest",
   "metadata": {},
   "outputs": [],
   "source": [
    "orph_gmt = open('Orphanet_Augmented_2021-Copy1.gmt').read().split('\\n')"
   ]
  },
  {
   "cell_type": "code",
   "execution_count": 5,
   "id": "structured-worse",
   "metadata": {},
   "outputs": [],
   "source": [
    "orph_gmt = {l.split('\\t')[0]: l.split('\\t')[2:] for l in orph_gmt}"
   ]
  },
  {
   "cell_type": "code",
   "execution_count": 8,
   "id": "cubic-relations",
   "metadata": {},
   "outputs": [],
   "source": [
    "new_orph_gmt = defaultdict(list)\n",
    "for disease in disease_list:\n",
    "    name = disease['Name']['#text']\n",
    "    oid = f'ORPHA:{disease[\"OrphaCode\"]}'\n",
    "    new_name = f'{name} {oid}'\n",
    "    new_orph_gmt[new_name] = orph_gmt[name]"
   ]
  },
  {
   "cell_type": "code",
   "execution_count": 10,
   "id": "conscious-spokesman",
   "metadata": {},
   "outputs": [],
   "source": [
    "with open('orphanet_w_id.gmt', 'w') as orph_file:\n",
    "    orph_file.write('\\n'.join(sorted('{}\\t\\t{}'.format(k, '\\t'.join(v)) for k,v in new_orph_gmt.items())))"
   ]
  },
  {
   "cell_type": "code",
   "execution_count": null,
   "id": "ancient-image",
   "metadata": {},
   "outputs": [],
   "source": []
  }
 ],
 "metadata": {
  "kernelspec": {
   "display_name": "Python 3",
   "language": "python",
   "name": "python3"
  },
  "language_info": {
   "codemirror_mode": {
    "name": "ipython",
    "version": 3
   },
   "file_extension": ".py",
   "mimetype": "text/x-python",
   "name": "python",
   "nbconvert_exporter": "python",
   "pygments_lexer": "ipython3",
   "version": "3.9.2"
  }
 },
 "nbformat": 4,
 "nbformat_minor": 5
}
