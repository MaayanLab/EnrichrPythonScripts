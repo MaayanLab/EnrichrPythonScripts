{
 "cells": [
  {
   "cell_type": "markdown",
   "metadata": {},
   "source": [
    "# Phyiscal and Gentic Interaction Hubs from BioGRID"
   ]
  },
  {
   "cell_type": "markdown",
   "metadata": {},
   "source": [
    "Author: Zachary Flamholz  \n",
    "Date: 07-2018  \n",
    "Database: https://thebiogrid.org   \n",
    "Data: https://downloads.thebiogrid.org/BioGRID/Release-Archive/BIOGRID-3.4.162/   "
   ]
  },
  {
   "cell_type": "code",
   "execution_count": 2,
   "metadata": {},
   "outputs": [],
   "source": [
    "import numpy as np\n",
    "import pandas as pd\n",
    "import sys, datetime\n",
    "import scipy.stats as stat\n",
    "import matplotlib\n",
    "from matplotlib import pyplot as py"
   ]
  },
  {
   "cell_type": "code",
   "execution_count": 3,
   "metadata": {},
   "outputs": [
    {
     "data": {
      "application/json": {
       "Software versions": [
        {
         "module": "Python",
         "version": "3.6.5 64bit [GCC 4.2.1 Compatible Apple LLVM 9.1.0 (clang-902.0.39.1)]"
        },
        {
         "module": "IPython",
         "version": "6.4.0"
        },
        {
         "module": "OS",
         "version": "Darwin 17.5.0 x86_64 i386 64bit"
        },
        {
         "module": "numpy",
         "version": "1.14.5"
        },
        {
         "module": "pandas",
         "version": "0.23.1"
        }
       ]
      },
      "text/html": [
       "<table><tr><th>Software</th><th>Version</th></tr><tr><td>Python</td><td>3.6.5 64bit [GCC 4.2.1 Compatible Apple LLVM 9.1.0 (clang-902.0.39.1)]</td></tr><tr><td>IPython</td><td>6.4.0</td></tr><tr><td>OS</td><td>Darwin 17.5.0 x86_64 i386 64bit</td></tr><tr><td>numpy</td><td>1.14.5</td></tr><tr><td>pandas</td><td>0.23.1</td></tr><tr><td colspan='2'>Mon Jul 02 15:02:53 2018 EDT</td></tr></table>"
      ],
      "text/latex": [
       "\\begin{tabular}{|l|l|}\\hline\n",
       "{\\bf Software} & {\\bf Version} \\\\ \\hline\\hline\n",
       "Python & 3.6.5 64bit [GCC 4.2.1 Compatible Apple LLVM 9.1.0 (clang-902.0.39.1)] \\\\ \\hline\n",
       "IPython & 6.4.0 \\\\ \\hline\n",
       "OS & Darwin 17.5.0 x86\\_64 i386 64bit \\\\ \\hline\n",
       "numpy & 1.14.5 \\\\ \\hline\n",
       "pandas & 0.23.1 \\\\ \\hline\n",
       "\\hline \\multicolumn{2}{|l|}{Mon Jul 02 15:02:53 2018 EDT} \\\\ \\hline\n",
       "\\end{tabular}\n"
      ],
      "text/plain": [
       "Software versions\n",
       "Python 3.6.5 64bit [GCC 4.2.1 Compatible Apple LLVM 9.1.0 (clang-902.0.39.1)]\n",
       "IPython 6.4.0\n",
       "OS Darwin 17.5.0 x86_64 i386 64bit\n",
       "numpy 1.14.5\n",
       "pandas 0.23.1\n",
       "Mon Jul 02 15:02:53 2018 EDT"
      ]
     },
     "execution_count": 3,
     "metadata": {},
     "output_type": "execute_result"
    }
   ],
   "source": [
    "%load_ext version_information\n",
    "%version_information numpy, pandas"
   ]
  },
  {
   "cell_type": "markdown",
   "metadata": {},
   "source": [
    "## read in data"
   ]
  },
  {
   "cell_type": "code",
   "execution_count": 4,
   "metadata": {},
   "outputs": [],
   "source": [
    "interactions_df = pd.read_csv(\"input/BIOGRID-ORGANISM-Caenorhabditis_elegans-3.4.162.tab2.txt\", sep=\"\\t\", header=0)"
   ]
  },
  {
   "cell_type": "code",
   "execution_count": 5,
   "metadata": {},
   "outputs": [
    {
     "data": {
      "text/html": [
       "<div>\n",
       "<style scoped>\n",
       "    .dataframe tbody tr th:only-of-type {\n",
       "        vertical-align: middle;\n",
       "    }\n",
       "\n",
       "    .dataframe tbody tr th {\n",
       "        vertical-align: top;\n",
       "    }\n",
       "\n",
       "    .dataframe thead th {\n",
       "        text-align: right;\n",
       "    }\n",
       "</style>\n",
       "<table border=\"1\" class=\"dataframe\">\n",
       "  <thead>\n",
       "    <tr style=\"text-align: right;\">\n",
       "      <th></th>\n",
       "      <th>#BioGRID Interaction ID</th>\n",
       "      <th>Entrez Gene Interactor A</th>\n",
       "      <th>Entrez Gene Interactor B</th>\n",
       "      <th>BioGRID ID Interactor A</th>\n",
       "      <th>BioGRID ID Interactor B</th>\n",
       "      <th>Systematic Name Interactor A</th>\n",
       "      <th>Systematic Name Interactor B</th>\n",
       "      <th>Official Symbol Interactor A</th>\n",
       "      <th>Official Symbol Interactor B</th>\n",
       "      <th>Synonyms Interactor A</th>\n",
       "      <th>...</th>\n",
       "      <th>Pubmed ID</th>\n",
       "      <th>Organism Interactor A</th>\n",
       "      <th>Organism Interactor B</th>\n",
       "      <th>Throughput</th>\n",
       "      <th>Score</th>\n",
       "      <th>Modification</th>\n",
       "      <th>Phenotypes</th>\n",
       "      <th>Qualifications</th>\n",
       "      <th>Tags</th>\n",
       "      <th>Source Database</th>\n",
       "    </tr>\n",
       "  </thead>\n",
       "  <tbody>\n",
       "    <tr>\n",
       "      <th>0</th>\n",
       "      <td>63578</td>\n",
       "      <td>177286</td>\n",
       "      <td>179791</td>\n",
       "      <td>42412</td>\n",
       "      <td>44810</td>\n",
       "      <td>CELE_AC7.2</td>\n",
       "      <td>CELE_W07G4.5</td>\n",
       "      <td>soc-2</td>\n",
       "      <td>W07G4.5</td>\n",
       "      <td>-</td>\n",
       "      <td>...</td>\n",
       "      <td>14704431</td>\n",
       "      <td>6239</td>\n",
       "      <td>6239</td>\n",
       "      <td>High Throughput</td>\n",
       "      <td>-</td>\n",
       "      <td>-</td>\n",
       "      <td>-</td>\n",
       "      <td>-</td>\n",
       "      <td>-</td>\n",
       "      <td>BIOGRID</td>\n",
       "    </tr>\n",
       "    <tr>\n",
       "      <th>1</th>\n",
       "      <td>63579</td>\n",
       "      <td>177286</td>\n",
       "      <td>178104</td>\n",
       "      <td>42412</td>\n",
       "      <td>43199</td>\n",
       "      <td>CELE_AC7.2</td>\n",
       "      <td>ZK792.6</td>\n",
       "      <td>soc-2</td>\n",
       "      <td>let-60</td>\n",
       "      <td>-</td>\n",
       "      <td>...</td>\n",
       "      <td>14704431</td>\n",
       "      <td>6239</td>\n",
       "      <td>6239</td>\n",
       "      <td>High Throughput</td>\n",
       "      <td>-</td>\n",
       "      <td>-</td>\n",
       "      <td>-</td>\n",
       "      <td>-</td>\n",
       "      <td>-</td>\n",
       "      <td>BIOGRID</td>\n",
       "    </tr>\n",
       "    <tr>\n",
       "      <th>2</th>\n",
       "      <td>63581</td>\n",
       "      <td>179437</td>\n",
       "      <td>179795</td>\n",
       "      <td>44467</td>\n",
       "      <td>44813</td>\n",
       "      <td>B0024.12</td>\n",
       "      <td>B0365.1</td>\n",
       "      <td>gna-1</td>\n",
       "      <td>acly-2</td>\n",
       "      <td>CELE_B0024.12|CeGNA1</td>\n",
       "      <td>...</td>\n",
       "      <td>14704431</td>\n",
       "      <td>6239</td>\n",
       "      <td>6239</td>\n",
       "      <td>High Throughput</td>\n",
       "      <td>-</td>\n",
       "      <td>-</td>\n",
       "      <td>-</td>\n",
       "      <td>-</td>\n",
       "      <td>-</td>\n",
       "      <td>BIOGRID</td>\n",
       "    </tr>\n",
       "    <tr>\n",
       "      <th>3</th>\n",
       "      <td>63582</td>\n",
       "      <td>179437</td>\n",
       "      <td>180819</td>\n",
       "      <td>44467</td>\n",
       "      <td>45752</td>\n",
       "      <td>B0024.12</td>\n",
       "      <td>CELE_C25F6.2</td>\n",
       "      <td>gna-1</td>\n",
       "      <td>dlg-1</td>\n",
       "      <td>CELE_B0024.12|CeGNA1</td>\n",
       "      <td>...</td>\n",
       "      <td>14704431</td>\n",
       "      <td>6239</td>\n",
       "      <td>6239</td>\n",
       "      <td>High Throughput</td>\n",
       "      <td>-</td>\n",
       "      <td>-</td>\n",
       "      <td>-</td>\n",
       "      <td>-</td>\n",
       "      <td>-</td>\n",
       "      <td>BIOGRID</td>\n",
       "    </tr>\n",
       "    <tr>\n",
       "      <th>4</th>\n",
       "      <td>63583</td>\n",
       "      <td>179437</td>\n",
       "      <td>175638</td>\n",
       "      <td>44467</td>\n",
       "      <td>40872</td>\n",
       "      <td>B0024.12</td>\n",
       "      <td>CELE_C38D4.6</td>\n",
       "      <td>gna-1</td>\n",
       "      <td>pal-1</td>\n",
       "      <td>CELE_B0024.12|CeGNA1</td>\n",
       "      <td>...</td>\n",
       "      <td>14704431</td>\n",
       "      <td>6239</td>\n",
       "      <td>6239</td>\n",
       "      <td>High Throughput</td>\n",
       "      <td>-</td>\n",
       "      <td>-</td>\n",
       "      <td>-</td>\n",
       "      <td>-</td>\n",
       "      <td>-</td>\n",
       "      <td>BIOGRID</td>\n",
       "    </tr>\n",
       "  </tbody>\n",
       "</table>\n",
       "<p>5 rows × 24 columns</p>\n",
       "</div>"
      ],
      "text/plain": [
       "   #BioGRID Interaction ID  Entrez Gene Interactor A  \\\n",
       "0                    63578                    177286   \n",
       "1                    63579                    177286   \n",
       "2                    63581                    179437   \n",
       "3                    63582                    179437   \n",
       "4                    63583                    179437   \n",
       "\n",
       "   Entrez Gene Interactor B  BioGRID ID Interactor A  BioGRID ID Interactor B  \\\n",
       "0                    179791                    42412                    44810   \n",
       "1                    178104                    42412                    43199   \n",
       "2                    179795                    44467                    44813   \n",
       "3                    180819                    44467                    45752   \n",
       "4                    175638                    44467                    40872   \n",
       "\n",
       "  Systematic Name Interactor A Systematic Name Interactor B  \\\n",
       "0                   CELE_AC7.2                 CELE_W07G4.5   \n",
       "1                   CELE_AC7.2                      ZK792.6   \n",
       "2                     B0024.12                      B0365.1   \n",
       "3                     B0024.12                 CELE_C25F6.2   \n",
       "4                     B0024.12                 CELE_C38D4.6   \n",
       "\n",
       "  Official Symbol Interactor A Official Symbol Interactor B  \\\n",
       "0                        soc-2                      W07G4.5   \n",
       "1                        soc-2                       let-60   \n",
       "2                        gna-1                       acly-2   \n",
       "3                        gna-1                        dlg-1   \n",
       "4                        gna-1                        pal-1   \n",
       "\n",
       "  Synonyms Interactor A       ...       Pubmed ID Organism Interactor A  \\\n",
       "0                     -       ...        14704431                  6239   \n",
       "1                     -       ...        14704431                  6239   \n",
       "2  CELE_B0024.12|CeGNA1       ...        14704431                  6239   \n",
       "3  CELE_B0024.12|CeGNA1       ...        14704431                  6239   \n",
       "4  CELE_B0024.12|CeGNA1       ...        14704431                  6239   \n",
       "\n",
       "  Organism Interactor B       Throughput  Score  Modification  Phenotypes  \\\n",
       "0                  6239  High Throughput      -             -           -   \n",
       "1                  6239  High Throughput      -             -           -   \n",
       "2                  6239  High Throughput      -             -           -   \n",
       "3                  6239  High Throughput      -             -           -   \n",
       "4                  6239  High Throughput      -             -           -   \n",
       "\n",
       "  Qualifications Tags Source Database  \n",
       "0              -    -         BIOGRID  \n",
       "1              -    -         BIOGRID  \n",
       "2              -    -         BIOGRID  \n",
       "3              -    -         BIOGRID  \n",
       "4              -    -         BIOGRID  \n",
       "\n",
       "[5 rows x 24 columns]"
      ]
     },
     "execution_count": 5,
     "metadata": {},
     "output_type": "execute_result"
    }
   ],
   "source": [
    "interactions_df.head()"
   ]
  },
  {
   "cell_type": "code",
   "execution_count": 6,
   "metadata": {},
   "outputs": [
    {
     "data": {
      "text/plain": [
       "(8686, 24)"
      ]
     },
     "execution_count": 6,
     "metadata": {},
     "output_type": "execute_result"
    }
   ],
   "source": [
    "interactions_df.shape"
   ]
  },
  {
   "cell_type": "code",
   "execution_count": 7,
   "metadata": {},
   "outputs": [
    {
     "data": {
      "text/plain": [
       "Index(['#BioGRID Interaction ID', 'Entrez Gene Interactor A',\n",
       "       'Entrez Gene Interactor B', 'BioGRID ID Interactor A',\n",
       "       'BioGRID ID Interactor B', 'Systematic Name Interactor A',\n",
       "       'Systematic Name Interactor B', 'Official Symbol Interactor A',\n",
       "       'Official Symbol Interactor B', 'Synonyms Interactor A',\n",
       "       'Synonyms Interactor B', 'Experimental System',\n",
       "       'Experimental System Type', 'Author', 'Pubmed ID',\n",
       "       'Organism Interactor A', 'Organism Interactor B', 'Throughput', 'Score',\n",
       "       'Modification', 'Phenotypes', 'Qualifications', 'Tags',\n",
       "       'Source Database'],\n",
       "      dtype='object')"
      ]
     },
     "execution_count": 7,
     "metadata": {},
     "output_type": "execute_result"
    }
   ],
   "source": [
    "interactions_df.columns"
   ]
  },
  {
   "cell_type": "code",
   "execution_count": 8,
   "metadata": {},
   "outputs": [
    {
     "data": {
      "text/plain": [
       "array(['physical', 'genetic'], dtype=object)"
      ]
     },
     "execution_count": 8,
     "metadata": {},
     "output_type": "execute_result"
    }
   ],
   "source": [
    "interactions_df['Experimental System Type'].unique()"
   ]
  },
  {
   "cell_type": "markdown",
   "metadata": {},
   "source": [
    "## divide the interactions into physical and genetic"
   ]
  },
  {
   "cell_type": "code",
   "execution_count": 9,
   "metadata": {},
   "outputs": [],
   "source": [
    "physical_df = interactions_df[interactions_df['Experimental System Type'] == 'physical'].copy()"
   ]
  },
  {
   "cell_type": "code",
   "execution_count": 10,
   "metadata": {},
   "outputs": [
    {
     "data": {
      "text/plain": [
       "(6350, 24)"
      ]
     },
     "execution_count": 10,
     "metadata": {},
     "output_type": "execute_result"
    }
   ],
   "source": [
    "physical_df.shape"
   ]
  },
  {
   "cell_type": "code",
   "execution_count": 11,
   "metadata": {},
   "outputs": [],
   "source": [
    "physical_df = physical_df[['Official Symbol Interactor A', 'Official Symbol Interactor B']]"
   ]
  },
  {
   "cell_type": "code",
   "execution_count": 12,
   "metadata": {},
   "outputs": [],
   "source": [
    "genetic_df = interactions_df[interactions_df['Experimental System Type'] == 'genetic'].copy()"
   ]
  },
  {
   "cell_type": "code",
   "execution_count": 13,
   "metadata": {},
   "outputs": [
    {
     "data": {
      "text/plain": [
       "(2336, 24)"
      ]
     },
     "execution_count": 13,
     "metadata": {},
     "output_type": "execute_result"
    }
   ],
   "source": [
    "genetic_df.shape"
   ]
  },
  {
   "cell_type": "code",
   "execution_count": 14,
   "metadata": {},
   "outputs": [],
   "source": [
    "genetic_df = genetic_df[['Official Symbol Interactor A', 'Official Symbol Interactor B']]"
   ]
  },
  {
   "cell_type": "markdown",
   "metadata": {},
   "source": [
    "## for converting gene names to NCBI symbol list"
   ]
  },
  {
   "cell_type": "code",
   "execution_count": 15,
   "metadata": {},
   "outputs": [],
   "source": [
    "cElegans_geneInfo = pd.read_csv(\"input/Caenorhabditis_elegans.gene_info-1\", sep=\"\\t\")"
   ]
  },
  {
   "cell_type": "code",
   "execution_count": 16,
   "metadata": {},
   "outputs": [
    {
     "data": {
      "text/html": [
       "<div>\n",
       "<style scoped>\n",
       "    .dataframe tbody tr th:only-of-type {\n",
       "        vertical-align: middle;\n",
       "    }\n",
       "\n",
       "    .dataframe tbody tr th {\n",
       "        vertical-align: top;\n",
       "    }\n",
       "\n",
       "    .dataframe thead th {\n",
       "        text-align: right;\n",
       "    }\n",
       "</style>\n",
       "<table border=\"1\" class=\"dataframe\">\n",
       "  <thead>\n",
       "    <tr style=\"text-align: right;\">\n",
       "      <th></th>\n",
       "      <th>#tax_id</th>\n",
       "      <th>GeneID</th>\n",
       "      <th>Symbol</th>\n",
       "      <th>LocusTag</th>\n",
       "      <th>Synonyms</th>\n",
       "      <th>dbXrefs</th>\n",
       "      <th>chromosome</th>\n",
       "      <th>map_location</th>\n",
       "      <th>description</th>\n",
       "      <th>type_of_gene</th>\n",
       "      <th>Symbol_from_nomenclature_authority</th>\n",
       "      <th>Full_name_from_nomenclature_authority</th>\n",
       "      <th>Nomenclature_status</th>\n",
       "      <th>Other_designations</th>\n",
       "      <th>Modification_date</th>\n",
       "      <th>Feature_type</th>\n",
       "    </tr>\n",
       "  </thead>\n",
       "  <tbody>\n",
       "    <tr>\n",
       "      <th>0</th>\n",
       "      <td>6239</td>\n",
       "      <td>171590</td>\n",
       "      <td>homt-1</td>\n",
       "      <td>CELE_Y74C9A.3</td>\n",
       "      <td>-</td>\n",
       "      <td>WormBase:WBGene00022277</td>\n",
       "      <td>I</td>\n",
       "      <td>-</td>\n",
       "      <td>Alpha N-terminal protein methyltransferase 1</td>\n",
       "      <td>protein-coding</td>\n",
       "      <td>-</td>\n",
       "      <td>-</td>\n",
       "      <td>-</td>\n",
       "      <td>Alpha N-terminal protein methyltransferase 1</td>\n",
       "      <td>20180606</td>\n",
       "      <td>-</td>\n",
       "    </tr>\n",
       "    <tr>\n",
       "      <th>1</th>\n",
       "      <td>6239</td>\n",
       "      <td>171591</td>\n",
       "      <td>nlp-40</td>\n",
       "      <td>CELE_Y74C9A.2</td>\n",
       "      <td>-</td>\n",
       "      <td>WormBase:WBGene00022276</td>\n",
       "      <td>I</td>\n",
       "      <td>-</td>\n",
       "      <td>Peptide P4</td>\n",
       "      <td>protein-coding</td>\n",
       "      <td>-</td>\n",
       "      <td>-</td>\n",
       "      <td>-</td>\n",
       "      <td>Peptide P4</td>\n",
       "      <td>20180606</td>\n",
       "      <td>-</td>\n",
       "    </tr>\n",
       "    <tr>\n",
       "      <th>2</th>\n",
       "      <td>6239</td>\n",
       "      <td>171592</td>\n",
       "      <td>rcor-1</td>\n",
       "      <td>CELE_Y74C9A.4</td>\n",
       "      <td>-</td>\n",
       "      <td>WormBase:WBGene00022278</td>\n",
       "      <td>I</td>\n",
       "      <td>-</td>\n",
       "      <td>RCOR (REST CO-Repressor) homolog</td>\n",
       "      <td>protein-coding</td>\n",
       "      <td>-</td>\n",
       "      <td>-</td>\n",
       "      <td>-</td>\n",
       "      <td>RCOR (REST CO-Repressor) homolog</td>\n",
       "      <td>20180606</td>\n",
       "      <td>-</td>\n",
       "    </tr>\n",
       "    <tr>\n",
       "      <th>3</th>\n",
       "      <td>6239</td>\n",
       "      <td>171593</td>\n",
       "      <td>sesn-1</td>\n",
       "      <td>CELE_Y74C9A.5</td>\n",
       "      <td>-</td>\n",
       "      <td>WormBase:WBGene00022279</td>\n",
       "      <td>I</td>\n",
       "      <td>-</td>\n",
       "      <td>Sestrin homolog</td>\n",
       "      <td>protein-coding</td>\n",
       "      <td>-</td>\n",
       "      <td>-</td>\n",
       "      <td>-</td>\n",
       "      <td>Sestrin homolog</td>\n",
       "      <td>20180606</td>\n",
       "      <td>-</td>\n",
       "    </tr>\n",
       "    <tr>\n",
       "      <th>4</th>\n",
       "      <td>6239</td>\n",
       "      <td>171594</td>\n",
       "      <td>pgs-1</td>\n",
       "      <td>CELE_Y48G1C.4</td>\n",
       "      <td>-</td>\n",
       "      <td>WormBase:WBGene00021677</td>\n",
       "      <td>I</td>\n",
       "      <td>-</td>\n",
       "      <td>CDP-diacylglycerol--glycerol-3-phosphate 3-pho...</td>\n",
       "      <td>protein-coding</td>\n",
       "      <td>-</td>\n",
       "      <td>-</td>\n",
       "      <td>-</td>\n",
       "      <td>CDP-diacylglycerol--glycerol-3-phosphate 3-pho...</td>\n",
       "      <td>20180406</td>\n",
       "      <td>-</td>\n",
       "    </tr>\n",
       "  </tbody>\n",
       "</table>\n",
       "</div>"
      ],
      "text/plain": [
       "   #tax_id  GeneID  Symbol       LocusTag Synonyms                  dbXrefs  \\\n",
       "0     6239  171590  homt-1  CELE_Y74C9A.3        -  WormBase:WBGene00022277   \n",
       "1     6239  171591  nlp-40  CELE_Y74C9A.2        -  WormBase:WBGene00022276   \n",
       "2     6239  171592  rcor-1  CELE_Y74C9A.4        -  WormBase:WBGene00022278   \n",
       "3     6239  171593  sesn-1  CELE_Y74C9A.5        -  WormBase:WBGene00022279   \n",
       "4     6239  171594   pgs-1  CELE_Y48G1C.4        -  WormBase:WBGene00021677   \n",
       "\n",
       "  chromosome map_location                                        description  \\\n",
       "0          I            -       Alpha N-terminal protein methyltransferase 1   \n",
       "1          I            -                                         Peptide P4   \n",
       "2          I            -                   RCOR (REST CO-Repressor) homolog   \n",
       "3          I            -                                    Sestrin homolog   \n",
       "4          I            -  CDP-diacylglycerol--glycerol-3-phosphate 3-pho...   \n",
       "\n",
       "     type_of_gene Symbol_from_nomenclature_authority  \\\n",
       "0  protein-coding                                  -   \n",
       "1  protein-coding                                  -   \n",
       "2  protein-coding                                  -   \n",
       "3  protein-coding                                  -   \n",
       "4  protein-coding                                  -   \n",
       "\n",
       "  Full_name_from_nomenclature_authority Nomenclature_status  \\\n",
       "0                                     -                   -   \n",
       "1                                     -                   -   \n",
       "2                                     -                   -   \n",
       "3                                     -                   -   \n",
       "4                                     -                   -   \n",
       "\n",
       "                                  Other_designations  Modification_date  \\\n",
       "0       Alpha N-terminal protein methyltransferase 1           20180606   \n",
       "1                                         Peptide P4           20180606   \n",
       "2                   RCOR (REST CO-Repressor) homolog           20180606   \n",
       "3                                    Sestrin homolog           20180606   \n",
       "4  CDP-diacylglycerol--glycerol-3-phosphate 3-pho...           20180406   \n",
       "\n",
       "  Feature_type  \n",
       "0            -  \n",
       "1            -  \n",
       "2            -  \n",
       "3            -  \n",
       "4            -  "
      ]
     },
     "execution_count": 16,
     "metadata": {},
     "output_type": "execute_result"
    }
   ],
   "source": [
    "cElegans_geneInfo.head()"
   ]
  },
  {
   "cell_type": "code",
   "execution_count": 17,
   "metadata": {},
   "outputs": [],
   "source": [
    "def build_interactions(df, geneInfo):\n",
    "    interactions = {}\n",
    "    for i,row in enumerate(range(0, df.shape[0])):\n",
    "        \n",
    "        progressPercent = ((i+1)/len(range(0,df.shape[0])))*100\n",
    "        \n",
    "        sys.stdout.write(\"Progress: %d%%  %d Out of %d   \\r\" % (progressPercent, (i+1), len(range(0,df.shape[0]))))\n",
    "        sys.stdout.flush()\n",
    "        \n",
    "        interA = df.iloc[row,0]\n",
    "        interB = df.iloc[row,1]\n",
    "        \n",
    "        ## if name needs to be converted, also drop transcript identifier if gene symbol has a second decimal point\n",
    "        if interA in geneInfo['LocusTag'] :\n",
    "            interA = geneInfo.iloc[geneInfo['LocusTag'] == df.iloc[row,0], 2]\n",
    "        if len(interA.split('.')) > 2:\n",
    "            interA = interA.split('.')[0] + interA.split('.')[1]\n",
    "            \n",
    "        if interB in geneInfo['LocusTag'] :\n",
    "            interB = geneInfo.iloc[geneInfo['LocusTag'] == df.iloc[row,1], 2]\n",
    "        if len(interB.split('.')) > 2:\n",
    "            interB = interB.split('.')[0] + interB[row,1].split('.')[1]\n",
    "        \n",
    "        ## we assume here that the interactions go in both directions\n",
    "        ## therefore we add the hit as a key and the bait as a value\n",
    "        ### there could be a condition to not include self as an interactor\n",
    "        if interA in interactions.keys():\n",
    "            if interB not in interactions[df.iloc[row,0]]:\n",
    "                interactions[interA].append(interB)\n",
    "        else:\n",
    "            interactions[interA] = [interB]\n",
    "            \n",
    "        if interB in interactions.keys():\n",
    "            if interA not in interactions[interB]:\n",
    "                interactions[interB].append(interA)\n",
    "        else:\n",
    "            interactions[interB] = [interA]\n",
    "\n",
    "    return interactions"
   ]
  },
  {
   "cell_type": "markdown",
   "metadata": {},
   "source": [
    "## build dictionaries for each gene"
   ]
  },
  {
   "cell_type": "code",
   "execution_count": 18,
   "metadata": {},
   "outputs": [
    {
     "name": "stdout",
     "output_type": "stream",
     "text": [
      "Progress: 100%  6350 Out of 6350   \r"
     ]
    }
   ],
   "source": [
    "physical_dict = build_interactions(physical_df, cElegans_geneInfo)"
   ]
  },
  {
   "cell_type": "code",
   "execution_count": 19,
   "metadata": {},
   "outputs": [
    {
     "name": "stdout",
     "output_type": "stream",
     "text": [
      "Progress: 100%  2336 Out of 2336   \r"
     ]
    }
   ],
   "source": [
    "genetic_dict = build_interactions(genetic_df, cElegans_geneInfo)"
   ]
  },
  {
   "cell_type": "markdown",
   "metadata": {},
   "source": [
    "## build gmt files from dictionaries"
   ]
  },
  {
   "cell_type": "code",
   "execution_count": 20,
   "metadata": {},
   "outputs": [],
   "source": [
    "## function write a gmt file from the dictionary and outputs the distribution of genes per term\n",
    "def write_gmt(Dict, filename):\n",
    "    \n",
    "    term_sizes = []\n",
    "    with open(filename, 'w') as file:\n",
    "        for key,value in Dict.items():\n",
    "\n",
    "                file.write(str(key) + '\\t' + '\\t')\n",
    "                for element in value:\n",
    "                    file.write(str(element) + '\\t')\n",
    "                file.write('\\n')\n",
    "                term_sizes.append(len(set(value)))\n",
    "    \n",
    "    return term_sizes"
   ]
  },
  {
   "cell_type": "markdown",
   "metadata": {},
   "source": [
    "## analysis of physical interactions library"
   ]
  },
  {
   "cell_type": "code",
   "execution_count": 21,
   "metadata": {},
   "outputs": [],
   "source": [
    "file_physical = 'physical_interactions_biogrid_%s.gmt'% str(datetime.date.today())[0:7].replace('-', '_')\n",
    "physical_term_dist = write_gmt(physical_dict, file_physical)"
   ]
  },
  {
   "cell_type": "code",
   "execution_count": 22,
   "metadata": {},
   "outputs": [
    {
     "data": {
      "text/plain": [
       "3280"
      ]
     },
     "execution_count": 22,
     "metadata": {},
     "output_type": "execute_result"
    }
   ],
   "source": [
    "physical_term_dist = np.asarray(physical_term_dist)\n",
    "len(physical_term_dist)"
   ]
  },
  {
   "cell_type": "code",
   "execution_count": 23,
   "metadata": {},
   "outputs": [
    {
     "data": {
      "text/plain": [
       "3.4902439024390244"
      ]
     },
     "execution_count": 23,
     "metadata": {},
     "output_type": "execute_result"
    }
   ],
   "source": [
    "physical_term_dist.mean()"
   ]
  },
  {
   "cell_type": "code",
   "execution_count": 24,
   "metadata": {},
   "outputs": [
    {
     "data": {
      "text/plain": [
       "7.2435776391008835"
      ]
     },
     "execution_count": 24,
     "metadata": {},
     "output_type": "execute_result"
    }
   ],
   "source": [
    "physical_term_dist.std()"
   ]
  },
  {
   "cell_type": "code",
   "execution_count": 25,
   "metadata": {},
   "outputs": [
    {
     "data": {
      "text/plain": [
       "(array([3.206e+03, 5.100e+01, 1.100e+01, 4.000e+00, 4.000e+00, 3.000e+00,\n",
       "        0.000e+00, 0.000e+00, 0.000e+00, 1.000e+00]),\n",
       " array([  1.,  19.,  37.,  55.,  73.,  91., 109., 127., 145., 163., 181.]),\n",
       " <a list of 10 Patch objects>)"
      ]
     },
     "execution_count": 25,
     "metadata": {},
     "output_type": "execute_result"
    },
    {
     "data": {
      "image/png": "[encoded data removed]",
      "text/plain": [
       "<Figure size 432x288 with 1 Axes>"
      ]
     },
     "metadata": {},
     "output_type": "display_data"
    }
   ],
   "source": [
    "py.hist(physical_term_dist, color='red')"
   ]
  },
  {
   "cell_type": "code",
   "execution_count": 26,
   "metadata": {},
   "outputs": [
    {
     "data": {
      "text/plain": [
       "(array([2247.,  450.,  185.,  122.,   75.,   65.,   30.,   11.,   21.,\n",
       "          16.]),\n",
       " array([ 1.,  3.,  5.,  7.,  9., 11., 13., 15., 17., 19., 21.]),\n",
       " <a list of 10 Patch objects>)"
      ]
     },
     "execution_count": 26,
     "metadata": {},
     "output_type": "execute_result"
    },
    {
     "data": {
      "image/png": "[encoded data removed]",
      "text/plain": [
       "<Figure size 432x288 with 1 Axes>"
      ]
     },
     "metadata": {},
     "output_type": "display_data"
    }
   ],
   "source": [
    "## plot the distribution without the top 10%\n",
    "physical_no_outlier = np.sort(physical_term_dist)[:-58]\n",
    "py.hist(physical_no_outlier, color='pink')"
   ]
  },
  {
   "cell_type": "code",
   "execution_count": 27,
   "metadata": {},
   "outputs": [
    {
     "data": {
      "text/plain": [
       "(array([283.,  27.,   7.,   4.,   4.,   2.,   0.,   0.,   0.,   1.]),\n",
       " array([  7. ,  24.4,  41.8,  59.2,  76.6,  94. , 111.4, 128.8, 146.2,\n",
       "        163.6, 181. ]),\n",
       " <a list of 10 Patch objects>)"
      ]
     },
     "execution_count": 27,
     "metadata": {},
     "output_type": "execute_result"
    },
    {
     "data": {
      "image/png": "[encoded data removed]",
      "text/plain": [
       "<Figure size 432x288 with 1 Axes>"
      ]
     },
     "metadata": {},
     "output_type": "display_data"
    }
   ],
   "source": [
    "## plot only the top 10% of the terms\n",
    "physical_top_ten_percent = np.sort(physical_term_dist)[round(len(physical_term_dist)- .1*len(physical_term_dist)):]\n",
    "py.hist(physical_top_ten_percent, color = 'maroon')"
   ]
  },
  {
   "cell_type": "code",
   "execution_count": 28,
   "metadata": {},
   "outputs": [
    {
     "data": {
      "text/plain": [
       "468"
      ]
     },
     "execution_count": 28,
     "metadata": {},
     "output_type": "execute_result"
    }
   ],
   "source": [
    "sum(physical_term_dist > 5)"
   ]
  },
  {
   "cell_type": "markdown",
   "metadata": {},
   "source": [
    "## analysis of genetic interactions"
   ]
  },
  {
   "cell_type": "code",
   "execution_count": 29,
   "metadata": {},
   "outputs": [],
   "source": [
    "file_genetic = 'genetic_interactions_biogrid_%s.gmt'% str(datetime.date.today())[0:7].replace('-', '_')\n",
    "genetic_term_dist = write_gmt(genetic_dict, file_genetic)"
   ]
  },
  {
   "cell_type": "code",
   "execution_count": 30,
   "metadata": {},
   "outputs": [
    {
     "data": {
      "text/plain": [
       "1130"
      ]
     },
     "execution_count": 30,
     "metadata": {},
     "output_type": "execute_result"
    }
   ],
   "source": [
    "genetic_term_dist = np.asarray(genetic_term_dist)\n",
    "len(genetic_term_dist)"
   ]
  },
  {
   "cell_type": "code",
   "execution_count": 31,
   "metadata": {},
   "outputs": [
    {
     "data": {
      "text/plain": [
       "4.012389380530974"
      ]
     },
     "execution_count": 31,
     "metadata": {},
     "output_type": "execute_result"
    }
   ],
   "source": [
    "genetic_term_dist.mean()"
   ]
  },
  {
   "cell_type": "code",
   "execution_count": 32,
   "metadata": {},
   "outputs": [
    {
     "data": {
      "text/plain": [
       "20.04234072468805"
      ]
     },
     "execution_count": 32,
     "metadata": {},
     "output_type": "execute_result"
    }
   ],
   "source": [
    "genetic_term_dist.std()"
   ]
  },
  {
   "cell_type": "code",
   "execution_count": 33,
   "metadata": {},
   "outputs": [
    {
     "data": {
      "text/plain": [
       "(array([1.117e+03, 6.000e+00, 3.000e+00, 3.000e+00, 0.000e+00, 0.000e+00,\n",
       "        0.000e+00, 0.000e+00, 0.000e+00, 1.000e+00]),\n",
       " array([  1. ,  52.9, 104.8, 156.7, 208.6, 260.5, 312.4, 364.3, 416.2,\n",
       "        468.1, 520. ]),\n",
       " <a list of 10 Patch objects>)"
      ]
     },
     "execution_count": 33,
     "metadata": {},
     "output_type": "execute_result"
    },
    {
     "data": {
      "image/png": "[encoded data removed]",
      "text/plain": [
       "<Figure size 432x288 with 1 Axes>"
      ]
     },
     "metadata": {},
     "output_type": "display_data"
    }
   ],
   "source": [
    "py.hist(genetic_term_dist)"
   ]
  },
  {
   "cell_type": "code",
   "execution_count": 34,
   "metadata": {},
   "outputs": [
    {
     "data": {
      "text/plain": [
       "(array([1.02e+03, 6.40e+01, 2.10e+01, 5.00e+00, 3.00e+00, 0.00e+00,\n",
       "        2.00e+00, 0.00e+00, 1.00e+00, 1.00e+00]),\n",
       " array([ 1.,  6., 11., 16., 21., 26., 31., 36., 41., 46., 51.]),\n",
       " <a list of 10 Patch objects>)"
      ]
     },
     "execution_count": 34,
     "metadata": {},
     "output_type": "execute_result"
    },
    {
     "data": {
      "image/png": "[encoded data removed]",
      "text/plain": [
       "<Figure size 432x288 with 1 Axes>"
      ]
     },
     "metadata": {},
     "output_type": "display_data"
    }
   ],
   "source": [
    "## plot the distribution without the top 10%\n",
    "genetic_no_outlier = np.sort(genetic_term_dist)[:-13]\n",
    "py.hist(genetic_no_outlier, color='cyan')"
   ]
  },
  {
   "cell_type": "code",
   "execution_count": 35,
   "metadata": {},
   "outputs": [
    {
     "data": {
      "text/plain": [
       "(array([101.,   6.,   2.,   3.,   0.,   0.,   0.,   0.,   0.,   1.]),\n",
       " array([  5. ,  56.5, 108. , 159.5, 211. , 262.5, 314. , 365.5, 417. ,\n",
       "        468.5, 520. ]),\n",
       " <a list of 10 Patch objects>)"
      ]
     },
     "execution_count": 35,
     "metadata": {},
     "output_type": "execute_result"
    },
    {
     "data": {
      "image/png": "[encoded data removed]",
      "text/plain": [
       "<Figure size 432x288 with 1 Axes>"
      ]
     },
     "metadata": {},
     "output_type": "display_data"
    }
   ],
   "source": [
    "## plot only the top 10% of the terms\n",
    "genetic_top_ten_percent = np.sort(genetic_term_dist)[round(len(genetic_term_dist)- .1*len(genetic_term_dist)):]\n",
    "py.hist(genetic_top_ten_percent, color = 'navy')"
   ]
  },
  {
   "cell_type": "code",
   "execution_count": 36,
   "metadata": {},
   "outputs": [
    {
     "data": {
      "text/plain": [
       "110"
      ]
     },
     "execution_count": 36,
     "metadata": {},
     "output_type": "execute_result"
    }
   ],
   "source": [
    "sum(genetic_term_dist > 5)"
   ]
  },
  {
   "cell_type": "markdown",
   "metadata": {},
   "source": [
    "## create gmt files for only hubs (> 5 interactors) and elminate some large outliers (> 175 interactors)"
   ]
  },
  {
   "cell_type": "code",
   "execution_count": 37,
   "metadata": {},
   "outputs": [],
   "source": [
    "## function write a gmt file from the dictionary and outputs the distribution of genes per term\n",
    "def write_gmt(Dict, filename):\n",
    "    \n",
    "    term_sizes = []\n",
    "    with open(filename, 'w') as file:\n",
    "        for key,value in Dict.items():\n",
    "            \n",
    "            if len(set(value)) > 5 and len(set(value)) < 175:\n",
    "                file.write(str(key) + '\\t' + '\\t')\n",
    "                for element in value:\n",
    "                    file.write(str(element) + '\\t')\n",
    "                file.write('\\n')\n",
    "                term_sizes.append(len(set(value)))\n",
    "    \n",
    "    return term_sizes"
   ]
  },
  {
   "cell_type": "code",
   "execution_count": 38,
   "metadata": {},
   "outputs": [],
   "source": [
    "file_physical = 'physical_interactions_hubs_biogrid_%s.gmt'% str(datetime.date.today())[0:7].replace('-', '_')\n",
    "physical_term_dist = write_gmt(physical_dict, file_physical) "
   ]
  },
  {
   "cell_type": "code",
   "execution_count": 39,
   "metadata": {},
   "outputs": [],
   "source": [
    "file_genetic = 'genetic_interactions_hubs_biogrid_%s.gmt'% str(datetime.date.today())[0:7].replace('-', '_')\n",
    "genetic_term_dist = write_gmt(genetic_dict, file_genetic)"
   ]
  },
  {
   "cell_type": "markdown",
   "metadata": {},
   "source": [
    "## get gmt stats for both physical and genetic interaction hub gmts"
   ]
  },
  {
   "cell_type": "code",
   "execution_count": 40,
   "metadata": {},
   "outputs": [],
   "source": [
    "def getTermStats(loaded_gmt, geneInfoTable, num_samplings, num_genes_in_sampling) :\n",
    "    # get the relevant terms and set a dictionary for them\n",
    "    term_set = loaded_gmt.iloc[:,0].apply(lambda x: x.split(\"\\t\")[0])\n",
    "    term_genes_dict = {term_set[i]: loaded_gmt.iloc[i,0].split(\"\\t\")[2:] for i in range(0, loaded_gmt.shape[0])}\n",
    "    term_rank_dict = {k: [] for k in term_set}\n",
    "    term_stats_dict = {k: [] for k in term_set}\n",
    "    \n",
    "    # get the total number of genes in the organism\n",
    "    n_genes = len(geneInfoTable[\"Symbol\"].unique())\n",
    "    \n",
    "    # number of genes per sampling, number of times to sample\n",
    "    genes_in_sampleing = num_genes_in_sampling\n",
    "    num_samplings = num_samplings\n",
    "    \n",
    "    for i,x in enumerate(range(0,num_samplings)):\n",
    "        \n",
    "        progressPercent = ((i+1)/len(range(0,num_samplings)))*100\n",
    "        \n",
    "        sys.stdout.write(\"Progress: %d%%  %d Out of %d   \\r\" % (progressPercent, (i+1), len(range(0,num_samplings))))\n",
    "        sys.stdout.flush()\n",
    "            \n",
    "        \n",
    "        randomSet = set(geneInfoTable[\"Symbol\"].sample(genes_in_sampleing).apply(lambda x: x.split('.')[0]))\n",
    "        \n",
    "        # initialize an array to hold the pvalue for each term\n",
    "        pvals = np.array([])\n",
    "        for key in term_rank_dict.keys():\n",
    "            \n",
    "            termSet = set(term_genes_dict[key])\n",
    "            # calculate p value using fisher exact test\n",
    "            # implemented using the formula found in the GeneOverap bioconductor package for R\n",
    "            pval_term = stat.fisher_exact([[n_genes - len(termSet.union(randomSet)), len(randomSet.difference(termSet))], [len(termSet.difference(randomSet)), len(termSet.intersection(randomSet))]])[1]\n",
    "            pvals = np.append(pvals, [pval_term])\n",
    "        \n",
    "        # sort the pvals and add the rank to the term_rank dict\n",
    "        sorted_pvals = pvals.argsort()\n",
    "        \n",
    "        # find the rank for each term by sorting the pvals array and getting the index of the key position in the\n",
    "        # sorted list. Need to +1 because the index begins with 0\n",
    "        \n",
    "        for j,key in enumerate(term_rank_dict.keys()):\n",
    "            term_rank_dict[key].append(np.where(sorted_pvals == j)[0][0] + 1)\n",
    "            \n",
    "    for key in term_rank_dict:\n",
    "        term_stats_dict[key] = [np.mean(term_rank_dict[key]), np.std(term_rank_dict[key])]\n",
    "            \n",
    "    \n",
    "    \n",
    "    return term_stats_dict"
   ]
  },
  {
   "cell_type": "code",
   "execution_count": 41,
   "metadata": {},
   "outputs": [],
   "source": [
    "## get the protein coding set for the simulations\n",
    "cElegans_proteinCoding = cElegans_geneInfo[cElegans_geneInfo['type_of_gene'] == 'protein-coding']"
   ]
  },
  {
   "cell_type": "code",
   "execution_count": 42,
   "metadata": {},
   "outputs": [
    {
     "data": {
      "text/plain": [
       "pandas.core.frame.DataFrame"
      ]
     },
     "execution_count": 42,
     "metadata": {},
     "output_type": "execute_result"
    }
   ],
   "source": [
    "physical_gmt = pd.read_csv(\"output/physical_interactions_hubs_biogrid_2018_07.gmt\", sep=\"~\", header=None)\n",
    "type(physical_gmt)"
   ]
  },
  {
   "cell_type": "code",
   "execution_count": 43,
   "metadata": {},
   "outputs": [
    {
     "data": {
      "text/plain": [
       "pandas.core.frame.DataFrame"
      ]
     },
     "execution_count": 43,
     "metadata": {},
     "output_type": "execute_result"
    }
   ],
   "source": [
    "genetic_gmt = pd.read_csv(\"output/genetic_interactions_hubs_biogrid_2018_07.gmt\", sep=\"~\", header=None)\n",
    "type(genetic_gmt)"
   ]
  },
  {
   "cell_type": "code",
   "execution_count": 44,
   "metadata": {},
   "outputs": [
    {
     "name": "stdout",
     "output_type": "stream",
     "text": [
      "Progress: 100%  200 Out of 200   \r"
     ]
    }
   ],
   "source": [
    "physical_stats = getTermStats(physical_gmt, cElegans_proteinCoding, 200, 300)"
   ]
  },
  {
   "cell_type": "code",
   "execution_count": 45,
   "metadata": {},
   "outputs": [
    {
     "name": "stdout",
     "output_type": "stream",
     "text": [
      "Progress: 100%  200 Out of 200   \r"
     ]
    }
   ],
   "source": [
    "genetic_stats = getTermStats(genetic_gmt, cElegans_proteinCoding, 200, 300)"
   ]
  },
  {
   "cell_type": "code",
   "execution_count": 46,
   "metadata": {},
   "outputs": [],
   "source": [
    "df_physical_stats = pd.DataFrame.from_dict(physical_stats, orient='index', columns=['mean', 'sd'])\n",
    "df_genetic_stats = pd.DataFrame.from_dict(genetic_stats, orient='index', columns=['mean', 'sd'])"
   ]
  },
  {
   "cell_type": "code",
   "execution_count": 47,
   "metadata": {},
   "outputs": [],
   "source": [
    "df_physical_stats.to_csv('output/physical_interactions_hubs_biogrid_2018_06_stats.tsv', sep='\\t', header=False)\n",
    "df_genetic_stats.to_csv('output/genetic_interactions_hubs_biogrid_2018_06_stats.tsv', sep='\\t', header=False)"
   ]
  }
 ],
 "metadata": {
  "kernelspec": {
   "display_name": "Python 3",
   "language": "python",
   "name": "python3"
  },
  "language_info": {
   "codemirror_mode": {
    "name": "ipython",
    "version": 3
   },
   "file_extension": ".py",
   "mimetype": "text/x-python",
   "name": "python",
   "nbconvert_exporter": "python",
   "pygments_lexer": "ipython3",
   "version": "3.6.5"
  }
 },
 "nbformat": 4,
 "nbformat_minor": 2
}
