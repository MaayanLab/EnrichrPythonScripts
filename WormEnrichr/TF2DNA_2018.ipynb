{
 "cells": [
  {
   "cell_type": "markdown",
   "metadata": {},
   "source": [
    "# TF2DNA Transcription Factor Target Library"
   ]
  },
  {
   "cell_type": "markdown",
   "metadata": {},
   "source": [
    "Author: Zachary Flamholz  \n",
    "Date: 07-2018  \n",
    "Database: http://fiserlab.org/tf2dna_db//index.html   \n",
    "Data: http://fiserlab.org/tf2dna_db//downloads.html  "
   ]
  },
  {
   "cell_type": "code",
   "execution_count": 1,
   "metadata": {},
   "outputs": [],
   "source": [
    "import pandas as pd\n",
    "import numpy as np\n",
    "import glob\n",
    "import sys\n",
    "import datetime"
   ]
  },
  {
   "cell_type": "markdown",
   "metadata": {},
   "source": [
    "# Versions of Modules in Use"
   ]
  },
  {
   "cell_type": "code",
   "execution_count": 2,
   "metadata": {},
   "outputs": [
    {
     "data": {
      "application/json": {
       "Software versions": [
        {
         "module": "Python",
         "version": "3.6.5 64bit [GCC 4.2.1 Compatible Apple LLVM 9.1.0 (clang-902.0.39.1)]"
        },
        {
         "module": "IPython",
         "version": "6.4.0"
        },
        {
         "module": "OS",
         "version": "Darwin 17.5.0 x86_64 i386 64bit"
        },
        {
         "module": "numpy",
         "version": "1.14.5"
        },
        {
         "module": "pandas",
         "version": "0.23.1"
        }
       ]
      },
      "text/html": [
       "<table><tr><th>Software</th><th>Version</th></tr><tr><td>Python</td><td>3.6.5 64bit [GCC 4.2.1 Compatible Apple LLVM 9.1.0 (clang-902.0.39.1)]</td></tr><tr><td>IPython</td><td>6.4.0</td></tr><tr><td>OS</td><td>Darwin 17.5.0 x86_64 i386 64bit</td></tr><tr><td>numpy</td><td>1.14.5</td></tr><tr><td>pandas</td><td>0.23.1</td></tr><tr><td colspan='2'>Wed Jul 18 13:04:08 2018 EDT</td></tr></table>"
      ],
      "text/latex": [
       "\\begin{tabular}{|l|l|}\\hline\n",
       "{\\bf Software} & {\\bf Version} \\\\ \\hline\\hline\n",
       "Python & 3.6.5 64bit [GCC 4.2.1 Compatible Apple LLVM 9.1.0 (clang-902.0.39.1)] \\\\ \\hline\n",
       "IPython & 6.4.0 \\\\ \\hline\n",
       "OS & Darwin 17.5.0 x86\\_64 i386 64bit \\\\ \\hline\n",
       "numpy & 1.14.5 \\\\ \\hline\n",
       "pandas & 0.23.1 \\\\ \\hline\n",
       "\\hline \\multicolumn{2}{|l|}{Wed Jul 18 13:04:08 2018 EDT} \\\\ \\hline\n",
       "\\end{tabular}\n"
      ],
      "text/plain": [
       "Software versions\n",
       "Python 3.6.5 64bit [GCC 4.2.1 Compatible Apple LLVM 9.1.0 (clang-902.0.39.1)]\n",
       "IPython 6.4.0\n",
       "OS Darwin 17.5.0 x86_64 i386 64bit\n",
       "numpy 1.14.5\n",
       "pandas 0.23.1\n",
       "Wed Jul 18 13:04:08 2018 EDT"
      ]
     },
     "execution_count": 2,
     "metadata": {},
     "output_type": "execute_result"
    }
   ],
   "source": [
    "%load_ext version_information\n",
    "%version_information numpy, pandas"
   ]
  },
  {
   "cell_type": "markdown",
   "metadata": {},
   "source": [
    "## read in data, different experiments are different files"
   ]
  },
  {
   "cell_type": "code",
   "execution_count": 3,
   "metadata": {},
   "outputs": [],
   "source": [
    "path = 'input/TF2DNA_worm/*'\n",
    "folders = glob.glob(path)\n",
    "names = []\n",
    "dfs = []\n",
    "for folder in folders:\n",
    "    path2 = folder + '/*.pscan'\n",
    "    files = glob.glob(path2)\n",
    "    \n",
    "    for file in files:\n",
    "        \n",
    "        dirs = file.split('/')\n",
    "\n",
    "        desc = dirs[2].split('_')\n",
    "        \n",
    "        exper = dirs[3].split('.')\n",
    "        \n",
    "        ## the name has the form TF_PMID, this becomes the term name\n",
    "        names.append(exper[0] + '_' + desc[3])\n",
    "        \n",
    "        dfs.append(pd.read_csv(file, sep='\\t', header=0))"
   ]
  },
  {
   "cell_type": "code",
   "execution_count": 4,
   "metadata": {},
   "outputs": [
    {
     "data": {
      "text/html": [
       "<div>\n",
       "<style scoped>\n",
       "    .dataframe tbody tr th:only-of-type {\n",
       "        vertical-align: middle;\n",
       "    }\n",
       "\n",
       "    .dataframe tbody tr th {\n",
       "        vertical-align: top;\n",
       "    }\n",
       "\n",
       "    .dataframe thead th {\n",
       "        text-align: right;\n",
       "    }\n",
       "</style>\n",
       "<table border=\"1\" class=\"dataframe\">\n",
       "  <thead>\n",
       "    <tr style=\"text-align: right;\">\n",
       "      <th></th>\n",
       "      <th>tf_name</th>\n",
       "      <th>target_name</th>\n",
       "      <th>start_position</th>\n",
       "      <th>end_position</th>\n",
       "      <th>direction</th>\n",
       "      <th>binding_score</th>\n",
       "      <th>p_value</th>\n",
       "      <th>binding_sites</th>\n",
       "    </tr>\n",
       "  </thead>\n",
       "  <tbody>\n",
       "    <tr>\n",
       "      <th>0</th>\n",
       "      <td>ceh-22</td>\n",
       "      <td>C27D8.1</td>\n",
       "      <td>12717410</td>\n",
       "      <td>12718010</td>\n",
       "      <td>(+)</td>\n",
       "      <td>962.91</td>\n",
       "      <td>0.000412</td>\n",
       "      <td>12717661:962.91:0.000412</td>\n",
       "    </tr>\n",
       "    <tr>\n",
       "      <th>1</th>\n",
       "      <td>ceh-22</td>\n",
       "      <td>F16F9.4</td>\n",
       "      <td>8463177</td>\n",
       "      <td>8463777</td>\n",
       "      <td>(-)</td>\n",
       "      <td>886.53</td>\n",
       "      <td>0.000597</td>\n",
       "      <td>8463269:886.53:0.000597</td>\n",
       "    </tr>\n",
       "    <tr>\n",
       "      <th>2</th>\n",
       "      <td>ceh-22</td>\n",
       "      <td>C17A2.3</td>\n",
       "      <td>3843110</td>\n",
       "      <td>3843710</td>\n",
       "      <td>(+)</td>\n",
       "      <td>1077.50</td>\n",
       "      <td>0.000187</td>\n",
       "      <td>3843543:1077.50:0.000187 3843458:899.26:0.000550</td>\n",
       "    </tr>\n",
       "    <tr>\n",
       "      <th>3</th>\n",
       "      <td>ceh-22</td>\n",
       "      <td>tam-1</td>\n",
       "      <td>4962880</td>\n",
       "      <td>4963480</td>\n",
       "      <td>(-)</td>\n",
       "      <td>937.45</td>\n",
       "      <td>0.000484</td>\n",
       "      <td>4962958:937.45:0.000484</td>\n",
       "    </tr>\n",
       "    <tr>\n",
       "      <th>4</th>\n",
       "      <td>ceh-22</td>\n",
       "      <td>scl-3</td>\n",
       "      <td>13059103</td>\n",
       "      <td>13059703</td>\n",
       "      <td>(+)</td>\n",
       "      <td>861.06</td>\n",
       "      <td>0.000650</td>\n",
       "      <td>13059166:861.06:0.000650</td>\n",
       "    </tr>\n",
       "  </tbody>\n",
       "</table>\n",
       "</div>"
      ],
      "text/plain": [
       "  tf_name target_name  start_position  end_position direction  binding_score  \\\n",
       "0  ceh-22     C27D8.1        12717410      12718010       (+)         962.91   \n",
       "1  ceh-22     F16F9.4         8463177       8463777       (-)         886.53   \n",
       "2  ceh-22     C17A2.3         3843110       3843710       (+)        1077.50   \n",
       "3  ceh-22       tam-1         4962880       4963480       (-)         937.45   \n",
       "4  ceh-22       scl-3        13059103      13059703       (+)         861.06   \n",
       "\n",
       "    p_value                                     binding_sites  \n",
       "0  0.000412                          12717661:962.91:0.000412  \n",
       "1  0.000597                           8463269:886.53:0.000597  \n",
       "2  0.000187  3843543:1077.50:0.000187 3843458:899.26:0.000550  \n",
       "3  0.000484                           4962958:937.45:0.000484  \n",
       "4  0.000650                          13059166:861.06:0.000650  "
      ]
     },
     "execution_count": 4,
     "metadata": {},
     "output_type": "execute_result"
    }
   ],
   "source": [
    "dfs[1].head()"
   ]
  },
  {
   "cell_type": "code",
   "execution_count": 145,
   "metadata": {},
   "outputs": [
    {
     "data": {
      "text/plain": [
       "'nsy-7_PMID-19204119'"
      ]
     },
     "execution_count": 145,
     "metadata": {},
     "output_type": "execute_result"
    }
   ],
   "source": [
    "names[0]"
   ]
  },
  {
   "cell_type": "code",
   "execution_count": 146,
   "metadata": {},
   "outputs": [
    {
     "name": "stdout",
     "output_type": "stream",
     "text": [
      "7111\n",
      "6960\n",
      "17325\n",
      "13945\n",
      "8688\n",
      "11420\n",
      "11461\n",
      "11188\n",
      "6536\n",
      "9953\n",
      "14497\n",
      "8623\n",
      "7391\n",
      "5170\n",
      "3306\n",
      "8232\n",
      "8766\n",
      "9934\n",
      "11296\n",
      "9402\n",
      "10551\n",
      "10260\n",
      "7281\n",
      "6351\n",
      "9809\n",
      "6812\n",
      "7121\n",
      "3630\n",
      "14832\n",
      "9089\n",
      "9015\n",
      "18344\n",
      "9805\n",
      "7048\n",
      "7774\n",
      "11883\n",
      "16141\n",
      "8188\n",
      "5525\n",
      "13098\n",
      "8293\n",
      "14797\n",
      "7938\n",
      "6085\n",
      "13963\n",
      "8894\n",
      "7683\n",
      "1606\n",
      "4092\n",
      "6140\n",
      "5840\n",
      "4207\n",
      "5523\n",
      "5213\n",
      "5795\n",
      "2809\n",
      "7127\n",
      "14899\n",
      "7051\n",
      "11005\n"
     ]
    }
   ],
   "source": [
    "for exper in dfs:\n",
    "    print(len(exper))"
   ]
  },
  {
   "cell_type": "code",
   "execution_count": 147,
   "metadata": {},
   "outputs": [
    {
     "data": {
      "text/plain": [
       "0.000288"
      ]
     },
     "execution_count": 147,
     "metadata": {},
     "output_type": "execute_result"
    }
   ],
   "source": [
    "np.sort(np.array(dfs[1]['p_value']))[2000]"
   ]
  },
  {
   "cell_type": "markdown",
   "metadata": {},
   "source": [
    "## write gmt file from data"
   ]
  },
  {
   "cell_type": "code",
   "execution_count": 148,
   "metadata": {},
   "outputs": [],
   "source": [
    "## writing gmt files\n",
    "filename = 'TF2DNA_worm_%s.gmt'% str(datetime.date.today())[0:7].replace('-', '_')\n",
    "file = open(filename,'w+')\n",
    "lengths = []\n",
    "lengths_kept = []\n",
    "for i,exper in enumerate(dfs):\n",
    "    \n",
    "    if len(exper) > 2000:\n",
    "        val = np.sort(np.array(exper['p_value']))[2000]\n",
    "        test = exper[exper['p_value'] < val]\n",
    "\n",
    "        ## sometimes a lot of targets have the same binding score so the number of genes gets very low\n",
    "        if (len(test) < 100):\n",
    "            exper = exper[exper['p_value'] < val + .00001]\n",
    "        else:\n",
    "            exper = test\n",
    "            \n",
    "    lengths.append(len(exper))\n",
    "    \n",
    "    ## discard experiments with too many or too few targets\n",
    "    if len(exper) > 2999:\n",
    "        continue\n",
    "        \n",
    "    if len(exper) < 5:\n",
    "        continue\n",
    "    \n",
    "    lengths_kept.append(len(exper))\n",
    "    file.write(\"%s\" % names[i] + '\\t')\n",
    "    file.write(\"\\t\")\n",
    "    genes = exper['target_name'].unique()\n",
    "    for gene in genes:\n",
    "        file.write(\"%s\\t\" % gene)\n",
    "    file.write(\"\\n\")\n",
    "\n",
    "file.close()"
   ]
  },
  {
   "cell_type": "code",
   "execution_count": 149,
   "metadata": {},
   "outputs": [],
   "source": [
    "lengths = np.array(lengths)\n",
    "lengths_kept = np.array(lengths_kept)"
   ]
  },
  {
   "cell_type": "code",
   "execution_count": 150,
   "metadata": {},
   "outputs": [
    {
     "data": {
      "text/plain": [
       "4193"
      ]
     },
     "execution_count": 150,
     "metadata": {},
     "output_type": "execute_result"
    }
   ],
   "source": [
    "lengths.max()"
   ]
  },
  {
   "cell_type": "code",
   "execution_count": 151,
   "metadata": {},
   "outputs": [
    {
     "data": {
      "text/plain": [
       "2503"
      ]
     },
     "execution_count": 151,
     "metadata": {},
     "output_type": "execute_result"
    }
   ],
   "source": [
    "lengths_kept.max()"
   ]
  },
  {
   "cell_type": "code",
   "execution_count": 152,
   "metadata": {},
   "outputs": [
    {
     "data": {
      "text/plain": [
       "1"
      ]
     },
     "execution_count": 152,
     "metadata": {},
     "output_type": "execute_result"
    }
   ],
   "source": [
    "len(lengths) - len(lengths_kept)"
   ]
  }
 ],
 "metadata": {
  "kernelspec": {
   "display_name": "Python 3",
   "language": "python",
   "name": "python3"
  },
  "language_info": {
   "codemirror_mode": {
    "name": "ipython",
    "version": 3
   },
   "file_extension": ".py",
   "mimetype": "text/x-python",
   "name": "python",
   "nbconvert_exporter": "python",
   "pygments_lexer": "ipython3",
   "version": "3.6.5"
  }
 },
 "nbformat": 4,
 "nbformat_minor": 2
}
