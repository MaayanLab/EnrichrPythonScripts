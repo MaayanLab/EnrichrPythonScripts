{
 "cells": [
  {
   "cell_type": "markdown",
   "metadata": {},
   "source": [
    "# Wikipathways Worm 2018"
   ]
  },
  {
   "cell_type": "markdown",
   "metadata": {},
   "source": [
    "Author: Zachary Flamholz  \n",
    "Date: 07-2018  \n",
    "Database: https://www.wikipathways.org/    \n",
    "Data: http://data.wikipathways.org/20180610/gpml/wikipathways-20180610-gpml-Caenorhabditis_elegans.zip v. 20180610 (10 June 2018)           \n",
    "Companion file: http://ftp.ncbi.nlm.nih.gov/gene/DATA/GENE_INFO/Invertebrates/Caenorhabditis_elegans.gene_info.gz    "
   ]
  },
  {
   "cell_type": "markdown",
   "metadata": {},
   "source": [
    "## import libraries"
   ]
  },
  {
   "cell_type": "code",
   "execution_count": 1,
   "metadata": {},
   "outputs": [],
   "source": [
    "import numpy as np\n",
    "import pandas as pd\n",
    "import sys, datetime\n",
    "import scipy.stats as stat\n",
    "import matplotlib\n",
    "from matplotlib import pyplot as py"
   ]
  },
  {
   "cell_type": "markdown",
   "metadata": {},
   "source": [
    "# Versions of Modules in use"
   ]
  },
  {
   "cell_type": "code",
   "execution_count": 2,
   "metadata": {},
   "outputs": [
    {
     "data": {
      "text/html": [
       "<table><tr><th>Software</th><th>Version</th></tr><tr><td>Python</td><td>3.6.5 64bit [GCC 4.2.1 Compatible Apple LLVM 9.1.0 (clang-902.0.39.1)]</td></tr><tr><td>IPython</td><td>6.4.0</td></tr><tr><td>OS</td><td>Darwin 17.5.0 x86_64 i386 64bit</td></tr><tr><td>numpy</td><td>1.14.5</td></tr><tr><td>pandas</td><td>0.23.1</td></tr><tr><td colspan='2'>Tue Jul 10 11:20:32 2018 EDT</td></tr></table>"
      ],
      "text/plain": [
       "Software versions\n",
       "Python 3.6.5 64bit [GCC 4.2.1 Compatible Apple LLVM 9.1.0 (clang-902.0.39.1)]\n",
       "IPython 6.4.0\n",
       "OS Darwin 17.5.0 x86_64 i386 64bit\n",
       "numpy 1.14.5\n",
       "pandas 0.23.1\n",
       "Tue Jul 10 11:20:32 2018 EDT"
      ]
     },
     "execution_count": 2,
     "metadata": {},
     "output_type": "execute_result"
    }
   ],
   "source": [
    "%load_ext version_information\n",
    "%version_information numpy, pandas"
   ]
  },
  {
   "cell_type": "markdown",
   "metadata": {},
   "source": [
    "## read in data "
   ]
  },
  {
   "cell_type": "code",
   "execution_count": 3,
   "metadata": {},
   "outputs": [],
   "source": [
    "df = pd.read_csv('input/wikipathways_Celegans_2018', sep = '~', header=None)"
   ]
  },
  {
   "cell_type": "code",
   "execution_count": 4,
   "metadata": {},
   "outputs": [
    {
     "data": {
      "text/html": [
       "<div>\n",
       "<style scoped>\n",
       "    .dataframe tbody tr th:only-of-type {\n",
       "        vertical-align: middle;\n",
       "    }\n",
       "\n",
       "    .dataframe tbody tr th {\n",
       "        vertical-align: top;\n",
       "    }\n",
       "\n",
       "    .dataframe thead th {\n",
       "        text-align: right;\n",
       "    }\n",
       "</style>\n",
       "<table border=\"1\" class=\"dataframe\">\n",
       "  <thead>\n",
       "    <tr style=\"text-align: right;\">\n",
       "      <th></th>\n",
       "      <th>0</th>\n",
       "    </tr>\n",
       "  </thead>\n",
       "  <tbody>\n",
       "    <tr>\n",
       "      <th>0</th>\n",
       "      <td>Cell engulfment%WikiPathways_20180610%WP2226%C...</td>\n",
       "    </tr>\n",
       "    <tr>\n",
       "      <th>1</th>\n",
       "      <td>Proteasome Degradation%WikiPathways_20180610%W...</td>\n",
       "    </tr>\n",
       "    <tr>\n",
       "      <th>2</th>\n",
       "      <td>Valine, leucine and isoleucine degradation%Wik...</td>\n",
       "    </tr>\n",
       "    <tr>\n",
       "      <th>3</th>\n",
       "      <td>RTK/Ras/MAPK -  LET-23, EGL-15 independent%Wik...</td>\n",
       "    </tr>\n",
       "    <tr>\n",
       "      <th>4</th>\n",
       "      <td>Triacylglyceride Synthesis%WikiPathways_201806...</td>\n",
       "    </tr>\n",
       "  </tbody>\n",
       "</table>\n",
       "</div>"
      ],
      "text/plain": [
       "                                                   0\n",
       "0  Cell engulfment%WikiPathways_20180610%WP2226%C...\n",
       "1  Proteasome Degradation%WikiPathways_20180610%W...\n",
       "2  Valine, leucine and isoleucine degradation%Wik...\n",
       "3  RTK/Ras/MAPK -  LET-23, EGL-15 independent%Wik...\n",
       "4  Triacylglyceride Synthesis%WikiPathways_201806..."
      ]
     },
     "execution_count": 4,
     "metadata": {},
     "output_type": "execute_result"
    }
   ],
   "source": [
    "df.head()"
   ]
  },
  {
   "cell_type": "code",
   "execution_count": 5,
   "metadata": {
    "scrolled": true
   },
   "outputs": [
    {
     "data": {
      "text/plain": [
       "0    Cell engulfment%WikiPathways_20180610%WP2226%C...\n",
       "Name: 0, dtype: object"
      ]
     },
     "execution_count": 5,
     "metadata": {},
     "output_type": "execute_result"
    }
   ],
   "source": [
    "df.iloc[0]"
   ]
  },
  {
   "cell_type": "code",
   "execution_count": 6,
   "metadata": {},
   "outputs": [],
   "source": [
    "cElegans_geneInfo = pd.read_csv(\"input/Caenorhabditis_elegans.gene_info-1\", sep=\"\\t\")"
   ]
  },
  {
   "cell_type": "markdown",
   "metadata": {},
   "source": [
    "## load NCBI reference for converting ENTREZ gene ID to gene symbol"
   ]
  },
  {
   "cell_type": "code",
   "execution_count": 7,
   "metadata": {},
   "outputs": [
    {
     "data": {
      "text/html": [
       "<div>\n",
       "<style scoped>\n",
       "    .dataframe tbody tr th:only-of-type {\n",
       "        vertical-align: middle;\n",
       "    }\n",
       "\n",
       "    .dataframe tbody tr th {\n",
       "        vertical-align: top;\n",
       "    }\n",
       "\n",
       "    .dataframe thead th {\n",
       "        text-align: right;\n",
       "    }\n",
       "</style>\n",
       "<table border=\"1\" class=\"dataframe\">\n",
       "  <thead>\n",
       "    <tr style=\"text-align: right;\">\n",
       "      <th></th>\n",
       "      <th>#tax_id</th>\n",
       "      <th>GeneID</th>\n",
       "      <th>Symbol</th>\n",
       "      <th>LocusTag</th>\n",
       "      <th>Synonyms</th>\n",
       "      <th>dbXrefs</th>\n",
       "      <th>chromosome</th>\n",
       "      <th>map_location</th>\n",
       "      <th>description</th>\n",
       "      <th>type_of_gene</th>\n",
       "      <th>Symbol_from_nomenclature_authority</th>\n",
       "      <th>Full_name_from_nomenclature_authority</th>\n",
       "      <th>Nomenclature_status</th>\n",
       "      <th>Other_designations</th>\n",
       "      <th>Modification_date</th>\n",
       "      <th>Feature_type</th>\n",
       "    </tr>\n",
       "  </thead>\n",
       "  <tbody>\n",
       "    <tr>\n",
       "      <th>0</th>\n",
       "      <td>6239</td>\n",
       "      <td>171590</td>\n",
       "      <td>homt-1</td>\n",
       "      <td>CELE_Y74C9A.3</td>\n",
       "      <td>-</td>\n",
       "      <td>WormBase:WBGene00022277</td>\n",
       "      <td>I</td>\n",
       "      <td>-</td>\n",
       "      <td>Alpha N-terminal protein methyltransferase 1</td>\n",
       "      <td>protein-coding</td>\n",
       "      <td>-</td>\n",
       "      <td>-</td>\n",
       "      <td>-</td>\n",
       "      <td>Alpha N-terminal protein methyltransferase 1</td>\n",
       "      <td>20180606</td>\n",
       "      <td>-</td>\n",
       "    </tr>\n",
       "    <tr>\n",
       "      <th>1</th>\n",
       "      <td>6239</td>\n",
       "      <td>171591</td>\n",
       "      <td>nlp-40</td>\n",
       "      <td>CELE_Y74C9A.2</td>\n",
       "      <td>-</td>\n",
       "      <td>WormBase:WBGene00022276</td>\n",
       "      <td>I</td>\n",
       "      <td>-</td>\n",
       "      <td>Peptide P4</td>\n",
       "      <td>protein-coding</td>\n",
       "      <td>-</td>\n",
       "      <td>-</td>\n",
       "      <td>-</td>\n",
       "      <td>Peptide P4</td>\n",
       "      <td>20180606</td>\n",
       "      <td>-</td>\n",
       "    </tr>\n",
       "    <tr>\n",
       "      <th>2</th>\n",
       "      <td>6239</td>\n",
       "      <td>171592</td>\n",
       "      <td>rcor-1</td>\n",
       "      <td>CELE_Y74C9A.4</td>\n",
       "      <td>-</td>\n",
       "      <td>WormBase:WBGene00022278</td>\n",
       "      <td>I</td>\n",
       "      <td>-</td>\n",
       "      <td>RCOR (REST CO-Repressor) homolog</td>\n",
       "      <td>protein-coding</td>\n",
       "      <td>-</td>\n",
       "      <td>-</td>\n",
       "      <td>-</td>\n",
       "      <td>RCOR (REST CO-Repressor) homolog</td>\n",
       "      <td>20180606</td>\n",
       "      <td>-</td>\n",
       "    </tr>\n",
       "    <tr>\n",
       "      <th>3</th>\n",
       "      <td>6239</td>\n",
       "      <td>171593</td>\n",
       "      <td>sesn-1</td>\n",
       "      <td>CELE_Y74C9A.5</td>\n",
       "      <td>-</td>\n",
       "      <td>WormBase:WBGene00022279</td>\n",
       "      <td>I</td>\n",
       "      <td>-</td>\n",
       "      <td>Sestrin homolog</td>\n",
       "      <td>protein-coding</td>\n",
       "      <td>-</td>\n",
       "      <td>-</td>\n",
       "      <td>-</td>\n",
       "      <td>Sestrin homolog</td>\n",
       "      <td>20180606</td>\n",
       "      <td>-</td>\n",
       "    </tr>\n",
       "    <tr>\n",
       "      <th>4</th>\n",
       "      <td>6239</td>\n",
       "      <td>171594</td>\n",
       "      <td>pgs-1</td>\n",
       "      <td>CELE_Y48G1C.4</td>\n",
       "      <td>-</td>\n",
       "      <td>WormBase:WBGene00021677</td>\n",
       "      <td>I</td>\n",
       "      <td>-</td>\n",
       "      <td>CDP-diacylglycerol--glycerol-3-phosphate 3-pho...</td>\n",
       "      <td>protein-coding</td>\n",
       "      <td>-</td>\n",
       "      <td>-</td>\n",
       "      <td>-</td>\n",
       "      <td>CDP-diacylglycerol--glycerol-3-phosphate 3-pho...</td>\n",
       "      <td>20180406</td>\n",
       "      <td>-</td>\n",
       "    </tr>\n",
       "  </tbody>\n",
       "</table>\n",
       "</div>"
      ],
      "text/plain": [
       "   #tax_id  GeneID  Symbol       LocusTag Synonyms                  dbXrefs  \\\n",
       "0     6239  171590  homt-1  CELE_Y74C9A.3        -  WormBase:WBGene00022277   \n",
       "1     6239  171591  nlp-40  CELE_Y74C9A.2        -  WormBase:WBGene00022276   \n",
       "2     6239  171592  rcor-1  CELE_Y74C9A.4        -  WormBase:WBGene00022278   \n",
       "3     6239  171593  sesn-1  CELE_Y74C9A.5        -  WormBase:WBGene00022279   \n",
       "4     6239  171594   pgs-1  CELE_Y48G1C.4        -  WormBase:WBGene00021677   \n",
       "\n",
       "  chromosome map_location                                        description  \\\n",
       "0          I            -       Alpha N-terminal protein methyltransferase 1   \n",
       "1          I            -                                         Peptide P4   \n",
       "2          I            -                   RCOR (REST CO-Repressor) homolog   \n",
       "3          I            -                                    Sestrin homolog   \n",
       "4          I            -  CDP-diacylglycerol--glycerol-3-phosphate 3-pho...   \n",
       "\n",
       "     type_of_gene Symbol_from_nomenclature_authority  \\\n",
       "0  protein-coding                                  -   \n",
       "1  protein-coding                                  -   \n",
       "2  protein-coding                                  -   \n",
       "3  protein-coding                                  -   \n",
       "4  protein-coding                                  -   \n",
       "\n",
       "  Full_name_from_nomenclature_authority Nomenclature_status  \\\n",
       "0                                     -                   -   \n",
       "1                                     -                   -   \n",
       "2                                     -                   -   \n",
       "3                                     -                   -   \n",
       "4                                     -                   -   \n",
       "\n",
       "                                  Other_designations  Modification_date  \\\n",
       "0       Alpha N-terminal protein methyltransferase 1           20180606   \n",
       "1                                         Peptide P4           20180606   \n",
       "2                   RCOR (REST CO-Repressor) homolog           20180606   \n",
       "3                                    Sestrin homolog           20180606   \n",
       "4  CDP-diacylglycerol--glycerol-3-phosphate 3-pho...           20180406   \n",
       "\n",
       "  Feature_type  \n",
       "0            -  \n",
       "1            -  \n",
       "2            -  \n",
       "3            -  \n",
       "4            -  "
      ]
     },
     "execution_count": 7,
     "metadata": {},
     "output_type": "execute_result"
    }
   ],
   "source": [
    "cElegans_geneInfo.head()"
   ]
  },
  {
   "cell_type": "code",
   "execution_count": 8,
   "metadata": {},
   "outputs": [],
   "source": [
    "cElegans_proteinCoding = cElegans_geneInfo[cElegans_geneInfo[\"type_of_gene\"] == \"protein-coding\"]"
   ]
  },
  {
   "cell_type": "code",
   "execution_count": 9,
   "metadata": {},
   "outputs": [
    {
     "data": {
      "text/plain": [
       "numpy.int64"
      ]
     },
     "execution_count": 9,
     "metadata": {},
     "output_type": "execute_result"
    }
   ],
   "source": [
    "type(cElegans_geneInfo.iloc[0, 1])"
   ]
  },
  {
   "cell_type": "code",
   "execution_count": 10,
   "metadata": {},
   "outputs": [
    {
     "data": {
      "text/plain": [
       "'pgs-1'"
      ]
     },
     "execution_count": 10,
     "metadata": {},
     "output_type": "execute_result"
    }
   ],
   "source": [
    "cElegans_geneInfo.loc[cElegans_geneInfo['GeneID'] == 171594]['Symbol'].iloc[0]"
   ]
  },
  {
   "cell_type": "markdown",
   "metadata": {},
   "source": [
    "## build a dictionary of terms and genes"
   ]
  },
  {
   "cell_type": "code",
   "execution_count": 11,
   "metadata": {},
   "outputs": [],
   "source": [
    "pathway_dict = {}\n",
    "for row in df.itertuples():\n",
    "    splits = row[1].split('\\t')\n",
    "    term_split = splits[0].split('%')\n",
    "    term = term_split[0] + '_' + term_split[2]\n",
    "    pathway_dict[term] = []\n",
    "    for i in range(2, len(splits)):\n",
    "        pathway_dict[term].append(cElegans_geneInfo.loc[cElegans_geneInfo['GeneID'] == int(splits[i])]['Symbol'].iloc[0])"
   ]
  },
  {
   "cell_type": "markdown",
   "metadata": {},
   "source": [
    "## numbers for the library"
   ]
  },
  {
   "cell_type": "code",
   "execution_count": 12,
   "metadata": {},
   "outputs": [
    {
     "data": {
      "text/plain": [
       "58"
      ]
     },
     "execution_count": 12,
     "metadata": {},
     "output_type": "execute_result"
    }
   ],
   "source": [
    "## number of terms\n",
    "len(pathway_dict.keys())"
   ]
  },
  {
   "cell_type": "code",
   "execution_count": 13,
   "metadata": {},
   "outputs": [],
   "source": [
    "dist = []\n",
    "for i in list(pathway_dict.values()):\n",
    "    dist.append(len(i))"
   ]
  },
  {
   "cell_type": "code",
   "execution_count": 14,
   "metadata": {},
   "outputs": [
    {
     "data": {
      "text/plain": [
       "(array([47.,  5.,  2.,  1.,  2.,  0.,  0.,  0.,  0.,  1.]),\n",
       " array([  1. ,  26.5,  52. ,  77.5, 103. , 128.5, 154. , 179.5, 205. ,\n",
       "        230.5, 256. ]),\n",
       " <a list of 10 Patch objects>)"
      ]
     },
     "execution_count": 14,
     "metadata": {},
     "output_type": "execute_result"
    },
    {
     "data": {
      "image/png": "[encoded data removed]",
      "text/plain": [
       "<Figure size 432x288 with 1 Axes>"
      ]
     },
     "metadata": {},
     "output_type": "display_data"
    }
   ],
   "source": [
    "py.hist(dist, color='red')"
   ]
  },
  {
   "cell_type": "code",
   "execution_count": 15,
   "metadata": {},
   "outputs": [
    {
     "data": {
      "text/plain": [
       "['ced-9',\n",
       " 'ced-3',\n",
       " 'ced-2',\n",
       " 'psr-1',\n",
       " 'ced-5',\n",
       " 'ced-6',\n",
       " 'egl-1',\n",
       " 'ced-4',\n",
       " 'ced-1',\n",
       " 'ced-7',\n",
       " 'ced-10']"
      ]
     },
     "execution_count": 15,
     "metadata": {},
     "output_type": "execute_result"
    }
   ],
   "source": [
    "pathway_dict['Cell engulfment_WP2226']"
   ]
  },
  {
   "cell_type": "markdown",
   "metadata": {},
   "source": [
    "## build gmt"
   ]
  },
  {
   "cell_type": "code",
   "execution_count": 16,
   "metadata": {},
   "outputs": [
    {
     "name": "stdout",
     "output_type": "stream",
     "text": [
      "Progress: 100%  58 Out of 58   \r"
     ]
    }
   ],
   "source": [
    "filename = 'wikipathways_worm_%s.gmt'% str(datetime.date.today())[0:7].replace('-', '_')\n",
    "file = open(filename,'w+') \n",
    "terms = pathway_dict.keys()\n",
    "for i,term in enumerate(terms):\n",
    "    \n",
    "    progressPercent = ((i+1)/len(terms))*100\n",
    "    sys.stdout.write(\"Progress: %d%%  %d Out of %d   \\r\" % (progressPercent, (i+1), len(terms)))\n",
    "    sys.stdout.flush()\n",
    "    \n",
    "    if len(pathway_dict[term]) > 4:\n",
    "        file.write(\"%s\\t\" % term)\n",
    "        file.write(\"\\t\")\n",
    "        genes = pathway_dict[term]\n",
    "    \n",
    "        for gene in genes:\n",
    "              file.write(\"%s\\t\" % gene)\n",
    "        file.write(\"\\n\")\n",
    "        \n",
    "file.close()"
   ]
  },
  {
   "cell_type": "markdown",
   "metadata": {},
   "source": [
    "## get gmt stats"
   ]
  },
  {
   "cell_type": "code",
   "execution_count": 18,
   "metadata": {},
   "outputs": [],
   "source": [
    "def getTermStats(loaded_gmt, geneInfoTable, num_samplings, num_genes_in_sampling) :\n",
    "    # get the relevant terms and set a dictionary for them\n",
    "    term_set = loaded_gmt.iloc[:,0].apply(lambda x: x.split(\"\\t\")[0])\n",
    "    term_genes_dict = {term_set[i]: loaded_gmt.iloc[i,0].split(\"\\t\")[2:] for i in range(0, loaded_gmt.shape[0])}\n",
    "    term_rank_dict = {k: [] for k in term_set}\n",
    "    term_stats_dict = {k: [] for k in term_set}\n",
    "    \n",
    "    # get the total number of genes in the organism\n",
    "    n_genes = len(geneInfoTable[\"Symbol\"].unique())\n",
    "    \n",
    "    # number of genes per sampling, number of times to sample\n",
    "    genes_in_sampleing = num_genes_in_sampling\n",
    "    num_samplings = num_samplings\n",
    "    \n",
    "    for i,x in enumerate(range(0,num_samplings)):\n",
    "        \n",
    "        progressPercent = ((i+1)/len(range(0,num_samplings)))*100\n",
    "        \n",
    "        sys.stdout.write(\"Progress: %d%%  %d Out of %d   \\r\" % (progressPercent, (i+1), len(range(0,num_samplings))))\n",
    "        sys.stdout.flush()\n",
    "            \n",
    "        \n",
    "        randomSet = set(geneInfoTable[\"Symbol\"].sample(genes_in_sampleing))\n",
    "        \n",
    "        # initialize an array to hold the pvalue for each term\n",
    "        pvals = np.array([])\n",
    "        for key in term_rank_dict.keys():\n",
    "            \n",
    "            termSet = set(term_genes_dict[key])\n",
    "            # calculate p value using fisher exact test\n",
    "            # implemented using the formula found in the GeneOverap bioconductor package for R\n",
    "            pval_term = stat.fisher_exact([[n_genes - len(termSet.union(randomSet)), len(randomSet.difference(termSet))], [len(termSet.difference(randomSet)), len(termSet.intersection(randomSet))]])[1]\n",
    "            pvals = np.append(pvals, [pval_term])\n",
    "        \n",
    "        # sort the pvals and add the rank to the term_rank dict\n",
    "        sorted_pvals = pvals.argsort()\n",
    "        \n",
    "        # find the rank for each term by sorting the pvals array and getting the index of the key position in the\n",
    "        # sorted list. Need to +1 because the index begins with 0\n",
    "        \n",
    "        for j,key in enumerate(term_rank_dict.keys()):\n",
    "            term_rank_dict[key].append(np.where(sorted_pvals == j)[0][0] + 1)\n",
    "            \n",
    "    for key in term_rank_dict:\n",
    "        term_stats_dict[key] = [np.mean(term_rank_dict[key]), np.std(term_rank_dict[key])]\n",
    "            \n",
    "    \n",
    "    \n",
    "    return term_stats_dict"
   ]
  },
  {
   "cell_type": "code",
   "execution_count": 19,
   "metadata": {},
   "outputs": [],
   "source": [
    "## load gmt\n",
    "wikipathway_gmt = pd.read_csv(\"wikipathways_greater4_2018_07.gmt\", sep=\"~\", header=None)"
   ]
  },
  {
   "cell_type": "code",
   "execution_count": 20,
   "metadata": {},
   "outputs": [
    {
     "data": {
      "text/html": [
       "<div>\n",
       "<style scoped>\n",
       "    .dataframe tbody tr th:only-of-type {\n",
       "        vertical-align: middle;\n",
       "    }\n",
       "\n",
       "    .dataframe tbody tr th {\n",
       "        vertical-align: top;\n",
       "    }\n",
       "\n",
       "    .dataframe thead th {\n",
       "        text-align: right;\n",
       "    }\n",
       "</style>\n",
       "<table border=\"1\" class=\"dataframe\">\n",
       "  <thead>\n",
       "    <tr style=\"text-align: right;\">\n",
       "      <th></th>\n",
       "      <th>0</th>\n",
       "    </tr>\n",
       "  </thead>\n",
       "  <tbody>\n",
       "    <tr>\n",
       "      <th>0</th>\n",
       "      <td>Cell engulfment_WP2226\\t\\tced-9\\tced-3\\tced-2\\...</td>\n",
       "    </tr>\n",
       "    <tr>\n",
       "      <th>1</th>\n",
       "      <td>Proteasome Degradation_WP470\\t\\trpn-3\\tpbs-3\\t...</td>\n",
       "    </tr>\n",
       "    <tr>\n",
       "      <th>2</th>\n",
       "      <td>Valine, leucine and isoleucine degradation_WP1...</td>\n",
       "    </tr>\n",
       "    <tr>\n",
       "      <th>3</th>\n",
       "      <td>Triacylglyceride Synthesis_WP212\\t\\tacl-2\\tgly...</td>\n",
       "    </tr>\n",
       "    <tr>\n",
       "      <th>4</th>\n",
       "      <td>Fatty Acid Biosynthesis_WP38\\t\\tacly-1\\tF54C8....</td>\n",
       "    </tr>\n",
       "  </tbody>\n",
       "</table>\n",
       "</div>"
      ],
      "text/plain": [
       "                                                   0\n",
       "0  Cell engulfment_WP2226\\t\\tced-9\\tced-3\\tced-2\\...\n",
       "1  Proteasome Degradation_WP470\\t\\trpn-3\\tpbs-3\\t...\n",
       "2  Valine, leucine and isoleucine degradation_WP1...\n",
       "3  Triacylglyceride Synthesis_WP212\\t\\tacl-2\\tgly...\n",
       "4  Fatty Acid Biosynthesis_WP38\\t\\tacly-1\\tF54C8...."
      ]
     },
     "execution_count": 20,
     "metadata": {},
     "output_type": "execute_result"
    }
   ],
   "source": [
    "wikipathway_gmt.head()"
   ]
  },
  {
   "cell_type": "code",
   "execution_count": 21,
   "metadata": {},
   "outputs": [
    {
     "name": "stdout",
     "output_type": "stream",
     "text": [
      "Progress: 100%  200 Out of 200   \r"
     ]
    }
   ],
   "source": [
    "iterations_200 = getTermStats(wikipathway_gmt, cElegans_proteinCoding, num_samplings=200, num_genes_in_sampling=300)"
   ]
  },
  {
   "cell_type": "code",
   "execution_count": 22,
   "metadata": {},
   "outputs": [],
   "source": [
    "df_200_iterations = pd.DataFrame.from_dict(iterations_200, orient='index', columns = ['mean', 'sd'])\n",
    "df_200_iterations.to_csv('output/wikipathways_worm_2018_07_stats.tsv', sep='\\t', header=False)"
   ]
  }
 ],
 "metadata": {
  "kernelspec": {
   "display_name": "Python 3",
   "language": "python",
   "name": "python3"
  },
  "language_info": {
   "codemirror_mode": {
    "name": "ipython",
    "version": 3
   },
   "file_extension": ".py",
   "mimetype": "text/x-python",
   "name": "python",
   "nbconvert_exporter": "python",
   "pygments_lexer": "ipython3",
   "version": "3.6.5"
  }
 },
 "nbformat": 4,
 "nbformat_minor": 2
}
