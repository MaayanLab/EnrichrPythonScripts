{
 "cells": [
  {
   "cell_type": "markdown",
   "metadata": {},
   "source": [
    "# Anotomical Association Wormbase WP266"
   ]
  },
  {
   "cell_type": "markdown",
   "metadata": {},
   "source": [
    "Author: Zachary Flamholz  \n",
    "Date: 07-2018  \n",
    "Database: https://wormbase.org/#012-34-5  \n",
    "Data: ftp://ftp.wormbase.org/pub/wormbase/releases/WS266/ONTOLOGY/anatomy_association.WS266.wb, ftp://ftp.wormbase.org/pub/wormbase/releases/WS266/ONTOLOGY/anatomy_ontology.WS266.obo  "
   ]
  },
  {
   "cell_type": "markdown",
   "metadata": {},
   "source": [
    "# Versions of modules in use"
   ]
  },
  {
   "cell_type": "code",
   "execution_count": 3,
   "metadata": {},
   "outputs": [
    {
     "name": "stdout",
     "output_type": "stream",
     "text": [
      "The version_information extension is already loaded. To reload it, use:\n",
      "  %reload_ext version_information\n"
     ]
    },
    {
     "data": {
      "application/json": {
       "Software versions": [
        {
         "module": "Python",
         "version": "3.6.5 64bit [GCC 4.2.1 Compatible Apple LLVM 9.1.0 (clang-902.0.39.1)]"
        },
        {
         "module": "IPython",
         "version": "6.4.0"
        },
        {
         "module": "OS",
         "version": "Darwin 17.5.0 x86_64 i386 64bit"
        },
        {
         "module": "numpy",
         "version": "1.14.5"
        },
        {
         "module": "pandas",
         "version": "0.23.1"
        }
       ]
      },
      "text/html": [
       "<table><tr><th>Software</th><th>Version</th></tr><tr><td>Python</td><td>3.6.5 64bit [GCC 4.2.1 Compatible Apple LLVM 9.1.0 (clang-902.0.39.1)]</td></tr><tr><td>IPython</td><td>6.4.0</td></tr><tr><td>OS</td><td>Darwin 17.5.0 x86_64 i386 64bit</td></tr><tr><td>numpy</td><td>1.14.5</td></tr><tr><td>pandas</td><td>0.23.1</td></tr><tr><td colspan='2'>Mon Jul 30 13:13:20 2018 EDT</td></tr></table>"
      ],
      "text/latex": [
       "\\begin{tabular}{|l|l|}\\hline\n",
       "{\\bf Software} & {\\bf Version} \\\\ \\hline\\hline\n",
       "Python & 3.6.5 64bit [GCC 4.2.1 Compatible Apple LLVM 9.1.0 (clang-902.0.39.1)] \\\\ \\hline\n",
       "IPython & 6.4.0 \\\\ \\hline\n",
       "OS & Darwin 17.5.0 x86\\_64 i386 64bit \\\\ \\hline\n",
       "numpy & 1.14.5 \\\\ \\hline\n",
       "pandas & 0.23.1 \\\\ \\hline\n",
       "\\hline \\multicolumn{2}{|l|}{Mon Jul 30 13:13:20 2018 EDT} \\\\ \\hline\n",
       "\\end{tabular}\n"
      ],
      "text/plain": [
       "Software versions\n",
       "Python 3.6.5 64bit [GCC 4.2.1 Compatible Apple LLVM 9.1.0 (clang-902.0.39.1)]\n",
       "IPython 6.4.0\n",
       "OS Darwin 17.5.0 x86_64 i386 64bit\n",
       "numpy 1.14.5\n",
       "pandas 0.23.1\n",
       "Mon Jul 30 13:13:20 2018 EDT"
      ]
     },
     "execution_count": 3,
     "metadata": {},
     "output_type": "execute_result"
    }
   ],
   "source": [
    "%load_ext version_information\n",
    "%version_information numpy, pandas"
   ]
  },
  {
   "cell_type": "markdown",
   "metadata": {},
   "source": [
    "## load libraries"
   ]
  },
  {
   "cell_type": "code",
   "execution_count": 64,
   "metadata": {},
   "outputs": [],
   "source": [
    "import pandas as pd\n",
    "import numpy as np\n",
    "import sys, datetime\n",
    "import networkx\n",
    "import obonet\n",
    "import goenrich\n",
    "import matplotlib as mat\n",
    "from matplotlib import pyplot as py"
   ]
  },
  {
   "cell_type": "markdown",
   "metadata": {},
   "source": [
    "## read in data"
   ]
  },
  {
   "cell_type": "code",
   "execution_count": 334,
   "metadata": {},
   "outputs": [],
   "source": [
    "wb_anatomy = pd.read_csv('in_production/anatomy_association.WS266.wb', sep='\\t', header=None)"
   ]
  },
  {
   "cell_type": "code",
   "execution_count": 335,
   "metadata": {},
   "outputs": [
    {
     "data": {
      "text/html": [
       "<div>\n",
       "<style scoped>\n",
       "    .dataframe tbody tr th:only-of-type {\n",
       "        vertical-align: middle;\n",
       "    }\n",
       "\n",
       "    .dataframe tbody tr th {\n",
       "        vertical-align: top;\n",
       "    }\n",
       "\n",
       "    .dataframe thead th {\n",
       "        text-align: right;\n",
       "    }\n",
       "</style>\n",
       "<table border=\"1\" class=\"dataframe\">\n",
       "  <thead>\n",
       "    <tr style=\"text-align: right;\">\n",
       "      <th></th>\n",
       "      <th>0</th>\n",
       "      <th>1</th>\n",
       "      <th>2</th>\n",
       "      <th>3</th>\n",
       "      <th>4</th>\n",
       "      <th>5</th>\n",
       "      <th>6</th>\n",
       "      <th>7</th>\n",
       "      <th>8</th>\n",
       "      <th>9</th>\n",
       "      <th>10</th>\n",
       "      <th>11</th>\n",
       "      <th>12</th>\n",
       "      <th>13</th>\n",
       "      <th>14</th>\n",
       "      <th>15</th>\n",
       "      <th>16</th>\n",
       "    </tr>\n",
       "  </thead>\n",
       "  <tbody>\n",
       "    <tr>\n",
       "      <th>0</th>\n",
       "      <td>WB</td>\n",
       "      <td>WBGene00000001</td>\n",
       "      <td>aap-1</td>\n",
       "      <td>Certain</td>\n",
       "      <td>WBbt:0003679</td>\n",
       "      <td>WB_REF:WBPaper00005614</td>\n",
       "      <td>IDA</td>\n",
       "      <td>WB:Expr2275</td>\n",
       "      <td>A</td>\n",
       "      <td>NaN</td>\n",
       "      <td>Y110A7A.10</td>\n",
       "      <td>gene</td>\n",
       "      <td>taxon:6239</td>\n",
       "      <td>20180609</td>\n",
       "      <td>WB</td>\n",
       "      <td>NaN</td>\n",
       "      <td>NaN</td>\n",
       "    </tr>\n",
       "    <tr>\n",
       "      <th>1</th>\n",
       "      <td>WB</td>\n",
       "      <td>WBGene00000001</td>\n",
       "      <td>aap-1</td>\n",
       "      <td>Enriched</td>\n",
       "      <td>WBbt:0003679</td>\n",
       "      <td>WB_REF:WBPaper00030839</td>\n",
       "      <td>IDA</td>\n",
       "      <td>WB:WBPaper00030839:Larval_Pan_Neuronal</td>\n",
       "      <td>A</td>\n",
       "      <td>NaN</td>\n",
       "      <td>Y110A7A.10</td>\n",
       "      <td>gene</td>\n",
       "      <td>taxon:6239</td>\n",
       "      <td>20180609</td>\n",
       "      <td>WB</td>\n",
       "      <td>NaN</td>\n",
       "      <td>NaN</td>\n",
       "    </tr>\n",
       "    <tr>\n",
       "      <th>2</th>\n",
       "      <td>WB</td>\n",
       "      <td>WBGene00000001</td>\n",
       "      <td>aap-1</td>\n",
       "      <td>Uncertain</td>\n",
       "      <td>WBbt:0005733</td>\n",
       "      <td>WB_REF:WBPaper00005614</td>\n",
       "      <td>IDA</td>\n",
       "      <td>WB:Expr2275</td>\n",
       "      <td>A</td>\n",
       "      <td>NaN</td>\n",
       "      <td>Y110A7A.10</td>\n",
       "      <td>gene</td>\n",
       "      <td>taxon:6239</td>\n",
       "      <td>20180609</td>\n",
       "      <td>WB</td>\n",
       "      <td>NaN</td>\n",
       "      <td>NaN</td>\n",
       "    </tr>\n",
       "    <tr>\n",
       "      <th>3</th>\n",
       "      <td>WB</td>\n",
       "      <td>WBGene00000001</td>\n",
       "      <td>aap-1</td>\n",
       "      <td>Certain</td>\n",
       "      <td>WBbt:0005772</td>\n",
       "      <td>WB_REF:WBPaper00005614</td>\n",
       "      <td>IDA</td>\n",
       "      <td>WB:Expr2275</td>\n",
       "      <td>A</td>\n",
       "      <td>NaN</td>\n",
       "      <td>Y110A7A.10</td>\n",
       "      <td>gene</td>\n",
       "      <td>taxon:6239</td>\n",
       "      <td>20180609</td>\n",
       "      <td>WB</td>\n",
       "      <td>NaN</td>\n",
       "      <td>NaN</td>\n",
       "    </tr>\n",
       "    <tr>\n",
       "      <th>4</th>\n",
       "      <td>WB</td>\n",
       "      <td>WBGene00000001</td>\n",
       "      <td>aap-1</td>\n",
       "      <td>Enriched</td>\n",
       "      <td>WBbt:0005784</td>\n",
       "      <td>WB_REF:WBPaper00051039</td>\n",
       "      <td>IDA</td>\n",
       "      <td>WB:WBPaper00051039:germline_enriched</td>\n",
       "      <td>A</td>\n",
       "      <td>NaN</td>\n",
       "      <td>Y110A7A.10</td>\n",
       "      <td>gene</td>\n",
       "      <td>taxon:6239</td>\n",
       "      <td>20180609</td>\n",
       "      <td>WB</td>\n",
       "      <td>NaN</td>\n",
       "      <td>NaN</td>\n",
       "    </tr>\n",
       "  </tbody>\n",
       "</table>\n",
       "</div>"
      ],
      "text/plain": [
       "   0               1      2          3             4                       5   \\\n",
       "0  WB  WBGene00000001  aap-1    Certain  WBbt:0003679  WB_REF:WBPaper00005614   \n",
       "1  WB  WBGene00000001  aap-1   Enriched  WBbt:0003679  WB_REF:WBPaper00030839   \n",
       "2  WB  WBGene00000001  aap-1  Uncertain  WBbt:0005733  WB_REF:WBPaper00005614   \n",
       "3  WB  WBGene00000001  aap-1    Certain  WBbt:0005772  WB_REF:WBPaper00005614   \n",
       "4  WB  WBGene00000001  aap-1   Enriched  WBbt:0005784  WB_REF:WBPaper00051039   \n",
       "\n",
       "    6                                       7  8   9           10    11  \\\n",
       "0  IDA                             WB:Expr2275  A NaN  Y110A7A.10  gene   \n",
       "1  IDA  WB:WBPaper00030839:Larval_Pan_Neuronal  A NaN  Y110A7A.10  gene   \n",
       "2  IDA                             WB:Expr2275  A NaN  Y110A7A.10  gene   \n",
       "3  IDA                             WB:Expr2275  A NaN  Y110A7A.10  gene   \n",
       "4  IDA    WB:WBPaper00051039:germline_enriched  A NaN  Y110A7A.10  gene   \n",
       "\n",
       "           12        13  14  15  16  \n",
       "0  taxon:6239  20180609  WB NaN NaN  \n",
       "1  taxon:6239  20180609  WB NaN NaN  \n",
       "2  taxon:6239  20180609  WB NaN NaN  \n",
       "3  taxon:6239  20180609  WB NaN NaN  \n",
       "4  taxon:6239  20180609  WB NaN NaN  "
      ]
     },
     "execution_count": 335,
     "metadata": {},
     "output_type": "execute_result"
    }
   ],
   "source": [
    "wb_anatomy.head()"
   ]
  },
  {
   "cell_type": "code",
   "execution_count": 336,
   "metadata": {},
   "outputs": [
    {
     "data": {
      "text/plain": [
       "(146621, 17)"
      ]
     },
     "execution_count": 336,
     "metadata": {},
     "output_type": "execute_result"
    }
   ],
   "source": [
    "wb_anatomy.shape"
   ]
  },
  {
   "cell_type": "code",
   "execution_count": 337,
   "metadata": {},
   "outputs": [
    {
     "data": {
      "text/plain": [
       "1"
      ]
     },
     "execution_count": 337,
     "metadata": {},
     "output_type": "execute_result"
    }
   ],
   "source": [
    "len(wb_anatomy.iloc[:,6].unique())"
   ]
  },
  {
   "cell_type": "code",
   "execution_count": 338,
   "metadata": {},
   "outputs": [
    {
     "data": {
      "text/plain": [
       "11438"
      ]
     },
     "execution_count": 338,
     "metadata": {},
     "output_type": "execute_result"
    }
   ],
   "source": [
    "len(wb_anatomy.iloc[:,7].unique())"
   ]
  },
  {
   "cell_type": "code",
   "execution_count": 339,
   "metadata": {},
   "outputs": [
    {
     "data": {
      "text/plain": [
       "array(['taxon:6239'], dtype=object)"
      ]
     },
     "execution_count": 339,
     "metadata": {},
     "output_type": "execute_result"
    }
   ],
   "source": [
    "wb_anatomy.iloc[:,12].unique()"
   ]
  },
  {
   "cell_type": "code",
   "execution_count": 340,
   "metadata": {},
   "outputs": [
    {
     "data": {
      "text/plain": [
       "array(['Certain', 'Enriched', 'Uncertain', nan, 'Partial'], dtype=object)"
      ]
     },
     "execution_count": 340,
     "metadata": {},
     "output_type": "execute_result"
    }
   ],
   "source": [
    "wb_anatomy.iloc[:,3].unique()"
   ]
  },
  {
   "cell_type": "code",
   "execution_count": 341,
   "metadata": {},
   "outputs": [],
   "source": [
    "wb_anatomy = wb_anatomy.dropna(subset=[3])"
   ]
  },
  {
   "cell_type": "code",
   "execution_count": 342,
   "metadata": {},
   "outputs": [],
   "source": [
    "wb_anatomy_cut = wb_anatomy[wb_anatomy.iloc[:,3] != 'Uncertain']"
   ]
  },
  {
   "cell_type": "code",
   "execution_count": 343,
   "metadata": {},
   "outputs": [],
   "source": [
    "wb_anatomy_cut = wb_anatomy_cut[wb_anatomy_cut.iloc[:,3] != 'Partial']\n",
    "wb_anatomy_cut = wb_anatomy_cut[wb_anatomy_cut.iloc[:,3] != 'Enriched']"
   ]
  },
  {
   "cell_type": "code",
   "execution_count": 344,
   "metadata": {},
   "outputs": [
    {
     "data": {
      "text/plain": [
       "array(['Certain'], dtype=object)"
      ]
     },
     "execution_count": 344,
     "metadata": {},
     "output_type": "execute_result"
    }
   ],
   "source": [
    "wb_anatomy_cut.iloc[:,3].unique()"
   ]
  },
  {
   "cell_type": "code",
   "execution_count": 345,
   "metadata": {},
   "outputs": [
    {
     "data": {
      "text/html": [
       "<div>\n",
       "<style scoped>\n",
       "    .dataframe tbody tr th:only-of-type {\n",
       "        vertical-align: middle;\n",
       "    }\n",
       "\n",
       "    .dataframe tbody tr th {\n",
       "        vertical-align: top;\n",
       "    }\n",
       "\n",
       "    .dataframe thead th {\n",
       "        text-align: right;\n",
       "    }\n",
       "</style>\n",
       "<table border=\"1\" class=\"dataframe\">\n",
       "  <thead>\n",
       "    <tr style=\"text-align: right;\">\n",
       "      <th></th>\n",
       "      <th>0</th>\n",
       "      <th>1</th>\n",
       "      <th>2</th>\n",
       "      <th>3</th>\n",
       "      <th>4</th>\n",
       "      <th>5</th>\n",
       "      <th>6</th>\n",
       "      <th>7</th>\n",
       "      <th>8</th>\n",
       "      <th>9</th>\n",
       "      <th>10</th>\n",
       "      <th>11</th>\n",
       "      <th>12</th>\n",
       "      <th>13</th>\n",
       "      <th>14</th>\n",
       "      <th>15</th>\n",
       "      <th>16</th>\n",
       "    </tr>\n",
       "  </thead>\n",
       "  <tbody>\n",
       "    <tr>\n",
       "      <th>0</th>\n",
       "      <td>WB</td>\n",
       "      <td>WBGene00000001</td>\n",
       "      <td>aap-1</td>\n",
       "      <td>Certain</td>\n",
       "      <td>WBbt:0003679</td>\n",
       "      <td>WB_REF:WBPaper00005614</td>\n",
       "      <td>IDA</td>\n",
       "      <td>WB:Expr2275</td>\n",
       "      <td>A</td>\n",
       "      <td>NaN</td>\n",
       "      <td>Y110A7A.10</td>\n",
       "      <td>gene</td>\n",
       "      <td>taxon:6239</td>\n",
       "      <td>20180609</td>\n",
       "      <td>WB</td>\n",
       "      <td>NaN</td>\n",
       "      <td>NaN</td>\n",
       "    </tr>\n",
       "    <tr>\n",
       "      <th>3</th>\n",
       "      <td>WB</td>\n",
       "      <td>WBGene00000001</td>\n",
       "      <td>aap-1</td>\n",
       "      <td>Certain</td>\n",
       "      <td>WBbt:0005772</td>\n",
       "      <td>WB_REF:WBPaper00005614</td>\n",
       "      <td>IDA</td>\n",
       "      <td>WB:Expr2275</td>\n",
       "      <td>A</td>\n",
       "      <td>NaN</td>\n",
       "      <td>Y110A7A.10</td>\n",
       "      <td>gene</td>\n",
       "      <td>taxon:6239</td>\n",
       "      <td>20180609</td>\n",
       "      <td>WB</td>\n",
       "      <td>NaN</td>\n",
       "      <td>NaN</td>\n",
       "    </tr>\n",
       "    <tr>\n",
       "      <th>55</th>\n",
       "      <td>WB</td>\n",
       "      <td>WBGene00000007</td>\n",
       "      <td>aat-6</td>\n",
       "      <td>Certain</td>\n",
       "      <td>WBbt:0005772</td>\n",
       "      <td>WB_REF:WBPaper00041455</td>\n",
       "      <td>IDA</td>\n",
       "      <td>WB:Expr10567</td>\n",
       "      <td>A</td>\n",
       "      <td>NaN</td>\n",
       "      <td>T11F9.4</td>\n",
       "      <td>gene</td>\n",
       "      <td>taxon:6239</td>\n",
       "      <td>20180609</td>\n",
       "      <td>WB</td>\n",
       "      <td>NaN</td>\n",
       "      <td>NaN</td>\n",
       "    </tr>\n",
       "    <tr>\n",
       "      <th>65</th>\n",
       "      <td>WB</td>\n",
       "      <td>WBGene00000012</td>\n",
       "      <td>abf-1</td>\n",
       "      <td>Certain</td>\n",
       "      <td>WBbt:0003681</td>\n",
       "      <td>WB_REF:WBPaper00005130</td>\n",
       "      <td>IDA</td>\n",
       "      <td>WB:Expr1810</td>\n",
       "      <td>A</td>\n",
       "      <td>NaN</td>\n",
       "      <td>C50F2.9</td>\n",
       "      <td>gene</td>\n",
       "      <td>taxon:6239</td>\n",
       "      <td>20180609</td>\n",
       "      <td>WB</td>\n",
       "      <td>NaN</td>\n",
       "      <td>NaN</td>\n",
       "    </tr>\n",
       "    <tr>\n",
       "      <th>67</th>\n",
       "      <td>WB</td>\n",
       "      <td>WBGene00000012</td>\n",
       "      <td>abf-1</td>\n",
       "      <td>Certain</td>\n",
       "      <td>WBbt:0005772</td>\n",
       "      <td>WB_REF:WBPaper00029438</td>\n",
       "      <td>IDA</td>\n",
       "      <td>WB:Expr4720</td>\n",
       "      <td>A</td>\n",
       "      <td>NaN</td>\n",
       "      <td>C50F2.9</td>\n",
       "      <td>gene</td>\n",
       "      <td>taxon:6239</td>\n",
       "      <td>20180609</td>\n",
       "      <td>WB</td>\n",
       "      <td>NaN</td>\n",
       "      <td>NaN</td>\n",
       "    </tr>\n",
       "  </tbody>\n",
       "</table>\n",
       "</div>"
      ],
      "text/plain": [
       "    0               1      2        3             4                       5   \\\n",
       "0   WB  WBGene00000001  aap-1  Certain  WBbt:0003679  WB_REF:WBPaper00005614   \n",
       "3   WB  WBGene00000001  aap-1  Certain  WBbt:0005772  WB_REF:WBPaper00005614   \n",
       "55  WB  WBGene00000007  aat-6  Certain  WBbt:0005772  WB_REF:WBPaper00041455   \n",
       "65  WB  WBGene00000012  abf-1  Certain  WBbt:0003681  WB_REF:WBPaper00005130   \n",
       "67  WB  WBGene00000012  abf-1  Certain  WBbt:0005772  WB_REF:WBPaper00029438   \n",
       "\n",
       "     6             7  8   9           10    11          12        13  14  15  \\\n",
       "0   IDA   WB:Expr2275  A NaN  Y110A7A.10  gene  taxon:6239  20180609  WB NaN   \n",
       "3   IDA   WB:Expr2275  A NaN  Y110A7A.10  gene  taxon:6239  20180609  WB NaN   \n",
       "55  IDA  WB:Expr10567  A NaN     T11F9.4  gene  taxon:6239  20180609  WB NaN   \n",
       "65  IDA   WB:Expr1810  A NaN     C50F2.9  gene  taxon:6239  20180609  WB NaN   \n",
       "67  IDA   WB:Expr4720  A NaN     C50F2.9  gene  taxon:6239  20180609  WB NaN   \n",
       "\n",
       "    16  \n",
       "0  NaN  \n",
       "3  NaN  \n",
       "55 NaN  \n",
       "65 NaN  \n",
       "67 NaN  "
      ]
     },
     "execution_count": 345,
     "metadata": {},
     "output_type": "execute_result"
    }
   ],
   "source": [
    "wb_anatomy_cut.head()"
   ]
  },
  {
   "cell_type": "code",
   "execution_count": 346,
   "metadata": {},
   "outputs": [
    {
     "data": {
      "text/plain": [
       "(37478, 17)"
      ]
     },
     "execution_count": 346,
     "metadata": {},
     "output_type": "execute_result"
    }
   ],
   "source": [
    "wb_anatomy_cut.shape"
   ]
  },
  {
   "cell_type": "code",
   "execution_count": 347,
   "metadata": {},
   "outputs": [
    {
     "data": {
      "text/plain": [
       "2361"
      ]
     },
     "execution_count": 347,
     "metadata": {},
     "output_type": "execute_result"
    }
   ],
   "source": [
    "len(wb_anatomy_cut.iloc[:,4].unique())"
   ]
  },
  {
   "cell_type": "markdown",
   "metadata": {},
   "source": [
    "## get the ontologies for phenotypes"
   ]
  },
  {
   "cell_type": "code",
   "execution_count": 348,
   "metadata": {},
   "outputs": [
    {
     "data": {
      "text/plain": [
       "networkx.classes.multidigraph.MultiDiGraph"
      ]
     },
     "execution_count": 348,
     "metadata": {},
     "output_type": "execute_result"
    }
   ],
   "source": [
    "graph = obonet.read_obo('in_production/anatomy_ontology.WS266.obo')\n",
    "term_data = graph.nodes(data=True)\n",
    "type(graph)"
   ]
  },
  {
   "cell_type": "code",
   "execution_count": 349,
   "metadata": {},
   "outputs": [
    {
     "data": {
      "text/plain": [
       "networkx.classes.reportviews.NodeDataView"
      ]
     },
     "execution_count": 349,
     "metadata": {},
     "output_type": "execute_result"
    }
   ],
   "source": [
    "type(term_data)"
   ]
  },
  {
   "cell_type": "markdown",
   "metadata": {},
   "source": [
    "## assign a level to each term"
   ]
  },
  {
   "cell_type": "code",
   "execution_count": 350,
   "metadata": {},
   "outputs": [],
   "source": [
    "paths_for_nodes = {}\n",
    "levels = {}\n",
    "for node in graph.nodes():\n",
    "    if node != 'WBbt:0000100':\n",
    "        paths_for_nodes[node] = networkx.all_simple_paths(graph, node, 'WBbt:0000100')\n",
    "        levels[node] = len(min(list(paths_for_nodes[node]), key=len))\n",
    "\n",
    "levels['WBbt:0000100']  =1"
   ]
  },
  {
   "cell_type": "code",
   "execution_count": 351,
   "metadata": {},
   "outputs": [
    {
     "data": {
      "text/plain": [
       "4"
      ]
     },
     "execution_count": 351,
     "metadata": {},
     "output_type": "execute_result"
    }
   ],
   "source": [
    "levels['WBbt:0005772']"
   ]
  },
  {
   "cell_type": "code",
   "execution_count": 352,
   "metadata": {},
   "outputs": [
    {
     "data": {
      "text/plain": [
       "(array([1.000e+00, 6.000e+00, 2.995e+03, 0.000e+00, 2.204e+03, 9.120e+02,\n",
       "        0.000e+00, 5.040e+02, 1.790e+02, 7.000e+00]),\n",
       " array([1. , 1.7, 2.4, 3.1, 3.8, 4.5, 5.2, 5.9, 6.6, 7.3, 8. ]),\n",
       " <a list of 10 Patch objects>)"
      ]
     },
     "execution_count": 352,
     "metadata": {},
     "output_type": "execute_result"
    },
    {
     "data": {
      "image/png": "[encoded data removed]",
      "text/plain": [
       "<Figure size 432x288 with 1 Axes>"
      ]
     },
     "metadata": {},
     "output_type": "display_data"
    }
   ],
   "source": [
    "py.hist(levels.values())"
   ]
  },
  {
   "cell_type": "code",
   "execution_count": 353,
   "metadata": {},
   "outputs": [
    {
     "name": "stdout",
     "output_type": "stream",
     "text": [
      "WBbt:0005063\n",
      "WBbt:0005064\n"
     ]
    }
   ],
   "source": [
    "for i in graph.predecessors('WBbt:0006864'):\n",
    "    print(i)"
   ]
  },
  {
   "cell_type": "code",
   "execution_count": 354,
   "metadata": {},
   "outputs": [
    {
     "data": {
      "text/plain": [
       "['WBbt:0005733', 'WBbt:0005757']"
      ]
     },
     "execution_count": 354,
     "metadata": {},
     "output_type": "execute_result"
    }
   ],
   "source": [
    "term_data['WBbt:0006906']['is_a']"
   ]
  },
  {
   "cell_type": "code",
   "execution_count": 355,
   "metadata": {},
   "outputs": [],
   "source": [
    "sys.setrecursionlimit(3000)"
   ]
  },
  {
   "cell_type": "markdown",
   "metadata": {},
   "source": [
    "## build dictionary of dieases and associated genes, recursively move up the ontology tree "
   ]
  },
  {
   "cell_type": "code",
   "execution_count": 356,
   "metadata": {},
   "outputs": [],
   "source": [
    "## only recur using the 'is_a' tag, which seems to dentote term parent and not lineage\n",
    "anatomies = {}\n",
    "\n",
    "def recurUp(nodes, gene):\n",
    "    for n in nodes:\n",
    "        \n",
    "        if 'is_a' in term_data[n].keys():\n",
    "            recurUp(term_data[n]['is_a'], gene)\n",
    "        \n",
    "        if n in anatomies.keys():\n",
    "            anatomies[n].append(gene)\n",
    "        else:\n",
    "            anatomies[n] = [gene]\n",
    "        \n",
    "\n",
    "for i in range(0, len(wb_anatomy_cut)):\n",
    "\n",
    "    p = wb_anatomy_cut.iloc[i, 4]\n",
    "    g = wb_anatomy_cut.iloc[i,2]\n",
    "    \n",
    "    if p in anatomies.keys():\n",
    "        anatomies[p].append(g)\n",
    "    else:\n",
    "        anatomies[p] = [g]\n",
    "    \n",
    "    if 'is_a' in term_data[p].keys():\n",
    "        recurUp(term_data[p]['is_a'], g)\n",
    "        \n",
    "        "
   ]
  },
  {
   "cell_type": "markdown",
   "metadata": {},
   "source": [
    "## build gmt"
   ]
  },
  {
   "cell_type": "code",
   "execution_count": 362,
   "metadata": {},
   "outputs": [],
   "source": [
    "filename = 'anatomy_wormbase_%s.gmt'% str(datetime.date.today())[0:7].replace('-', '_')\n",
    "file = open(filename,'w+') \n",
    "terms = anatomies.keys()\n",
    "term_sizes = []\n",
    "\n",
    "levels_large = []\n",
    "\n",
    "\n",
    "for i,term in enumerate(terms):\n",
    "    \n",
    "    if len(set(anatomies[term])) > 4:\n",
    "        if levels[term] > 3:\n",
    "            name = term_data[term]['name'] + '(' + term + ')'\n",
    "            file.write(\"%s\\t\" % name)\n",
    "            file.write(\"\\t\")\n",
    "            genes = set(anatomies[term])\n",
    "            term_sizes.append(len(set(anatomies[term])))\n",
    "    \n",
    "            for gene in genes:\n",
    "                  file.write(\"%s\\t\" % gene)\n",
    "            file.write(\"\\n\")\n",
    "        \n",
    "            if len(set(anatomies[term])) > 500:\n",
    "                levels_large.append(levels[term])\n",
    "                \n",
    "        \n",
    "        \n",
    "        \n",
    "        \n",
    "        \n",
    "file.close()"
   ]
  },
  {
   "cell_type": "code",
   "execution_count": 358,
   "metadata": {},
   "outputs": [
    {
     "data": {
      "text/plain": [
       "1450"
      ]
     },
     "execution_count": 358,
     "metadata": {},
     "output_type": "execute_result"
    }
   ],
   "source": [
    "len(anatomies['WBbt:0005772'])"
   ]
  },
  {
   "cell_type": "code",
   "execution_count": 359,
   "metadata": {},
   "outputs": [
    {
     "data": {
      "text/plain": [
       "(array([16.,  0.,  0.,  0.,  0.,  0.,  0.,  0.,  0.,  3.]),\n",
       " array([4. , 4.1, 4.2, 4.3, 4.4, 4.5, 4.6, 4.7, 4.8, 4.9, 5. ]),\n",
       " <a list of 10 Patch objects>)"
      ]
     },
     "execution_count": 359,
     "metadata": {},
     "output_type": "execute_result"
    },
    {
     "data": {
      "image/png": "[encoded data removed]",
      "text/plain": [
       "<Figure size 432x288 with 1 Axes>"
      ]
     },
     "metadata": {},
     "output_type": "display_data"
    }
   ],
   "source": [
    "py.hist(levels_large)"
   ]
  },
  {
   "cell_type": "code",
   "execution_count": 360,
   "metadata": {},
   "outputs": [
    {
     "data": {
      "text/plain": [
       "(array([994.,  29.,  10.,   8.,   7.,   3.,   6.,   0.,   2.,   2.]),\n",
       " array([   5. ,  124.6,  244.2,  363.8,  483.4,  603. ,  722.6,  842.2,\n",
       "         961.8, 1081.4, 1201. ]),\n",
       " <a list of 10 Patch objects>)"
      ]
     },
     "execution_count": 360,
     "metadata": {},
     "output_type": "execute_result"
    },
    {
     "data": {
      "image/png": "[encoded data removed]",
      "text/plain": [
       "<Figure size 432x288 with 1 Axes>"
      ]
     },
     "metadata": {},
     "output_type": "display_data"
    }
   ],
   "source": [
    "py.hist(term_sizes)"
   ]
  }
 ],
 "metadata": {
  "kernelspec": {
   "display_name": "Python 3",
   "language": "python",
   "name": "python3"
  },
  "language_info": {
   "codemirror_mode": {
    "name": "ipython",
    "version": 3
   },
   "file_extension": ".py",
   "mimetype": "text/x-python",
   "name": "python",
   "nbconvert_exporter": "python",
   "pygments_lexer": "ipython3",
   "version": "3.6.5"
  }
 },
 "nbformat": 4,
 "nbformat_minor": 2
}
