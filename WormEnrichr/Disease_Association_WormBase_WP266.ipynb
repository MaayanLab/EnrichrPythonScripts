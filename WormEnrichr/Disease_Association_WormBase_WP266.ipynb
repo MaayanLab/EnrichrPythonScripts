{
 "cells": [
  {
   "cell_type": "markdown",
   "metadata": {},
   "source": [
    "# Human Disease Association Wormbase WP266"
   ]
  },
  {
   "cell_type": "markdown",
   "metadata": {},
   "source": [
    "Author: Zachary Flamholz  \n",
    "Date: 07-2018  \n",
    "Database: https://wormbase.org/#012-34-5  \n",
    "Data: ftp://ftp.wormbase.org/pub/wormbase/releases/WS266/ONTOLOGY/disease_association.WS266.wb, ftp://ftp.wormbase.org/pub/wormbase/releases/WS266/ONTOLOGY/disease_ontology.WS266.obo"
   ]
  },
  {
   "cell_type": "markdown",
   "metadata": {},
   "source": [
    "# Versions of modules in use"
   ]
  },
  {
   "cell_type": "code",
   "execution_count": 21,
   "metadata": {},
   "outputs": [
    {
     "data": {
      "application/json": {
       "Software versions": [
        {
         "module": "Python",
         "version": "3.6.5 64bit [GCC 4.2.1 Compatible Apple LLVM 9.1.0 (clang-902.0.39.1)]"
        },
        {
         "module": "IPython",
         "version": "6.4.0"
        },
        {
         "module": "OS",
         "version": "Darwin 17.5.0 x86_64 i386 64bit"
        },
        {
         "module": "numpy",
         "version": "1.14.5"
        },
        {
         "module": "pandas",
         "version": "0.23.1"
        }
       ]
      },
      "text/html": [
       "<table><tr><th>Software</th><th>Version</th></tr><tr><td>Python</td><td>3.6.5 64bit [GCC 4.2.1 Compatible Apple LLVM 9.1.0 (clang-902.0.39.1)]</td></tr><tr><td>IPython</td><td>6.4.0</td></tr><tr><td>OS</td><td>Darwin 17.5.0 x86_64 i386 64bit</td></tr><tr><td>numpy</td><td>1.14.5</td></tr><tr><td>pandas</td><td>0.23.1</td></tr><tr><td colspan='2'>Mon Jul 30 11:33:37 2018 EDT</td></tr></table>"
      ],
      "text/latex": [
       "\\begin{tabular}{|l|l|}\\hline\n",
       "{\\bf Software} & {\\bf Version} \\\\ \\hline\\hline\n",
       "Python & 3.6.5 64bit [GCC 4.2.1 Compatible Apple LLVM 9.1.0 (clang-902.0.39.1)] \\\\ \\hline\n",
       "IPython & 6.4.0 \\\\ \\hline\n",
       "OS & Darwin 17.5.0 x86\\_64 i386 64bit \\\\ \\hline\n",
       "numpy & 1.14.5 \\\\ \\hline\n",
       "pandas & 0.23.1 \\\\ \\hline\n",
       "\\hline \\multicolumn{2}{|l|}{Mon Jul 30 11:33:37 2018 EDT} \\\\ \\hline\n",
       "\\end{tabular}\n"
      ],
      "text/plain": [
       "Software versions\n",
       "Python 3.6.5 64bit [GCC 4.2.1 Compatible Apple LLVM 9.1.0 (clang-902.0.39.1)]\n",
       "IPython 6.4.0\n",
       "OS Darwin 17.5.0 x86_64 i386 64bit\n",
       "numpy 1.14.5\n",
       "pandas 0.23.1\n",
       "Mon Jul 30 11:33:37 2018 EDT"
      ]
     },
     "execution_count": 21,
     "metadata": {},
     "output_type": "execute_result"
    }
   ],
   "source": [
    "%load_ext version_information\n",
    "%version_information numpy, pandas"
   ]
  },
  {
   "cell_type": "markdown",
   "metadata": {},
   "source": [
    "## load libraries"
   ]
  },
  {
   "cell_type": "code",
   "execution_count": 1,
   "metadata": {},
   "outputs": [],
   "source": [
    "import pandas as pd\n",
    "import numpy as np\n",
    "import sys, datetime\n",
    "import networkx\n",
    "import obonet"
   ]
  },
  {
   "cell_type": "markdown",
   "metadata": {},
   "source": [
    "## read in data"
   ]
  },
  {
   "cell_type": "code",
   "execution_count": 3,
   "metadata": {},
   "outputs": [],
   "source": [
    "wb_disease = pd.read_csv('in_production/disease_association.WS266.wb', sep='\\t', header=None)"
   ]
  },
  {
   "cell_type": "code",
   "execution_count": 4,
   "metadata": {},
   "outputs": [
    {
     "data": {
      "text/html": [
       "<div>\n",
       "<style scoped>\n",
       "    .dataframe tbody tr th:only-of-type {\n",
       "        vertical-align: middle;\n",
       "    }\n",
       "\n",
       "    .dataframe tbody tr th {\n",
       "        vertical-align: top;\n",
       "    }\n",
       "\n",
       "    .dataframe thead th {\n",
       "        text-align: right;\n",
       "    }\n",
       "</style>\n",
       "<table border=\"1\" class=\"dataframe\">\n",
       "  <thead>\n",
       "    <tr style=\"text-align: right;\">\n",
       "      <th></th>\n",
       "      <th>0</th>\n",
       "      <th>1</th>\n",
       "      <th>2</th>\n",
       "      <th>3</th>\n",
       "      <th>4</th>\n",
       "      <th>5</th>\n",
       "      <th>6</th>\n",
       "      <th>7</th>\n",
       "      <th>8</th>\n",
       "      <th>9</th>\n",
       "      <th>10</th>\n",
       "      <th>11</th>\n",
       "      <th>12</th>\n",
       "      <th>13</th>\n",
       "      <th>14</th>\n",
       "      <th>15</th>\n",
       "      <th>16</th>\n",
       "    </tr>\n",
       "  </thead>\n",
       "  <tbody>\n",
       "    <tr>\n",
       "      <th>0</th>\n",
       "      <td>WB</td>\n",
       "      <td>WBGene00000001</td>\n",
       "      <td>aap-1</td>\n",
       "      <td>NaN</td>\n",
       "      <td>DOID:2583</td>\n",
       "      <td>PMID:19029536</td>\n",
       "      <td>IEA</td>\n",
       "      <td>ENSEMBL:ENSG00000145675|OMIM:615214</td>\n",
       "      <td>D</td>\n",
       "      <td>NaN</td>\n",
       "      <td>Y110A7A.10</td>\n",
       "      <td>gene</td>\n",
       "      <td>taxon:6239</td>\n",
       "      <td>20180609</td>\n",
       "      <td>WB</td>\n",
       "      <td>NaN</td>\n",
       "      <td>NaN</td>\n",
       "    </tr>\n",
       "    <tr>\n",
       "      <th>1</th>\n",
       "      <td>WB</td>\n",
       "      <td>WBGene00000002</td>\n",
       "      <td>aat-1</td>\n",
       "      <td>NaN</td>\n",
       "      <td>DOID:0060439</td>\n",
       "      <td>PMID:19029536</td>\n",
       "      <td>IEA</td>\n",
       "      <td>ENSEMBL:ENSG00000155465|OMIM:222700</td>\n",
       "      <td>D</td>\n",
       "      <td>NaN</td>\n",
       "      <td>F27C8.1</td>\n",
       "      <td>gene</td>\n",
       "      <td>taxon:6239</td>\n",
       "      <td>20180609</td>\n",
       "      <td>WB</td>\n",
       "      <td>NaN</td>\n",
       "      <td>NaN</td>\n",
       "    </tr>\n",
       "    <tr>\n",
       "      <th>2</th>\n",
       "      <td>WB</td>\n",
       "      <td>WBGene00000004</td>\n",
       "      <td>aat-3</td>\n",
       "      <td>NaN</td>\n",
       "      <td>DOID:0060439</td>\n",
       "      <td>PMID:19029536</td>\n",
       "      <td>IEA</td>\n",
       "      <td>ENSEMBL:ENSG00000155465|OMIM:222700</td>\n",
       "      <td>D</td>\n",
       "      <td>NaN</td>\n",
       "      <td>F52H2.2</td>\n",
       "      <td>gene</td>\n",
       "      <td>taxon:6239</td>\n",
       "      <td>20180609</td>\n",
       "      <td>WB</td>\n",
       "      <td>NaN</td>\n",
       "      <td>NaN</td>\n",
       "    </tr>\n",
       "    <tr>\n",
       "      <th>3</th>\n",
       "      <td>WB</td>\n",
       "      <td>WBGene00000020</td>\n",
       "      <td>abt-2</td>\n",
       "      <td>NaN</td>\n",
       "      <td>DOID:0110015</td>\n",
       "      <td>PMID:19029536</td>\n",
       "      <td>IEA</td>\n",
       "      <td>ENSEMBL:ENSG00000198691|OMIM:153800</td>\n",
       "      <td>D</td>\n",
       "      <td>NaN</td>\n",
       "      <td>F12B6.1</td>\n",
       "      <td>gene</td>\n",
       "      <td>taxon:6239</td>\n",
       "      <td>20180609</td>\n",
       "      <td>WB</td>\n",
       "      <td>NaN</td>\n",
       "      <td>NaN</td>\n",
       "    </tr>\n",
       "    <tr>\n",
       "      <th>4</th>\n",
       "      <td>WB</td>\n",
       "      <td>WBGene00000020</td>\n",
       "      <td>abt-2</td>\n",
       "      <td>NaN</td>\n",
       "      <td>DOID:1388</td>\n",
       "      <td>PMID:19029536</td>\n",
       "      <td>IEA</td>\n",
       "      <td>ENSEMBL:ENSG00000165029|OMIM:205400</td>\n",
       "      <td>D</td>\n",
       "      <td>NaN</td>\n",
       "      <td>F12B6.1</td>\n",
       "      <td>gene</td>\n",
       "      <td>taxon:6239</td>\n",
       "      <td>20180609</td>\n",
       "      <td>WB</td>\n",
       "      <td>NaN</td>\n",
       "      <td>NaN</td>\n",
       "    </tr>\n",
       "  </tbody>\n",
       "</table>\n",
       "</div>"
      ],
      "text/plain": [
       "   0               1      2   3             4              5    6   \\\n",
       "0  WB  WBGene00000001  aap-1 NaN     DOID:2583  PMID:19029536  IEA   \n",
       "1  WB  WBGene00000002  aat-1 NaN  DOID:0060439  PMID:19029536  IEA   \n",
       "2  WB  WBGene00000004  aat-3 NaN  DOID:0060439  PMID:19029536  IEA   \n",
       "3  WB  WBGene00000020  abt-2 NaN  DOID:0110015  PMID:19029536  IEA   \n",
       "4  WB  WBGene00000020  abt-2 NaN     DOID:1388  PMID:19029536  IEA   \n",
       "\n",
       "                                    7  8   9           10    11          12  \\\n",
       "0  ENSEMBL:ENSG00000145675|OMIM:615214  D NaN  Y110A7A.10  gene  taxon:6239   \n",
       "1  ENSEMBL:ENSG00000155465|OMIM:222700  D NaN     F27C8.1  gene  taxon:6239   \n",
       "2  ENSEMBL:ENSG00000155465|OMIM:222700  D NaN     F52H2.2  gene  taxon:6239   \n",
       "3  ENSEMBL:ENSG00000198691|OMIM:153800  D NaN     F12B6.1  gene  taxon:6239   \n",
       "4  ENSEMBL:ENSG00000165029|OMIM:205400  D NaN     F12B6.1  gene  taxon:6239   \n",
       "\n",
       "         13  14  15  16  \n",
       "0  20180609  WB NaN NaN  \n",
       "1  20180609  WB NaN NaN  \n",
       "2  20180609  WB NaN NaN  \n",
       "3  20180609  WB NaN NaN  \n",
       "4  20180609  WB NaN NaN  "
      ]
     },
     "execution_count": 4,
     "metadata": {},
     "output_type": "execute_result"
    }
   ],
   "source": [
    "wb_disease.head()"
   ]
  },
  {
   "cell_type": "code",
   "execution_count": 11,
   "metadata": {},
   "outputs": [
    {
     "data": {
      "text/plain": [
       "(3037, 17)"
      ]
     },
     "execution_count": 11,
     "metadata": {},
     "output_type": "execute_result"
    }
   ],
   "source": [
    "wb_disease.shape"
   ]
  },
  {
   "cell_type": "code",
   "execution_count": 5,
   "metadata": {},
   "outputs": [
    {
     "data": {
      "text/plain": [
       "array([nan])"
      ]
     },
     "execution_count": 5,
     "metadata": {},
     "output_type": "execute_result"
    }
   ],
   "source": [
    "wb_disease.iloc[:,3].unique()"
   ]
  },
  {
   "cell_type": "code",
   "execution_count": 7,
   "metadata": {},
   "outputs": [
    {
     "data": {
      "text/plain": [
       "221"
      ]
     },
     "execution_count": 7,
     "metadata": {},
     "output_type": "execute_result"
    }
   ],
   "source": [
    "len(wb_disease.iloc[:,5].unique())"
   ]
  },
  {
   "cell_type": "code",
   "execution_count": 8,
   "metadata": {},
   "outputs": [
    {
     "data": {
      "text/plain": [
       "array(['IEA', 'IMP'], dtype=object)"
      ]
     },
     "execution_count": 8,
     "metadata": {},
     "output_type": "execute_result"
    }
   ],
   "source": [
    "wb_disease.iloc[:,6].unique()"
   ]
  },
  {
   "cell_type": "code",
   "execution_count": 9,
   "metadata": {},
   "outputs": [
    {
     "data": {
      "text/plain": [
       "array(['taxon:6239'], dtype=object)"
      ]
     },
     "execution_count": 9,
     "metadata": {},
     "output_type": "execute_result"
    }
   ],
   "source": [
    "wb_disease.iloc[:,12].unique()"
   ]
  },
  {
   "cell_type": "code",
   "execution_count": 10,
   "metadata": {},
   "outputs": [
    {
     "data": {
      "text/plain": [
       "1186"
      ]
     },
     "execution_count": 10,
     "metadata": {},
     "output_type": "execute_result"
    }
   ],
   "source": [
    "len(wb_disease.iloc[:,4].unique())"
   ]
  },
  {
   "cell_type": "markdown",
   "metadata": {},
   "source": [
    "## build dictionary of dieases and associated genes"
   ]
  },
  {
   "cell_type": "code",
   "execution_count": 17,
   "metadata": {},
   "outputs": [],
   "source": [
    "diseases = {}\n",
    "\n",
    "for i in range(0, len(wb_disease)):\n",
    "    p = wb_disease.iloc[i, 4]\n",
    "    if p in diseases.keys():\n",
    "        diseases[p].append(wb_disease.iloc[i,2])\n",
    "    else:\n",
    "        diseases[p] = [wb_disease.iloc[i,2]]"
   ]
  },
  {
   "cell_type": "markdown",
   "metadata": {},
   "source": [
    "## get the ontologies for phenotypes"
   ]
  },
  {
   "cell_type": "code",
   "execution_count": 13,
   "metadata": {},
   "outputs": [],
   "source": [
    "graph = obonet.read_obo('in_production/disease_ontology.WS266.obo')\n",
    "term_data = graph.nodes(data=True)"
   ]
  },
  {
   "cell_type": "code",
   "execution_count": 15,
   "metadata": {},
   "outputs": [
    {
     "data": {
      "text/plain": [
       "'angiosarcoma'"
      ]
     },
     "execution_count": 15,
     "metadata": {},
     "output_type": "execute_result"
    }
   ],
   "source": [
    "term_data['DOID:0001816']['name']"
   ]
  },
  {
   "cell_type": "markdown",
   "metadata": {},
   "source": [
    "## build gmt"
   ]
  },
  {
   "cell_type": "code",
   "execution_count": 19,
   "metadata": {},
   "outputs": [
    {
     "name": "stdout",
     "output_type": "stream",
     "text": [
      "Progress: 100%  1186 Out of 1186   \r"
     ]
    }
   ],
   "source": [
    "filename = 'human_disease_wormbase_%s.gmt'% str(datetime.date.today())[0:7].replace('-', '_')\n",
    "file = open(filename,'w+') \n",
    "terms = diseases.keys()\n",
    "for i,term in enumerate(terms):\n",
    "    \n",
    "    progressPercent = ((i+1)/len(terms))*100\n",
    "    sys.stdout.write(\"Progress: %d%%  %d Out of %d   \\r\" % (progressPercent, (i+1), len(terms)))\n",
    "    sys.stdout.flush()\n",
    "    \n",
    "    if len(set(diseases[term])) > 4:\n",
    "        name = term_data[term]['name'] + '(' + term + ')'\n",
    "        file.write(\"%s\\t\" % name)\n",
    "        file.write(\"\\t\")\n",
    "        genes = set(diseases[term])\n",
    "    \n",
    "        for gene in genes:\n",
    "              file.write(\"%s\\t\" % gene)\n",
    "        file.write(\"\\n\")\n",
    "        \n",
    "file.close()"
   ]
  }
 ],
 "metadata": {
  "kernelspec": {
   "display_name": "Python 3",
   "language": "python",
   "name": "python3"
  },
  "language_info": {
   "codemirror_mode": {
    "name": "ipython",
    "version": 3
   },
   "file_extension": ".py",
   "mimetype": "text/x-python",
   "name": "python",
   "nbconvert_exporter": "python",
   "pygments_lexer": "ipython3",
   "version": "3.6.5"
  }
 },
 "nbformat": 4,
 "nbformat_minor": 2
}
