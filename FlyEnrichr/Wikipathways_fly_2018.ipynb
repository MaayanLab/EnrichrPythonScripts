{
 "cells": [
  {
   "cell_type": "markdown",
   "metadata": {},
   "source": [
    "# Wikipathways Fly 2018"
   ]
  },
  {
   "cell_type": "markdown",
   "metadata": {},
   "source": [
    "Author: Zachary Flamholz  \n",
    "Date: 07-2018  \n",
    "Database: https://www.wikipathways.org/    \n",
    "Data: http://data.wikipathways.org/20180610/gpml/wikipathways-20180610-gpml-Drosophila_melanogaster.zip v. 20180610 (10 June 2018)           \n",
    "Companion file: http://ftp.ncbi.nlm.nih.gov/gene/DATA/GENE_INFO/Invertebrates/Drosophila_melanogaster.gene_info.gz    "
   ]
  },
  {
   "cell_type": "markdown",
   "metadata": {},
   "source": [
    "## import libraries"
   ]
  },
  {
   "cell_type": "code",
   "execution_count": 1,
   "metadata": {},
   "outputs": [],
   "source": [
    "import numpy as np\n",
    "import pandas as pd\n",
    "import sys, datetime\n",
    "import scipy.stats as stat\n",
    "import matplotlib\n",
    "from matplotlib import pyplot as py"
   ]
  },
  {
   "cell_type": "markdown",
   "metadata": {},
   "source": [
    "# Versions of Modules in use"
   ]
  },
  {
   "cell_type": "code",
   "execution_count": 2,
   "metadata": {},
   "outputs": [
    {
     "data": {
      "application/json": {
       "Software versions": [
        {
         "module": "Python",
         "version": "3.6.5 64bit [GCC 4.2.1 Compatible Apple LLVM 9.1.0 (clang-902.0.39.1)]"
        },
        {
         "module": "IPython",
         "version": "6.4.0"
        },
        {
         "module": "OS",
         "version": "Darwin 17.5.0 x86_64 i386 64bit"
        },
        {
         "module": "numpy",
         "version": "1.14.5"
        },
        {
         "module": "pandas",
         "version": "0.23.1"
        }
       ]
      },
      "text/html": [
       "<table><tr><th>Software</th><th>Version</th></tr><tr><td>Python</td><td>3.6.5 64bit [GCC 4.2.1 Compatible Apple LLVM 9.1.0 (clang-902.0.39.1)]</td></tr><tr><td>IPython</td><td>6.4.0</td></tr><tr><td>OS</td><td>Darwin 17.5.0 x86_64 i386 64bit</td></tr><tr><td>numpy</td><td>1.14.5</td></tr><tr><td>pandas</td><td>0.23.1</td></tr><tr><td colspan='2'>Tue Jul 10 10:59:36 2018 EDT</td></tr></table>"
      ],
      "text/latex": [
       "\\begin{tabular}{|l|l|}\\hline\n",
       "{\\bf Software} & {\\bf Version} \\\\ \\hline\\hline\n",
       "Python & 3.6.5 64bit [GCC 4.2.1 Compatible Apple LLVM 9.1.0 (clang-902.0.39.1)] \\\\ \\hline\n",
       "IPython & 6.4.0 \\\\ \\hline\n",
       "OS & Darwin 17.5.0 x86\\_64 i386 64bit \\\\ \\hline\n",
       "numpy & 1.14.5 \\\\ \\hline\n",
       "pandas & 0.23.1 \\\\ \\hline\n",
       "\\hline \\multicolumn{2}{|l|}{Tue Jul 10 10:59:36 2018 EDT} \\\\ \\hline\n",
       "\\end{tabular}\n"
      ],
      "text/plain": [
       "Software versions\n",
       "Python 3.6.5 64bit [GCC 4.2.1 Compatible Apple LLVM 9.1.0 (clang-902.0.39.1)]\n",
       "IPython 6.4.0\n",
       "OS Darwin 17.5.0 x86_64 i386 64bit\n",
       "numpy 1.14.5\n",
       "pandas 0.23.1\n",
       "Tue Jul 10 10:59:36 2018 EDT"
      ]
     },
     "execution_count": 2,
     "metadata": {},
     "output_type": "execute_result"
    }
   ],
   "source": [
    "%load_ext version_information\n",
    "%version_information numpy, pandas"
   ]
  },
  {
   "cell_type": "markdown",
   "metadata": {},
   "source": [
    "## read in data "
   ]
  },
  {
   "cell_type": "code",
   "execution_count": 3,
   "metadata": {},
   "outputs": [],
   "source": [
    "df = pd.read_csv('input/wikipathways_Dmelanogaster_2018', sep = '~', header=None)"
   ]
  },
  {
   "cell_type": "code",
   "execution_count": 4,
   "metadata": {},
   "outputs": [
    {
     "data": {
      "text/html": [
       "<div>\n",
       "<style scoped>\n",
       "    .dataframe tbody tr th:only-of-type {\n",
       "        vertical-align: middle;\n",
       "    }\n",
       "\n",
       "    .dataframe tbody tr th {\n",
       "        vertical-align: top;\n",
       "    }\n",
       "\n",
       "    .dataframe thead th {\n",
       "        text-align: right;\n",
       "    }\n",
       "</style>\n",
       "<table border=\"1\" class=\"dataframe\">\n",
       "  <thead>\n",
       "    <tr style=\"text-align: right;\">\n",
       "      <th></th>\n",
       "      <th>0</th>\n",
       "    </tr>\n",
       "  </thead>\n",
       "  <tbody>\n",
       "    <tr>\n",
       "      <th>0</th>\n",
       "      <td>Glycolysis and Gluconeogenesis%WikiPathways_20...</td>\n",
       "    </tr>\n",
       "    <tr>\n",
       "      <th>1</th>\n",
       "      <td>Homologous Recombination%WikiPathways_20180610...</td>\n",
       "    </tr>\n",
       "    <tr>\n",
       "      <th>2</th>\n",
       "      <td>Mitochondrial LC-Fatty Acid Beta-Oxidation%Wik...</td>\n",
       "    </tr>\n",
       "    <tr>\n",
       "      <th>3</th>\n",
       "      <td>Heme Biosynthesis%WikiPathways_20180610%WP269%...</td>\n",
       "    </tr>\n",
       "    <tr>\n",
       "      <th>4</th>\n",
       "      <td>Hedgehog Signaling Pathway%WikiPathways_201806...</td>\n",
       "    </tr>\n",
       "  </tbody>\n",
       "</table>\n",
       "</div>"
      ],
      "text/plain": [
       "                                                   0\n",
       "0  Glycolysis and Gluconeogenesis%WikiPathways_20...\n",
       "1  Homologous Recombination%WikiPathways_20180610...\n",
       "2  Mitochondrial LC-Fatty Acid Beta-Oxidation%Wik...\n",
       "3  Heme Biosynthesis%WikiPathways_20180610%WP269%...\n",
       "4  Hedgehog Signaling Pathway%WikiPathways_201806..."
      ]
     },
     "execution_count": 4,
     "metadata": {},
     "output_type": "execute_result"
    }
   ],
   "source": [
    "df.head()"
   ]
  },
  {
   "cell_type": "code",
   "execution_count": 5,
   "metadata": {
    "scrolled": true
   },
   "outputs": [
    {
     "data": {
      "text/plain": [
       "0    Glycolysis and Gluconeogenesis%WikiPathways_20...\n",
       "Name: 0, dtype: object"
      ]
     },
     "execution_count": 5,
     "metadata": {},
     "output_type": "execute_result"
    }
   ],
   "source": [
    "df.iloc[0]"
   ]
  },
  {
   "cell_type": "code",
   "execution_count": 6,
   "metadata": {},
   "outputs": [],
   "source": [
    "dMelanogaster_geneInfo = pd.read_csv(\"input/Drosophila_melanogaster.gene_info\", sep=\"\\t\")"
   ]
  },
  {
   "cell_type": "markdown",
   "metadata": {},
   "source": [
    "## load NCBI reference for converting ENTREZ gene ID to gene symbol"
   ]
  },
  {
   "cell_type": "code",
   "execution_count": 7,
   "metadata": {},
   "outputs": [
    {
     "data": {
      "text/html": [
       "<div>\n",
       "<style scoped>\n",
       "    .dataframe tbody tr th:only-of-type {\n",
       "        vertical-align: middle;\n",
       "    }\n",
       "\n",
       "    .dataframe tbody tr th {\n",
       "        vertical-align: top;\n",
       "    }\n",
       "\n",
       "    .dataframe thead th {\n",
       "        text-align: right;\n",
       "    }\n",
       "</style>\n",
       "<table border=\"1\" class=\"dataframe\">\n",
       "  <thead>\n",
       "    <tr style=\"text-align: right;\">\n",
       "      <th></th>\n",
       "      <th>#tax_id</th>\n",
       "      <th>GeneID</th>\n",
       "      <th>Symbol</th>\n",
       "      <th>LocusTag</th>\n",
       "      <th>Synonyms</th>\n",
       "      <th>dbXrefs</th>\n",
       "      <th>chromosome</th>\n",
       "      <th>map_location</th>\n",
       "      <th>description</th>\n",
       "      <th>type_of_gene</th>\n",
       "      <th>Symbol_from_nomenclature_authority</th>\n",
       "      <th>Full_name_from_nomenclature_authority</th>\n",
       "      <th>Nomenclature_status</th>\n",
       "      <th>Other_designations</th>\n",
       "      <th>Modification_date</th>\n",
       "      <th>Feature_type</th>\n",
       "    </tr>\n",
       "  </thead>\n",
       "  <tbody>\n",
       "    <tr>\n",
       "      <th>0</th>\n",
       "      <td>7227</td>\n",
       "      <td>30970</td>\n",
       "      <td>CG3038</td>\n",
       "      <td>Dmel_CG3038</td>\n",
       "      <td>Dmel\\CG3038|EG:BACR37P7.1|GalT3|dbeta3GnT</td>\n",
       "      <td>FLYBASE:FBgn0040373</td>\n",
       "      <td>X</td>\n",
       "      <td>1A1-1A1|1-0 cM</td>\n",
       "      <td>uncharacterized protein</td>\n",
       "      <td>protein-coding</td>\n",
       "      <td>CG3038</td>\n",
       "      <td>-</td>\n",
       "      <td>O</td>\n",
       "      <td>uncharacterized protein|CG3038-PA|CG3038-PB|CG...</td>\n",
       "      <td>20180601</td>\n",
       "      <td>-</td>\n",
       "    </tr>\n",
       "    <tr>\n",
       "      <th>1</th>\n",
       "      <td>7227</td>\n",
       "      <td>30971</td>\n",
       "      <td>G9a</td>\n",
       "      <td>Dmel_CG2995</td>\n",
       "      <td>CG2995|Dmel\\CG2995|EG:BACR37P7.2|EHMT|cab65850...</td>\n",
       "      <td>FLYBASE:FBgn0040372</td>\n",
       "      <td>X</td>\n",
       "      <td>1A1-1A1|1-0 cM</td>\n",
       "      <td>G9a</td>\n",
       "      <td>protein-coding</td>\n",
       "      <td>G9a</td>\n",
       "      <td>-</td>\n",
       "      <td>O</td>\n",
       "      <td>G9a|CG2995-PA|CG2995-PB|G9a-PA|G9a-PB|dG9a|euc...</td>\n",
       "      <td>20180603</td>\n",
       "      <td>-</td>\n",
       "    </tr>\n",
       "    <tr>\n",
       "      <th>2</th>\n",
       "      <td>7227</td>\n",
       "      <td>30972</td>\n",
       "      <td>CG13377</td>\n",
       "      <td>Dmel_CG13377</td>\n",
       "      <td>BG01596|Dmel\\CG13377|EG:BACR37P7.9</td>\n",
       "      <td>FLYBASE:FBgn0261446</td>\n",
       "      <td>X</td>\n",
       "      <td>1A1-1A1|1-0 cM</td>\n",
       "      <td>uncharacterized protein</td>\n",
       "      <td>protein-coding</td>\n",
       "      <td>CG13377</td>\n",
       "      <td>-</td>\n",
       "      <td>O</td>\n",
       "      <td>uncharacterized protein|BG01596|CG13377-PA|CG1...</td>\n",
       "      <td>20180603</td>\n",
       "      <td>-</td>\n",
       "    </tr>\n",
       "    <tr>\n",
       "      <th>3</th>\n",
       "      <td>7227</td>\n",
       "      <td>30973</td>\n",
       "      <td>cin</td>\n",
       "      <td>Dmel_CG2945</td>\n",
       "      <td>CG2945|CIN|Dmel\\CG2945|EG:BACR37P7.3|fs(1)M50|...</td>\n",
       "      <td>FLYBASE:FBgn0000316</td>\n",
       "      <td>X</td>\n",
       "      <td>1A1-1A1|1-0 cM</td>\n",
       "      <td>cinnamon</td>\n",
       "      <td>protein-coding</td>\n",
       "      <td>cin</td>\n",
       "      <td>cinnamon</td>\n",
       "      <td>O</td>\n",
       "      <td>cinnamon|CG2945-PA|CG2945-PB|cin-PA|cin-PB</td>\n",
       "      <td>20180603</td>\n",
       "      <td>-</td>\n",
       "    </tr>\n",
       "    <tr>\n",
       "      <th>4</th>\n",
       "      <td>7227</td>\n",
       "      <td>30975</td>\n",
       "      <td>ewg</td>\n",
       "      <td>Dmel_CG3114</td>\n",
       "      <td>CG3114|Dmel\\CG3114|EC3|EG:BACR37P7.7|EWG|Ewg|N...</td>\n",
       "      <td>FLYBASE:FBgn0005427</td>\n",
       "      <td>X</td>\n",
       "      <td>1A1-1A1|1-0 cM</td>\n",
       "      <td>erect wing</td>\n",
       "      <td>protein-coding</td>\n",
       "      <td>ewg</td>\n",
       "      <td>erect wing</td>\n",
       "      <td>O</td>\n",
       "      <td>erect wing|CG3114-PA|CG3114-PB|CG3114-PC|CG311...</td>\n",
       "      <td>20180603</td>\n",
       "      <td>-</td>\n",
       "    </tr>\n",
       "  </tbody>\n",
       "</table>\n",
       "</div>"
      ],
      "text/plain": [
       "   #tax_id  GeneID   Symbol      LocusTag  \\\n",
       "0     7227   30970   CG3038   Dmel_CG3038   \n",
       "1     7227   30971      G9a   Dmel_CG2995   \n",
       "2     7227   30972  CG13377  Dmel_CG13377   \n",
       "3     7227   30973      cin   Dmel_CG2945   \n",
       "4     7227   30975      ewg   Dmel_CG3114   \n",
       "\n",
       "                                            Synonyms              dbXrefs  \\\n",
       "0          Dmel\\CG3038|EG:BACR37P7.1|GalT3|dbeta3GnT  FLYBASE:FBgn0040373   \n",
       "1  CG2995|Dmel\\CG2995|EG:BACR37P7.2|EHMT|cab65850...  FLYBASE:FBgn0040372   \n",
       "2                 BG01596|Dmel\\CG13377|EG:BACR37P7.9  FLYBASE:FBgn0261446   \n",
       "3  CG2945|CIN|Dmel\\CG2945|EG:BACR37P7.3|fs(1)M50|...  FLYBASE:FBgn0000316   \n",
       "4  CG3114|Dmel\\CG3114|EC3|EG:BACR37P7.7|EWG|Ewg|N...  FLYBASE:FBgn0005427   \n",
       "\n",
       "  chromosome    map_location              description    type_of_gene  \\\n",
       "0          X  1A1-1A1|1-0 cM  uncharacterized protein  protein-coding   \n",
       "1          X  1A1-1A1|1-0 cM                      G9a  protein-coding   \n",
       "2          X  1A1-1A1|1-0 cM  uncharacterized protein  protein-coding   \n",
       "3          X  1A1-1A1|1-0 cM                 cinnamon  protein-coding   \n",
       "4          X  1A1-1A1|1-0 cM               erect wing  protein-coding   \n",
       "\n",
       "  Symbol_from_nomenclature_authority Full_name_from_nomenclature_authority  \\\n",
       "0                             CG3038                                     -   \n",
       "1                                G9a                                     -   \n",
       "2                            CG13377                                     -   \n",
       "3                                cin                              cinnamon   \n",
       "4                                ewg                            erect wing   \n",
       "\n",
       "  Nomenclature_status                                 Other_designations  \\\n",
       "0                   O  uncharacterized protein|CG3038-PA|CG3038-PB|CG...   \n",
       "1                   O  G9a|CG2995-PA|CG2995-PB|G9a-PA|G9a-PB|dG9a|euc...   \n",
       "2                   O  uncharacterized protein|BG01596|CG13377-PA|CG1...   \n",
       "3                   O         cinnamon|CG2945-PA|CG2945-PB|cin-PA|cin-PB   \n",
       "4                   O  erect wing|CG3114-PA|CG3114-PB|CG3114-PC|CG311...   \n",
       "\n",
       "   Modification_date Feature_type  \n",
       "0           20180601            -  \n",
       "1           20180603            -  \n",
       "2           20180603            -  \n",
       "3           20180603            -  \n",
       "4           20180603            -  "
      ]
     },
     "execution_count": 7,
     "metadata": {},
     "output_type": "execute_result"
    }
   ],
   "source": [
    "dMelanogaster_geneInfo.head()"
   ]
  },
  {
   "cell_type": "code",
   "execution_count": 8,
   "metadata": {},
   "outputs": [],
   "source": [
    "dMelanogaster_proteinCoding = dMelanogaster_geneInfo[dMelanogaster_geneInfo[\"type_of_gene\"] == \"protein-coding\"]"
   ]
  },
  {
   "cell_type": "code",
   "execution_count": 9,
   "metadata": {},
   "outputs": [
    {
     "data": {
      "text/plain": [
       "numpy.int64"
      ]
     },
     "execution_count": 9,
     "metadata": {},
     "output_type": "execute_result"
    }
   ],
   "source": [
    "type(dMelanogaster_geneInfo.iloc[0, 1])"
   ]
  },
  {
   "cell_type": "code",
   "execution_count": 10,
   "metadata": {},
   "outputs": [
    {
     "data": {
      "text/plain": [
       "'Hex-A'"
      ]
     },
     "execution_count": 10,
     "metadata": {},
     "output_type": "execute_result"
    }
   ],
   "source": [
    "dMelanogaster_geneInfo.loc[dMelanogaster_geneInfo['GeneID'] == 45875]['Symbol'].iloc[0]"
   ]
  },
  {
   "cell_type": "markdown",
   "metadata": {},
   "source": [
    "## build a dictionary of terms and genes"
   ]
  },
  {
   "cell_type": "code",
   "execution_count": 11,
   "metadata": {},
   "outputs": [],
   "source": [
    "pathway_dict = {}\n",
    "for row in df.itertuples():\n",
    "    splits = row[1].split('\\t')\n",
    "    term_split = splits[0].split('%')\n",
    "    term = term_split[0] + '_' + term_split[2]\n",
    "    pathway_dict[term] = []\n",
    "    for i in range(2, len(splits)):\n",
    "        pathway_dict[term].append(dMelanogaster_geneInfo.loc[dMelanogaster_geneInfo['GeneID'] == int(splits[i])]['Symbol'].iloc[0])"
   ]
  },
  {
   "cell_type": "markdown",
   "metadata": {},
   "source": [
    "## numbers for the library"
   ]
  },
  {
   "cell_type": "code",
   "execution_count": 12,
   "metadata": {},
   "outputs": [
    {
     "data": {
      "text/plain": [
       "31"
      ]
     },
     "execution_count": 12,
     "metadata": {},
     "output_type": "execute_result"
    }
   ],
   "source": [
    "## number of terms\n",
    "len(pathway_dict.keys())"
   ]
  },
  {
   "cell_type": "code",
   "execution_count": 13,
   "metadata": {},
   "outputs": [],
   "source": [
    "dist = []\n",
    "for i in list(pathway_dict.values()):\n",
    "    dist.append(len(i))"
   ]
  },
  {
   "cell_type": "code",
   "execution_count": 14,
   "metadata": {},
   "outputs": [
    {
     "data": {
      "text/plain": [
       "(array([15.,  4.,  4.,  3.,  2.,  1.,  0.,  0.,  1.,  1.]),\n",
       " array([ 3. , 11.1, 19.2, 27.3, 35.4, 43.5, 51.6, 59.7, 67.8, 75.9, 84. ]),\n",
       " <a list of 10 Patch objects>)"
      ]
     },
     "execution_count": 14,
     "metadata": {},
     "output_type": "execute_result"
    },
    {
     "data": {
      "image/png": "[encoded data removed]",
      "text/plain": [
       "<Figure size 432x288 with 1 Axes>"
      ]
     },
     "metadata": {},
     "output_type": "display_data"
    }
   ],
   "source": [
    "py.hist(dist, color='red')"
   ]
  },
  {
   "cell_type": "code",
   "execution_count": 16,
   "metadata": {},
   "outputs": [
    {
     "data": {
      "text/plain": [
       "['CycB', 'Sin3A', 'Cdk1', 'Su(fu)', 'ptc', 'smo', 'Bin1', 'hh', 'ci', 'Rab23']"
      ]
     },
     "execution_count": 16,
     "metadata": {},
     "output_type": "execute_result"
    }
   ],
   "source": [
    "pathway_dict['Hedgehog Signaling Pathway_WP492']"
   ]
  },
  {
   "cell_type": "markdown",
   "metadata": {},
   "source": [
    "## build gmt"
   ]
  },
  {
   "cell_type": "code",
   "execution_count": 17,
   "metadata": {},
   "outputs": [
    {
     "name": "stdout",
     "output_type": "stream",
     "text": [
      "Progress: 100%  31 Out of 31   \r"
     ]
    }
   ],
   "source": [
    "filename = 'wikipathways_fly_%s.gmt'% str(datetime.date.today())[0:7].replace('-', '_')\n",
    "file = open(filename,'w+') \n",
    "terms = pathway_dict.keys()\n",
    "for i,term in enumerate(terms):\n",
    "    \n",
    "    progressPercent = ((i+1)/len(terms))*100\n",
    "    sys.stdout.write(\"Progress: %d%%  %d Out of %d   \\r\" % (progressPercent, (i+1), len(terms)))\n",
    "    sys.stdout.flush()\n",
    "    \n",
    "    if len(pathway_dict[term]) > 4:\n",
    "        file.write(\"%s\\t\" % term)\n",
    "        file.write(\"\\t\")\n",
    "        genes = pathway_dict[term]\n",
    "    \n",
    "        for gene in genes:\n",
    "              file.write(\"%s\\t\" % gene)\n",
    "        file.write(\"\\n\")\n",
    "        \n",
    "file.close()"
   ]
  },
  {
   "cell_type": "markdown",
   "metadata": {},
   "source": [
    "## get gmt stats"
   ]
  },
  {
   "cell_type": "code",
   "execution_count": 22,
   "metadata": {},
   "outputs": [],
   "source": [
    "def getTermStats(loaded_gmt, geneInfoTable, num_samplings, num_genes_in_sampling) :\n",
    "    # get the relevant terms and set a dictionary for them\n",
    "    term_set = loaded_gmt.iloc[:,0].apply(lambda x: x.split(\"\\t\")[0])\n",
    "    term_genes_dict = {term_set[i]: loaded_gmt.iloc[i,0].split(\"\\t\")[2:] for i in range(0, loaded_gmt.shape[0])}\n",
    "    term_rank_dict = {k: [] for k in term_set}\n",
    "    term_stats_dict = {k: [] for k in term_set}\n",
    "    \n",
    "    # get the total number of genes in the organism\n",
    "    n_genes = len(geneInfoTable[\"Symbol\"].unique())\n",
    "    \n",
    "    # number of genes per sampling, number of times to sample\n",
    "    genes_in_sampleing = num_genes_in_sampling\n",
    "    num_samplings = num_samplings\n",
    "    \n",
    "    for i,x in enumerate(range(0,num_samplings)):\n",
    "        \n",
    "        progressPercent = ((i+1)/len(range(0,num_samplings)))*100\n",
    "        \n",
    "        sys.stdout.write(\"Progress: %d%%  %d Out of %d   \\r\" % (progressPercent, (i+1), len(range(0,num_samplings))))\n",
    "        sys.stdout.flush()\n",
    "            \n",
    "        \n",
    "        randomSet = set(geneInfoTable[\"Symbol\"].sample(genes_in_sampleing))\n",
    "        \n",
    "        # initialize an array to hold the pvalue for each term\n",
    "        pvals = np.array([])\n",
    "        for key in term_rank_dict.keys():\n",
    "            \n",
    "            termSet = set(term_genes_dict[key])\n",
    "            # calculate p value using fisher exact test\n",
    "            # implemented using the formula found in the GeneOverap bioconductor package for R\n",
    "            pval_term = stat.fisher_exact([[n_genes - len(termSet.union(randomSet)), len(randomSet.difference(termSet))], [len(termSet.difference(randomSet)), len(termSet.intersection(randomSet))]])[1]\n",
    "            pvals = np.append(pvals, [pval_term])\n",
    "        \n",
    "        # sort the pvals and add the rank to the term_rank dict\n",
    "        sorted_pvals = pvals.argsort()\n",
    "        \n",
    "        # find the rank for each term by sorting the pvals array and getting the index of the key position in the\n",
    "        # sorted list. Need to +1 because the index begins with 0\n",
    "        \n",
    "        for j,key in enumerate(term_rank_dict.keys()):\n",
    "            term_rank_dict[key].append(np.where(sorted_pvals == j)[0][0] + 1)\n",
    "            \n",
    "    for key in term_rank_dict:\n",
    "        term_stats_dict[key] = [np.mean(term_rank_dict[key]), np.std(term_rank_dict[key])]\n",
    "            \n",
    "    \n",
    "    \n",
    "    return term_stats_dict"
   ]
  },
  {
   "cell_type": "code",
   "execution_count": 19,
   "metadata": {},
   "outputs": [],
   "source": [
    "## load gmt\n",
    "wikipathway_gmt = pd.read_csv(\"wikipathways_fly_2018_07.gmt\", sep=\"~\", header=None)"
   ]
  },
  {
   "cell_type": "code",
   "execution_count": 20,
   "metadata": {},
   "outputs": [
    {
     "data": {
      "text/html": [
       "<div>\n",
       "<style scoped>\n",
       "    .dataframe tbody tr th:only-of-type {\n",
       "        vertical-align: middle;\n",
       "    }\n",
       "\n",
       "    .dataframe tbody tr th {\n",
       "        vertical-align: top;\n",
       "    }\n",
       "\n",
       "    .dataframe thead th {\n",
       "        text-align: right;\n",
       "    }\n",
       "</style>\n",
       "<table border=\"1\" class=\"dataframe\">\n",
       "  <thead>\n",
       "    <tr style=\"text-align: right;\">\n",
       "      <th></th>\n",
       "      <th>0</th>\n",
       "    </tr>\n",
       "  </thead>\n",
       "  <tbody>\n",
       "    <tr>\n",
       "      <th>0</th>\n",
       "      <td>Glycolysis and Gluconeogenesis_WP144\\t\\tHex-A\\...</td>\n",
       "    </tr>\n",
       "    <tr>\n",
       "      <th>1</th>\n",
       "      <td>Homologous Recombination_WP1205\\t\\ttefu\\tspn-A...</td>\n",
       "    </tr>\n",
       "    <tr>\n",
       "      <th>2</th>\n",
       "      <td>Mitochondrial LC-Fatty Acid Beta-Oxidation_WP4...</td>\n",
       "    </tr>\n",
       "    <tr>\n",
       "      <th>3</th>\n",
       "      <td>Heme Biosynthesis_WP269\\t\\tAlas\\tUpdo\\tPpox\\tC...</td>\n",
       "    </tr>\n",
       "    <tr>\n",
       "      <th>4</th>\n",
       "      <td>Hedgehog Signaling Pathway_WP492\\t\\tCycB\\tSin3...</td>\n",
       "    </tr>\n",
       "  </tbody>\n",
       "</table>\n",
       "</div>"
      ],
      "text/plain": [
       "                                                   0\n",
       "0  Glycolysis and Gluconeogenesis_WP144\\t\\tHex-A\\...\n",
       "1  Homologous Recombination_WP1205\\t\\ttefu\\tspn-A...\n",
       "2  Mitochondrial LC-Fatty Acid Beta-Oxidation_WP4...\n",
       "3  Heme Biosynthesis_WP269\\t\\tAlas\\tUpdo\\tPpox\\tC...\n",
       "4  Hedgehog Signaling Pathway_WP492\\t\\tCycB\\tSin3..."
      ]
     },
     "execution_count": 20,
     "metadata": {},
     "output_type": "execute_result"
    }
   ],
   "source": [
    "wikipathway_gmt.head()"
   ]
  },
  {
   "cell_type": "code",
   "execution_count": 23,
   "metadata": {},
   "outputs": [
    {
     "name": "stdout",
     "output_type": "stream",
     "text": [
      "Progress: 100%  200 Out of 200   \r"
     ]
    }
   ],
   "source": [
    "iterations_200 = getTermStats(wikipathway_gmt, dMelanogaster_proteinCoding, num_samplings=200, num_genes_in_sampling=300)"
   ]
  },
  {
   "cell_type": "code",
   "execution_count": 24,
   "metadata": {},
   "outputs": [],
   "source": [
    "df_200_iterations = pd.DataFrame.from_dict(iterations_200, orient='index', columns = ['mean', 'sd'])\n",
    "df_200_iterations.to_csv('output/wikipathways_fly_2018_07_stats.tsv', sep='\\t', header=False)"
   ]
  }
 ],
 "metadata": {
  "kernelspec": {
   "display_name": "Python 3",
   "language": "python",
   "name": "python3"
  },
  "language_info": {
   "codemirror_mode": {
    "name": "ipython",
    "version": 3
   },
   "file_extension": ".py",
   "mimetype": "text/x-python",
   "name": "python",
   "nbconvert_exporter": "python",
   "pygments_lexer": "ipython3",
   "version": "3.6.5"
  }
 },
 "nbformat": 4,
 "nbformat_minor": 2
}
