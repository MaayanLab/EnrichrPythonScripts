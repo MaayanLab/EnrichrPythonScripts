{
 "cells": [
  {
   "cell_type": "markdown",
   "metadata": {},
   "source": [
    "# Gene Ontology (GO) Biological Process"
   ]
  },
  {
   "cell_type": "markdown",
   "metadata": {},
   "source": [
    "Author: Zachary Flamholz  \n",
    "Date: 06-2018  \n",
    "Database: http://flybase.org/   \n",
    "Data: http://geneontology.org/gene-associations/gene_association.fb.gz    \n",
    "Companion file: http://ftp.ncbi.nlm.nih.gov/gene/DATA/GENE_INFO/Invertebrates/Drosophila_melanogaster.gene_info.gz, http://snapshot.geneontology.org/ontology/go-basic.obo    "
   ]
  },
  {
   "cell_type": "code",
   "execution_count": 1,
   "metadata": {},
   "outputs": [],
   "source": [
    "import numpy as np\n",
    "import pandas as pd\n",
    "import sys, datetime\n",
    "import goenrich\n",
    "import scipy.stats as stat"
   ]
  },
  {
   "cell_type": "markdown",
   "metadata": {},
   "source": [
    "# Versions of Modules in Use"
   ]
  },
  {
   "cell_type": "code",
   "execution_count": 2,
   "metadata": {},
   "outputs": [
    {
     "data": {
      "application/json": {
       "Software versions": [
        {
         "module": "Python",
         "version": "3.6.5 64bit [GCC 4.2.1 Compatible Apple LLVM 9.1.0 (clang-902.0.39.1)]"
        },
        {
         "module": "IPython",
         "version": "6.4.0"
        },
        {
         "module": "OS",
         "version": "Darwin 17.5.0 x86_64 i386 64bit"
        },
        {
         "module": "numpy",
         "version": "1.14.5"
        },
        {
         "module": "pandas",
         "version": "0.23.1"
        }
       ]
      },
      "text/html": [
       "<table><tr><th>Software</th><th>Version</th></tr><tr><td>Python</td><td>3.6.5 64bit [GCC 4.2.1 Compatible Apple LLVM 9.1.0 (clang-902.0.39.1)]</td></tr><tr><td>IPython</td><td>6.4.0</td></tr><tr><td>OS</td><td>Darwin 17.5.0 x86_64 i386 64bit</td></tr><tr><td>numpy</td><td>1.14.5</td></tr><tr><td>pandas</td><td>0.23.1</td></tr><tr><td colspan='2'>Wed Jun 27 11:05:15 2018 EDT</td></tr></table>"
      ],
      "text/latex": [
       "\\begin{tabular}{|l|l|}\\hline\n",
       "{\\bf Software} & {\\bf Version} \\\\ \\hline\\hline\n",
       "Python & 3.6.5 64bit [GCC 4.2.1 Compatible Apple LLVM 9.1.0 (clang-902.0.39.1)] \\\\ \\hline\n",
       "IPython & 6.4.0 \\\\ \\hline\n",
       "OS & Darwin 17.5.0 x86\\_64 i386 64bit \\\\ \\hline\n",
       "numpy & 1.14.5 \\\\ \\hline\n",
       "pandas & 0.23.1 \\\\ \\hline\n",
       "\\hline \\multicolumn{2}{|l|}{Wed Jun 27 11:05:15 2018 EDT} \\\\ \\hline\n",
       "\\end{tabular}\n"
      ],
      "text/plain": [
       "Software versions\n",
       "Python 3.6.5 64bit [GCC 4.2.1 Compatible Apple LLVM 9.1.0 (clang-902.0.39.1)]\n",
       "IPython 6.4.0\n",
       "OS Darwin 17.5.0 x86_64 i386 64bit\n",
       "numpy 1.14.5\n",
       "pandas 0.23.1\n",
       "Wed Jun 27 11:05:15 2018 EDT"
      ]
     },
     "execution_count": 2,
     "metadata": {},
     "output_type": "execute_result"
    }
   ],
   "source": [
    "%load_ext version_information\n",
    "%version_information numpy, pandas"
   ]
  },
  {
   "cell_type": "markdown",
   "metadata": {},
   "source": [
    "## read in data"
   ]
  },
  {
   "cell_type": "code",
   "execution_count": 4,
   "metadata": {},
   "outputs": [],
   "source": [
    "df = pd.read_csv('input/gene_association.fb', sep='`', skiprows=16, header=None)"
   ]
  },
  {
   "cell_type": "code",
   "execution_count": 5,
   "metadata": {},
   "outputs": [
    {
     "data": {
      "text/html": [
       "<div>\n",
       "<style scoped>\n",
       "    .dataframe tbody tr th:only-of-type {\n",
       "        vertical-align: middle;\n",
       "    }\n",
       "\n",
       "    .dataframe tbody tr th {\n",
       "        vertical-align: top;\n",
       "    }\n",
       "\n",
       "    .dataframe thead th {\n",
       "        text-align: right;\n",
       "    }\n",
       "</style>\n",
       "<table border=\"1\" class=\"dataframe\">\n",
       "  <thead>\n",
       "    <tr style=\"text-align: right;\">\n",
       "      <th></th>\n",
       "      <th>0</th>\n",
       "    </tr>\n",
       "  </thead>\n",
       "  <tbody>\n",
       "    <tr>\n",
       "      <th>0</th>\n",
       "      <td>FB\\tFBgn0043467\\t064Ya\\t\\tGO:0048149\\tFB:FBrf0...</td>\n",
       "    </tr>\n",
       "    <tr>\n",
       "      <th>1</th>\n",
       "      <td>FB\\tFBgn0043467\\t064Ya\\t\\tGO:0005575\\tFB:FBrf0...</td>\n",
       "    </tr>\n",
       "    <tr>\n",
       "      <th>2</th>\n",
       "      <td>FB\\tFBgn0043467\\t064Ya\\t\\tGO:0003674\\tFB:FBrf0...</td>\n",
       "    </tr>\n",
       "    <tr>\n",
       "      <th>3</th>\n",
       "      <td>FB\\tFBgn0026615\\t10-4\\t\\tGO:0008150\\tFB:FBrf01...</td>\n",
       "    </tr>\n",
       "    <tr>\n",
       "      <th>4</th>\n",
       "      <td>FB\\tFBgn0026615\\t10-4\\t\\tGO:0003674\\tFB:FBrf01...</td>\n",
       "    </tr>\n",
       "  </tbody>\n",
       "</table>\n",
       "</div>"
      ],
      "text/plain": [
       "                                                   0\n",
       "0  FB\\tFBgn0043467\\t064Ya\\t\\tGO:0048149\\tFB:FBrf0...\n",
       "1  FB\\tFBgn0043467\\t064Ya\\t\\tGO:0005575\\tFB:FBrf0...\n",
       "2  FB\\tFBgn0043467\\t064Ya\\t\\tGO:0003674\\tFB:FBrf0...\n",
       "3  FB\\tFBgn0026615\\t10-4\\t\\tGO:0008150\\tFB:FBrf01...\n",
       "4  FB\\tFBgn0026615\\t10-4\\t\\tGO:0003674\\tFB:FBrf01..."
      ]
     },
     "execution_count": 5,
     "metadata": {},
     "output_type": "execute_result"
    }
   ],
   "source": [
    "df.head()"
   ]
  },
  {
   "cell_type": "code",
   "execution_count": 6,
   "metadata": {},
   "outputs": [
    {
     "name": "stdout",
     "output_type": "stream",
     "text": [
      "Progress: 100%  115857 Out of 115857   \r"
     ]
    }
   ],
   "source": [
    "## code copied from Gene Ontology (GO) Biological Process by Moshe Silverstein \n",
    "\n",
    "matrix = np.chararray((df.shape[0], 17), itemsize=150, unicode=True)\n",
    "\n",
    "for i, row in enumerate(df.itertuples()):\n",
    "    \n",
    "    progressPercent = ((i+1)/len(df.index))*100\n",
    "\n",
    "    sys.stdout.write(\"Progress: %d%%  %d Out of %d   \\r\" % (progressPercent, (i+1), len(df.index)))\n",
    "    sys.stdout.flush()\n",
    "    \n",
    "    lst = row[1].split('\\t')\n",
    "\n",
    "    matrix[i, :] = lst\n",
    "\n",
    "df_clean = pd.DataFrame(data=matrix)"
   ]
  },
  {
   "cell_type": "code",
   "execution_count": 7,
   "metadata": {},
   "outputs": [
    {
     "data": {
      "text/html": [
       "<div>\n",
       "<style scoped>\n",
       "    .dataframe tbody tr th:only-of-type {\n",
       "        vertical-align: middle;\n",
       "    }\n",
       "\n",
       "    .dataframe tbody tr th {\n",
       "        vertical-align: top;\n",
       "    }\n",
       "\n",
       "    .dataframe thead th {\n",
       "        text-align: right;\n",
       "    }\n",
       "</style>\n",
       "<table border=\"1\" class=\"dataframe\">\n",
       "  <thead>\n",
       "    <tr style=\"text-align: right;\">\n",
       "      <th></th>\n",
       "      <th>0</th>\n",
       "      <th>1</th>\n",
       "      <th>2</th>\n",
       "      <th>3</th>\n",
       "      <th>4</th>\n",
       "      <th>5</th>\n",
       "      <th>6</th>\n",
       "      <th>7</th>\n",
       "      <th>8</th>\n",
       "      <th>9</th>\n",
       "      <th>10</th>\n",
       "      <th>11</th>\n",
       "      <th>12</th>\n",
       "      <th>13</th>\n",
       "      <th>14</th>\n",
       "      <th>15</th>\n",
       "      <th>16</th>\n",
       "    </tr>\n",
       "  </thead>\n",
       "  <tbody>\n",
       "    <tr>\n",
       "      <th>0</th>\n",
       "      <td>FB</td>\n",
       "      <td>FBgn0043467</td>\n",
       "      <td>064Ya</td>\n",
       "      <td></td>\n",
       "      <td>GO:0048149</td>\n",
       "      <td>FB:FBrf0131396|PMID:11086999</td>\n",
       "      <td>IMP</td>\n",
       "      <td></td>\n",
       "      <td>P</td>\n",
       "      <td>064Ya</td>\n",
       "      <td></td>\n",
       "      <td>gene_product</td>\n",
       "      <td>taxon:7227</td>\n",
       "      <td>20060803</td>\n",
       "      <td>FlyBase</td>\n",
       "      <td></td>\n",
       "      <td></td>\n",
       "    </tr>\n",
       "    <tr>\n",
       "      <th>1</th>\n",
       "      <td>FB</td>\n",
       "      <td>FBgn0043467</td>\n",
       "      <td>064Ya</td>\n",
       "      <td></td>\n",
       "      <td>GO:0005575</td>\n",
       "      <td>FB:FBrf0159398|GO_REF:0000015</td>\n",
       "      <td>ND</td>\n",
       "      <td></td>\n",
       "      <td>C</td>\n",
       "      <td>064Ya</td>\n",
       "      <td></td>\n",
       "      <td>gene_product</td>\n",
       "      <td>taxon:7227</td>\n",
       "      <td>20060803</td>\n",
       "      <td>FlyBase</td>\n",
       "      <td></td>\n",
       "      <td></td>\n",
       "    </tr>\n",
       "    <tr>\n",
       "      <th>2</th>\n",
       "      <td>FB</td>\n",
       "      <td>FBgn0043467</td>\n",
       "      <td>064Ya</td>\n",
       "      <td></td>\n",
       "      <td>GO:0003674</td>\n",
       "      <td>FB:FBrf0159398|GO_REF:0000015</td>\n",
       "      <td>ND</td>\n",
       "      <td></td>\n",
       "      <td>F</td>\n",
       "      <td>064Ya</td>\n",
       "      <td></td>\n",
       "      <td>gene_product</td>\n",
       "      <td>taxon:7227</td>\n",
       "      <td>20060803</td>\n",
       "      <td>FlyBase</td>\n",
       "      <td></td>\n",
       "      <td></td>\n",
       "    </tr>\n",
       "    <tr>\n",
       "      <th>3</th>\n",
       "      <td>FB</td>\n",
       "      <td>FBgn0026615</td>\n",
       "      <td>10-4</td>\n",
       "      <td></td>\n",
       "      <td>GO:0008150</td>\n",
       "      <td>FB:FBrf0159398|GO_REF:0000015</td>\n",
       "      <td>ND</td>\n",
       "      <td></td>\n",
       "      <td>P</td>\n",
       "      <td>10-4</td>\n",
       "      <td></td>\n",
       "      <td>gene_product</td>\n",
       "      <td>taxon:7227</td>\n",
       "      <td>20060803</td>\n",
       "      <td>FlyBase</td>\n",
       "      <td></td>\n",
       "      <td></td>\n",
       "    </tr>\n",
       "    <tr>\n",
       "      <th>4</th>\n",
       "      <td>FB</td>\n",
       "      <td>FBgn0026615</td>\n",
       "      <td>10-4</td>\n",
       "      <td></td>\n",
       "      <td>GO:0003674</td>\n",
       "      <td>FB:FBrf0159398|GO_REF:0000015</td>\n",
       "      <td>ND</td>\n",
       "      <td></td>\n",
       "      <td>F</td>\n",
       "      <td>10-4</td>\n",
       "      <td></td>\n",
       "      <td>gene_product</td>\n",
       "      <td>taxon:7227</td>\n",
       "      <td>20060803</td>\n",
       "      <td>FlyBase</td>\n",
       "      <td></td>\n",
       "      <td></td>\n",
       "    </tr>\n",
       "    <tr>\n",
       "      <th>5</th>\n",
       "      <td>FB</td>\n",
       "      <td>FBgn0070057</td>\n",
       "      <td>11</td>\n",
       "      <td></td>\n",
       "      <td>GO:0005575</td>\n",
       "      <td>FB:FBrf0159398|GO_REF:0000015</td>\n",
       "      <td>ND</td>\n",
       "      <td></td>\n",
       "      <td>C</td>\n",
       "      <td>11</td>\n",
       "      <td>#1</td>\n",
       "      <td>gene_product</td>\n",
       "      <td>taxon:7227</td>\n",
       "      <td>20060803</td>\n",
       "      <td>FlyBase</td>\n",
       "      <td></td>\n",
       "      <td></td>\n",
       "    </tr>\n",
       "    <tr>\n",
       "      <th>6</th>\n",
       "      <td>FB</td>\n",
       "      <td>FBgn0070057</td>\n",
       "      <td>11</td>\n",
       "      <td></td>\n",
       "      <td>GO:0003674</td>\n",
       "      <td>FB:FBrf0159398|GO_REF:0000015</td>\n",
       "      <td>ND</td>\n",
       "      <td></td>\n",
       "      <td>F</td>\n",
       "      <td>11</td>\n",
       "      <td>#1</td>\n",
       "      <td>gene_product</td>\n",
       "      <td>taxon:7227</td>\n",
       "      <td>20060803</td>\n",
       "      <td>FlyBase</td>\n",
       "      <td></td>\n",
       "      <td></td>\n",
       "    </tr>\n",
       "    <tr>\n",
       "      <th>7</th>\n",
       "      <td>FB</td>\n",
       "      <td>FBgn0010339</td>\n",
       "      <td>128up</td>\n",
       "      <td></td>\n",
       "      <td>GO:0005525</td>\n",
       "      <td>FB:FBrf0067209|PMID:8121394</td>\n",
       "      <td>IDA</td>\n",
       "      <td></td>\n",
       "      <td>F</td>\n",
       "      <td>upstream of RpIII128</td>\n",
       "      <td>CG8340|GTP-bp|Gtp-bp|X71866</td>\n",
       "      <td>protein</td>\n",
       "      <td>taxon:7227</td>\n",
       "      <td>20060803</td>\n",
       "      <td>FlyBase</td>\n",
       "      <td></td>\n",
       "      <td></td>\n",
       "    </tr>\n",
       "    <tr>\n",
       "      <th>8</th>\n",
       "      <td>FB</td>\n",
       "      <td>FBgn0020238</td>\n",
       "      <td>14-3-3epsilon</td>\n",
       "      <td></td>\n",
       "      <td>GO:0000077</td>\n",
       "      <td>FB:FBrf0127025|PMID:10733527</td>\n",
       "      <td>IMP</td>\n",
       "      <td></td>\n",
       "      <td>P</td>\n",
       "      <td>14-3-3epsilon</td>\n",
       "      <td>14-3-3|14-3-3 epsilon|14-3-3 protein epsilon|1...</td>\n",
       "      <td>protein</td>\n",
       "      <td>taxon:7227</td>\n",
       "      <td>20060803</td>\n",
       "      <td>FlyBase</td>\n",
       "      <td></td>\n",
       "      <td></td>\n",
       "    </tr>\n",
       "    <tr>\n",
       "      <th>9</th>\n",
       "      <td>FB</td>\n",
       "      <td>FBgn0020238</td>\n",
       "      <td>14-3-3epsilon</td>\n",
       "      <td></td>\n",
       "      <td>GO:0000077</td>\n",
       "      <td>FB:FBrf0130073|PMID:10908583</td>\n",
       "      <td>TAS</td>\n",
       "      <td></td>\n",
       "      <td>P</td>\n",
       "      <td>14-3-3epsilon</td>\n",
       "      <td>14-3-3|14-3-3 epsilon|14-3-3 protein epsilon|1...</td>\n",
       "      <td>protein</td>\n",
       "      <td>taxon:7227</td>\n",
       "      <td>20060803</td>\n",
       "      <td>FlyBase</td>\n",
       "      <td></td>\n",
       "      <td></td>\n",
       "    </tr>\n",
       "  </tbody>\n",
       "</table>\n",
       "</div>"
      ],
      "text/plain": [
       "   0            1              2  3           4   \\\n",
       "0  FB  FBgn0043467          064Ya     GO:0048149   \n",
       "1  FB  FBgn0043467          064Ya     GO:0005575   \n",
       "2  FB  FBgn0043467          064Ya     GO:0003674   \n",
       "3  FB  FBgn0026615           10-4     GO:0008150   \n",
       "4  FB  FBgn0026615           10-4     GO:0003674   \n",
       "5  FB  FBgn0070057             11     GO:0005575   \n",
       "6  FB  FBgn0070057             11     GO:0003674   \n",
       "7  FB  FBgn0010339          128up     GO:0005525   \n",
       "8  FB  FBgn0020238  14-3-3epsilon     GO:0000077   \n",
       "9  FB  FBgn0020238  14-3-3epsilon     GO:0000077   \n",
       "\n",
       "                              5    6  7  8                     9   \\\n",
       "0   FB:FBrf0131396|PMID:11086999  IMP     P                 064Ya   \n",
       "1  FB:FBrf0159398|GO_REF:0000015   ND     C                 064Ya   \n",
       "2  FB:FBrf0159398|GO_REF:0000015   ND     F                 064Ya   \n",
       "3  FB:FBrf0159398|GO_REF:0000015   ND     P                  10-4   \n",
       "4  FB:FBrf0159398|GO_REF:0000015   ND     F                  10-4   \n",
       "5  FB:FBrf0159398|GO_REF:0000015   ND     C                    11   \n",
       "6  FB:FBrf0159398|GO_REF:0000015   ND     F                    11   \n",
       "7    FB:FBrf0067209|PMID:8121394  IDA     F  upstream of RpIII128   \n",
       "8   FB:FBrf0127025|PMID:10733527  IMP     P         14-3-3epsilon   \n",
       "9   FB:FBrf0130073|PMID:10908583  TAS     P         14-3-3epsilon   \n",
       "\n",
       "                                                  10            11  \\\n",
       "0                                                     gene_product   \n",
       "1                                                     gene_product   \n",
       "2                                                     gene_product   \n",
       "3                                                     gene_product   \n",
       "4                                                     gene_product   \n",
       "5                                                 #1  gene_product   \n",
       "6                                                 #1  gene_product   \n",
       "7                        CG8340|GTP-bp|Gtp-bp|X71866       protein   \n",
       "8  14-3-3|14-3-3 epsilon|14-3-3 protein epsilon|1...       protein   \n",
       "9  14-3-3|14-3-3 epsilon|14-3-3 protein epsilon|1...       protein   \n",
       "\n",
       "           12        13       14 15 16  \n",
       "0  taxon:7227  20060803  FlyBase        \n",
       "1  taxon:7227  20060803  FlyBase        \n",
       "2  taxon:7227  20060803  FlyBase        \n",
       "3  taxon:7227  20060803  FlyBase        \n",
       "4  taxon:7227  20060803  FlyBase        \n",
       "5  taxon:7227  20060803  FlyBase        \n",
       "6  taxon:7227  20060803  FlyBase        \n",
       "7  taxon:7227  20060803  FlyBase        \n",
       "8  taxon:7227  20060803  FlyBase        \n",
       "9  taxon:7227  20060803  FlyBase        "
      ]
     },
     "execution_count": 7,
     "metadata": {},
     "output_type": "execute_result"
    }
   ],
   "source": [
    "df_clean.head(10)"
   ]
  },
  {
   "cell_type": "code",
   "execution_count": 8,
   "metadata": {},
   "outputs": [],
   "source": [
    "columns = [\"DB\", \"DB gene ID\", \"Gene symbol\", \"Qualifier\", \"GO ID\", \"Reference\", \"Evidence code\", \"Evidence from\", \"GO class\", \"attribute\", \"Locus tag\", \"gene/protein\", \"tax id\", \"date\", \"Assigned by\", \"additional information\", \"empty\"]"
   ]
  },
  {
   "cell_type": "code",
   "execution_count": 9,
   "metadata": {},
   "outputs": [],
   "source": [
    "df_clean.columns = columns"
   ]
  },
  {
   "cell_type": "code",
   "execution_count": 10,
   "metadata": {},
   "outputs": [
    {
     "data": {
      "text/html": [
       "<div>\n",
       "<style scoped>\n",
       "    .dataframe tbody tr th:only-of-type {\n",
       "        vertical-align: middle;\n",
       "    }\n",
       "\n",
       "    .dataframe tbody tr th {\n",
       "        vertical-align: top;\n",
       "    }\n",
       "\n",
       "    .dataframe thead th {\n",
       "        text-align: right;\n",
       "    }\n",
       "</style>\n",
       "<table border=\"1\" class=\"dataframe\">\n",
       "  <thead>\n",
       "    <tr style=\"text-align: right;\">\n",
       "      <th></th>\n",
       "      <th>DB</th>\n",
       "      <th>DB gene ID</th>\n",
       "      <th>Gene symbol</th>\n",
       "      <th>Qualifier</th>\n",
       "      <th>GO ID</th>\n",
       "      <th>Reference</th>\n",
       "      <th>Evidence code</th>\n",
       "      <th>Evidence from</th>\n",
       "      <th>GO class</th>\n",
       "      <th>attribute</th>\n",
       "      <th>Locus tag</th>\n",
       "      <th>gene/protein</th>\n",
       "      <th>tax id</th>\n",
       "      <th>date</th>\n",
       "      <th>Assigned by</th>\n",
       "      <th>additional information</th>\n",
       "      <th>empty</th>\n",
       "    </tr>\n",
       "  </thead>\n",
       "  <tbody>\n",
       "    <tr>\n",
       "      <th>0</th>\n",
       "      <td>FB</td>\n",
       "      <td>FBgn0043467</td>\n",
       "      <td>064Ya</td>\n",
       "      <td></td>\n",
       "      <td>GO:0048149</td>\n",
       "      <td>FB:FBrf0131396|PMID:11086999</td>\n",
       "      <td>IMP</td>\n",
       "      <td></td>\n",
       "      <td>P</td>\n",
       "      <td>064Ya</td>\n",
       "      <td></td>\n",
       "      <td>gene_product</td>\n",
       "      <td>taxon:7227</td>\n",
       "      <td>20060803</td>\n",
       "      <td>FlyBase</td>\n",
       "      <td></td>\n",
       "      <td></td>\n",
       "    </tr>\n",
       "    <tr>\n",
       "      <th>1</th>\n",
       "      <td>FB</td>\n",
       "      <td>FBgn0043467</td>\n",
       "      <td>064Ya</td>\n",
       "      <td></td>\n",
       "      <td>GO:0005575</td>\n",
       "      <td>FB:FBrf0159398|GO_REF:0000015</td>\n",
       "      <td>ND</td>\n",
       "      <td></td>\n",
       "      <td>C</td>\n",
       "      <td>064Ya</td>\n",
       "      <td></td>\n",
       "      <td>gene_product</td>\n",
       "      <td>taxon:7227</td>\n",
       "      <td>20060803</td>\n",
       "      <td>FlyBase</td>\n",
       "      <td></td>\n",
       "      <td></td>\n",
       "    </tr>\n",
       "    <tr>\n",
       "      <th>2</th>\n",
       "      <td>FB</td>\n",
       "      <td>FBgn0043467</td>\n",
       "      <td>064Ya</td>\n",
       "      <td></td>\n",
       "      <td>GO:0003674</td>\n",
       "      <td>FB:FBrf0159398|GO_REF:0000015</td>\n",
       "      <td>ND</td>\n",
       "      <td></td>\n",
       "      <td>F</td>\n",
       "      <td>064Ya</td>\n",
       "      <td></td>\n",
       "      <td>gene_product</td>\n",
       "      <td>taxon:7227</td>\n",
       "      <td>20060803</td>\n",
       "      <td>FlyBase</td>\n",
       "      <td></td>\n",
       "      <td></td>\n",
       "    </tr>\n",
       "    <tr>\n",
       "      <th>3</th>\n",
       "      <td>FB</td>\n",
       "      <td>FBgn0026615</td>\n",
       "      <td>10-4</td>\n",
       "      <td></td>\n",
       "      <td>GO:0008150</td>\n",
       "      <td>FB:FBrf0159398|GO_REF:0000015</td>\n",
       "      <td>ND</td>\n",
       "      <td></td>\n",
       "      <td>P</td>\n",
       "      <td>10-4</td>\n",
       "      <td></td>\n",
       "      <td>gene_product</td>\n",
       "      <td>taxon:7227</td>\n",
       "      <td>20060803</td>\n",
       "      <td>FlyBase</td>\n",
       "      <td></td>\n",
       "      <td></td>\n",
       "    </tr>\n",
       "    <tr>\n",
       "      <th>4</th>\n",
       "      <td>FB</td>\n",
       "      <td>FBgn0026615</td>\n",
       "      <td>10-4</td>\n",
       "      <td></td>\n",
       "      <td>GO:0003674</td>\n",
       "      <td>FB:FBrf0159398|GO_REF:0000015</td>\n",
       "      <td>ND</td>\n",
       "      <td></td>\n",
       "      <td>F</td>\n",
       "      <td>10-4</td>\n",
       "      <td></td>\n",
       "      <td>gene_product</td>\n",
       "      <td>taxon:7227</td>\n",
       "      <td>20060803</td>\n",
       "      <td>FlyBase</td>\n",
       "      <td></td>\n",
       "      <td></td>\n",
       "    </tr>\n",
       "  </tbody>\n",
       "</table>\n",
       "</div>"
      ],
      "text/plain": [
       "   DB   DB gene ID Gene symbol Qualifier       GO ID  \\\n",
       "0  FB  FBgn0043467       064Ya            GO:0048149   \n",
       "1  FB  FBgn0043467       064Ya            GO:0005575   \n",
       "2  FB  FBgn0043467       064Ya            GO:0003674   \n",
       "3  FB  FBgn0026615        10-4            GO:0008150   \n",
       "4  FB  FBgn0026615        10-4            GO:0003674   \n",
       "\n",
       "                       Reference Evidence code Evidence from GO class  \\\n",
       "0   FB:FBrf0131396|PMID:11086999           IMP                      P   \n",
       "1  FB:FBrf0159398|GO_REF:0000015            ND                      C   \n",
       "2  FB:FBrf0159398|GO_REF:0000015            ND                      F   \n",
       "3  FB:FBrf0159398|GO_REF:0000015            ND                      P   \n",
       "4  FB:FBrf0159398|GO_REF:0000015            ND                      F   \n",
       "\n",
       "  attribute Locus tag  gene/protein      tax id      date Assigned by  \\\n",
       "0     064Ya            gene_product  taxon:7227  20060803     FlyBase   \n",
       "1     064Ya            gene_product  taxon:7227  20060803     FlyBase   \n",
       "2     064Ya            gene_product  taxon:7227  20060803     FlyBase   \n",
       "3      10-4            gene_product  taxon:7227  20060803     FlyBase   \n",
       "4      10-4            gene_product  taxon:7227  20060803     FlyBase   \n",
       "\n",
       "  additional information empty  \n",
       "0                               \n",
       "1                               \n",
       "2                               \n",
       "3                               \n",
       "4                               "
      ]
     },
     "execution_count": 10,
     "metadata": {},
     "output_type": "execute_result"
    }
   ],
   "source": [
    "df_clean.head()"
   ]
  },
  {
   "cell_type": "code",
   "execution_count": 11,
   "metadata": {},
   "outputs": [],
   "source": [
    "df_process = df_clean[df_clean[\"GO class\"] == 'P'].copy()"
   ]
  },
  {
   "cell_type": "code",
   "execution_count": 12,
   "metadata": {},
   "outputs": [
    {
     "data": {
      "text/plain": [
       "(55579, 17)"
      ]
     },
     "execution_count": 12,
     "metadata": {},
     "output_type": "execute_result"
    }
   ],
   "source": [
    "df_process.shape"
   ]
  },
  {
   "cell_type": "code",
   "execution_count": 13,
   "metadata": {},
   "outputs": [],
   "source": [
    "# remove any annotation assigned by electronic matching and with the NOT qualifier which is used to specify a gene is not associated with a term\n",
    "df_process = df_process[df_process[\"Evidence code\"] != 'IEA']\n",
    "df_process = df_process[df_process[\"Qualifier\"] != 'NOT']"
   ]
  },
  {
   "cell_type": "code",
   "execution_count": 14,
   "metadata": {},
   "outputs": [],
   "source": [
    "df_process = df_process[['Gene symbol', 'GO ID']]\n",
    "df_process.reset_index(inplace=True)\n",
    "df_process = df_process.drop(columns = 'index')"
   ]
  },
  {
   "cell_type": "code",
   "execution_count": 15,
   "metadata": {},
   "outputs": [
    {
     "data": {
      "text/plain": [
       "(52028, 2)"
      ]
     },
     "execution_count": 15,
     "metadata": {},
     "output_type": "execute_result"
    }
   ],
   "source": [
    "df_process.shape"
   ]
  },
  {
   "cell_type": "markdown",
   "metadata": {},
   "source": [
    "## load GO digraph"
   ]
  },
  {
   "cell_type": "code",
   "execution_count": 16,
   "metadata": {},
   "outputs": [],
   "source": [
    "digraph = goenrich.obo.ontology('input/go-basic.ob')"
   ]
  },
  {
   "cell_type": "markdown",
   "metadata": {},
   "source": [
    "## only keep GO IDs with depth =>4, replace others with NaN and then remove those rows"
   ]
  },
  {
   "cell_type": "code",
   "execution_count": 17,
   "metadata": {},
   "outputs": [
    {
     "name": "stdout",
     "output_type": "stream",
     "text": [
      "Progress: 100%  52028 Out of 52028   \r"
     ]
    }
   ],
   "source": [
    "## code copied from Gene Ontology (GO) Biological Process by Moshe Silverstein \n",
    "\n",
    "lst = []\n",
    "\n",
    "for i,index in enumerate(df_process.index):\n",
    "    \n",
    "    progressPercent = ((i+1)/len(df_process.index))*100\n",
    "\n",
    "    sys.stdout.write(\"Progress: %d%%  %d Out of %d   \\r\" % (progressPercent, (i+1), len(df_process.index)))\n",
    "    sys.stdout.flush()\n",
    "    \n",
    "    term = df_process.loc[index, 'GO ID']\n",
    "    if term in digraph.node:\n",
    "        if digraph.node[term]['depth'] >= 4:\n",
    "            lst.append(term)\n",
    "        else:\n",
    "            lst.append(np.nan)\n",
    "    else:\n",
    "        lst.append(np.nan)\n",
    "           \n",
    "df_process['GO ID'] = lst"
   ]
  },
  {
   "cell_type": "code",
   "execution_count": 18,
   "metadata": {},
   "outputs": [
    {
     "data": {
      "text/plain": [
       "(52028, 2)"
      ]
     },
     "execution_count": 18,
     "metadata": {},
     "output_type": "execute_result"
    }
   ],
   "source": [
    "df_process.shape"
   ]
  },
  {
   "cell_type": "code",
   "execution_count": 19,
   "metadata": {},
   "outputs": [],
   "source": [
    "df_process.dropna(inplace=True)"
   ]
  },
  {
   "cell_type": "code",
   "execution_count": 20,
   "metadata": {},
   "outputs": [
    {
     "data": {
      "text/plain": [
       "(39794, 2)"
      ]
     },
     "execution_count": 20,
     "metadata": {},
     "output_type": "execute_result"
    }
   ],
   "source": [
    "df_process.shape"
   ]
  },
  {
   "cell_type": "code",
   "execution_count": 21,
   "metadata": {},
   "outputs": [
    {
     "data": {
      "text/html": [
       "<div>\n",
       "<style scoped>\n",
       "    .dataframe tbody tr th:only-of-type {\n",
       "        vertical-align: middle;\n",
       "    }\n",
       "\n",
       "    .dataframe tbody tr th {\n",
       "        vertical-align: top;\n",
       "    }\n",
       "\n",
       "    .dataframe thead th {\n",
       "        text-align: right;\n",
       "    }\n",
       "</style>\n",
       "<table border=\"1\" class=\"dataframe\">\n",
       "  <thead>\n",
       "    <tr style=\"text-align: right;\">\n",
       "      <th></th>\n",
       "      <th>Gene symbol</th>\n",
       "      <th>GO ID</th>\n",
       "    </tr>\n",
       "  </thead>\n",
       "  <tbody>\n",
       "    <tr>\n",
       "      <th>2</th>\n",
       "      <td>14-3-3epsilon</td>\n",
       "      <td>GO:0000077</td>\n",
       "    </tr>\n",
       "    <tr>\n",
       "      <th>3</th>\n",
       "      <td>14-3-3epsilon</td>\n",
       "      <td>GO:0000077</td>\n",
       "    </tr>\n",
       "    <tr>\n",
       "      <th>4</th>\n",
       "      <td>14-3-3epsilon</td>\n",
       "      <td>GO:0007444</td>\n",
       "    </tr>\n",
       "    <tr>\n",
       "      <th>7</th>\n",
       "      <td>14-3-3epsilon</td>\n",
       "      <td>GO:0007088</td>\n",
       "    </tr>\n",
       "    <tr>\n",
       "      <th>8</th>\n",
       "      <td>14-3-3epsilon</td>\n",
       "      <td>GO:0000077</td>\n",
       "    </tr>\n",
       "  </tbody>\n",
       "</table>\n",
       "</div>"
      ],
      "text/plain": [
       "     Gene symbol       GO ID\n",
       "2  14-3-3epsilon  GO:0000077\n",
       "3  14-3-3epsilon  GO:0000077\n",
       "4  14-3-3epsilon  GO:0007444\n",
       "7  14-3-3epsilon  GO:0007088\n",
       "8  14-3-3epsilon  GO:0000077"
      ]
     },
     "execution_count": 21,
     "metadata": {},
     "output_type": "execute_result"
    }
   ],
   "source": [
    "df_process.head()"
   ]
  },
  {
   "cell_type": "markdown",
   "metadata": {},
   "source": [
    "## term propagation-propergate child gene term relationships to parent terms"
   ]
  },
  {
   "cell_type": "code",
   "execution_count": 22,
   "metadata": {},
   "outputs": [],
   "source": [
    "## code copied from Gene Ontology (GO) Biological Process by Moshe Silverstein \n",
    "lst1 = []\n",
    "lst2 = []\n",
    "\n",
    "for i,index in enumerate(df_process.index):\n",
    "    \n",
    "#     progressPercent = ((i+1)/len(df.index))*100\n",
    "\n",
    "#     sys.stdout.write(\"Progress: %d%%  %d Out of %d   \\r\" % (progressPercent, (i+1), len(df.index)))\n",
    "#     sys.stdout.flush()\n",
    "    \n",
    "#     term = df.loc[index, 'GO ID']\n",
    "#     for parent in digraph.predecessors(term):\n",
    "#         if parent in digraph.node:\n",
    "#             if digraph.node[parent]['depth'] >= 4:\n",
    "#                 lst1.append(df.loc[index, 'DB Object Symbol'])\n",
    "#                 lst2.append(parent)\n",
    "#                 print(term, parent)\n",
    "    term = df_process.loc[index, 'GO ID']\n",
    "    for parent in digraph.successors(term):\n",
    "        if parent in digraph.node:\n",
    "            if digraph.node[parent]['depth'] >= 4:\n",
    "                lst1.append(df_process.loc[index, 'Gene symbol'])\n",
    "                lst2.append(parent)\n",
    "#                 print(term, parent)\n",
    "\n",
    "\n",
    "temp = pd.DataFrame()\n",
    "temp['Gene symbol'] = lst1\n",
    "temp['GO ID']  = lst2\n",
    "df_process = pd.concat([df_process, temp])\n",
    "df_process.reset_index(inplace=True)\n",
    "df_process = df_process.drop(columns = 'index')"
   ]
  },
  {
   "cell_type": "code",
   "execution_count": 23,
   "metadata": {},
   "outputs": [
    {
     "data": {
      "text/plain": [
       "(100560, 2)"
      ]
     },
     "execution_count": 23,
     "metadata": {},
     "output_type": "execute_result"
    }
   ],
   "source": [
    "df_process.shape"
   ]
  },
  {
   "cell_type": "code",
   "execution_count": 24,
   "metadata": {},
   "outputs": [
    {
     "data": {
      "text/html": [
       "<div>\n",
       "<style scoped>\n",
       "    .dataframe tbody tr th:only-of-type {\n",
       "        vertical-align: middle;\n",
       "    }\n",
       "\n",
       "    .dataframe tbody tr th {\n",
       "        vertical-align: top;\n",
       "    }\n",
       "\n",
       "    .dataframe thead th {\n",
       "        text-align: right;\n",
       "    }\n",
       "</style>\n",
       "<table border=\"1\" class=\"dataframe\">\n",
       "  <thead>\n",
       "    <tr style=\"text-align: right;\">\n",
       "      <th></th>\n",
       "      <th>Gene symbol</th>\n",
       "      <th>GO ID</th>\n",
       "    </tr>\n",
       "  </thead>\n",
       "  <tbody>\n",
       "    <tr>\n",
       "      <th>0</th>\n",
       "      <td>14-3-3epsilon</td>\n",
       "      <td>GO:0000077</td>\n",
       "    </tr>\n",
       "    <tr>\n",
       "      <th>1</th>\n",
       "      <td>14-3-3epsilon</td>\n",
       "      <td>GO:0000077</td>\n",
       "    </tr>\n",
       "    <tr>\n",
       "      <th>2</th>\n",
       "      <td>14-3-3epsilon</td>\n",
       "      <td>GO:0007444</td>\n",
       "    </tr>\n",
       "    <tr>\n",
       "      <th>3</th>\n",
       "      <td>14-3-3epsilon</td>\n",
       "      <td>GO:0007088</td>\n",
       "    </tr>\n",
       "    <tr>\n",
       "      <th>4</th>\n",
       "      <td>14-3-3epsilon</td>\n",
       "      <td>GO:0000077</td>\n",
       "    </tr>\n",
       "  </tbody>\n",
       "</table>\n",
       "</div>"
      ],
      "text/plain": [
       "     Gene symbol       GO ID\n",
       "0  14-3-3epsilon  GO:0000077\n",
       "1  14-3-3epsilon  GO:0000077\n",
       "2  14-3-3epsilon  GO:0007444\n",
       "3  14-3-3epsilon  GO:0007088\n",
       "4  14-3-3epsilon  GO:0000077"
      ]
     },
     "execution_count": 24,
     "metadata": {},
     "output_type": "execute_result"
    }
   ],
   "source": [
    "df_process.head()"
   ]
  },
  {
   "cell_type": "markdown",
   "metadata": {},
   "source": [
    "## map GO ID to descriptive name"
   ]
  },
  {
   "cell_type": "code",
   "execution_count": 25,
   "metadata": {},
   "outputs": [
    {
     "name": "stdout",
     "output_type": "stream",
     "text": [
      "Progress: 99%  100542 Out of 100560   \r"
     ]
    }
   ],
   "source": [
    "## code copied from Gene Ontology (GO) Biological Process by Moshe Silverstein \n",
    "lst = []\n",
    "\n",
    "for i,index in enumerate(df_process.index):\n",
    "    \n",
    "    progressPercent = ((i+1)/len(df_process.index))*100\n",
    "\n",
    "    sys.stdout.write(\"Progress: %d%%  %d Out of %d   \\r\" % (progressPercent, (i+1), len(df_process.index)))\n",
    "    sys.stdout.flush()\n",
    "    \n",
    "    lst.append(str(digraph.node[df_process.loc[index, 'GO ID']]['name'])+' '+ '('+str(df_process.loc[index, 'GO ID'])+')')\n",
    "    \n",
    "df_process['GO ID'] = lst"
   ]
  },
  {
   "cell_type": "code",
   "execution_count": 26,
   "metadata": {},
   "outputs": [
    {
     "data": {
      "text/html": [
       "<div>\n",
       "<style scoped>\n",
       "    .dataframe tbody tr th:only-of-type {\n",
       "        vertical-align: middle;\n",
       "    }\n",
       "\n",
       "    .dataframe tbody tr th {\n",
       "        vertical-align: top;\n",
       "    }\n",
       "\n",
       "    .dataframe thead th {\n",
       "        text-align: right;\n",
       "    }\n",
       "</style>\n",
       "<table border=\"1\" class=\"dataframe\">\n",
       "  <thead>\n",
       "    <tr style=\"text-align: right;\">\n",
       "      <th></th>\n",
       "      <th>Gene symbol</th>\n",
       "      <th>GO ID</th>\n",
       "    </tr>\n",
       "  </thead>\n",
       "  <tbody>\n",
       "    <tr>\n",
       "      <th>0</th>\n",
       "      <td>14-3-3epsilon</td>\n",
       "      <td>DNA damage checkpoint (GO:0000077)</td>\n",
       "    </tr>\n",
       "    <tr>\n",
       "      <th>1</th>\n",
       "      <td>14-3-3epsilon</td>\n",
       "      <td>DNA damage checkpoint (GO:0000077)</td>\n",
       "    </tr>\n",
       "    <tr>\n",
       "      <th>2</th>\n",
       "      <td>14-3-3epsilon</td>\n",
       "      <td>imaginal disc development (GO:0007444)</td>\n",
       "    </tr>\n",
       "    <tr>\n",
       "      <th>3</th>\n",
       "      <td>14-3-3epsilon</td>\n",
       "      <td>regulation of mitotic nuclear division (GO:000...</td>\n",
       "    </tr>\n",
       "    <tr>\n",
       "      <th>4</th>\n",
       "      <td>14-3-3epsilon</td>\n",
       "      <td>DNA damage checkpoint (GO:0000077)</td>\n",
       "    </tr>\n",
       "  </tbody>\n",
       "</table>\n",
       "</div>"
      ],
      "text/plain": [
       "     Gene symbol                                              GO ID\n",
       "0  14-3-3epsilon                 DNA damage checkpoint (GO:0000077)\n",
       "1  14-3-3epsilon                 DNA damage checkpoint (GO:0000077)\n",
       "2  14-3-3epsilon             imaginal disc development (GO:0007444)\n",
       "3  14-3-3epsilon  regulation of mitotic nuclear division (GO:000...\n",
       "4  14-3-3epsilon                 DNA damage checkpoint (GO:0000077)"
      ]
     },
     "execution_count": 26,
     "metadata": {},
     "output_type": "execute_result"
    }
   ],
   "source": [
    "df_process.head()"
   ]
  },
  {
   "cell_type": "code",
   "execution_count": 27,
   "metadata": {},
   "outputs": [],
   "source": [
    "df_process.drop_duplicates(inplace=True)"
   ]
  },
  {
   "cell_type": "code",
   "execution_count": 28,
   "metadata": {},
   "outputs": [
    {
     "data": {
      "text/html": [
       "<div>\n",
       "<style scoped>\n",
       "    .dataframe tbody tr th:only-of-type {\n",
       "        vertical-align: middle;\n",
       "    }\n",
       "\n",
       "    .dataframe tbody tr th {\n",
       "        vertical-align: top;\n",
       "    }\n",
       "\n",
       "    .dataframe thead th {\n",
       "        text-align: right;\n",
       "    }\n",
       "</style>\n",
       "<table border=\"1\" class=\"dataframe\">\n",
       "  <thead>\n",
       "    <tr style=\"text-align: right;\">\n",
       "      <th></th>\n",
       "      <th>Gene symbol</th>\n",
       "      <th>GO ID</th>\n",
       "    </tr>\n",
       "  </thead>\n",
       "  <tbody>\n",
       "    <tr>\n",
       "      <th>0</th>\n",
       "      <td>14-3-3epsilon</td>\n",
       "      <td>DNA damage checkpoint (GO:0000077)</td>\n",
       "    </tr>\n",
       "    <tr>\n",
       "      <th>2</th>\n",
       "      <td>14-3-3epsilon</td>\n",
       "      <td>imaginal disc development (GO:0007444)</td>\n",
       "    </tr>\n",
       "    <tr>\n",
       "      <th>3</th>\n",
       "      <td>14-3-3epsilon</td>\n",
       "      <td>regulation of mitotic nuclear division (GO:000...</td>\n",
       "    </tr>\n",
       "    <tr>\n",
       "      <th>5</th>\n",
       "      <td>14-3-3epsilon</td>\n",
       "      <td>wing disc dorsal/ventral pattern formation (GO...</td>\n",
       "    </tr>\n",
       "    <tr>\n",
       "      <th>6</th>\n",
       "      <td>14-3-3epsilon</td>\n",
       "      <td>positive regulation of growth (GO:0045927)</td>\n",
       "    </tr>\n",
       "  </tbody>\n",
       "</table>\n",
       "</div>"
      ],
      "text/plain": [
       "     Gene symbol                                              GO ID\n",
       "0  14-3-3epsilon                 DNA damage checkpoint (GO:0000077)\n",
       "2  14-3-3epsilon             imaginal disc development (GO:0007444)\n",
       "3  14-3-3epsilon  regulation of mitotic nuclear division (GO:000...\n",
       "5  14-3-3epsilon  wing disc dorsal/ventral pattern formation (GO...\n",
       "6  14-3-3epsilon         positive regulation of growth (GO:0045927)"
      ]
     },
     "execution_count": 28,
     "metadata": {},
     "output_type": "execute_result"
    }
   ],
   "source": [
    "df_process.head()"
   ]
  },
  {
   "cell_type": "code",
   "execution_count": 29,
   "metadata": {},
   "outputs": [],
   "source": [
    "df_process.reset_index(inplace=True)"
   ]
  },
  {
   "cell_type": "code",
   "execution_count": 30,
   "metadata": {},
   "outputs": [
    {
     "data": {
      "text/html": [
       "<div>\n",
       "<style scoped>\n",
       "    .dataframe tbody tr th:only-of-type {\n",
       "        vertical-align: middle;\n",
       "    }\n",
       "\n",
       "    .dataframe tbody tr th {\n",
       "        vertical-align: top;\n",
       "    }\n",
       "\n",
       "    .dataframe thead th {\n",
       "        text-align: right;\n",
       "    }\n",
       "</style>\n",
       "<table border=\"1\" class=\"dataframe\">\n",
       "  <thead>\n",
       "    <tr style=\"text-align: right;\">\n",
       "      <th></th>\n",
       "      <th>index</th>\n",
       "      <th>Gene symbol</th>\n",
       "      <th>GO ID</th>\n",
       "    </tr>\n",
       "  </thead>\n",
       "  <tbody>\n",
       "    <tr>\n",
       "      <th>0</th>\n",
       "      <td>0</td>\n",
       "      <td>14-3-3epsilon</td>\n",
       "      <td>DNA damage checkpoint (GO:0000077)</td>\n",
       "    </tr>\n",
       "    <tr>\n",
       "      <th>1</th>\n",
       "      <td>2</td>\n",
       "      <td>14-3-3epsilon</td>\n",
       "      <td>imaginal disc development (GO:0007444)</td>\n",
       "    </tr>\n",
       "    <tr>\n",
       "      <th>2</th>\n",
       "      <td>3</td>\n",
       "      <td>14-3-3epsilon</td>\n",
       "      <td>regulation of mitotic nuclear division (GO:000...</td>\n",
       "    </tr>\n",
       "    <tr>\n",
       "      <th>3</th>\n",
       "      <td>5</td>\n",
       "      <td>14-3-3epsilon</td>\n",
       "      <td>wing disc dorsal/ventral pattern formation (GO...</td>\n",
       "    </tr>\n",
       "    <tr>\n",
       "      <th>4</th>\n",
       "      <td>6</td>\n",
       "      <td>14-3-3epsilon</td>\n",
       "      <td>positive regulation of growth (GO:0045927)</td>\n",
       "    </tr>\n",
       "  </tbody>\n",
       "</table>\n",
       "</div>"
      ],
      "text/plain": [
       "   index    Gene symbol                                              GO ID\n",
       "0      0  14-3-3epsilon                 DNA damage checkpoint (GO:0000077)\n",
       "1      2  14-3-3epsilon             imaginal disc development (GO:0007444)\n",
       "2      3  14-3-3epsilon  regulation of mitotic nuclear division (GO:000...\n",
       "3      5  14-3-3epsilon  wing disc dorsal/ventral pattern formation (GO...\n",
       "4      6  14-3-3epsilon         positive regulation of growth (GO:0045927)"
      ]
     },
     "execution_count": 30,
     "metadata": {},
     "output_type": "execute_result"
    }
   ],
   "source": [
    "df_process.head()"
   ]
  },
  {
   "cell_type": "code",
   "execution_count": 31,
   "metadata": {},
   "outputs": [],
   "source": [
    "df_process = df_process.drop(columns = 'index')"
   ]
  },
  {
   "cell_type": "code",
   "execution_count": 32,
   "metadata": {},
   "outputs": [
    {
     "data": {
      "text/html": [
       "<div>\n",
       "<style scoped>\n",
       "    .dataframe tbody tr th:only-of-type {\n",
       "        vertical-align: middle;\n",
       "    }\n",
       "\n",
       "    .dataframe tbody tr th {\n",
       "        vertical-align: top;\n",
       "    }\n",
       "\n",
       "    .dataframe thead th {\n",
       "        text-align: right;\n",
       "    }\n",
       "</style>\n",
       "<table border=\"1\" class=\"dataframe\">\n",
       "  <thead>\n",
       "    <tr style=\"text-align: right;\">\n",
       "      <th></th>\n",
       "      <th>Gene symbol</th>\n",
       "      <th>GO ID</th>\n",
       "    </tr>\n",
       "  </thead>\n",
       "  <tbody>\n",
       "    <tr>\n",
       "      <th>0</th>\n",
       "      <td>14-3-3epsilon</td>\n",
       "      <td>DNA damage checkpoint (GO:0000077)</td>\n",
       "    </tr>\n",
       "    <tr>\n",
       "      <th>1</th>\n",
       "      <td>14-3-3epsilon</td>\n",
       "      <td>imaginal disc development (GO:0007444)</td>\n",
       "    </tr>\n",
       "    <tr>\n",
       "      <th>2</th>\n",
       "      <td>14-3-3epsilon</td>\n",
       "      <td>regulation of mitotic nuclear division (GO:000...</td>\n",
       "    </tr>\n",
       "    <tr>\n",
       "      <th>3</th>\n",
       "      <td>14-3-3epsilon</td>\n",
       "      <td>wing disc dorsal/ventral pattern formation (GO...</td>\n",
       "    </tr>\n",
       "    <tr>\n",
       "      <th>4</th>\n",
       "      <td>14-3-3epsilon</td>\n",
       "      <td>positive regulation of growth (GO:0045927)</td>\n",
       "    </tr>\n",
       "  </tbody>\n",
       "</table>\n",
       "</div>"
      ],
      "text/plain": [
       "     Gene symbol                                              GO ID\n",
       "0  14-3-3epsilon                 DNA damage checkpoint (GO:0000077)\n",
       "1  14-3-3epsilon             imaginal disc development (GO:0007444)\n",
       "2  14-3-3epsilon  regulation of mitotic nuclear division (GO:000...\n",
       "3  14-3-3epsilon  wing disc dorsal/ventral pattern formation (GO...\n",
       "4  14-3-3epsilon         positive regulation of growth (GO:0045927)"
      ]
     },
     "execution_count": 32,
     "metadata": {},
     "output_type": "execute_result"
    }
   ],
   "source": [
    "df_process.head()"
   ]
  },
  {
   "cell_type": "code",
   "execution_count": 33,
   "metadata": {},
   "outputs": [
    {
     "data": {
      "text/plain": [
       "(75052, 2)"
      ]
     },
     "execution_count": 33,
     "metadata": {},
     "output_type": "execute_result"
    }
   ],
   "source": [
    "df_process.shape"
   ]
  },
  {
   "cell_type": "code",
   "execution_count": 34,
   "metadata": {},
   "outputs": [
    {
     "data": {
      "text/plain": [
       "6060"
      ]
     },
     "execution_count": 34,
     "metadata": {},
     "output_type": "execute_result"
    }
   ],
   "source": [
    "number_terms = len(df_process.iloc[:, 1].unique())\n",
    "number_terms"
   ]
  },
  {
   "cell_type": "markdown",
   "metadata": {},
   "source": [
    "## build the protein-coding gene list"
   ]
  },
  {
   "cell_type": "code",
   "execution_count": 38,
   "metadata": {},
   "outputs": [],
   "source": [
    "dMelanogaster_geneInfo = pd.read_csv(\"input/Drosophila_melanogaster.gene_info\", sep=\"\\t\")"
   ]
  },
  {
   "cell_type": "code",
   "execution_count": 39,
   "metadata": {},
   "outputs": [
    {
     "data": {
      "text/html": [
       "<div>\n",
       "<style scoped>\n",
       "    .dataframe tbody tr th:only-of-type {\n",
       "        vertical-align: middle;\n",
       "    }\n",
       "\n",
       "    .dataframe tbody tr th {\n",
       "        vertical-align: top;\n",
       "    }\n",
       "\n",
       "    .dataframe thead th {\n",
       "        text-align: right;\n",
       "    }\n",
       "</style>\n",
       "<table border=\"1\" class=\"dataframe\">\n",
       "  <thead>\n",
       "    <tr style=\"text-align: right;\">\n",
       "      <th></th>\n",
       "      <th>#tax_id</th>\n",
       "      <th>GeneID</th>\n",
       "      <th>Symbol</th>\n",
       "      <th>LocusTag</th>\n",
       "      <th>Synonyms</th>\n",
       "      <th>dbXrefs</th>\n",
       "      <th>chromosome</th>\n",
       "      <th>map_location</th>\n",
       "      <th>description</th>\n",
       "      <th>type_of_gene</th>\n",
       "      <th>Symbol_from_nomenclature_authority</th>\n",
       "      <th>Full_name_from_nomenclature_authority</th>\n",
       "      <th>Nomenclature_status</th>\n",
       "      <th>Other_designations</th>\n",
       "      <th>Modification_date</th>\n",
       "      <th>Feature_type</th>\n",
       "    </tr>\n",
       "  </thead>\n",
       "  <tbody>\n",
       "    <tr>\n",
       "      <th>0</th>\n",
       "      <td>7227</td>\n",
       "      <td>30970</td>\n",
       "      <td>CG3038</td>\n",
       "      <td>Dmel_CG3038</td>\n",
       "      <td>Dmel\\CG3038|EG:BACR37P7.1|GalT3|dbeta3GnT</td>\n",
       "      <td>FLYBASE:FBgn0040373</td>\n",
       "      <td>X</td>\n",
       "      <td>1A1-1A1|1-0 cM</td>\n",
       "      <td>uncharacterized protein</td>\n",
       "      <td>protein-coding</td>\n",
       "      <td>CG3038</td>\n",
       "      <td>-</td>\n",
       "      <td>O</td>\n",
       "      <td>uncharacterized protein|CG3038-PA|CG3038-PB|CG...</td>\n",
       "      <td>20180601</td>\n",
       "      <td>-</td>\n",
       "    </tr>\n",
       "    <tr>\n",
       "      <th>1</th>\n",
       "      <td>7227</td>\n",
       "      <td>30971</td>\n",
       "      <td>G9a</td>\n",
       "      <td>Dmel_CG2995</td>\n",
       "      <td>CG2995|Dmel\\CG2995|EG:BACR37P7.2|EHMT|cab65850...</td>\n",
       "      <td>FLYBASE:FBgn0040372</td>\n",
       "      <td>X</td>\n",
       "      <td>1A1-1A1|1-0 cM</td>\n",
       "      <td>G9a</td>\n",
       "      <td>protein-coding</td>\n",
       "      <td>G9a</td>\n",
       "      <td>-</td>\n",
       "      <td>O</td>\n",
       "      <td>G9a|CG2995-PA|CG2995-PB|G9a-PA|G9a-PB|dG9a|euc...</td>\n",
       "      <td>20180603</td>\n",
       "      <td>-</td>\n",
       "    </tr>\n",
       "    <tr>\n",
       "      <th>2</th>\n",
       "      <td>7227</td>\n",
       "      <td>30972</td>\n",
       "      <td>CG13377</td>\n",
       "      <td>Dmel_CG13377</td>\n",
       "      <td>BG01596|Dmel\\CG13377|EG:BACR37P7.9</td>\n",
       "      <td>FLYBASE:FBgn0261446</td>\n",
       "      <td>X</td>\n",
       "      <td>1A1-1A1|1-0 cM</td>\n",
       "      <td>uncharacterized protein</td>\n",
       "      <td>protein-coding</td>\n",
       "      <td>CG13377</td>\n",
       "      <td>-</td>\n",
       "      <td>O</td>\n",
       "      <td>uncharacterized protein|BG01596|CG13377-PA|CG1...</td>\n",
       "      <td>20180603</td>\n",
       "      <td>-</td>\n",
       "    </tr>\n",
       "    <tr>\n",
       "      <th>3</th>\n",
       "      <td>7227</td>\n",
       "      <td>30973</td>\n",
       "      <td>cin</td>\n",
       "      <td>Dmel_CG2945</td>\n",
       "      <td>CG2945|CIN|Dmel\\CG2945|EG:BACR37P7.3|fs(1)M50|...</td>\n",
       "      <td>FLYBASE:FBgn0000316</td>\n",
       "      <td>X</td>\n",
       "      <td>1A1-1A1|1-0 cM</td>\n",
       "      <td>cinnamon</td>\n",
       "      <td>protein-coding</td>\n",
       "      <td>cin</td>\n",
       "      <td>cinnamon</td>\n",
       "      <td>O</td>\n",
       "      <td>cinnamon|CG2945-PA|CG2945-PB|cin-PA|cin-PB</td>\n",
       "      <td>20180603</td>\n",
       "      <td>-</td>\n",
       "    </tr>\n",
       "    <tr>\n",
       "      <th>4</th>\n",
       "      <td>7227</td>\n",
       "      <td>30975</td>\n",
       "      <td>ewg</td>\n",
       "      <td>Dmel_CG3114</td>\n",
       "      <td>CG3114|Dmel\\CG3114|EC3|EG:BACR37P7.7|EWG|Ewg|N...</td>\n",
       "      <td>FLYBASE:FBgn0005427</td>\n",
       "      <td>X</td>\n",
       "      <td>1A1-1A1|1-0 cM</td>\n",
       "      <td>erect wing</td>\n",
       "      <td>protein-coding</td>\n",
       "      <td>ewg</td>\n",
       "      <td>erect wing</td>\n",
       "      <td>O</td>\n",
       "      <td>erect wing|CG3114-PA|CG3114-PB|CG3114-PC|CG311...</td>\n",
       "      <td>20180603</td>\n",
       "      <td>-</td>\n",
       "    </tr>\n",
       "  </tbody>\n",
       "</table>\n",
       "</div>"
      ],
      "text/plain": [
       "   #tax_id  GeneID   Symbol      LocusTag  \\\n",
       "0     7227   30970   CG3038   Dmel_CG3038   \n",
       "1     7227   30971      G9a   Dmel_CG2995   \n",
       "2     7227   30972  CG13377  Dmel_CG13377   \n",
       "3     7227   30973      cin   Dmel_CG2945   \n",
       "4     7227   30975      ewg   Dmel_CG3114   \n",
       "\n",
       "                                            Synonyms              dbXrefs  \\\n",
       "0          Dmel\\CG3038|EG:BACR37P7.1|GalT3|dbeta3GnT  FLYBASE:FBgn0040373   \n",
       "1  CG2995|Dmel\\CG2995|EG:BACR37P7.2|EHMT|cab65850...  FLYBASE:FBgn0040372   \n",
       "2                 BG01596|Dmel\\CG13377|EG:BACR37P7.9  FLYBASE:FBgn0261446   \n",
       "3  CG2945|CIN|Dmel\\CG2945|EG:BACR37P7.3|fs(1)M50|...  FLYBASE:FBgn0000316   \n",
       "4  CG3114|Dmel\\CG3114|EC3|EG:BACR37P7.7|EWG|Ewg|N...  FLYBASE:FBgn0005427   \n",
       "\n",
       "  chromosome    map_location              description    type_of_gene  \\\n",
       "0          X  1A1-1A1|1-0 cM  uncharacterized protein  protein-coding   \n",
       "1          X  1A1-1A1|1-0 cM                      G9a  protein-coding   \n",
       "2          X  1A1-1A1|1-0 cM  uncharacterized protein  protein-coding   \n",
       "3          X  1A1-1A1|1-0 cM                 cinnamon  protein-coding   \n",
       "4          X  1A1-1A1|1-0 cM               erect wing  protein-coding   \n",
       "\n",
       "  Symbol_from_nomenclature_authority Full_name_from_nomenclature_authority  \\\n",
       "0                             CG3038                                     -   \n",
       "1                                G9a                                     -   \n",
       "2                            CG13377                                     -   \n",
       "3                                cin                              cinnamon   \n",
       "4                                ewg                            erect wing   \n",
       "\n",
       "  Nomenclature_status                                 Other_designations  \\\n",
       "0                   O  uncharacterized protein|CG3038-PA|CG3038-PB|CG...   \n",
       "1                   O  G9a|CG2995-PA|CG2995-PB|G9a-PA|G9a-PB|dG9a|euc...   \n",
       "2                   O  uncharacterized protein|BG01596|CG13377-PA|CG1...   \n",
       "3                   O         cinnamon|CG2945-PA|CG2945-PB|cin-PA|cin-PB   \n",
       "4                   O  erect wing|CG3114-PA|CG3114-PB|CG3114-PC|CG311...   \n",
       "\n",
       "   Modification_date Feature_type  \n",
       "0           20180601            -  \n",
       "1           20180603            -  \n",
       "2           20180603            -  \n",
       "3           20180603            -  \n",
       "4           20180603            -  "
      ]
     },
     "execution_count": 39,
     "metadata": {},
     "output_type": "execute_result"
    }
   ],
   "source": [
    "dMelanogaster_geneInfo.head()"
   ]
  },
  {
   "cell_type": "code",
   "execution_count": 40,
   "metadata": {},
   "outputs": [
    {
     "data": {
      "text/plain": [
       "(25030, 16)"
      ]
     },
     "execution_count": 40,
     "metadata": {},
     "output_type": "execute_result"
    }
   ],
   "source": [
    "dMelanogaster_geneInfo.shape"
   ]
  },
  {
   "cell_type": "code",
   "execution_count": 41,
   "metadata": {},
   "outputs": [],
   "source": [
    "dMelanogaster_proteinCoding = dMelanogaster_geneInfo[dMelanogaster_geneInfo[\"type_of_gene\"] == \"protein-coding\"]"
   ]
  },
  {
   "cell_type": "code",
   "execution_count": 42,
   "metadata": {},
   "outputs": [
    {
     "data": {
      "text/plain": [
       "(13931, 16)"
      ]
     },
     "execution_count": 42,
     "metadata": {},
     "output_type": "execute_result"
    }
   ],
   "source": [
    "dMelanogaster_proteinCoding.shape"
   ]
  },
  {
   "cell_type": "markdown",
   "metadata": {},
   "source": [
    "## only keep gene symbolys that are in the S cerevisiae table"
   ]
  },
  {
   "cell_type": "code",
   "execution_count": 43,
   "metadata": {},
   "outputs": [],
   "source": [
    "df_process_protein = df_process.loc[df_process[\"Gene symbol\"].isin(dMelanogaster_proteinCoding[\"Symbol\"].unique())]"
   ]
  },
  {
   "cell_type": "code",
   "execution_count": 44,
   "metadata": {},
   "outputs": [
    {
     "data": {
      "text/plain": [
       "(69273, 2)"
      ]
     },
     "execution_count": 44,
     "metadata": {},
     "output_type": "execute_result"
    }
   ],
   "source": [
    "df_process_protein.shape"
   ]
  },
  {
   "cell_type": "code",
   "execution_count": 45,
   "metadata": {},
   "outputs": [
    {
     "name": "stdout",
     "output_type": "stream",
     "text": [
      "Progress: 0%  5 Out of 6004   \r"
     ]
    },
    {
     "name": "stderr",
     "output_type": "stream",
     "text": [
      "/usr/local/lib/python3.6/site-packages/ipykernel_launcher.py:15: SettingWithCopyWarning: \n",
      "A value is trying to be set on a copy of a slice from a DataFrame.\n",
      "Try using .loc[row_indexer,col_indexer] = value instead\n",
      "\n",
      "See the caveats in the documentation: http://pandas.pydata.org/pandas-docs/stable/indexing.html#indexing-view-versus-copy\n",
      "  from ipykernel import kernelapp as app\n"
     ]
    },
    {
     "name": "stdout",
     "output_type": "stream",
     "text": [
      "Progress: 100%  6004 Out of 6004   \r"
     ]
    }
   ],
   "source": [
    "filename = 'process_gene_ontology_flybase_greater4_%s.gmt'% str(datetime.date.today())[0:7].replace('-', '_')\n",
    "file = open(filename,'w+') \n",
    "terms = df_process_protein[\"GO ID\"].unique()\n",
    "for i,term in enumerate(terms):\n",
    "    \n",
    "    progressPercent = ((i+1)/len(terms))*100\n",
    "    sys.stdout.write(\"Progress: %d%%  %d Out of %d   \\r\" % (progressPercent, (i+1), len(terms)))\n",
    "    sys.stdout.flush()\n",
    "            \n",
    "    df_byTerm = df_process_protein.loc[df_process_protein[\"GO ID\"] == term]\n",
    "    \n",
    "    if df_byTerm.shape[0] > 4:\n",
    "        # split splice variant names\n",
    "        split_splice = lambda x: x.split('.')[0]\n",
    "        df_byTerm[\"Gene symbol\"] = df_byTerm[\"Gene symbol\"].apply(split_splice)\n",
    "        \n",
    "        \n",
    "        if len(df_byTerm[\"Gene symbol\"].unique()) > 4:\n",
    "            file.write(\"%s\\t\" % term)\n",
    "            file.write(\"\\t\")\n",
    "            genes = df_byTerm[\"Gene symbol\"].unique()\n",
    "    \n",
    "            for gene in genes:\n",
    "                file.write(\"%s\\t\" % gene)\n",
    "            file.write(\"\\n\")\n",
    "        \n",
    "file.close()"
   ]
  },
  {
   "cell_type": "markdown",
   "metadata": {},
   "source": [
    "## get stats for gmt"
   ]
  },
  {
   "cell_type": "code",
   "execution_count": 49,
   "metadata": {},
   "outputs": [],
   "source": [
    "def getTermStats(loaded_gmt, geneInfoTable, num_samplings, num_genes_in_sampling) :\n",
    "    # get the relevant terms and set a dictionary for them\n",
    "    term_set = loaded_gmt.iloc[:,0].apply(lambda x: x.split(\"\\t\")[0])\n",
    "    term_genes_dict = {term_set[i]: loaded_gmt.iloc[i,0].split(\"\\t\")[2:] for i in range(0, loaded_gmt.shape[0])}\n",
    "    term_rank_dict = {k: [] for k in term_set}\n",
    "    term_stats_dict = {k: [] for k in term_set}\n",
    "    \n",
    "    # get the total number of genes in the organism\n",
    "    n_genes = len(geneInfoTable[\"Symbol\"].unique())\n",
    "    \n",
    "    # number of genes per sampling, number of times to sample\n",
    "    genes_in_sampleing = num_genes_in_sampling\n",
    "    num_samplings = num_samplings\n",
    "    \n",
    "    for i,x in enumerate(range(0,num_samplings)):\n",
    "        \n",
    "        progressPercent = ((i+1)/len(range(0,num_samplings)))*100\n",
    "        \n",
    "        sys.stdout.write(\"Progress: %d%%  %d Out of %d   \\r\" % (progressPercent, (i+1), len(range(0,num_samplings))))\n",
    "        sys.stdout.flush()\n",
    "            \n",
    "        \n",
    "        randomSet = set(geneInfoTable[\"Symbol\"].sample(genes_in_sampleing).apply(lambda x: str(x).split('.')[0]))\n",
    "        \n",
    "        # initialize an array to hold the pvalue for each term\n",
    "        pvals = np.array([])\n",
    "        for key in term_rank_dict.keys():\n",
    "            \n",
    "            termSet = set(term_genes_dict[key])\n",
    "            # calculate p value using fisher exact test\n",
    "            # implemented using the formula found in the GeneOverap bioconductor package for R\n",
    "            pval_term = stat.fisher_exact([[n_genes - len(termSet.union(randomSet)), len(randomSet.difference(termSet))], [len(termSet.difference(randomSet)), len(termSet.intersection(randomSet))]])[1]\n",
    "            pvals = np.append(pvals, [pval_term])\n",
    "        \n",
    "        # sort the pvals and add the rank to the term_rank dict\n",
    "        sorted_pvals = pvals.argsort()\n",
    "        \n",
    "        # find the rank for each term by sorting the pvals array and getting the index of the key position in the\n",
    "        # sorted list. Need to +1 because the index begins with 0\n",
    "        \n",
    "        for j,key in enumerate(term_rank_dict.keys()):\n",
    "            term_rank_dict[key].append(np.where(sorted_pvals == j)[0][0] + 1)\n",
    "            \n",
    "    for key in term_rank_dict:\n",
    "        term_stats_dict[key] = [np.mean(term_rank_dict[key]), np.std(term_rank_dict[key])]\n",
    "            \n",
    "    \n",
    "    \n",
    "    return term_stats_dict"
   ]
  },
  {
   "cell_type": "code",
   "execution_count": 47,
   "metadata": {},
   "outputs": [
    {
     "data": {
      "text/plain": [
       "pandas.core.frame.DataFrame"
      ]
     },
     "execution_count": 47,
     "metadata": {},
     "output_type": "execute_result"
    }
   ],
   "source": [
    "process_GO_gmt = pd.read_csv(\"output/process_gene_ontology_flybase_greater4_2018_06.gmt\", sep=\"~\", header=None)\n",
    "type(process_GO_gmt)"
   ]
  },
  {
   "cell_type": "code",
   "execution_count": 50,
   "metadata": {},
   "outputs": [
    {
     "name": "stdout",
     "output_type": "stream",
     "text": [
      "Progress: 100%  200 Out of 200   \r"
     ]
    }
   ],
   "source": [
    "iterations_200 = getTermStats(process_GO_gmt, dMelanogaster_proteinCoding, num_samplings=200, num_genes_in_sampling=300)"
   ]
  },
  {
   "cell_type": "code",
   "execution_count": 51,
   "metadata": {},
   "outputs": [],
   "source": [
    "df_200_iterations = pd.DataFrame.from_dict(iterations_200, orient='index', columns = ['mean', 'sd'])"
   ]
  },
  {
   "cell_type": "code",
   "execution_count": 52,
   "metadata": {},
   "outputs": [],
   "source": [
    "df_200_iterations.to_csv('output/process_gene_ontology_flybase_greater4_2018_06_stats.tsv', sep='\\t', header=False)"
   ]
  }
 ],
 "metadata": {
  "kernelspec": {
   "display_name": "Python 3",
   "language": "python",
   "name": "python3"
  },
  "language_info": {
   "codemirror_mode": {
    "name": "ipython",
    "version": 3
   },
   "file_extension": ".py",
   "mimetype": "text/x-python",
   "name": "python",
   "nbconvert_exporter": "python",
   "pygments_lexer": "ipython3",
   "version": "3.6.5"
  }
 },
 "nbformat": 4,
 "nbformat_minor": 2
}
