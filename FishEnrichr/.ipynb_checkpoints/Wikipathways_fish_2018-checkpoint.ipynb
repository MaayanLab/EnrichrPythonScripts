{
 "cells": [
  {
   "cell_type": "markdown",
   "metadata": {},
   "source": [
    "# Wikipathways Fish 2018"
   ]
  },
  {
   "cell_type": "markdown",
   "metadata": {},
   "source": [
    "Author: Zachary Flamholz  \n",
    "Date: 07-2018  \n",
    "Database: https://www.wikipathways.org/    \n",
    "Data: http://data.wikipathways.org/20180610/gpml/wikipathways-20180610-gpml-Danio_rerio.zip v. 20180610 (10 June 2018)        \n",
    "Companion file: http://ftp.ncbi.nlm.nih.gov/gene/DATA/GENE_INFO/Non-mammalian_vertebrates/Danio_rerio.gene_info.gz   "
   ]
  },
  {
   "cell_type": "markdown",
   "metadata": {},
   "source": [
    "## import libraries"
   ]
  },
  {
   "cell_type": "code",
   "execution_count": 53,
   "metadata": {},
   "outputs": [],
   "source": [
    "import numpy as np\n",
    "import pandas as pd\n",
    "import sys, datetime\n",
    "import scipy.stats as stat\n",
    "import matplotlib\n",
    "from matplotlib import pyplot as py"
   ]
  },
  {
   "cell_type": "markdown",
   "metadata": {},
   "source": [
    "# Versions of Modules in use"
   ]
  },
  {
   "cell_type": "code",
   "execution_count": 2,
   "metadata": {},
   "outputs": [
    {
     "data": {
      "text/html": [
       "<table><tr><th>Software</th><th>Version</th></tr><tr><td>Python</td><td>3.6.5 64bit [GCC 4.2.1 Compatible Apple LLVM 9.1.0 (clang-902.0.39.1)]</td></tr><tr><td>IPython</td><td>6.4.0</td></tr><tr><td>OS</td><td>Darwin 17.5.0 x86_64 i386 64bit</td></tr><tr><td>numpy</td><td>1.14.5</td></tr><tr><td>pandas</td><td>0.23.1</td></tr><tr><td colspan='2'>Mon Jul 09 17:28:42 2018 EDT</td></tr></table>"
      ],
      "text/plain": [
       "Software versions\n",
       "Python 3.6.5 64bit [GCC 4.2.1 Compatible Apple LLVM 9.1.0 (clang-902.0.39.1)]\n",
       "IPython 6.4.0\n",
       "OS Darwin 17.5.0 x86_64 i386 64bit\n",
       "numpy 1.14.5\n",
       "pandas 0.23.1\n",
       "Mon Jul 09 17:28:42 2018 EDT"
      ]
     },
     "execution_count": 2,
     "metadata": {},
     "output_type": "execute_result"
    }
   ],
   "source": [
    "%load_ext version_information\n",
    "%version_information numpy, pandas"
   ]
  },
  {
   "cell_type": "markdown",
   "metadata": {},
   "source": [
    "## read in data "
   ]
  },
  {
   "cell_type": "code",
   "execution_count": 3,
   "metadata": {},
   "outputs": [],
   "source": [
    "df = pd.read_csv('input/wikipathways_Drerio_2018', sep = '~', header=None)"
   ]
  },
  {
   "cell_type": "code",
   "execution_count": 4,
   "metadata": {},
   "outputs": [
    {
     "data": {
      "text/html": [
       "<div>\n",
       "<style scoped>\n",
       "    .dataframe tbody tr th:only-of-type {\n",
       "        vertical-align: middle;\n",
       "    }\n",
       "\n",
       "    .dataframe tbody tr th {\n",
       "        vertical-align: top;\n",
       "    }\n",
       "\n",
       "    .dataframe thead th {\n",
       "        text-align: right;\n",
       "    }\n",
       "</style>\n",
       "<table border=\"1\" class=\"dataframe\">\n",
       "  <thead>\n",
       "    <tr style=\"text-align: right;\">\n",
       "      <th></th>\n",
       "      <th>0</th>\n",
       "    </tr>\n",
       "  </thead>\n",
       "  <tbody>\n",
       "    <tr>\n",
       "      <th>0</th>\n",
       "      <td>Exercise-induced Circadian Regulation%WikiPath...</td>\n",
       "    </tr>\n",
       "    <tr>\n",
       "      <th>1</th>\n",
       "      <td>Hypertrophy Model%WikiPathways_20180610%WP1327...</td>\n",
       "    </tr>\n",
       "    <tr>\n",
       "      <th>2</th>\n",
       "      <td>p38 MAPK Signaling Pathway%WikiPathways_201806...</td>\n",
       "    </tr>\n",
       "    <tr>\n",
       "      <th>3</th>\n",
       "      <td>Electron Transport Chain%WikiPathways_20180610...</td>\n",
       "    </tr>\n",
       "    <tr>\n",
       "      <th>4</th>\n",
       "      <td>Biogenic Amine Synthesis%WikiPathways_20180610...</td>\n",
       "    </tr>\n",
       "  </tbody>\n",
       "</table>\n",
       "</div>"
      ],
      "text/plain": [
       "                                                   0\n",
       "0  Exercise-induced Circadian Regulation%WikiPath...\n",
       "1  Hypertrophy Model%WikiPathways_20180610%WP1327...\n",
       "2  p38 MAPK Signaling Pathway%WikiPathways_201806...\n",
       "3  Electron Transport Chain%WikiPathways_20180610...\n",
       "4  Biogenic Amine Synthesis%WikiPathways_20180610..."
      ]
     },
     "execution_count": 4,
     "metadata": {},
     "output_type": "execute_result"
    }
   ],
   "source": [
    "df.head()"
   ]
  },
  {
   "cell_type": "code",
   "execution_count": 5,
   "metadata": {
    "scrolled": true
   },
   "outputs": [
    {
     "data": {
      "text/plain": [
       "0    Exercise-induced Circadian Regulation%WikiPath...\n",
       "Name: 0, dtype: object"
      ]
     },
     "execution_count": 5,
     "metadata": {},
     "output_type": "execute_result"
    }
   ],
   "source": [
    "df.iloc[0]"
   ]
  },
  {
   "cell_type": "code",
   "execution_count": 6,
   "metadata": {},
   "outputs": [],
   "source": [
    "dRerio_geneInfo = pd.read_csv(\"input/Danio_rerio.gene_info\", sep=\"\\t\")"
   ]
  },
  {
   "cell_type": "markdown",
   "metadata": {},
   "source": [
    "## load NCBI reference for converting ENTREZ gene ID to gene symbol"
   ]
  },
  {
   "cell_type": "code",
   "execution_count": 7,
   "metadata": {},
   "outputs": [
    {
     "data": {
      "text/html": [
       "<div>\n",
       "<style scoped>\n",
       "    .dataframe tbody tr th:only-of-type {\n",
       "        vertical-align: middle;\n",
       "    }\n",
       "\n",
       "    .dataframe tbody tr th {\n",
       "        vertical-align: top;\n",
       "    }\n",
       "\n",
       "    .dataframe thead th {\n",
       "        text-align: right;\n",
       "    }\n",
       "</style>\n",
       "<table border=\"1\" class=\"dataframe\">\n",
       "  <thead>\n",
       "    <tr style=\"text-align: right;\">\n",
       "      <th></th>\n",
       "      <th>#tax_id</th>\n",
       "      <th>GeneID</th>\n",
       "      <th>Symbol</th>\n",
       "      <th>LocusTag</th>\n",
       "      <th>Synonyms</th>\n",
       "      <th>dbXrefs</th>\n",
       "      <th>chromosome</th>\n",
       "      <th>map_location</th>\n",
       "      <th>description</th>\n",
       "      <th>type_of_gene</th>\n",
       "      <th>Symbol_from_nomenclature_authority</th>\n",
       "      <th>Full_name_from_nomenclature_authority</th>\n",
       "      <th>Nomenclature_status</th>\n",
       "      <th>Other_designations</th>\n",
       "      <th>Modification_date</th>\n",
       "      <th>Feature_type</th>\n",
       "    </tr>\n",
       "  </thead>\n",
       "  <tbody>\n",
       "    <tr>\n",
       "      <th>0</th>\n",
       "      <td>7955</td>\n",
       "      <td>30037</td>\n",
       "      <td>tnc</td>\n",
       "      <td>-</td>\n",
       "      <td>tenc|wu:fk04d02</td>\n",
       "      <td>ZFIN:ZDB-GENE-980526-104|Ensembl:ENSDARG000000...</td>\n",
       "      <td>5</td>\n",
       "      <td>-</td>\n",
       "      <td>tenascin C</td>\n",
       "      <td>protein-coding</td>\n",
       "      <td>tnc</td>\n",
       "      <td>tenascin C</td>\n",
       "      <td>O</td>\n",
       "      <td>tenascin|etID309720.5</td>\n",
       "      <td>20180409</td>\n",
       "      <td>-</td>\n",
       "    </tr>\n",
       "    <tr>\n",
       "      <th>1</th>\n",
       "      <td>7955</td>\n",
       "      <td>30038</td>\n",
       "      <td>sox19a</td>\n",
       "      <td>-</td>\n",
       "      <td>cb799|fc66c01|sox19|wu:fc66c01</td>\n",
       "      <td>ZFIN:ZDB-GENE-980526-102|Ensembl:ENSDARG000000...</td>\n",
       "      <td>5</td>\n",
       "      <td>-</td>\n",
       "      <td>SRY (sex determining region Y)-box 19a</td>\n",
       "      <td>protein-coding</td>\n",
       "      <td>sox19a</td>\n",
       "      <td>SRY (sex determining region Y)-box 19a</td>\n",
       "      <td>O</td>\n",
       "      <td>transcription factor Sox-19a|SRY-box containin...</td>\n",
       "      <td>20180610</td>\n",
       "      <td>-</td>\n",
       "    </tr>\n",
       "    <tr>\n",
       "      <th>2</th>\n",
       "      <td>7955</td>\n",
       "      <td>30065</td>\n",
       "      <td>elavl1b</td>\n",
       "      <td>-</td>\n",
       "      <td>fb72d01|fk65g02|hug|wu:fb72d01|wu:fk65g02</td>\n",
       "      <td>ZFIN:ZDB-GENE-000210-17|Ensembl:ENSDARG0000010...</td>\n",
       "      <td>11</td>\n",
       "      <td>-</td>\n",
       "      <td>ELAV like RNA binding protein 1b</td>\n",
       "      <td>protein-coding</td>\n",
       "      <td>elavl1b</td>\n",
       "      <td>ELAV like RNA binding protein 1b</td>\n",
       "      <td>O</td>\n",
       "      <td>ELAV-like protein 1|etID19626.11</td>\n",
       "      <td>20180610</td>\n",
       "      <td>-</td>\n",
       "    </tr>\n",
       "    <tr>\n",
       "      <th>3</th>\n",
       "      <td>7955</td>\n",
       "      <td>30066</td>\n",
       "      <td>meis2b</td>\n",
       "      <td>-</td>\n",
       "      <td>meis2|meis2.1</td>\n",
       "      <td>ZFIN:ZDB-GENE-000210-23|Ensembl:ENSDARG0000007...</td>\n",
       "      <td>20</td>\n",
       "      <td>-</td>\n",
       "      <td>Meis homeobox 2b</td>\n",
       "      <td>protein-coding</td>\n",
       "      <td>meis2b</td>\n",
       "      <td>Meis homeobox 2b</td>\n",
       "      <td>O</td>\n",
       "      <td>Meis homeobox 2b|meis homeobox 2b|myeloid ecot...</td>\n",
       "      <td>20180409</td>\n",
       "      <td>-</td>\n",
       "    </tr>\n",
       "    <tr>\n",
       "      <th>4</th>\n",
       "      <td>7955</td>\n",
       "      <td>30067</td>\n",
       "      <td>chico</td>\n",
       "      <td>-</td>\n",
       "      <td>-</td>\n",
       "      <td>ZFIN:ZDB-GENE-000210-28|Ensembl:ENSDARG0000001...</td>\n",
       "      <td>2</td>\n",
       "      <td>-</td>\n",
       "      <td>chico</td>\n",
       "      <td>protein-coding</td>\n",
       "      <td>chico</td>\n",
       "      <td>chico</td>\n",
       "      <td>O</td>\n",
       "      <td>chico</td>\n",
       "      <td>20180603</td>\n",
       "      <td>-</td>\n",
       "    </tr>\n",
       "  </tbody>\n",
       "</table>\n",
       "</div>"
      ],
      "text/plain": [
       "   #tax_id  GeneID   Symbol LocusTag  \\\n",
       "0     7955   30037      tnc        -   \n",
       "1     7955   30038   sox19a        -   \n",
       "2     7955   30065  elavl1b        -   \n",
       "3     7955   30066   meis2b        -   \n",
       "4     7955   30067    chico        -   \n",
       "\n",
       "                                    Synonyms  \\\n",
       "0                            tenc|wu:fk04d02   \n",
       "1             cb799|fc66c01|sox19|wu:fc66c01   \n",
       "2  fb72d01|fk65g02|hug|wu:fb72d01|wu:fk65g02   \n",
       "3                              meis2|meis2.1   \n",
       "4                                          -   \n",
       "\n",
       "                                             dbXrefs chromosome map_location  \\\n",
       "0  ZFIN:ZDB-GENE-980526-104|Ensembl:ENSDARG000000...          5            -   \n",
       "1  ZFIN:ZDB-GENE-980526-102|Ensembl:ENSDARG000000...          5            -   \n",
       "2  ZFIN:ZDB-GENE-000210-17|Ensembl:ENSDARG0000010...         11            -   \n",
       "3  ZFIN:ZDB-GENE-000210-23|Ensembl:ENSDARG0000007...         20            -   \n",
       "4  ZFIN:ZDB-GENE-000210-28|Ensembl:ENSDARG0000001...          2            -   \n",
       "\n",
       "                              description    type_of_gene  \\\n",
       "0                              tenascin C  protein-coding   \n",
       "1  SRY (sex determining region Y)-box 19a  protein-coding   \n",
       "2        ELAV like RNA binding protein 1b  protein-coding   \n",
       "3                        Meis homeobox 2b  protein-coding   \n",
       "4                                   chico  protein-coding   \n",
       "\n",
       "  Symbol_from_nomenclature_authority   Full_name_from_nomenclature_authority  \\\n",
       "0                                tnc                              tenascin C   \n",
       "1                             sox19a  SRY (sex determining region Y)-box 19a   \n",
       "2                            elavl1b        ELAV like RNA binding protein 1b   \n",
       "3                             meis2b                        Meis homeobox 2b   \n",
       "4                              chico                                   chico   \n",
       "\n",
       "  Nomenclature_status                                 Other_designations  \\\n",
       "0                   O                              tenascin|etID309720.5   \n",
       "1                   O  transcription factor Sox-19a|SRY-box containin...   \n",
       "2                   O                   ELAV-like protein 1|etID19626.11   \n",
       "3                   O  Meis homeobox 2b|meis homeobox 2b|myeloid ecot...   \n",
       "4                   O                                              chico   \n",
       "\n",
       "   Modification_date Feature_type  \n",
       "0           20180409            -  \n",
       "1           20180610            -  \n",
       "2           20180610            -  \n",
       "3           20180409            -  \n",
       "4           20180603            -  "
      ]
     },
     "execution_count": 7,
     "metadata": {},
     "output_type": "execute_result"
    }
   ],
   "source": [
    "dRerio_geneInfo.head()"
   ]
  },
  {
   "cell_type": "code",
   "execution_count": 8,
   "metadata": {},
   "outputs": [],
   "source": [
    "dRerio_proteinCoding = dRerio_geneInfo[dRerio_geneInfo[\"type_of_gene\"] == \"protein-coding\"]"
   ]
  },
  {
   "cell_type": "code",
   "execution_count": 9,
   "metadata": {},
   "outputs": [
    {
     "data": {
      "text/plain": [
       "numpy.int64"
      ]
     },
     "execution_count": 9,
     "metadata": {},
     "output_type": "execute_result"
    }
   ],
   "source": [
    "type(dRerio_geneInfo.iloc[0, 1])"
   ]
  },
  {
   "cell_type": "code",
   "execution_count": 22,
   "metadata": {},
   "outputs": [
    {
     "data": {
      "text/plain": [
       "'ppp2cb'"
      ]
     },
     "execution_count": 22,
     "metadata": {},
     "output_type": "execute_result"
    }
   ],
   "source": [
    "dRerio_geneInfo.loc[dRerio_geneInfo['GeneID'] == 406582]['Symbol'].iloc[0]"
   ]
  },
  {
   "cell_type": "code",
   "execution_count": 41,
   "metadata": {},
   "outputs": [
    {
     "data": {
      "text/plain": [
       "True"
      ]
     },
     "execution_count": 41,
     "metadata": {},
     "output_type": "execute_result"
    }
   ],
   "source": [
    "565869 in np.asarray(dRerio_geneInfo['GeneID'])"
   ]
  },
  {
   "cell_type": "markdown",
   "metadata": {},
   "source": [
    "## build a dictionary of terms and genes"
   ]
  },
  {
   "cell_type": "code",
   "execution_count": 42,
   "metadata": {},
   "outputs": [],
   "source": [
    "pathway_dict = {}\n",
    "for row in df.itertuples():\n",
    "    splits = row[1].split('\\t')\n",
    "    term_split = splits[0].split('%')\n",
    "    term = term_split[0] + '_' + term_split[2]\n",
    "    pathway_dict[term] = []\n",
    "    for i in range(2, len(splits)):\n",
    "        if int(splits[i]) in np.asarray(dRerio_geneInfo['GeneID']):\n",
    "            pathway_dict[term].append(dRerio_geneInfo.loc[dRerio_geneInfo['GeneID'] == int(splits[i])]['Symbol'].iloc[0])"
   ]
  },
  {
   "cell_type": "markdown",
   "metadata": {},
   "source": [
    "## numbers for the library"
   ]
  },
  {
   "cell_type": "code",
   "execution_count": 43,
   "metadata": {},
   "outputs": [
    {
     "data": {
      "text/plain": [
       "83"
      ]
     },
     "execution_count": 43,
     "metadata": {},
     "output_type": "execute_result"
    }
   ],
   "source": [
    "## number of terms\n",
    "len(pathway_dict.keys())"
   ]
  },
  {
   "cell_type": "code",
   "execution_count": 51,
   "metadata": {},
   "outputs": [],
   "source": [
    "dist = []\n",
    "for i in list(pathway_dict.values()):\n",
    "    dist.append(len(i))"
   ]
  },
  {
   "cell_type": "code",
   "execution_count": 54,
   "metadata": {},
   "outputs": [
    {
     "data": {
      "text/plain": [
       "(array([25., 15., 16., 12.,  4.,  3.,  6.,  1.,  0.,  1.]),\n",
       " array([  4. ,  23.8,  43.6,  63.4,  83.2, 103. , 122.8, 142.6, 162.4,\n",
       "        182.2, 202. ]),\n",
       " <a list of 10 Patch objects>)"
      ]
     },
     "execution_count": 54,
     "metadata": {},
     "output_type": "execute_result"
    },
    {
     "data": {
      "image/png": "[encoded data removed]",
      "text/plain": [
       "<Figure size 432x288 with 1 Axes>"
      ]
     },
     "metadata": {},
     "output_type": "display_data"
    }
   ],
   "source": [
    "py.hist(dist, color='red')"
   ]
  },
  {
   "cell_type": "code",
   "execution_count": 44,
   "metadata": {},
   "outputs": [
    {
     "data": {
      "text/plain": [
       "['klf9',\n",
       " 'per1b',\n",
       " 'tab2',\n",
       " 'arntl1a',\n",
       " 'ppp2cb',\n",
       " 'vapal',\n",
       " 'sf3a3',\n",
       " 'ppp1r3cb',\n",
       " 'gfra1b',\n",
       " 'cry2',\n",
       " 'clocka',\n",
       " 'idi1',\n",
       " 'btg1',\n",
       " 'cbx3a',\n",
       " 'puraa',\n",
       " 'per2',\n",
       " 'cry1aa',\n",
       " 'tob1a',\n",
       " 'dnaja1',\n",
       " 'cebpb',\n",
       " 'herpud1',\n",
       " 'nckap1',\n",
       " 'dazap2',\n",
       " 'hist1h2ba',\n",
       " 'ncoa4',\n",
       " 'sumo1',\n",
       " 'cldn5a',\n",
       " 'eif4g2b',\n",
       " 'nr1d2b',\n",
       " 'gstp1',\n",
       " 'qki2',\n",
       " 'hspa8',\n",
       " 'azin1b',\n",
       " 'ugp2b',\n",
       " 'cry1ab',\n",
       " 'zfr',\n",
       " 'pigf',\n",
       " 'tubb4b',\n",
       " 'g0s2',\n",
       " 'sumo3b',\n",
       " 'myf6',\n",
       " 'cast',\n",
       " 'si:busm1-160c18.6',\n",
       " 'gstm.1',\n",
       " 'psma4']"
      ]
     },
     "execution_count": 44,
     "metadata": {},
     "output_type": "execute_result"
    }
   ],
   "source": [
    "pathway_dict['Exercise-induced Circadian Regulation_WP562']"
   ]
  },
  {
   "cell_type": "markdown",
   "metadata": {},
   "source": [
    "## build gmt"
   ]
  },
  {
   "cell_type": "code",
   "execution_count": 45,
   "metadata": {},
   "outputs": [
    {
     "name": "stdout",
     "output_type": "stream",
     "text": [
      "Progress: 100%  83 Out of 83   \r"
     ]
    }
   ],
   "source": [
    "filename = 'wikipathways_greater4_%s.gmt'% str(datetime.date.today())[0:7].replace('-', '_')\n",
    "file = open(filename,'w+') \n",
    "terms = pathway_dict.keys()\n",
    "for i,term in enumerate(terms):\n",
    "    \n",
    "    progressPercent = ((i+1)/len(terms))*100\n",
    "    sys.stdout.write(\"Progress: %d%%  %d Out of %d   \\r\" % (progressPercent, (i+1), len(terms)))\n",
    "    sys.stdout.flush()\n",
    "    \n",
    "    if len(pathway_dict[term]) > 4:\n",
    "        file.write(\"%s\\t\" % term)\n",
    "        file.write(\"\\t\")\n",
    "        genes = pathway_dict[term]\n",
    "    \n",
    "        for gene in genes:\n",
    "              file.write(\"%s\\t\" % gene)\n",
    "        file.write(\"\\n\")\n",
    "        \n",
    "file.close()"
   ]
  },
  {
   "cell_type": "markdown",
   "metadata": {},
   "source": [
    "## get gmt stats"
   ]
  },
  {
   "cell_type": "code",
   "execution_count": 46,
   "metadata": {},
   "outputs": [],
   "source": [
    "def getTermStats(loaded_gmt, geneInfoTable, num_samplings, num_genes_in_sampling) :\n",
    "    # get the relevant terms and set a dictionary for them\n",
    "    term_set = loaded_gmt.iloc[:,0].apply(lambda x: x.split(\"\\t\")[0])\n",
    "    term_genes_dict = {term_set[i]: loaded_gmt.iloc[i,0].split(\"\\t\")[2:] for i in range(0, loaded_gmt.shape[0])}\n",
    "    term_rank_dict = {k: [] for k in term_set}\n",
    "    term_stats_dict = {k: [] for k in term_set}\n",
    "    \n",
    "    # get the total number of genes in the organism\n",
    "    n_genes = len(geneInfoTable[\"Symbol\"].unique())\n",
    "    \n",
    "    # number of genes per sampling, number of times to sample\n",
    "    genes_in_sampleing = num_genes_in_sampling\n",
    "    num_samplings = num_samplings\n",
    "    \n",
    "    for i,x in enumerate(range(0,num_samplings)):\n",
    "        \n",
    "        progressPercent = ((i+1)/len(range(0,num_samplings)))*100\n",
    "        \n",
    "        sys.stdout.write(\"Progress: %d%%  %d Out of %d   \\r\" % (progressPercent, (i+1), len(range(0,num_samplings))))\n",
    "        sys.stdout.flush()\n",
    "            \n",
    "        \n",
    "        randomSet = set(geneInfoTable[\"Symbol\"].sample(genes_in_sampleing).apply(lambda x: x.split('.')[0]))\n",
    "        \n",
    "        # initialize an array to hold the pvalue for each term\n",
    "        pvals = np.array([])\n",
    "        for key in term_rank_dict.keys():\n",
    "            \n",
    "            termSet = set(term_genes_dict[key])\n",
    "            # calculate p value using fisher exact test\n",
    "            # implemented using the formula found in the GeneOverap bioconductor package for R\n",
    "            pval_term = stat.fisher_exact([[n_genes - len(termSet.union(randomSet)), len(randomSet.difference(termSet))], [len(termSet.difference(randomSet)), len(termSet.intersection(randomSet))]])[1]\n",
    "            pvals = np.append(pvals, [pval_term])\n",
    "        \n",
    "        # sort the pvals and add the rank to the term_rank dict\n",
    "        sorted_pvals = pvals.argsort()\n",
    "        \n",
    "        # find the rank for each term by sorting the pvals array and getting the index of the key position in the\n",
    "        # sorted list. Need to +1 because the index begins with 0\n",
    "        \n",
    "        for j,key in enumerate(term_rank_dict.keys()):\n",
    "            term_rank_dict[key].append(np.where(sorted_pvals == j)[0][0] + 1)\n",
    "            \n",
    "    for key in term_rank_dict:\n",
    "        term_stats_dict[key] = [np.mean(term_rank_dict[key]), np.std(term_rank_dict[key])]\n",
    "            \n",
    "    \n",
    "    \n",
    "    return term_stats_dict"
   ]
  },
  {
   "cell_type": "code",
   "execution_count": 47,
   "metadata": {},
   "outputs": [],
   "source": [
    "## load gmt\n",
    "wikipathway_gmt = pd.read_csv(\"wikipathways_greater4_2018_07.gmt\", sep=\"~\", header=None)"
   ]
  },
  {
   "cell_type": "code",
   "execution_count": 48,
   "metadata": {},
   "outputs": [
    {
     "data": {
      "text/html": [
       "<div>\n",
       "<style scoped>\n",
       "    .dataframe tbody tr th:only-of-type {\n",
       "        vertical-align: middle;\n",
       "    }\n",
       "\n",
       "    .dataframe tbody tr th {\n",
       "        vertical-align: top;\n",
       "    }\n",
       "\n",
       "    .dataframe thead th {\n",
       "        text-align: right;\n",
       "    }\n",
       "</style>\n",
       "<table border=\"1\" class=\"dataframe\">\n",
       "  <thead>\n",
       "    <tr style=\"text-align: right;\">\n",
       "      <th></th>\n",
       "      <th>0</th>\n",
       "    </tr>\n",
       "  </thead>\n",
       "  <tbody>\n",
       "    <tr>\n",
       "      <th>0</th>\n",
       "      <td>Exercise-induced Circadian Regulation_WP562\\t\\...</td>\n",
       "    </tr>\n",
       "    <tr>\n",
       "      <th>1</th>\n",
       "      <td>Hypertrophy Model_WP1327\\t\\tankrd1b\\tdusp14\\tc...</td>\n",
       "    </tr>\n",
       "    <tr>\n",
       "      <th>2</th>\n",
       "      <td>p38 MAPK Signaling Pathway_WP1363\\t\\tgrb2a\\ths...</td>\n",
       "    </tr>\n",
       "    <tr>\n",
       "      <th>3</th>\n",
       "      <td>Electron Transport Chain_WP1339\\t\\tATP6\\tndufb...</td>\n",
       "    </tr>\n",
       "    <tr>\n",
       "      <th>4</th>\n",
       "      <td>Biogenic Amine Synthesis_WP154\\t\\tddc\\ttph1a\\t...</td>\n",
       "    </tr>\n",
       "  </tbody>\n",
       "</table>\n",
       "</div>"
      ],
      "text/plain": [
       "                                                   0\n",
       "0  Exercise-induced Circadian Regulation_WP562\\t\\...\n",
       "1  Hypertrophy Model_WP1327\\t\\tankrd1b\\tdusp14\\tc...\n",
       "2  p38 MAPK Signaling Pathway_WP1363\\t\\tgrb2a\\ths...\n",
       "3  Electron Transport Chain_WP1339\\t\\tATP6\\tndufb...\n",
       "4  Biogenic Amine Synthesis_WP154\\t\\tddc\\ttph1a\\t..."
      ]
     },
     "execution_count": 48,
     "metadata": {},
     "output_type": "execute_result"
    }
   ],
   "source": [
    "wikipathway_gmt.head()"
   ]
  },
  {
   "cell_type": "code",
   "execution_count": 49,
   "metadata": {},
   "outputs": [
    {
     "name": "stdout",
     "output_type": "stream",
     "text": [
      "Progress: 100%  200 Out of 200   \r"
     ]
    }
   ],
   "source": [
    "iterations_200 = getTermStats(wikipathway_gmt, dRerio_proteinCoding, num_samplings=200, num_genes_in_sampling=300)"
   ]
  },
  {
   "cell_type": "code",
   "execution_count": 50,
   "metadata": {},
   "outputs": [],
   "source": [
    "df_200_iterations = pd.DataFrame.from_dict(iterations_200, orient='index', columns = ['mean', 'sd'])\n",
    "df_200_iterations.to_csv('output/wikipathways_greater4_2018_07_stats.tsv', sep='\\t', header=False)"
   ]
  }
 ],
 "metadata": {
  "kernelspec": {
   "display_name": "Python 3",
   "language": "python",
   "name": "python3"
  },
  "language_info": {
   "codemirror_mode": {
    "name": "ipython",
    "version": 3
   },
   "file_extension": ".py",
   "mimetype": "text/x-python",
   "name": "python",
   "nbconvert_exporter": "python",
   "pygments_lexer": "ipython3",
   "version": "3.6.5"
  }
 },
 "nbformat": 4,
 "nbformat_minor": 2
}
