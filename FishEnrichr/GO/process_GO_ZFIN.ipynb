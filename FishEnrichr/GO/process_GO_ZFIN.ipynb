{
 "cells": [
  {
   "cell_type": "markdown",
   "metadata": {},
   "source": [
    "# Gene Ontology (GO) Biological Process"
   ]
  },
  {
   "cell_type": "markdown",
   "metadata": {},
   "source": [
    "Author: Zachary Flamholz  \n",
    "Date: 06-2018  \n",
    "Database: https://zfin.org/ \n",
    "Data: http://geneontology.org/gene-associations/gene_association.zfin.gz    \n",
    "Companion file: ftp://ftp.ncbi.nlm.nih.gov/gene/DATA/GENE_INFO/Non-mammalian_vertebrates/Danio_rerio.gene_info.gz, http://snapshot.geneontology.org/ontology/go-basic.obo    "
   ]
  },
  {
   "cell_type": "code",
   "execution_count": 2,
   "metadata": {},
   "outputs": [],
   "source": [
    "import numpy as np\n",
    "import pandas as pd\n",
    "import sys, datetime\n",
    "import goenrich\n",
    "import scipy.stats as stat"
   ]
  },
  {
   "cell_type": "markdown",
   "metadata": {},
   "source": [
    "# Versions of Modules in Use"
   ]
  },
  {
   "cell_type": "code",
   "execution_count": 4,
   "metadata": {},
   "outputs": [
    {
     "name": "stdout",
     "output_type": "stream",
     "text": [
      "The version_information extension is already loaded. To reload it, use:\n",
      "  %reload_ext version_information\n"
     ]
    },
    {
     "data": {
      "application/json": {
       "Software versions": [
        {
         "module": "Python",
         "version": "3.6.5 64bit [GCC 4.2.1 Compatible Apple LLVM 9.1.0 (clang-902.0.39.1)]"
        },
        {
         "module": "IPython",
         "version": "6.4.0"
        },
        {
         "module": "OS",
         "version": "Darwin 17.5.0 x86_64 i386 64bit"
        },
        {
         "module": "numpy",
         "version": "1.14.5"
        },
        {
         "module": "pandas",
         "version": "0.23.1"
        }
       ]
      },
      "text/html": [
       "<table><tr><th>Software</th><th>Version</th></tr><tr><td>Python</td><td>3.6.5 64bit [GCC 4.2.1 Compatible Apple LLVM 9.1.0 (clang-902.0.39.1)]</td></tr><tr><td>IPython</td><td>6.4.0</td></tr><tr><td>OS</td><td>Darwin 17.5.0 x86_64 i386 64bit</td></tr><tr><td>numpy</td><td>1.14.5</td></tr><tr><td>pandas</td><td>0.23.1</td></tr><tr><td colspan='2'>Fri Jun 22 13:57:20 2018 EDT</td></tr></table>"
      ],
      "text/latex": [
       "\\begin{tabular}{|l|l|}\\hline\n",
       "{\\bf Software} & {\\bf Version} \\\\ \\hline\\hline\n",
       "Python & 3.6.5 64bit [GCC 4.2.1 Compatible Apple LLVM 9.1.0 (clang-902.0.39.1)] \\\\ \\hline\n",
       "IPython & 6.4.0 \\\\ \\hline\n",
       "OS & Darwin 17.5.0 x86\\_64 i386 64bit \\\\ \\hline\n",
       "numpy & 1.14.5 \\\\ \\hline\n",
       "pandas & 0.23.1 \\\\ \\hline\n",
       "\\hline \\multicolumn{2}{|l|}{Fri Jun 22 13:57:20 2018 EDT} \\\\ \\hline\n",
       "\\end{tabular}\n"
      ],
      "text/plain": [
       "Software versions\n",
       "Python 3.6.5 64bit [GCC 4.2.1 Compatible Apple LLVM 9.1.0 (clang-902.0.39.1)]\n",
       "IPython 6.4.0\n",
       "OS Darwin 17.5.0 x86_64 i386 64bit\n",
       "numpy 1.14.5\n",
       "pandas 0.23.1\n",
       "Fri Jun 22 13:57:20 2018 EDT"
      ]
     },
     "execution_count": 4,
     "metadata": {},
     "output_type": "execute_result"
    }
   ],
   "source": [
    "%load_ext version_information\n",
    "%version_information numpy, pandas"
   ]
  },
  {
   "cell_type": "markdown",
   "metadata": {},
   "source": [
    "## read in data"
   ]
  },
  {
   "cell_type": "code",
   "execution_count": 5,
   "metadata": {},
   "outputs": [],
   "source": [
    "df = pd.read_csv('input/gene_association.zfin', sep='~', skiprows=16, header=None)"
   ]
  },
  {
   "cell_type": "code",
   "execution_count": 6,
   "metadata": {},
   "outputs": [
    {
     "data": {
      "text/html": [
       "<div>\n",
       "<style scoped>\n",
       "    .dataframe tbody tr th:only-of-type {\n",
       "        vertical-align: middle;\n",
       "    }\n",
       "\n",
       "    .dataframe tbody tr th {\n",
       "        vertical-align: top;\n",
       "    }\n",
       "\n",
       "    .dataframe thead th {\n",
       "        text-align: right;\n",
       "    }\n",
       "</style>\n",
       "<table border=\"1\" class=\"dataframe\">\n",
       "  <thead>\n",
       "    <tr style=\"text-align: right;\">\n",
       "      <th></th>\n",
       "      <th>0</th>\n",
       "    </tr>\n",
       "  </thead>\n",
       "  <tbody>\n",
       "    <tr>\n",
       "      <th>0</th>\n",
       "      <td>ZFIN\\tZDB-MIRNAG-041228-8\\tmir210\\t\\tGO:000367...</td>\n",
       "    </tr>\n",
       "    <tr>\n",
       "      <th>1</th>\n",
       "      <td>ZFIN\\tZDB-GENE-050411-39\\tim:7141899\\t\\tGO:000...</td>\n",
       "    </tr>\n",
       "    <tr>\n",
       "      <th>2</th>\n",
       "      <td>ZFIN\\tZDB-MIRNAG-090929-153\\tmir143-1\\t\\tGO:00...</td>\n",
       "    </tr>\n",
       "    <tr>\n",
       "      <th>3</th>\n",
       "      <td>ZFIN\\tZDB-GENE-010102-1\\tdcn\\t\\tGO:0050654\\tPM...</td>\n",
       "    </tr>\n",
       "    <tr>\n",
       "      <th>4</th>\n",
       "      <td>ZFIN\\tZDB-GENE-070424-24\\tzgc:162171\\t\\tGO:000...</td>\n",
       "    </tr>\n",
       "  </tbody>\n",
       "</table>\n",
       "</div>"
      ],
      "text/plain": [
       "                                                   0\n",
       "0  ZFIN\\tZDB-MIRNAG-041228-8\\tmir210\\t\\tGO:000367...\n",
       "1  ZFIN\\tZDB-GENE-050411-39\\tim:7141899\\t\\tGO:000...\n",
       "2  ZFIN\\tZDB-MIRNAG-090929-153\\tmir143-1\\t\\tGO:00...\n",
       "3  ZFIN\\tZDB-GENE-010102-1\\tdcn\\t\\tGO:0050654\\tPM...\n",
       "4  ZFIN\\tZDB-GENE-070424-24\\tzgc:162171\\t\\tGO:000..."
      ]
     },
     "execution_count": 6,
     "metadata": {},
     "output_type": "execute_result"
    }
   ],
   "source": [
    "df.head()"
   ]
  },
  {
   "cell_type": "code",
   "execution_count": 7,
   "metadata": {},
   "outputs": [
    {
     "name": "stdout",
     "output_type": "stream",
     "text": [
      "Progress: 100%  232285 Out of 232285   \r"
     ]
    }
   ],
   "source": [
    "## code copied from Gene Ontology (GO) Biological Process by Moshe Silverstein \n",
    "\n",
    "matrix = np.chararray((df.shape[0], 17), itemsize=150, unicode=True)\n",
    "\n",
    "for i, row in enumerate(df.itertuples()):\n",
    "    \n",
    "    progressPercent = ((i+1)/len(df.index))*100\n",
    "\n",
    "    sys.stdout.write(\"Progress: %d%%  %d Out of %d   \\r\" % (progressPercent, (i+1), len(df.index)))\n",
    "    sys.stdout.flush()\n",
    "    \n",
    "    lst = row[1].split('\\t')\n",
    "\n",
    "    matrix[i, :] = lst\n",
    "\n",
    "df_clean = pd.DataFrame(data=matrix)"
   ]
  },
  {
   "cell_type": "code",
   "execution_count": 8,
   "metadata": {},
   "outputs": [
    {
     "data": {
      "text/html": [
       "<div>\n",
       "<style scoped>\n",
       "    .dataframe tbody tr th:only-of-type {\n",
       "        vertical-align: middle;\n",
       "    }\n",
       "\n",
       "    .dataframe tbody tr th {\n",
       "        vertical-align: top;\n",
       "    }\n",
       "\n",
       "    .dataframe thead th {\n",
       "        text-align: right;\n",
       "    }\n",
       "</style>\n",
       "<table border=\"1\" class=\"dataframe\">\n",
       "  <thead>\n",
       "    <tr style=\"text-align: right;\">\n",
       "      <th></th>\n",
       "      <th>0</th>\n",
       "      <th>1</th>\n",
       "      <th>2</th>\n",
       "      <th>3</th>\n",
       "      <th>4</th>\n",
       "      <th>5</th>\n",
       "      <th>6</th>\n",
       "      <th>7</th>\n",
       "      <th>8</th>\n",
       "      <th>9</th>\n",
       "      <th>10</th>\n",
       "      <th>11</th>\n",
       "      <th>12</th>\n",
       "      <th>13</th>\n",
       "      <th>14</th>\n",
       "      <th>15</th>\n",
       "      <th>16</th>\n",
       "    </tr>\n",
       "  </thead>\n",
       "  <tbody>\n",
       "    <tr>\n",
       "      <th>0</th>\n",
       "      <td>ZFIN</td>\n",
       "      <td>ZDB-MIRNAG-041228-8</td>\n",
       "      <td>mir210</td>\n",
       "      <td></td>\n",
       "      <td>GO:0003674</td>\n",
       "      <td>ZFIN:ZDB-PUB-031118-1</td>\n",
       "      <td>ND</td>\n",
       "      <td></td>\n",
       "      <td>F</td>\n",
       "      <td>microRNA 210</td>\n",
       "      <td></td>\n",
       "      <td>miRNA</td>\n",
       "      <td>taxon:7955</td>\n",
       "      <td>20041228</td>\n",
       "      <td>ZFIN</td>\n",
       "      <td></td>\n",
       "      <td></td>\n",
       "    </tr>\n",
       "    <tr>\n",
       "      <th>1</th>\n",
       "      <td>ZFIN</td>\n",
       "      <td>ZDB-GENE-050411-39</td>\n",
       "      <td>im:7141899</td>\n",
       "      <td></td>\n",
       "      <td>GO:0003674</td>\n",
       "      <td>ZFIN:ZDB-PUB-031118-1</td>\n",
       "      <td>ND</td>\n",
       "      <td></td>\n",
       "      <td>F</td>\n",
       "      <td>im:7141899</td>\n",
       "      <td></td>\n",
       "      <td>protein</td>\n",
       "      <td>taxon:7955</td>\n",
       "      <td>20050411</td>\n",
       "      <td>ZFIN</td>\n",
       "      <td></td>\n",
       "      <td></td>\n",
       "    </tr>\n",
       "    <tr>\n",
       "      <th>2</th>\n",
       "      <td>ZFIN</td>\n",
       "      <td>ZDB-MIRNAG-090929-153</td>\n",
       "      <td>mir143-1</td>\n",
       "      <td></td>\n",
       "      <td>GO:0003093</td>\n",
       "      <td>PMID:27941332|ZFIN:ZDB-PUB-161215-21</td>\n",
       "      <td>IMP</td>\n",
       "      <td></td>\n",
       "      <td>P</td>\n",
       "      <td>microRNA 143-1</td>\n",
       "      <td></td>\n",
       "      <td>miRNA</td>\n",
       "      <td>taxon:7955</td>\n",
       "      <td>20170511</td>\n",
       "      <td>ZFIN</td>\n",
       "      <td></td>\n",
       "      <td></td>\n",
       "    </tr>\n",
       "    <tr>\n",
       "      <th>3</th>\n",
       "      <td>ZFIN</td>\n",
       "      <td>ZDB-GENE-010102-1</td>\n",
       "      <td>dcn</td>\n",
       "      <td></td>\n",
       "      <td>GO:0050654</td>\n",
       "      <td>PMID:19211552|ZFIN:ZDB-PUB-090217-33</td>\n",
       "      <td>IDA</td>\n",
       "      <td></td>\n",
       "      <td>P</td>\n",
       "      <td>decorin</td>\n",
       "      <td>DC</td>\n",
       "      <td>protein</td>\n",
       "      <td>taxon:7955</td>\n",
       "      <td>20090513</td>\n",
       "      <td>ZFIN</td>\n",
       "      <td></td>\n",
       "      <td></td>\n",
       "    </tr>\n",
       "    <tr>\n",
       "      <th>4</th>\n",
       "      <td>ZFIN</td>\n",
       "      <td>ZDB-GENE-070424-24</td>\n",
       "      <td>zgc:162171</td>\n",
       "      <td></td>\n",
       "      <td>GO:0003924</td>\n",
       "      <td>ZFIN:ZDB-PUB-020724-1</td>\n",
       "      <td>IEA</td>\n",
       "      <td>InterPro:IPR001806</td>\n",
       "      <td>F</td>\n",
       "      <td>zgc:162171</td>\n",
       "      <td></td>\n",
       "      <td>protein</td>\n",
       "      <td>taxon:7955</td>\n",
       "      <td>20180501</td>\n",
       "      <td>ZFIN</td>\n",
       "      <td></td>\n",
       "      <td></td>\n",
       "    </tr>\n",
       "    <tr>\n",
       "      <th>5</th>\n",
       "      <td>ZFIN</td>\n",
       "      <td>ZDB-GENE-050411-115</td>\n",
       "      <td>im:7156563</td>\n",
       "      <td></td>\n",
       "      <td>GO:0005575</td>\n",
       "      <td>ZFIN:ZDB-PUB-031118-1</td>\n",
       "      <td>ND</td>\n",
       "      <td></td>\n",
       "      <td>C</td>\n",
       "      <td>im:7156563</td>\n",
       "      <td></td>\n",
       "      <td>protein</td>\n",
       "      <td>taxon:7955</td>\n",
       "      <td>20050411</td>\n",
       "      <td>ZFIN</td>\n",
       "      <td></td>\n",
       "      <td></td>\n",
       "    </tr>\n",
       "    <tr>\n",
       "      <th>6</th>\n",
       "      <td>ZFIN</td>\n",
       "      <td>ZDB-GENE-040704-65</td>\n",
       "      <td>dctn3</td>\n",
       "      <td></td>\n",
       "      <td>GO:0003674</td>\n",
       "      <td>ZFIN:ZDB-PUB-031118-1</td>\n",
       "      <td>ND</td>\n",
       "      <td></td>\n",
       "      <td>F</td>\n",
       "      <td>dynactin 3 (p22)</td>\n",
       "      <td>wu:fc38g10|zgc:92471</td>\n",
       "      <td>protein</td>\n",
       "      <td>taxon:7955</td>\n",
       "      <td>20050103</td>\n",
       "      <td>ZFIN</td>\n",
       "      <td></td>\n",
       "      <td></td>\n",
       "    </tr>\n",
       "    <tr>\n",
       "      <th>7</th>\n",
       "      <td>ZFIN</td>\n",
       "      <td>ZDB-GENE-041111-36</td>\n",
       "      <td>im:7137855</td>\n",
       "      <td></td>\n",
       "      <td>GO:0008150</td>\n",
       "      <td>ZFIN:ZDB-PUB-031118-1</td>\n",
       "      <td>ND</td>\n",
       "      <td></td>\n",
       "      <td>P</td>\n",
       "      <td>im:7137855</td>\n",
       "      <td></td>\n",
       "      <td>protein</td>\n",
       "      <td>taxon:7955</td>\n",
       "      <td>20050103</td>\n",
       "      <td>ZFIN</td>\n",
       "      <td></td>\n",
       "      <td></td>\n",
       "    </tr>\n",
       "    <tr>\n",
       "      <th>8</th>\n",
       "      <td>ZFIN</td>\n",
       "      <td>ZDB-GENE-041111-67</td>\n",
       "      <td>im:7138989</td>\n",
       "      <td></td>\n",
       "      <td>GO:0003674</td>\n",
       "      <td>ZFIN:ZDB-PUB-031118-1</td>\n",
       "      <td>ND</td>\n",
       "      <td></td>\n",
       "      <td>F</td>\n",
       "      <td>im:7138989</td>\n",
       "      <td></td>\n",
       "      <td>protein</td>\n",
       "      <td>taxon:7955</td>\n",
       "      <td>20050103</td>\n",
       "      <td>ZFIN</td>\n",
       "      <td></td>\n",
       "      <td></td>\n",
       "    </tr>\n",
       "    <tr>\n",
       "      <th>9</th>\n",
       "      <td>ZFIN</td>\n",
       "      <td>ZDB-GENE-050208-206</td>\n",
       "      <td>im:7145497</td>\n",
       "      <td></td>\n",
       "      <td>GO:0008150</td>\n",
       "      <td>ZFIN:ZDB-PUB-031118-1</td>\n",
       "      <td>ND</td>\n",
       "      <td></td>\n",
       "      <td>P</td>\n",
       "      <td>im:7145497</td>\n",
       "      <td></td>\n",
       "      <td>protein</td>\n",
       "      <td>taxon:7955</td>\n",
       "      <td>20050208</td>\n",
       "      <td>ZFIN</td>\n",
       "      <td></td>\n",
       "      <td></td>\n",
       "    </tr>\n",
       "  </tbody>\n",
       "</table>\n",
       "</div>"
      ],
      "text/plain": [
       "     0                      1           2  3           4   \\\n",
       "0  ZFIN    ZDB-MIRNAG-041228-8      mir210     GO:0003674   \n",
       "1  ZFIN     ZDB-GENE-050411-39  im:7141899     GO:0003674   \n",
       "2  ZFIN  ZDB-MIRNAG-090929-153    mir143-1     GO:0003093   \n",
       "3  ZFIN      ZDB-GENE-010102-1         dcn     GO:0050654   \n",
       "4  ZFIN     ZDB-GENE-070424-24  zgc:162171     GO:0003924   \n",
       "5  ZFIN    ZDB-GENE-050411-115  im:7156563     GO:0005575   \n",
       "6  ZFIN     ZDB-GENE-040704-65       dctn3     GO:0003674   \n",
       "7  ZFIN     ZDB-GENE-041111-36  im:7137855     GO:0008150   \n",
       "8  ZFIN     ZDB-GENE-041111-67  im:7138989     GO:0003674   \n",
       "9  ZFIN    ZDB-GENE-050208-206  im:7145497     GO:0008150   \n",
       "\n",
       "                                     5    6                   7  8   \\\n",
       "0                 ZFIN:ZDB-PUB-031118-1   ND                      F   \n",
       "1                 ZFIN:ZDB-PUB-031118-1   ND                      F   \n",
       "2  PMID:27941332|ZFIN:ZDB-PUB-161215-21  IMP                      P   \n",
       "3  PMID:19211552|ZFIN:ZDB-PUB-090217-33  IDA                      P   \n",
       "4                 ZFIN:ZDB-PUB-020724-1  IEA  InterPro:IPR001806  F   \n",
       "5                 ZFIN:ZDB-PUB-031118-1   ND                      C   \n",
       "6                 ZFIN:ZDB-PUB-031118-1   ND                      F   \n",
       "7                 ZFIN:ZDB-PUB-031118-1   ND                      P   \n",
       "8                 ZFIN:ZDB-PUB-031118-1   ND                      F   \n",
       "9                 ZFIN:ZDB-PUB-031118-1   ND                      P   \n",
       "\n",
       "                 9                     10       11          12        13  \\\n",
       "0      microRNA 210                          miRNA  taxon:7955  20041228   \n",
       "1        im:7141899                        protein  taxon:7955  20050411   \n",
       "2    microRNA 143-1                          miRNA  taxon:7955  20170511   \n",
       "3           decorin                    DC  protein  taxon:7955  20090513   \n",
       "4        zgc:162171                        protein  taxon:7955  20180501   \n",
       "5        im:7156563                        protein  taxon:7955  20050411   \n",
       "6  dynactin 3 (p22)  wu:fc38g10|zgc:92471  protein  taxon:7955  20050103   \n",
       "7        im:7137855                        protein  taxon:7955  20050103   \n",
       "8        im:7138989                        protein  taxon:7955  20050103   \n",
       "9        im:7145497                        protein  taxon:7955  20050208   \n",
       "\n",
       "     14 15 16  \n",
       "0  ZFIN        \n",
       "1  ZFIN        \n",
       "2  ZFIN        \n",
       "3  ZFIN        \n",
       "4  ZFIN        \n",
       "5  ZFIN        \n",
       "6  ZFIN        \n",
       "7  ZFIN        \n",
       "8  ZFIN        \n",
       "9  ZFIN        "
      ]
     },
     "execution_count": 8,
     "metadata": {},
     "output_type": "execute_result"
    }
   ],
   "source": [
    "df_clean.head(10)"
   ]
  },
  {
   "cell_type": "code",
   "execution_count": 10,
   "metadata": {},
   "outputs": [],
   "source": [
    "columns = [\"DB\", \"DB gene ID\", \"Gene symbol\", \"Qualifier\", \"GO ID\", \"Reference\", \"Evidence code\", \"Evidence from\", \"GO class\", \"attribute\", \"Locus tag\", \"gene/protein\", \"tax id\", \"date\", \"Assigned by\", \"additional information\", \"empty\"]"
   ]
  },
  {
   "cell_type": "code",
   "execution_count": 11,
   "metadata": {},
   "outputs": [],
   "source": [
    "df_clean.columns = columns"
   ]
  },
  {
   "cell_type": "code",
   "execution_count": 12,
   "metadata": {},
   "outputs": [
    {
     "data": {
      "text/html": [
       "<div>\n",
       "<style scoped>\n",
       "    .dataframe tbody tr th:only-of-type {\n",
       "        vertical-align: middle;\n",
       "    }\n",
       "\n",
       "    .dataframe tbody tr th {\n",
       "        vertical-align: top;\n",
       "    }\n",
       "\n",
       "    .dataframe thead th {\n",
       "        text-align: right;\n",
       "    }\n",
       "</style>\n",
       "<table border=\"1\" class=\"dataframe\">\n",
       "  <thead>\n",
       "    <tr style=\"text-align: right;\">\n",
       "      <th></th>\n",
       "      <th>DB</th>\n",
       "      <th>DB gene ID</th>\n",
       "      <th>Gene symbol</th>\n",
       "      <th>Qualifier</th>\n",
       "      <th>GO ID</th>\n",
       "      <th>Reference</th>\n",
       "      <th>Evidence code</th>\n",
       "      <th>Evidence from</th>\n",
       "      <th>GO class</th>\n",
       "      <th>attribute</th>\n",
       "      <th>Locus tag</th>\n",
       "      <th>gene/protein</th>\n",
       "      <th>tax id</th>\n",
       "      <th>date</th>\n",
       "      <th>Assigned by</th>\n",
       "      <th>additional information</th>\n",
       "      <th>empty</th>\n",
       "    </tr>\n",
       "  </thead>\n",
       "  <tbody>\n",
       "    <tr>\n",
       "      <th>0</th>\n",
       "      <td>ZFIN</td>\n",
       "      <td>ZDB-MIRNAG-041228-8</td>\n",
       "      <td>mir210</td>\n",
       "      <td></td>\n",
       "      <td>GO:0003674</td>\n",
       "      <td>ZFIN:ZDB-PUB-031118-1</td>\n",
       "      <td>ND</td>\n",
       "      <td></td>\n",
       "      <td>F</td>\n",
       "      <td>microRNA 210</td>\n",
       "      <td></td>\n",
       "      <td>miRNA</td>\n",
       "      <td>taxon:7955</td>\n",
       "      <td>20041228</td>\n",
       "      <td>ZFIN</td>\n",
       "      <td></td>\n",
       "      <td></td>\n",
       "    </tr>\n",
       "    <tr>\n",
       "      <th>1</th>\n",
       "      <td>ZFIN</td>\n",
       "      <td>ZDB-GENE-050411-39</td>\n",
       "      <td>im:7141899</td>\n",
       "      <td></td>\n",
       "      <td>GO:0003674</td>\n",
       "      <td>ZFIN:ZDB-PUB-031118-1</td>\n",
       "      <td>ND</td>\n",
       "      <td></td>\n",
       "      <td>F</td>\n",
       "      <td>im:7141899</td>\n",
       "      <td></td>\n",
       "      <td>protein</td>\n",
       "      <td>taxon:7955</td>\n",
       "      <td>20050411</td>\n",
       "      <td>ZFIN</td>\n",
       "      <td></td>\n",
       "      <td></td>\n",
       "    </tr>\n",
       "    <tr>\n",
       "      <th>2</th>\n",
       "      <td>ZFIN</td>\n",
       "      <td>ZDB-MIRNAG-090929-153</td>\n",
       "      <td>mir143-1</td>\n",
       "      <td></td>\n",
       "      <td>GO:0003093</td>\n",
       "      <td>PMID:27941332|ZFIN:ZDB-PUB-161215-21</td>\n",
       "      <td>IMP</td>\n",
       "      <td></td>\n",
       "      <td>P</td>\n",
       "      <td>microRNA 143-1</td>\n",
       "      <td></td>\n",
       "      <td>miRNA</td>\n",
       "      <td>taxon:7955</td>\n",
       "      <td>20170511</td>\n",
       "      <td>ZFIN</td>\n",
       "      <td></td>\n",
       "      <td></td>\n",
       "    </tr>\n",
       "    <tr>\n",
       "      <th>3</th>\n",
       "      <td>ZFIN</td>\n",
       "      <td>ZDB-GENE-010102-1</td>\n",
       "      <td>dcn</td>\n",
       "      <td></td>\n",
       "      <td>GO:0050654</td>\n",
       "      <td>PMID:19211552|ZFIN:ZDB-PUB-090217-33</td>\n",
       "      <td>IDA</td>\n",
       "      <td></td>\n",
       "      <td>P</td>\n",
       "      <td>decorin</td>\n",
       "      <td>DC</td>\n",
       "      <td>protein</td>\n",
       "      <td>taxon:7955</td>\n",
       "      <td>20090513</td>\n",
       "      <td>ZFIN</td>\n",
       "      <td></td>\n",
       "      <td></td>\n",
       "    </tr>\n",
       "    <tr>\n",
       "      <th>4</th>\n",
       "      <td>ZFIN</td>\n",
       "      <td>ZDB-GENE-070424-24</td>\n",
       "      <td>zgc:162171</td>\n",
       "      <td></td>\n",
       "      <td>GO:0003924</td>\n",
       "      <td>ZFIN:ZDB-PUB-020724-1</td>\n",
       "      <td>IEA</td>\n",
       "      <td>InterPro:IPR001806</td>\n",
       "      <td>F</td>\n",
       "      <td>zgc:162171</td>\n",
       "      <td></td>\n",
       "      <td>protein</td>\n",
       "      <td>taxon:7955</td>\n",
       "      <td>20180501</td>\n",
       "      <td>ZFIN</td>\n",
       "      <td></td>\n",
       "      <td></td>\n",
       "    </tr>\n",
       "  </tbody>\n",
       "</table>\n",
       "</div>"
      ],
      "text/plain": [
       "     DB             DB gene ID Gene symbol Qualifier       GO ID  \\\n",
       "0  ZFIN    ZDB-MIRNAG-041228-8      mir210            GO:0003674   \n",
       "1  ZFIN     ZDB-GENE-050411-39  im:7141899            GO:0003674   \n",
       "2  ZFIN  ZDB-MIRNAG-090929-153    mir143-1            GO:0003093   \n",
       "3  ZFIN      ZDB-GENE-010102-1         dcn            GO:0050654   \n",
       "4  ZFIN     ZDB-GENE-070424-24  zgc:162171            GO:0003924   \n",
       "\n",
       "                              Reference Evidence code       Evidence from  \\\n",
       "0                 ZFIN:ZDB-PUB-031118-1            ND                       \n",
       "1                 ZFIN:ZDB-PUB-031118-1            ND                       \n",
       "2  PMID:27941332|ZFIN:ZDB-PUB-161215-21           IMP                       \n",
       "3  PMID:19211552|ZFIN:ZDB-PUB-090217-33           IDA                       \n",
       "4                 ZFIN:ZDB-PUB-020724-1           IEA  InterPro:IPR001806   \n",
       "\n",
       "  GO class       attribute Locus tag gene/protein      tax id      date  \\\n",
       "0        F    microRNA 210                  miRNA  taxon:7955  20041228   \n",
       "1        F      im:7141899                protein  taxon:7955  20050411   \n",
       "2        P  microRNA 143-1                  miRNA  taxon:7955  20170511   \n",
       "3        P         decorin        DC      protein  taxon:7955  20090513   \n",
       "4        F      zgc:162171                protein  taxon:7955  20180501   \n",
       "\n",
       "  Assigned by additional information empty  \n",
       "0        ZFIN                               \n",
       "1        ZFIN                               \n",
       "2        ZFIN                               \n",
       "3        ZFIN                               \n",
       "4        ZFIN                               "
      ]
     },
     "execution_count": 12,
     "metadata": {},
     "output_type": "execute_result"
    }
   ],
   "source": [
    "df_clean.head()"
   ]
  },
  {
   "cell_type": "code",
   "execution_count": 13,
   "metadata": {},
   "outputs": [],
   "source": [
    "df_process = df_clean[df_clean[\"GO class\"] == 'P'].copy()"
   ]
  },
  {
   "cell_type": "code",
   "execution_count": 14,
   "metadata": {},
   "outputs": [
    {
     "data": {
      "text/plain": [
       "(88208, 17)"
      ]
     },
     "execution_count": 14,
     "metadata": {},
     "output_type": "execute_result"
    }
   ],
   "source": [
    "df_process.shape"
   ]
  },
  {
   "cell_type": "code",
   "execution_count": 15,
   "metadata": {},
   "outputs": [],
   "source": [
    "# remove any annotation assigned by electronic matching and with the NOT qualifier which is used to specify a gene is not associated with a term\n",
    "df_process = df_process[df_process[\"Evidence code\"] != 'IEA']\n",
    "df_process = df_process[df_process[\"Qualifier\"] != 'NOT']"
   ]
  },
  {
   "cell_type": "code",
   "execution_count": 16,
   "metadata": {},
   "outputs": [],
   "source": [
    "df_process = df_process[['Gene symbol', 'GO ID']]\n",
    "df_process.reset_index(inplace=True)\n",
    "df_process = df_process.drop(columns = 'index')"
   ]
  },
  {
   "cell_type": "code",
   "execution_count": 17,
   "metadata": {},
   "outputs": [
    {
     "data": {
      "text/plain": [
       "(51769, 2)"
      ]
     },
     "execution_count": 17,
     "metadata": {},
     "output_type": "execute_result"
    }
   ],
   "source": [
    "df_process.shape"
   ]
  },
  {
   "cell_type": "markdown",
   "metadata": {},
   "source": [
    "## load GO digraph"
   ]
  },
  {
   "cell_type": "code",
   "execution_count": 18,
   "metadata": {},
   "outputs": [],
   "source": [
    "digraph = goenrich.obo.ontology('input/go-basic.ob')"
   ]
  },
  {
   "cell_type": "markdown",
   "metadata": {},
   "source": [
    "## only keep GO IDs with depth =>4, replace others with NaN and then remove those rows"
   ]
  },
  {
   "cell_type": "code",
   "execution_count": 19,
   "metadata": {},
   "outputs": [
    {
     "name": "stdout",
     "output_type": "stream",
     "text": [
      "Progress: 99%  51497 Out of 51769   \r"
     ]
    }
   ],
   "source": [
    "## code copied from Gene Ontology (GO) Biological Process by Moshe Silverstein \n",
    "\n",
    "lst = []\n",
    "\n",
    "for i,index in enumerate(df_process.index):\n",
    "    \n",
    "    progressPercent = ((i+1)/len(df_process.index))*100\n",
    "\n",
    "    sys.stdout.write(\"Progress: %d%%  %d Out of %d   \\r\" % (progressPercent, (i+1), len(df_process.index)))\n",
    "    sys.stdout.flush()\n",
    "    \n",
    "    term = df_process.loc[index, 'GO ID']\n",
    "    if term in digraph.node:\n",
    "        if digraph.node[term]['depth'] >= 4:\n",
    "            lst.append(term)\n",
    "        else:\n",
    "            lst.append(np.nan)\n",
    "    else:\n",
    "        lst.append(np.nan)\n",
    "           \n",
    "df_process['GO ID'] = lst"
   ]
  },
  {
   "cell_type": "code",
   "execution_count": 20,
   "metadata": {},
   "outputs": [
    {
     "data": {
      "text/plain": [
       "(51769, 2)"
      ]
     },
     "execution_count": 20,
     "metadata": {},
     "output_type": "execute_result"
    }
   ],
   "source": [
    "df_process.shape"
   ]
  },
  {
   "cell_type": "code",
   "execution_count": 21,
   "metadata": {},
   "outputs": [],
   "source": [
    "df_process.dropna(inplace=True)"
   ]
  },
  {
   "cell_type": "code",
   "execution_count": 22,
   "metadata": {},
   "outputs": [
    {
     "data": {
      "text/plain": [
       "(39275, 2)"
      ]
     },
     "execution_count": 22,
     "metadata": {},
     "output_type": "execute_result"
    }
   ],
   "source": [
    "df_process.shape"
   ]
  },
  {
   "cell_type": "code",
   "execution_count": 23,
   "metadata": {},
   "outputs": [
    {
     "data": {
      "text/html": [
       "<div>\n",
       "<style scoped>\n",
       "    .dataframe tbody tr th:only-of-type {\n",
       "        vertical-align: middle;\n",
       "    }\n",
       "\n",
       "    .dataframe tbody tr th {\n",
       "        vertical-align: top;\n",
       "    }\n",
       "\n",
       "    .dataframe thead th {\n",
       "        text-align: right;\n",
       "    }\n",
       "</style>\n",
       "<table border=\"1\" class=\"dataframe\">\n",
       "  <thead>\n",
       "    <tr style=\"text-align: right;\">\n",
       "      <th></th>\n",
       "      <th>Gene symbol</th>\n",
       "      <th>GO ID</th>\n",
       "    </tr>\n",
       "  </thead>\n",
       "  <tbody>\n",
       "    <tr>\n",
       "      <th>0</th>\n",
       "      <td>mir143-1</td>\n",
       "      <td>GO:0003093</td>\n",
       "    </tr>\n",
       "    <tr>\n",
       "      <th>1</th>\n",
       "      <td>dcn</td>\n",
       "      <td>GO:0050654</td>\n",
       "    </tr>\n",
       "    <tr>\n",
       "      <th>4</th>\n",
       "      <td>kof</td>\n",
       "      <td>GO:0008045</td>\n",
       "    </tr>\n",
       "    <tr>\n",
       "      <th>5</th>\n",
       "      <td>yur</td>\n",
       "      <td>GO:0021626</td>\n",
       "    </tr>\n",
       "    <tr>\n",
       "      <th>7</th>\n",
       "      <td>mir451a</td>\n",
       "      <td>GO:0043249</td>\n",
       "    </tr>\n",
       "  </tbody>\n",
       "</table>\n",
       "</div>"
      ],
      "text/plain": [
       "  Gene symbol       GO ID\n",
       "0    mir143-1  GO:0003093\n",
       "1         dcn  GO:0050654\n",
       "4         kof  GO:0008045\n",
       "5         yur  GO:0021626\n",
       "7     mir451a  GO:0043249"
      ]
     },
     "execution_count": 23,
     "metadata": {},
     "output_type": "execute_result"
    }
   ],
   "source": [
    "df_process.head()"
   ]
  },
  {
   "cell_type": "markdown",
   "metadata": {},
   "source": [
    "## term propagation-propergate child gene term relationships to parent terms"
   ]
  },
  {
   "cell_type": "code",
   "execution_count": 24,
   "metadata": {},
   "outputs": [],
   "source": [
    "## code copied from Gene Ontology (GO) Biological Process by Moshe Silverstein \n",
    "lst1 = []\n",
    "lst2 = []\n",
    "\n",
    "for i,index in enumerate(df_process.index):\n",
    "    \n",
    "#     progressPercent = ((i+1)/len(df.index))*100\n",
    "\n",
    "#     sys.stdout.write(\"Progress: %d%%  %d Out of %d   \\r\" % (progressPercent, (i+1), len(df.index)))\n",
    "#     sys.stdout.flush()\n",
    "    \n",
    "#     term = df.loc[index, 'GO ID']\n",
    "#     for parent in digraph.predecessors(term):\n",
    "#         if parent in digraph.node:\n",
    "#             if digraph.node[parent]['depth'] >= 4:\n",
    "#                 lst1.append(df.loc[index, 'DB Object Symbol'])\n",
    "#                 lst2.append(parent)\n",
    "#                 print(term, parent)\n",
    "    term = df_process.loc[index, 'GO ID']\n",
    "    for parent in digraph.successors(term):\n",
    "        if parent in digraph.node:\n",
    "            if digraph.node[parent]['depth'] >= 4:\n",
    "                lst1.append(df_process.loc[index, 'Gene symbol'])\n",
    "                lst2.append(parent)\n",
    "#                 print(term, parent)\n",
    "\n",
    "\n",
    "temp = pd.DataFrame()\n",
    "temp['Gene symbol'] = lst1\n",
    "temp['GO ID']  = lst2\n",
    "df_process = pd.concat([df_process, temp])\n",
    "df_process.reset_index(inplace=True)\n",
    "df_process = df_process.drop(columns = 'index')"
   ]
  },
  {
   "cell_type": "code",
   "execution_count": 25,
   "metadata": {},
   "outputs": [
    {
     "data": {
      "text/plain": [
       "(98315, 2)"
      ]
     },
     "execution_count": 25,
     "metadata": {},
     "output_type": "execute_result"
    }
   ],
   "source": [
    "df_process.shape"
   ]
  },
  {
   "cell_type": "code",
   "execution_count": 26,
   "metadata": {},
   "outputs": [
    {
     "data": {
      "text/html": [
       "<div>\n",
       "<style scoped>\n",
       "    .dataframe tbody tr th:only-of-type {\n",
       "        vertical-align: middle;\n",
       "    }\n",
       "\n",
       "    .dataframe tbody tr th {\n",
       "        vertical-align: top;\n",
       "    }\n",
       "\n",
       "    .dataframe thead th {\n",
       "        text-align: right;\n",
       "    }\n",
       "</style>\n",
       "<table border=\"1\" class=\"dataframe\">\n",
       "  <thead>\n",
       "    <tr style=\"text-align: right;\">\n",
       "      <th></th>\n",
       "      <th>Gene symbol</th>\n",
       "      <th>GO ID</th>\n",
       "    </tr>\n",
       "  </thead>\n",
       "  <tbody>\n",
       "    <tr>\n",
       "      <th>0</th>\n",
       "      <td>mir143-1</td>\n",
       "      <td>GO:0003093</td>\n",
       "    </tr>\n",
       "    <tr>\n",
       "      <th>1</th>\n",
       "      <td>dcn</td>\n",
       "      <td>GO:0050654</td>\n",
       "    </tr>\n",
       "    <tr>\n",
       "      <th>2</th>\n",
       "      <td>kof</td>\n",
       "      <td>GO:0008045</td>\n",
       "    </tr>\n",
       "    <tr>\n",
       "      <th>3</th>\n",
       "      <td>yur</td>\n",
       "      <td>GO:0021626</td>\n",
       "    </tr>\n",
       "    <tr>\n",
       "      <th>4</th>\n",
       "      <td>mir451a</td>\n",
       "      <td>GO:0043249</td>\n",
       "    </tr>\n",
       "  </tbody>\n",
       "</table>\n",
       "</div>"
      ],
      "text/plain": [
       "  Gene symbol       GO ID\n",
       "0    mir143-1  GO:0003093\n",
       "1         dcn  GO:0050654\n",
       "2         kof  GO:0008045\n",
       "3         yur  GO:0021626\n",
       "4     mir451a  GO:0043249"
      ]
     },
     "execution_count": 26,
     "metadata": {},
     "output_type": "execute_result"
    }
   ],
   "source": [
    "df_process.head()"
   ]
  },
  {
   "cell_type": "markdown",
   "metadata": {},
   "source": [
    "## map GO ID to descriptive name"
   ]
  },
  {
   "cell_type": "code",
   "execution_count": 27,
   "metadata": {},
   "outputs": [
    {
     "name": "stdout",
     "output_type": "stream",
     "text": [
      "Progress: 100%  98315 Out of 98315   \r"
     ]
    }
   ],
   "source": [
    "## code copied from Gene Ontology (GO) Biological Process by Moshe Silverstein \n",
    "lst = []\n",
    "\n",
    "for i,index in enumerate(df_process.index):\n",
    "    \n",
    "    progressPercent = ((i+1)/len(df_process.index))*100\n",
    "\n",
    "    sys.stdout.write(\"Progress: %d%%  %d Out of %d   \\r\" % (progressPercent, (i+1), len(df_process.index)))\n",
    "    sys.stdout.flush()\n",
    "    \n",
    "    lst.append(str(digraph.node[df_process.loc[index, 'GO ID']]['name'])+' '+ '('+str(df_process.loc[index, 'GO ID'])+')')\n",
    "    \n",
    "df_process['GO ID'] = lst"
   ]
  },
  {
   "cell_type": "code",
   "execution_count": 28,
   "metadata": {},
   "outputs": [
    {
     "data": {
      "text/html": [
       "<div>\n",
       "<style scoped>\n",
       "    .dataframe tbody tr th:only-of-type {\n",
       "        vertical-align: middle;\n",
       "    }\n",
       "\n",
       "    .dataframe tbody tr th {\n",
       "        vertical-align: top;\n",
       "    }\n",
       "\n",
       "    .dataframe thead th {\n",
       "        text-align: right;\n",
       "    }\n",
       "</style>\n",
       "<table border=\"1\" class=\"dataframe\">\n",
       "  <thead>\n",
       "    <tr style=\"text-align: right;\">\n",
       "      <th></th>\n",
       "      <th>Gene symbol</th>\n",
       "      <th>GO ID</th>\n",
       "    </tr>\n",
       "  </thead>\n",
       "  <tbody>\n",
       "    <tr>\n",
       "      <th>0</th>\n",
       "      <td>mir143-1</td>\n",
       "      <td>regulation of glomerular filtration (GO:0003093)</td>\n",
       "    </tr>\n",
       "    <tr>\n",
       "      <th>1</th>\n",
       "      <td>dcn</td>\n",
       "      <td>chondroitin sulfate proteoglycan metabolic pro...</td>\n",
       "    </tr>\n",
       "    <tr>\n",
       "      <th>2</th>\n",
       "      <td>kof</td>\n",
       "      <td>motor neuron axon guidance (GO:0008045)</td>\n",
       "    </tr>\n",
       "    <tr>\n",
       "      <th>3</th>\n",
       "      <td>yur</td>\n",
       "      <td>central nervous system maturation (GO:0021626)</td>\n",
       "    </tr>\n",
       "    <tr>\n",
       "      <th>4</th>\n",
       "      <td>mir451a</td>\n",
       "      <td>erythrocyte maturation (GO:0043249)</td>\n",
       "    </tr>\n",
       "  </tbody>\n",
       "</table>\n",
       "</div>"
      ],
      "text/plain": [
       "  Gene symbol                                              GO ID\n",
       "0    mir143-1   regulation of glomerular filtration (GO:0003093)\n",
       "1         dcn  chondroitin sulfate proteoglycan metabolic pro...\n",
       "2         kof            motor neuron axon guidance (GO:0008045)\n",
       "3         yur     central nervous system maturation (GO:0021626)\n",
       "4     mir451a                erythrocyte maturation (GO:0043249)"
      ]
     },
     "execution_count": 28,
     "metadata": {},
     "output_type": "execute_result"
    }
   ],
   "source": [
    "df_process.head()"
   ]
  },
  {
   "cell_type": "code",
   "execution_count": 29,
   "metadata": {},
   "outputs": [],
   "source": [
    "df_process.drop_duplicates(inplace=True)"
   ]
  },
  {
   "cell_type": "code",
   "execution_count": 30,
   "metadata": {},
   "outputs": [
    {
     "data": {
      "text/html": [
       "<div>\n",
       "<style scoped>\n",
       "    .dataframe tbody tr th:only-of-type {\n",
       "        vertical-align: middle;\n",
       "    }\n",
       "\n",
       "    .dataframe tbody tr th {\n",
       "        vertical-align: top;\n",
       "    }\n",
       "\n",
       "    .dataframe thead th {\n",
       "        text-align: right;\n",
       "    }\n",
       "</style>\n",
       "<table border=\"1\" class=\"dataframe\">\n",
       "  <thead>\n",
       "    <tr style=\"text-align: right;\">\n",
       "      <th></th>\n",
       "      <th>Gene symbol</th>\n",
       "      <th>GO ID</th>\n",
       "    </tr>\n",
       "  </thead>\n",
       "  <tbody>\n",
       "    <tr>\n",
       "      <th>0</th>\n",
       "      <td>mir143-1</td>\n",
       "      <td>regulation of glomerular filtration (GO:0003093)</td>\n",
       "    </tr>\n",
       "    <tr>\n",
       "      <th>1</th>\n",
       "      <td>dcn</td>\n",
       "      <td>chondroitin sulfate proteoglycan metabolic pro...</td>\n",
       "    </tr>\n",
       "    <tr>\n",
       "      <th>2</th>\n",
       "      <td>kof</td>\n",
       "      <td>motor neuron axon guidance (GO:0008045)</td>\n",
       "    </tr>\n",
       "    <tr>\n",
       "      <th>3</th>\n",
       "      <td>yur</td>\n",
       "      <td>central nervous system maturation (GO:0021626)</td>\n",
       "    </tr>\n",
       "    <tr>\n",
       "      <th>4</th>\n",
       "      <td>mir451a</td>\n",
       "      <td>erythrocyte maturation (GO:0043249)</td>\n",
       "    </tr>\n",
       "  </tbody>\n",
       "</table>\n",
       "</div>"
      ],
      "text/plain": [
       "  Gene symbol                                              GO ID\n",
       "0    mir143-1   regulation of glomerular filtration (GO:0003093)\n",
       "1         dcn  chondroitin sulfate proteoglycan metabolic pro...\n",
       "2         kof            motor neuron axon guidance (GO:0008045)\n",
       "3         yur     central nervous system maturation (GO:0021626)\n",
       "4     mir451a                erythrocyte maturation (GO:0043249)"
      ]
     },
     "execution_count": 30,
     "metadata": {},
     "output_type": "execute_result"
    }
   ],
   "source": [
    "df_process.head()"
   ]
  },
  {
   "cell_type": "code",
   "execution_count": 31,
   "metadata": {},
   "outputs": [],
   "source": [
    "df_process.reset_index(inplace=True)"
   ]
  },
  {
   "cell_type": "code",
   "execution_count": 32,
   "metadata": {},
   "outputs": [
    {
     "data": {
      "text/html": [
       "<div>\n",
       "<style scoped>\n",
       "    .dataframe tbody tr th:only-of-type {\n",
       "        vertical-align: middle;\n",
       "    }\n",
       "\n",
       "    .dataframe tbody tr th {\n",
       "        vertical-align: top;\n",
       "    }\n",
       "\n",
       "    .dataframe thead th {\n",
       "        text-align: right;\n",
       "    }\n",
       "</style>\n",
       "<table border=\"1\" class=\"dataframe\">\n",
       "  <thead>\n",
       "    <tr style=\"text-align: right;\">\n",
       "      <th></th>\n",
       "      <th>index</th>\n",
       "      <th>Gene symbol</th>\n",
       "      <th>GO ID</th>\n",
       "    </tr>\n",
       "  </thead>\n",
       "  <tbody>\n",
       "    <tr>\n",
       "      <th>0</th>\n",
       "      <td>0</td>\n",
       "      <td>mir143-1</td>\n",
       "      <td>regulation of glomerular filtration (GO:0003093)</td>\n",
       "    </tr>\n",
       "    <tr>\n",
       "      <th>1</th>\n",
       "      <td>1</td>\n",
       "      <td>dcn</td>\n",
       "      <td>chondroitin sulfate proteoglycan metabolic pro...</td>\n",
       "    </tr>\n",
       "    <tr>\n",
       "      <th>2</th>\n",
       "      <td>2</td>\n",
       "      <td>kof</td>\n",
       "      <td>motor neuron axon guidance (GO:0008045)</td>\n",
       "    </tr>\n",
       "    <tr>\n",
       "      <th>3</th>\n",
       "      <td>3</td>\n",
       "      <td>yur</td>\n",
       "      <td>central nervous system maturation (GO:0021626)</td>\n",
       "    </tr>\n",
       "    <tr>\n",
       "      <th>4</th>\n",
       "      <td>4</td>\n",
       "      <td>mir451a</td>\n",
       "      <td>erythrocyte maturation (GO:0043249)</td>\n",
       "    </tr>\n",
       "  </tbody>\n",
       "</table>\n",
       "</div>"
      ],
      "text/plain": [
       "   index Gene symbol                                              GO ID\n",
       "0      0    mir143-1   regulation of glomerular filtration (GO:0003093)\n",
       "1      1         dcn  chondroitin sulfate proteoglycan metabolic pro...\n",
       "2      2         kof            motor neuron axon guidance (GO:0008045)\n",
       "3      3         yur     central nervous system maturation (GO:0021626)\n",
       "4      4     mir451a                erythrocyte maturation (GO:0043249)"
      ]
     },
     "execution_count": 32,
     "metadata": {},
     "output_type": "execute_result"
    }
   ],
   "source": [
    "df_process.head()"
   ]
  },
  {
   "cell_type": "code",
   "execution_count": 33,
   "metadata": {},
   "outputs": [],
   "source": [
    "df_process = df_process.drop(columns = 'index')"
   ]
  },
  {
   "cell_type": "code",
   "execution_count": 34,
   "metadata": {},
   "outputs": [
    {
     "data": {
      "text/html": [
       "<div>\n",
       "<style scoped>\n",
       "    .dataframe tbody tr th:only-of-type {\n",
       "        vertical-align: middle;\n",
       "    }\n",
       "\n",
       "    .dataframe tbody tr th {\n",
       "        vertical-align: top;\n",
       "    }\n",
       "\n",
       "    .dataframe thead th {\n",
       "        text-align: right;\n",
       "    }\n",
       "</style>\n",
       "<table border=\"1\" class=\"dataframe\">\n",
       "  <thead>\n",
       "    <tr style=\"text-align: right;\">\n",
       "      <th></th>\n",
       "      <th>Gene symbol</th>\n",
       "      <th>GO ID</th>\n",
       "    </tr>\n",
       "  </thead>\n",
       "  <tbody>\n",
       "    <tr>\n",
       "      <th>0</th>\n",
       "      <td>mir143-1</td>\n",
       "      <td>regulation of glomerular filtration (GO:0003093)</td>\n",
       "    </tr>\n",
       "    <tr>\n",
       "      <th>1</th>\n",
       "      <td>dcn</td>\n",
       "      <td>chondroitin sulfate proteoglycan metabolic pro...</td>\n",
       "    </tr>\n",
       "    <tr>\n",
       "      <th>2</th>\n",
       "      <td>kof</td>\n",
       "      <td>motor neuron axon guidance (GO:0008045)</td>\n",
       "    </tr>\n",
       "    <tr>\n",
       "      <th>3</th>\n",
       "      <td>yur</td>\n",
       "      <td>central nervous system maturation (GO:0021626)</td>\n",
       "    </tr>\n",
       "    <tr>\n",
       "      <th>4</th>\n",
       "      <td>mir451a</td>\n",
       "      <td>erythrocyte maturation (GO:0043249)</td>\n",
       "    </tr>\n",
       "  </tbody>\n",
       "</table>\n",
       "</div>"
      ],
      "text/plain": [
       "  Gene symbol                                              GO ID\n",
       "0    mir143-1   regulation of glomerular filtration (GO:0003093)\n",
       "1         dcn  chondroitin sulfate proteoglycan metabolic pro...\n",
       "2         kof            motor neuron axon guidance (GO:0008045)\n",
       "3         yur     central nervous system maturation (GO:0021626)\n",
       "4     mir451a                erythrocyte maturation (GO:0043249)"
      ]
     },
     "execution_count": 34,
     "metadata": {},
     "output_type": "execute_result"
    }
   ],
   "source": [
    "df_process.head()"
   ]
  },
  {
   "cell_type": "code",
   "execution_count": 35,
   "metadata": {},
   "outputs": [
    {
     "data": {
      "text/plain": [
       "(77343, 2)"
      ]
     },
     "execution_count": 35,
     "metadata": {},
     "output_type": "execute_result"
    }
   ],
   "source": [
    "df_process.shape"
   ]
  },
  {
   "cell_type": "code",
   "execution_count": 36,
   "metadata": {},
   "outputs": [
    {
     "data": {
      "text/plain": [
       "6570"
      ]
     },
     "execution_count": 36,
     "metadata": {},
     "output_type": "execute_result"
    }
   ],
   "source": [
    "number_terms = len(df_process.iloc[:, 1].unique())\n",
    "number_terms"
   ]
  },
  {
   "cell_type": "markdown",
   "metadata": {},
   "source": [
    "## build the protein-coding gene list"
   ]
  },
  {
   "cell_type": "code",
   "execution_count": 37,
   "metadata": {},
   "outputs": [],
   "source": [
    "dRerio_geneInfo = pd.read_csv(\"input/Danio_rerio.gene_info\", sep=\"\\t\")"
   ]
  },
  {
   "cell_type": "code",
   "execution_count": 38,
   "metadata": {},
   "outputs": [
    {
     "data": {
      "text/html": [
       "<div>\n",
       "<style scoped>\n",
       "    .dataframe tbody tr th:only-of-type {\n",
       "        vertical-align: middle;\n",
       "    }\n",
       "\n",
       "    .dataframe tbody tr th {\n",
       "        vertical-align: top;\n",
       "    }\n",
       "\n",
       "    .dataframe thead th {\n",
       "        text-align: right;\n",
       "    }\n",
       "</style>\n",
       "<table border=\"1\" class=\"dataframe\">\n",
       "  <thead>\n",
       "    <tr style=\"text-align: right;\">\n",
       "      <th></th>\n",
       "      <th>#tax_id</th>\n",
       "      <th>GeneID</th>\n",
       "      <th>Symbol</th>\n",
       "      <th>LocusTag</th>\n",
       "      <th>Synonyms</th>\n",
       "      <th>dbXrefs</th>\n",
       "      <th>chromosome</th>\n",
       "      <th>map_location</th>\n",
       "      <th>description</th>\n",
       "      <th>type_of_gene</th>\n",
       "      <th>Symbol_from_nomenclature_authority</th>\n",
       "      <th>Full_name_from_nomenclature_authority</th>\n",
       "      <th>Nomenclature_status</th>\n",
       "      <th>Other_designations</th>\n",
       "      <th>Modification_date</th>\n",
       "      <th>Feature_type</th>\n",
       "    </tr>\n",
       "  </thead>\n",
       "  <tbody>\n",
       "    <tr>\n",
       "      <th>0</th>\n",
       "      <td>7955</td>\n",
       "      <td>30037</td>\n",
       "      <td>tnc</td>\n",
       "      <td>-</td>\n",
       "      <td>tenc|wu:fk04d02</td>\n",
       "      <td>ZFIN:ZDB-GENE-980526-104|Ensembl:ENSDARG000000...</td>\n",
       "      <td>5</td>\n",
       "      <td>-</td>\n",
       "      <td>tenascin C</td>\n",
       "      <td>protein-coding</td>\n",
       "      <td>tnc</td>\n",
       "      <td>tenascin C</td>\n",
       "      <td>O</td>\n",
       "      <td>tenascin|etID309720.5</td>\n",
       "      <td>20180409</td>\n",
       "      <td>-</td>\n",
       "    </tr>\n",
       "    <tr>\n",
       "      <th>1</th>\n",
       "      <td>7955</td>\n",
       "      <td>30038</td>\n",
       "      <td>sox19a</td>\n",
       "      <td>-</td>\n",
       "      <td>cb799|fc66c01|sox19|wu:fc66c01</td>\n",
       "      <td>ZFIN:ZDB-GENE-980526-102|Ensembl:ENSDARG000000...</td>\n",
       "      <td>5</td>\n",
       "      <td>-</td>\n",
       "      <td>SRY (sex determining region Y)-box 19a</td>\n",
       "      <td>protein-coding</td>\n",
       "      <td>sox19a</td>\n",
       "      <td>SRY (sex determining region Y)-box 19a</td>\n",
       "      <td>O</td>\n",
       "      <td>transcription factor Sox-19a|SRY-box containin...</td>\n",
       "      <td>20180610</td>\n",
       "      <td>-</td>\n",
       "    </tr>\n",
       "    <tr>\n",
       "      <th>2</th>\n",
       "      <td>7955</td>\n",
       "      <td>30065</td>\n",
       "      <td>elavl1b</td>\n",
       "      <td>-</td>\n",
       "      <td>fb72d01|fk65g02|hug|wu:fb72d01|wu:fk65g02</td>\n",
       "      <td>ZFIN:ZDB-GENE-000210-17|Ensembl:ENSDARG0000010...</td>\n",
       "      <td>11</td>\n",
       "      <td>-</td>\n",
       "      <td>ELAV like RNA binding protein 1b</td>\n",
       "      <td>protein-coding</td>\n",
       "      <td>elavl1b</td>\n",
       "      <td>ELAV like RNA binding protein 1b</td>\n",
       "      <td>O</td>\n",
       "      <td>ELAV-like protein 1|etID19626.11</td>\n",
       "      <td>20180610</td>\n",
       "      <td>-</td>\n",
       "    </tr>\n",
       "    <tr>\n",
       "      <th>3</th>\n",
       "      <td>7955</td>\n",
       "      <td>30066</td>\n",
       "      <td>meis2b</td>\n",
       "      <td>-</td>\n",
       "      <td>meis2|meis2.1</td>\n",
       "      <td>ZFIN:ZDB-GENE-000210-23|Ensembl:ENSDARG0000007...</td>\n",
       "      <td>20</td>\n",
       "      <td>-</td>\n",
       "      <td>Meis homeobox 2b</td>\n",
       "      <td>protein-coding</td>\n",
       "      <td>meis2b</td>\n",
       "      <td>Meis homeobox 2b</td>\n",
       "      <td>O</td>\n",
       "      <td>Meis homeobox 2b|meis homeobox 2b|myeloid ecot...</td>\n",
       "      <td>20180409</td>\n",
       "      <td>-</td>\n",
       "    </tr>\n",
       "    <tr>\n",
       "      <th>4</th>\n",
       "      <td>7955</td>\n",
       "      <td>30067</td>\n",
       "      <td>chico</td>\n",
       "      <td>-</td>\n",
       "      <td>-</td>\n",
       "      <td>ZFIN:ZDB-GENE-000210-28|Ensembl:ENSDARG0000001...</td>\n",
       "      <td>2</td>\n",
       "      <td>-</td>\n",
       "      <td>chico</td>\n",
       "      <td>protein-coding</td>\n",
       "      <td>chico</td>\n",
       "      <td>chico</td>\n",
       "      <td>O</td>\n",
       "      <td>chico</td>\n",
       "      <td>20180603</td>\n",
       "      <td>-</td>\n",
       "    </tr>\n",
       "  </tbody>\n",
       "</table>\n",
       "</div>"
      ],
      "text/plain": [
       "   #tax_id  GeneID   Symbol LocusTag  \\\n",
       "0     7955   30037      tnc        -   \n",
       "1     7955   30038   sox19a        -   \n",
       "2     7955   30065  elavl1b        -   \n",
       "3     7955   30066   meis2b        -   \n",
       "4     7955   30067    chico        -   \n",
       "\n",
       "                                    Synonyms  \\\n",
       "0                            tenc|wu:fk04d02   \n",
       "1             cb799|fc66c01|sox19|wu:fc66c01   \n",
       "2  fb72d01|fk65g02|hug|wu:fb72d01|wu:fk65g02   \n",
       "3                              meis2|meis2.1   \n",
       "4                                          -   \n",
       "\n",
       "                                             dbXrefs chromosome map_location  \\\n",
       "0  ZFIN:ZDB-GENE-980526-104|Ensembl:ENSDARG000000...          5            -   \n",
       "1  ZFIN:ZDB-GENE-980526-102|Ensembl:ENSDARG000000...          5            -   \n",
       "2  ZFIN:ZDB-GENE-000210-17|Ensembl:ENSDARG0000010...         11            -   \n",
       "3  ZFIN:ZDB-GENE-000210-23|Ensembl:ENSDARG0000007...         20            -   \n",
       "4  ZFIN:ZDB-GENE-000210-28|Ensembl:ENSDARG0000001...          2            -   \n",
       "\n",
       "                              description    type_of_gene  \\\n",
       "0                              tenascin C  protein-coding   \n",
       "1  SRY (sex determining region Y)-box 19a  protein-coding   \n",
       "2        ELAV like RNA binding protein 1b  protein-coding   \n",
       "3                        Meis homeobox 2b  protein-coding   \n",
       "4                                   chico  protein-coding   \n",
       "\n",
       "  Symbol_from_nomenclature_authority   Full_name_from_nomenclature_authority  \\\n",
       "0                                tnc                              tenascin C   \n",
       "1                             sox19a  SRY (sex determining region Y)-box 19a   \n",
       "2                            elavl1b        ELAV like RNA binding protein 1b   \n",
       "3                             meis2b                        Meis homeobox 2b   \n",
       "4                              chico                                   chico   \n",
       "\n",
       "  Nomenclature_status                                 Other_designations  \\\n",
       "0                   O                              tenascin|etID309720.5   \n",
       "1                   O  transcription factor Sox-19a|SRY-box containin...   \n",
       "2                   O                   ELAV-like protein 1|etID19626.11   \n",
       "3                   O  Meis homeobox 2b|meis homeobox 2b|myeloid ecot...   \n",
       "4                   O                                              chico   \n",
       "\n",
       "   Modification_date Feature_type  \n",
       "0           20180409            -  \n",
       "1           20180610            -  \n",
       "2           20180610            -  \n",
       "3           20180409            -  \n",
       "4           20180603            -  "
      ]
     },
     "execution_count": 38,
     "metadata": {},
     "output_type": "execute_result"
    }
   ],
   "source": [
    "dRerio_geneInfo.head()"
   ]
  },
  {
   "cell_type": "code",
   "execution_count": 39,
   "metadata": {},
   "outputs": [
    {
     "data": {
      "text/plain": [
       "(45373, 16)"
      ]
     },
     "execution_count": 39,
     "metadata": {},
     "output_type": "execute_result"
    }
   ],
   "source": [
    "dRerio_geneInfo.shape"
   ]
  },
  {
   "cell_type": "code",
   "execution_count": 40,
   "metadata": {},
   "outputs": [],
   "source": [
    "dRerio_proteinCoding = dRerio_geneInfo[dRerio_geneInfo[\"type_of_gene\"] == \"protein-coding\"]"
   ]
  },
  {
   "cell_type": "code",
   "execution_count": 41,
   "metadata": {},
   "outputs": [
    {
     "data": {
      "text/plain": [
       "(31337, 16)"
      ]
     },
     "execution_count": 41,
     "metadata": {},
     "output_type": "execute_result"
    }
   ],
   "source": [
    "dRerio_proteinCoding.shape"
   ]
  },
  {
   "cell_type": "markdown",
   "metadata": {},
   "source": [
    "## only keep gene symbolys that are in the S cerevisiae table"
   ]
  },
  {
   "cell_type": "code",
   "execution_count": 43,
   "metadata": {},
   "outputs": [],
   "source": [
    "df_process_protein = df_process.loc[df_process[\"Gene symbol\"].isin(dRerio_proteinCoding[\"Symbol\"].unique())]"
   ]
  },
  {
   "cell_type": "code",
   "execution_count": 44,
   "metadata": {},
   "outputs": [
    {
     "data": {
      "text/plain": [
       "(72002, 2)"
      ]
     },
     "execution_count": 44,
     "metadata": {},
     "output_type": "execute_result"
    }
   ],
   "source": [
    "df_process_protein.shape"
   ]
  },
  {
   "cell_type": "code",
   "execution_count": 46,
   "metadata": {},
   "outputs": [
    {
     "name": "stdout",
     "output_type": "stream",
     "text": [
      "Progress: 0%  6 Out of 6530   \r"
     ]
    },
    {
     "name": "stderr",
     "output_type": "stream",
     "text": [
      "/usr/local/lib/python3.6/site-packages/ipykernel_launcher.py:15: SettingWithCopyWarning: \n",
      "A value is trying to be set on a copy of a slice from a DataFrame.\n",
      "Try using .loc[row_indexer,col_indexer] = value instead\n",
      "\n",
      "See the caveats in the documentation: http://pandas.pydata.org/pandas-docs/stable/indexing.html#indexing-view-versus-copy\n",
      "  from ipykernel import kernelapp as app\n"
     ]
    },
    {
     "name": "stdout",
     "output_type": "stream",
     "text": [
      "Progress: 100%  6530 Out of 6530   \r"
     ]
    }
   ],
   "source": [
    "filename = 'process_gene_ontology_zfin_greater4_%s.gmt'% str(datetime.date.today())[0:7].replace('-', '_')\n",
    "file = open(filename,'w+') \n",
    "terms = df_process_protein[\"GO ID\"].unique()\n",
    "for i,term in enumerate(terms):\n",
    "    \n",
    "    progressPercent = ((i+1)/len(terms))*100\n",
    "    sys.stdout.write(\"Progress: %d%%  %d Out of %d   \\r\" % (progressPercent, (i+1), len(terms)))\n",
    "    sys.stdout.flush()\n",
    "            \n",
    "    df_byTerm = df_process_protein.loc[df_process_protein[\"GO ID\"] == term]\n",
    "    \n",
    "    if df_byTerm.shape[0] > 4:\n",
    "        # split splice variant names\n",
    "        split_splice = lambda x: x.split('.')[0]\n",
    "        df_byTerm[\"Gene symbol\"] = df_byTerm[\"Gene symbol\"].apply(split_splice)\n",
    "        \n",
    "        \n",
    "        if len(df_byTerm[\"Gene symbol\"].unique()) > 4:\n",
    "            file.write(\"%s\\t\" % term)\n",
    "            file.write(\"\\t\")\n",
    "            genes = df_byTerm[\"Gene symbol\"].unique()\n",
    "    \n",
    "            for gene in genes:\n",
    "                file.write(\"%s\\t\" % gene)\n",
    "            file.write(\"\\n\")\n",
    "        \n",
    "file.close()"
   ]
  },
  {
   "cell_type": "markdown",
   "metadata": {},
   "source": [
    "## get stats for gmt"
   ]
  },
  {
   "cell_type": "code",
   "execution_count": 47,
   "metadata": {},
   "outputs": [],
   "source": [
    "def getTermStats(loaded_gmt, geneInfoTable, num_samplings, num_genes_in_sampling) :\n",
    "    # get the relevant terms and set a dictionary for them\n",
    "    term_set = loaded_gmt.iloc[:,0].apply(lambda x: x.split(\"\\t\")[0])\n",
    "    term_genes_dict = {term_set[i]: loaded_gmt.iloc[i,0].split(\"\\t\")[2:] for i in range(0, loaded_gmt.shape[0])}\n",
    "    term_rank_dict = {k: [] for k in term_set}\n",
    "    term_stats_dict = {k: [] for k in term_set}\n",
    "    \n",
    "    # get the total number of genes in the organism\n",
    "    n_genes = len(geneInfoTable[\"Symbol\"].unique())\n",
    "    \n",
    "    # number of genes per sampling, number of times to sample\n",
    "    genes_in_sampleing = num_genes_in_sampling\n",
    "    num_samplings = num_samplings\n",
    "    \n",
    "    for i,x in enumerate(range(0,num_samplings)):\n",
    "        \n",
    "        progressPercent = ((i+1)/len(range(0,num_samplings)))*100\n",
    "        \n",
    "        sys.stdout.write(\"Progress: %d%%  %d Out of %d   \\r\" % (progressPercent, (i+1), len(range(0,num_samplings))))\n",
    "        sys.stdout.flush()\n",
    "            \n",
    "        \n",
    "        randomSet = set(geneInfoTable[\"Symbol\"].sample(genes_in_sampleing).apply(lambda x: x.split('.')[0]))\n",
    "        \n",
    "        # initialize an array to hold the pvalue for each term\n",
    "        pvals = np.array([])\n",
    "        for key in term_rank_dict.keys():\n",
    "            \n",
    "            termSet = set(term_genes_dict[key])\n",
    "            # calculate p value using fisher exact test\n",
    "            # implemented using the formula found in the GeneOverap bioconductor package for R\n",
    "            pval_term = stat.fisher_exact([[n_genes - len(termSet.union(randomSet)), len(randomSet.difference(termSet))], [len(termSet.difference(randomSet)), len(termSet.intersection(randomSet))]])[1]\n",
    "            pvals = np.append(pvals, [pval_term])\n",
    "        \n",
    "        # sort the pvals and add the rank to the term_rank dict\n",
    "        sorted_pvals = pvals.argsort()\n",
    "        \n",
    "        # find the rank for each term by sorting the pvals array and getting the index of the key position in the\n",
    "        # sorted list. Need to +1 because the index begins with 0\n",
    "        \n",
    "        for j,key in enumerate(term_rank_dict.keys()):\n",
    "            term_rank_dict[key].append(np.where(sorted_pvals == j)[0][0] + 1)\n",
    "            \n",
    "    for key in term_rank_dict:\n",
    "        term_stats_dict[key] = [np.mean(term_rank_dict[key]), np.std(term_rank_dict[key])]\n",
    "            \n",
    "    \n",
    "    \n",
    "    return term_stats_dict"
   ]
  },
  {
   "cell_type": "code",
   "execution_count": 48,
   "metadata": {},
   "outputs": [
    {
     "data": {
      "text/plain": [
       "pandas.core.frame.DataFrame"
      ]
     },
     "execution_count": 48,
     "metadata": {},
     "output_type": "execute_result"
    }
   ],
   "source": [
    "process_GO_gmt = pd.read_csv(\"output/process_gene_ontology_zfin_greater4_2018_06.gmt\", sep=\"~\", header=None)\n",
    "type(process_GO_gmt)"
   ]
  },
  {
   "cell_type": "code",
   "execution_count": 51,
   "metadata": {},
   "outputs": [
    {
     "name": "stdout",
     "output_type": "stream",
     "text": [
      "Progress: 100%  200 Out of 200   \r"
     ]
    }
   ],
   "source": [
    "iterations_200 = getTermStats(process_GO_gmt, dRerio_proteinCoding, num_samplings=200, num_genes_in_sampling=300)"
   ]
  },
  {
   "cell_type": "code",
   "execution_count": 52,
   "metadata": {},
   "outputs": [],
   "source": [
    "df_200_iterations = pd.DataFrame.from_dict(iterations_200, orient='index', columns = ['mean', 'sd'])"
   ]
  },
  {
   "cell_type": "code",
   "execution_count": 53,
   "metadata": {},
   "outputs": [],
   "source": [
    "df_200_iterations.to_csv('output/process_gene_ontology_zfin_greater4_2018_06_stats.tsv', sep='\\t', header=False)"
   ]
  }
 ],
 "metadata": {
  "kernelspec": {
   "display_name": "Python 3",
   "language": "python",
   "name": "python3"
  },
  "language_info": {
   "codemirror_mode": {
    "name": "ipython",
    "version": 3
   },
   "file_extension": ".py",
   "mimetype": "text/x-python",
   "name": "python",
   "nbconvert_exporter": "python",
   "pygments_lexer": "ipython3",
   "version": "3.6.5"
  }
 },
 "nbformat": 4,
 "nbformat_minor": 2
}
