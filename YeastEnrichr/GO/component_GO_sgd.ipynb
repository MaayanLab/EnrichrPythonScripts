{
 "cells": [
  {
   "cell_type": "markdown",
   "metadata": {},
   "source": [
    "# Gene Ontology (GO) Cellular Component"
   ]
  },
  {
   "cell_type": "markdown",
   "metadata": {},
   "source": [
    "Author: Zachary Flamholz  \n",
    "Date: 06-2018  \n",
    "Database: https://www.yeastgenome.org/  \n",
    "Data: http://geneontology.org/gene-associations/gene_association.sgd.gz  \n",
    "Companion file: ftp://ftp.ncbi.nlm.nih.gov/gene/DATA/GENE_INFO/Fungi/Saccharomyces_cerevisiae.gene_info.gz, http://snapshot.geneontology.org/ontology/go-basic.obo"
   ]
  },
  {
   "cell_type": "markdown",
   "metadata": {},
   "source": [
    "## import libraries"
   ]
  },
  {
   "cell_type": "code",
   "execution_count": 1,
   "metadata": {},
   "outputs": [],
   "source": [
    "import numpy as np\n",
    "import pandas as pd\n",
    "import sys, datetime\n",
    "import goenrich\n",
    "import scipy.stats as stat"
   ]
  },
  {
   "cell_type": "markdown",
   "metadata": {},
   "source": [
    "# Versions of Modules in Use"
   ]
  },
  {
   "cell_type": "code",
   "execution_count": 2,
   "metadata": {
    "scrolled": true
   },
   "outputs": [
    {
     "data": {
      "application/json": {
       "Software versions": [
        {
         "module": "Python",
         "version": "2.7.15 64bit [GCC 4.2.1 Compatible Clang 4.0.1 (tags/RELEASE_401/final)]"
        },
        {
         "module": "IPython",
         "version": "5.7.0"
        },
        {
         "module": "OS",
         "version": "Darwin 17.5.0 x86_64 i386 64bit"
        },
        {
         "module": "numpy",
         "version": "1.14.3"
        },
        {
         "module": "pandas",
         "version": "0.23.0"
        },
        {
         "module": "clustergrammer_widget",
         "version": "The 'clustergrammer_widget' distribution was not found and is required by the application"
        }
       ]
      },
      "text/html": [
       "<table><tr><th>Software</th><th>Version</th></tr><tr><td>Python</td><td>2.7.15 64bit [GCC 4.2.1 Compatible Clang 4.0.1 (tags/RELEASE_401/final)]</td></tr><tr><td>IPython</td><td>5.7.0</td></tr><tr><td>OS</td><td>Darwin 17.5.0 x86_64 i386 64bit</td></tr><tr><td>numpy</td><td>1.14.3</td></tr><tr><td>pandas</td><td>0.23.0</td></tr><tr><td>clustergrammer_widget</td><td>The 'clustergrammer_widget' distribution was not found and is required by the application</td></tr><tr><td colspan='2'>Wed Jun 20 14:22:09 2018 EDT</td></tr></table>"
      ],
      "text/latex": [
       "\\begin{tabular}{|l|l|}\\hline\n",
       "{\\bf Software} & {\\bf Version} \\\\ \\hline\\hline\n",
       "Python & 2.7.15 64bit [GCC 4.2.1 Compatible Clang 4.0.1 (tags/RELEASE\\_401/final)] \\\\ \\hline\n",
       "IPython & 5.7.0 \\\\ \\hline\n",
       "OS & Darwin 17.5.0 x86\\_64 i386 64bit \\\\ \\hline\n",
       "numpy & 1.14.3 \\\\ \\hline\n",
       "pandas & 0.23.0 \\\\ \\hline\n",
       "clustergrammer_widget & The 'clustergrammer\\_widget' distribution was not found and is required by the application \\\\ \\hline\n",
       "\\hline \\multicolumn{2}{|l|}{Wed Jun 20 14:22:09 2018 EDT} \\\\ \\hline\n",
       "\\end{tabular}\n"
      ],
      "text/plain": [
       "Software versions\n",
       "Python 2.7.15 64bit [GCC 4.2.1 Compatible Clang 4.0.1 (tags/RELEASE_401/final)]\n",
       "IPython 5.7.0\n",
       "OS Darwin 17.5.0 x86_64 i386 64bit\n",
       "numpy 1.14.3\n",
       "pandas 0.23.0\n",
       "clustergrammer_widget The 'clustergrammer_widget' distribution was not found and is required by the application\n",
       "Wed Jun 20 14:22:09 2018 EDT"
      ]
     },
     "execution_count": 2,
     "metadata": {},
     "output_type": "execute_result"
    }
   ],
   "source": [
    "%load_ext version_information\n",
    "%version_information numpy, pandas, clustergrammer_widget "
   ]
  },
  {
   "cell_type": "markdown",
   "metadata": {},
   "source": [
    "## read in data"
   ]
  },
  {
   "cell_type": "code",
   "execution_count": 3,
   "metadata": {},
   "outputs": [],
   "source": [
    "df = pd.read_csv('input/gene_association.sgd', sep='~', skiprows=18, header=None)"
   ]
  },
  {
   "cell_type": "code",
   "execution_count": 4,
   "metadata": {},
   "outputs": [
    {
     "data": {
      "text/html": [
       "<div>\n",
       "<style scoped>\n",
       "    .dataframe tbody tr th:only-of-type {\n",
       "        vertical-align: middle;\n",
       "    }\n",
       "\n",
       "    .dataframe tbody tr th {\n",
       "        vertical-align: top;\n",
       "    }\n",
       "\n",
       "    .dataframe thead th {\n",
       "        text-align: right;\n",
       "    }\n",
       "</style>\n",
       "<table border=\"1\" class=\"dataframe\">\n",
       "  <thead>\n",
       "    <tr style=\"text-align: right;\">\n",
       "      <th></th>\n",
       "      <th>0</th>\n",
       "    </tr>\n",
       "  </thead>\n",
       "  <tbody>\n",
       "    <tr>\n",
       "      <th>0</th>\n",
       "      <td>SGD\\tS000002318\\tSTE7\\t\\tGO:0000165\\tPMID:8455...</td>\n",
       "    </tr>\n",
       "    <tr>\n",
       "      <th>1</th>\n",
       "      <td>SGD\\tS000002318\\tSTE7\\t\\tGO:0000165\\tPMID:8455...</td>\n",
       "    </tr>\n",
       "    <tr>\n",
       "      <th>2</th>\n",
       "      <td>SGD\\tS000002318\\tSTE7\\t\\tGO:0000165\\tPMID:8668...</td>\n",
       "    </tr>\n",
       "    <tr>\n",
       "      <th>3</th>\n",
       "      <td>SGD\\tS000002318\\tSTE7\\t\\tGO:0000165\\tPMID:8668...</td>\n",
       "    </tr>\n",
       "    <tr>\n",
       "      <th>4</th>\n",
       "      <td>SGD\\tS000002318\\tSTE7\\t\\tGO:0000187\\tPMID:8384...</td>\n",
       "    </tr>\n",
       "  </tbody>\n",
       "</table>\n",
       "</div>"
      ],
      "text/plain": [
       "                                                   0\n",
       "0  SGD\\tS000002318\\tSTE7\\t\\tGO:0000165\\tPMID:8455...\n",
       "1  SGD\\tS000002318\\tSTE7\\t\\tGO:0000165\\tPMID:8455...\n",
       "2  SGD\\tS000002318\\tSTE7\\t\\tGO:0000165\\tPMID:8668...\n",
       "3  SGD\\tS000002318\\tSTE7\\t\\tGO:0000165\\tPMID:8668...\n",
       "4  SGD\\tS000002318\\tSTE7\\t\\tGO:0000187\\tPMID:8384..."
      ]
     },
     "execution_count": 4,
     "metadata": {},
     "output_type": "execute_result"
    }
   ],
   "source": [
    "df.head()"
   ]
  },
  {
   "cell_type": "code",
   "execution_count": 5,
   "metadata": {},
   "outputs": [
    {
     "name": "stdout",
     "output_type": "stream",
     "text": [
      "Progress: 100%  121120 Out of 121120   \r"
     ]
    }
   ],
   "source": [
    "## code copied from Gene Ontology (GO) Biological Process by Moshe Silverstein \n",
    "matrix = np.chararray((df.shape[0], 17), itemsize=150, unicode=True)\n",
    "\n",
    "for i, row in enumerate(df.itertuples()):\n",
    "    \n",
    "    progressPercent = ((i+1)/len(df.index))*100\n",
    "\n",
    "    sys.stdout.write(\"Progress: %d%%  %d Out of %d   \\r\" % (progressPercent, (i+1), len(df.index)))\n",
    "    sys.stdout.flush()\n",
    "    \n",
    "    lst = row[1].split('\\t')\n",
    "\n",
    "    matrix[i, :] = lst\n",
    "\n",
    "df_clean = pd.DataFrame(data=matrix)"
   ]
  },
  {
   "cell_type": "code",
   "execution_count": 6,
   "metadata": {},
   "outputs": [
    {
     "data": {
      "text/plain": [
       "(121120, 17)"
      ]
     },
     "execution_count": 6,
     "metadata": {},
     "output_type": "execute_result"
    }
   ],
   "source": [
    "df_clean.shape"
   ]
  },
  {
   "cell_type": "code",
   "execution_count": 7,
   "metadata": {},
   "outputs": [],
   "source": [
    "columns = [\"DB\", \"DB gene ID\", \"Gene symbol\", \"Qualifier\", \"GO ID\", \"Reference\", \"Evidence code\", \"Evidence from\", \"GO class\", \"attribute\", \"Locus tag\", \"gene/protein\", \"tax id\", \"date\", \"Assigned by\", \"additional information\", \"empty\"]"
   ]
  },
  {
   "cell_type": "code",
   "execution_count": 8,
   "metadata": {},
   "outputs": [],
   "source": [
    "df_clean.columns = columns"
   ]
  },
  {
   "cell_type": "code",
   "execution_count": 9,
   "metadata": {},
   "outputs": [
    {
     "data": {
      "text/html": [
       "<div>\n",
       "<style scoped>\n",
       "    .dataframe tbody tr th:only-of-type {\n",
       "        vertical-align: middle;\n",
       "    }\n",
       "\n",
       "    .dataframe tbody tr th {\n",
       "        vertical-align: top;\n",
       "    }\n",
       "\n",
       "    .dataframe thead th {\n",
       "        text-align: right;\n",
       "    }\n",
       "</style>\n",
       "<table border=\"1\" class=\"dataframe\">\n",
       "  <thead>\n",
       "    <tr style=\"text-align: right;\">\n",
       "      <th></th>\n",
       "      <th>DB</th>\n",
       "      <th>DB gene ID</th>\n",
       "      <th>Gene symbol</th>\n",
       "      <th>Qualifier</th>\n",
       "      <th>GO ID</th>\n",
       "      <th>Reference</th>\n",
       "      <th>Evidence code</th>\n",
       "      <th>Evidence from</th>\n",
       "      <th>GO class</th>\n",
       "      <th>attribute</th>\n",
       "      <th>Locus tag</th>\n",
       "      <th>gene/protein</th>\n",
       "      <th>tax id</th>\n",
       "      <th>date</th>\n",
       "      <th>Assigned by</th>\n",
       "      <th>additional information</th>\n",
       "      <th>empty</th>\n",
       "    </tr>\n",
       "  </thead>\n",
       "  <tbody>\n",
       "    <tr>\n",
       "      <th>0</th>\n",
       "      <td>SGD</td>\n",
       "      <td>S000002318</td>\n",
       "      <td>STE7</td>\n",
       "      <td></td>\n",
       "      <td>GO:0000165</td>\n",
       "      <td>PMID:8455599|SGD_REF:S000042071</td>\n",
       "      <td>IDA</td>\n",
       "      <td></td>\n",
       "      <td>P</td>\n",
       "      <td>Signal transducing MAP kinase kinase</td>\n",
       "      <td>YDL159W|mitogen-activated protein kinase kinas...</td>\n",
       "      <td>gene</td>\n",
       "      <td>taxon:559292</td>\n",
       "      <td>20171213</td>\n",
       "      <td>SGD</td>\n",
       "      <td>part_of(GO:0000749)</td>\n",
       "      <td></td>\n",
       "    </tr>\n",
       "    <tr>\n",
       "      <th>1</th>\n",
       "      <td>SGD</td>\n",
       "      <td>S000002318</td>\n",
       "      <td>STE7</td>\n",
       "      <td></td>\n",
       "      <td>GO:0000165</td>\n",
       "      <td>PMID:8455599|SGD_REF:S000042071</td>\n",
       "      <td>IGI</td>\n",
       "      <td>SGD:S000004354</td>\n",
       "      <td>P</td>\n",
       "      <td>Signal transducing MAP kinase kinase</td>\n",
       "      <td>YDL159W|mitogen-activated protein kinase kinas...</td>\n",
       "      <td>gene</td>\n",
       "      <td>taxon:559292</td>\n",
       "      <td>20171213</td>\n",
       "      <td>SGD</td>\n",
       "      <td>part_of(GO:0000749)</td>\n",
       "      <td></td>\n",
       "    </tr>\n",
       "    <tr>\n",
       "      <th>2</th>\n",
       "      <td>SGD</td>\n",
       "      <td>S000002318</td>\n",
       "      <td>STE7</td>\n",
       "      <td></td>\n",
       "      <td>GO:0000165</td>\n",
       "      <td>PMID:8668180|SGD_REF:S000041791</td>\n",
       "      <td>IPI</td>\n",
       "      <td>SGD:S000000112</td>\n",
       "      <td>P</td>\n",
       "      <td>Signal transducing MAP kinase kinase</td>\n",
       "      <td>YDL159W|mitogen-activated protein kinase kinas...</td>\n",
       "      <td>gene</td>\n",
       "      <td>taxon:559292</td>\n",
       "      <td>20171213</td>\n",
       "      <td>SGD</td>\n",
       "      <td>part_of(GO:0000749)</td>\n",
       "      <td></td>\n",
       "    </tr>\n",
       "    <tr>\n",
       "      <th>3</th>\n",
       "      <td>SGD</td>\n",
       "      <td>S000002318</td>\n",
       "      <td>STE7</td>\n",
       "      <td></td>\n",
       "      <td>GO:0000165</td>\n",
       "      <td>PMID:8668180|SGD_REF:S000041791</td>\n",
       "      <td>IPI</td>\n",
       "      <td>SGD:S000003272</td>\n",
       "      <td>P</td>\n",
       "      <td>Signal transducing MAP kinase kinase</td>\n",
       "      <td>YDL159W|mitogen-activated protein kinase kinas...</td>\n",
       "      <td>gene</td>\n",
       "      <td>taxon:559292</td>\n",
       "      <td>20171213</td>\n",
       "      <td>SGD</td>\n",
       "      <td>part_of(GO:0000749)</td>\n",
       "      <td></td>\n",
       "    </tr>\n",
       "    <tr>\n",
       "      <th>4</th>\n",
       "      <td>SGD</td>\n",
       "      <td>S000002318</td>\n",
       "      <td>STE7</td>\n",
       "      <td></td>\n",
       "      <td>GO:0000187</td>\n",
       "      <td>PMID:8384702|SGD_REF:S000045748</td>\n",
       "      <td>IDA</td>\n",
       "      <td></td>\n",
       "      <td>P</td>\n",
       "      <td>Signal transducing MAP kinase kinase</td>\n",
       "      <td>YDL159W|mitogen-activated protein kinase kinas...</td>\n",
       "      <td>gene</td>\n",
       "      <td>taxon:559292</td>\n",
       "      <td>20171213</td>\n",
       "      <td>SGD</td>\n",
       "      <td>has_direct_input(UniProtKB:P16892),part_of(GO:...</td>\n",
       "      <td></td>\n",
       "    </tr>\n",
       "    <tr>\n",
       "      <th>5</th>\n",
       "      <td>SGD</td>\n",
       "      <td>S000002318</td>\n",
       "      <td>STE7</td>\n",
       "      <td></td>\n",
       "      <td>GO:0000187</td>\n",
       "      <td>PMID:8384702|SGD_REF:S000045748</td>\n",
       "      <td>IMP</td>\n",
       "      <td></td>\n",
       "      <td>P</td>\n",
       "      <td>Signal transducing MAP kinase kinase</td>\n",
       "      <td>YDL159W|mitogen-activated protein kinase kinas...</td>\n",
       "      <td>gene</td>\n",
       "      <td>taxon:559292</td>\n",
       "      <td>20171213</td>\n",
       "      <td>SGD</td>\n",
       "      <td>part_of(GO:0000749)</td>\n",
       "      <td></td>\n",
       "    </tr>\n",
       "    <tr>\n",
       "      <th>6</th>\n",
       "      <td>SGD</td>\n",
       "      <td>S000003664</td>\n",
       "      <td>PBS2</td>\n",
       "      <td></td>\n",
       "      <td>GO:0000187</td>\n",
       "      <td>PMID:7624781|SGD_REF:S000051778</td>\n",
       "      <td>IGI</td>\n",
       "      <td>SGD:S000000669</td>\n",
       "      <td>P</td>\n",
       "      <td>MAP kinase kinase of the HOG signaling pathway</td>\n",
       "      <td>YJL128C|HOG4|SFS4|SSK4|mitogen-activated prote...</td>\n",
       "      <td>gene</td>\n",
       "      <td>taxon:559292</td>\n",
       "      <td>20171214</td>\n",
       "      <td>SGD</td>\n",
       "      <td>has_input(UniProtKB:P32485),part_of(GO:0071474)</td>\n",
       "      <td></td>\n",
       "    </tr>\n",
       "    <tr>\n",
       "      <th>7</th>\n",
       "      <td>SGD</td>\n",
       "      <td>S000003664</td>\n",
       "      <td>PBS2</td>\n",
       "      <td></td>\n",
       "      <td>GO:0000187</td>\n",
       "      <td>PMID:7624781|SGD_REF:S000051778</td>\n",
       "      <td>IGI</td>\n",
       "      <td>SGD:S000005314</td>\n",
       "      <td>P</td>\n",
       "      <td>MAP kinase kinase of the HOG signaling pathway</td>\n",
       "      <td>YJL128C|HOG4|SFS4|SSK4|mitogen-activated prote...</td>\n",
       "      <td>gene</td>\n",
       "      <td>taxon:559292</td>\n",
       "      <td>20171214</td>\n",
       "      <td>SGD</td>\n",
       "      <td>has_input(UniProtKB:P32485),part_of(GO:0071474)</td>\n",
       "      <td></td>\n",
       "    </tr>\n",
       "    <tr>\n",
       "      <th>8</th>\n",
       "      <td>SGD</td>\n",
       "      <td>S000004354</td>\n",
       "      <td>STE11</td>\n",
       "      <td></td>\n",
       "      <td>GO:0000165</td>\n",
       "      <td>PMID:8455599|SGD_REF:S000042071</td>\n",
       "      <td>IGI</td>\n",
       "      <td>SGD:S000002318</td>\n",
       "      <td>P</td>\n",
       "      <td>Signal transducing MEK kinase</td>\n",
       "      <td>YLR362W|mitogen-activated protein kinase kinas...</td>\n",
       "      <td>gene</td>\n",
       "      <td>taxon:559292</td>\n",
       "      <td>20171213</td>\n",
       "      <td>SGD</td>\n",
       "      <td>part_of(GO:0000749)</td>\n",
       "      <td></td>\n",
       "    </tr>\n",
       "    <tr>\n",
       "      <th>9</th>\n",
       "      <td>SGD</td>\n",
       "      <td>S000000537</td>\n",
       "      <td>STE50</td>\n",
       "      <td></td>\n",
       "      <td>GO:0000165</td>\n",
       "      <td>PMID:9742096|SGD_REF:S000065130</td>\n",
       "      <td>IGI</td>\n",
       "      <td>SGD:S000005314,SGD:S000000669</td>\n",
       "      <td>P</td>\n",
       "      <td>Adaptor protein for various signaling pathways</td>\n",
       "      <td>YCL032W</td>\n",
       "      <td>gene</td>\n",
       "      <td>taxon:559292</td>\n",
       "      <td>20171215</td>\n",
       "      <td>SGD</td>\n",
       "      <td>part_of(GO:0071474)</td>\n",
       "      <td></td>\n",
       "    </tr>\n",
       "  </tbody>\n",
       "</table>\n",
       "</div>"
      ],
      "text/plain": [
       "    DB  DB gene ID Gene symbol Qualifier       GO ID  \\\n",
       "0  SGD  S000002318        STE7            GO:0000165   \n",
       "1  SGD  S000002318        STE7            GO:0000165   \n",
       "2  SGD  S000002318        STE7            GO:0000165   \n",
       "3  SGD  S000002318        STE7            GO:0000165   \n",
       "4  SGD  S000002318        STE7            GO:0000187   \n",
       "5  SGD  S000002318        STE7            GO:0000187   \n",
       "6  SGD  S000003664        PBS2            GO:0000187   \n",
       "7  SGD  S000003664        PBS2            GO:0000187   \n",
       "8  SGD  S000004354       STE11            GO:0000165   \n",
       "9  SGD  S000000537       STE50            GO:0000165   \n",
       "\n",
       "                         Reference Evidence code  \\\n",
       "0  PMID:8455599|SGD_REF:S000042071           IDA   \n",
       "1  PMID:8455599|SGD_REF:S000042071           IGI   \n",
       "2  PMID:8668180|SGD_REF:S000041791           IPI   \n",
       "3  PMID:8668180|SGD_REF:S000041791           IPI   \n",
       "4  PMID:8384702|SGD_REF:S000045748           IDA   \n",
       "5  PMID:8384702|SGD_REF:S000045748           IMP   \n",
       "6  PMID:7624781|SGD_REF:S000051778           IGI   \n",
       "7  PMID:7624781|SGD_REF:S000051778           IGI   \n",
       "8  PMID:8455599|SGD_REF:S000042071           IGI   \n",
       "9  PMID:9742096|SGD_REF:S000065130           IGI   \n",
       "\n",
       "                   Evidence from GO class  \\\n",
       "0                                       P   \n",
       "1                 SGD:S000004354        P   \n",
       "2                 SGD:S000000112        P   \n",
       "3                 SGD:S000003272        P   \n",
       "4                                       P   \n",
       "5                                       P   \n",
       "6                 SGD:S000000669        P   \n",
       "7                 SGD:S000005314        P   \n",
       "8                 SGD:S000002318        P   \n",
       "9  SGD:S000005314,SGD:S000000669        P   \n",
       "\n",
       "                                        attribute  \\\n",
       "0            Signal transducing MAP kinase kinase   \n",
       "1            Signal transducing MAP kinase kinase   \n",
       "2            Signal transducing MAP kinase kinase   \n",
       "3            Signal transducing MAP kinase kinase   \n",
       "4            Signal transducing MAP kinase kinase   \n",
       "5            Signal transducing MAP kinase kinase   \n",
       "6  MAP kinase kinase of the HOG signaling pathway   \n",
       "7  MAP kinase kinase of the HOG signaling pathway   \n",
       "8                   Signal transducing MEK kinase   \n",
       "9  Adaptor protein for various signaling pathways   \n",
       "\n",
       "                                           Locus tag gene/protein  \\\n",
       "0  YDL159W|mitogen-activated protein kinase kinas...         gene   \n",
       "1  YDL159W|mitogen-activated protein kinase kinas...         gene   \n",
       "2  YDL159W|mitogen-activated protein kinase kinas...         gene   \n",
       "3  YDL159W|mitogen-activated protein kinase kinas...         gene   \n",
       "4  YDL159W|mitogen-activated protein kinase kinas...         gene   \n",
       "5  YDL159W|mitogen-activated protein kinase kinas...         gene   \n",
       "6  YJL128C|HOG4|SFS4|SSK4|mitogen-activated prote...         gene   \n",
       "7  YJL128C|HOG4|SFS4|SSK4|mitogen-activated prote...         gene   \n",
       "8  YLR362W|mitogen-activated protein kinase kinas...         gene   \n",
       "9                                            YCL032W         gene   \n",
       "\n",
       "         tax id      date Assigned by  \\\n",
       "0  taxon:559292  20171213         SGD   \n",
       "1  taxon:559292  20171213         SGD   \n",
       "2  taxon:559292  20171213         SGD   \n",
       "3  taxon:559292  20171213         SGD   \n",
       "4  taxon:559292  20171213         SGD   \n",
       "5  taxon:559292  20171213         SGD   \n",
       "6  taxon:559292  20171214         SGD   \n",
       "7  taxon:559292  20171214         SGD   \n",
       "8  taxon:559292  20171213         SGD   \n",
       "9  taxon:559292  20171215         SGD   \n",
       "\n",
       "                              additional information empty  \n",
       "0                                part_of(GO:0000749)        \n",
       "1                                part_of(GO:0000749)        \n",
       "2                                part_of(GO:0000749)        \n",
       "3                                part_of(GO:0000749)        \n",
       "4  has_direct_input(UniProtKB:P16892),part_of(GO:...        \n",
       "5                                part_of(GO:0000749)        \n",
       "6    has_input(UniProtKB:P32485),part_of(GO:0071474)        \n",
       "7    has_input(UniProtKB:P32485),part_of(GO:0071474)        \n",
       "8                                part_of(GO:0000749)        \n",
       "9                                part_of(GO:0071474)        "
      ]
     },
     "execution_count": 9,
     "metadata": {},
     "output_type": "execute_result"
    }
   ],
   "source": [
    "df_clean.head(10)"
   ]
  },
  {
   "cell_type": "code",
   "execution_count": 11,
   "metadata": {},
   "outputs": [],
   "source": [
    "df_component = df_clean[df_clean[\"GO class\"] == 'C'].copy()"
   ]
  },
  {
   "cell_type": "code",
   "execution_count": 12,
   "metadata": {},
   "outputs": [],
   "source": [
    "# remove any annotation assigned by electronic matching, and with the NOT qualifier which is used to specify a gene is not associated with a term\n",
    "df_component = df_component[df_component[\"Evidence code\"] != 'IEA']\n",
    "df_component = df_component[df_component[\"Qualifier\"] != 'NOT']"
   ]
  },
  {
   "cell_type": "code",
   "execution_count": 13,
   "metadata": {},
   "outputs": [],
   "source": [
    "df_component = df_component[['Gene symbol', 'GO ID']]\n",
    "df_component.reset_index(inplace=True)\n",
    "df_component = df_component.drop(columns = 'index')"
   ]
  },
  {
   "cell_type": "code",
   "execution_count": 14,
   "metadata": {},
   "outputs": [
    {
     "data": {
      "text/plain": [
       "(24960, 2)"
      ]
     },
     "execution_count": 14,
     "metadata": {},
     "output_type": "execute_result"
    }
   ],
   "source": [
    "df_component.shape"
   ]
  },
  {
   "cell_type": "code",
   "execution_count": 15,
   "metadata": {},
   "outputs": [
    {
     "data": {
      "text/html": [
       "<div>\n",
       "<style scoped>\n",
       "    .dataframe tbody tr th:only-of-type {\n",
       "        vertical-align: middle;\n",
       "    }\n",
       "\n",
       "    .dataframe tbody tr th {\n",
       "        vertical-align: top;\n",
       "    }\n",
       "\n",
       "    .dataframe thead th {\n",
       "        text-align: right;\n",
       "    }\n",
       "</style>\n",
       "<table border=\"1\" class=\"dataframe\">\n",
       "  <thead>\n",
       "    <tr style=\"text-align: right;\">\n",
       "      <th></th>\n",
       "      <th>Gene symbol</th>\n",
       "      <th>GO ID</th>\n",
       "    </tr>\n",
       "  </thead>\n",
       "  <tbody>\n",
       "    <tr>\n",
       "      <th>0</th>\n",
       "      <td>YER145C-A</td>\n",
       "      <td>GO:0005575</td>\n",
       "    </tr>\n",
       "    <tr>\n",
       "      <th>1</th>\n",
       "      <td>PTC3</td>\n",
       "      <td>GO:0005634</td>\n",
       "    </tr>\n",
       "    <tr>\n",
       "      <th>2</th>\n",
       "      <td>PTC3</td>\n",
       "      <td>GO:0005737</td>\n",
       "    </tr>\n",
       "    <tr>\n",
       "      <th>3</th>\n",
       "      <td>YDR157W</td>\n",
       "      <td>GO:0005575</td>\n",
       "    </tr>\n",
       "    <tr>\n",
       "      <th>4</th>\n",
       "      <td>YEL009C-A</td>\n",
       "      <td>GO:0005575</td>\n",
       "    </tr>\n",
       "    <tr>\n",
       "      <th>5</th>\n",
       "      <td>YLR236C</td>\n",
       "      <td>GO:0005575</td>\n",
       "    </tr>\n",
       "    <tr>\n",
       "      <th>6</th>\n",
       "      <td>PTC2</td>\n",
       "      <td>GO:0005634</td>\n",
       "    </tr>\n",
       "    <tr>\n",
       "      <th>7</th>\n",
       "      <td>PTC2</td>\n",
       "      <td>GO:0005737</td>\n",
       "    </tr>\n",
       "    <tr>\n",
       "      <th>8</th>\n",
       "      <td>YMR084W</td>\n",
       "      <td>GO:0005575</td>\n",
       "    </tr>\n",
       "    <tr>\n",
       "      <th>9</th>\n",
       "      <td>YAR023C</td>\n",
       "      <td>GO:0005575</td>\n",
       "    </tr>\n",
       "  </tbody>\n",
       "</table>\n",
       "</div>"
      ],
      "text/plain": [
       "  Gene symbol       GO ID\n",
       "0   YER145C-A  GO:0005575\n",
       "1        PTC3  GO:0005634\n",
       "2        PTC3  GO:0005737\n",
       "3     YDR157W  GO:0005575\n",
       "4   YEL009C-A  GO:0005575\n",
       "5     YLR236C  GO:0005575\n",
       "6        PTC2  GO:0005634\n",
       "7        PTC2  GO:0005737\n",
       "8     YMR084W  GO:0005575\n",
       "9     YAR023C  GO:0005575"
      ]
     },
     "execution_count": 15,
     "metadata": {},
     "output_type": "execute_result"
    }
   ],
   "source": [
    "df_component.head(10)"
   ]
  },
  {
   "cell_type": "markdown",
   "metadata": {},
   "source": [
    "## load GO digraph"
   ]
  },
  {
   "cell_type": "code",
   "execution_count": 16,
   "metadata": {},
   "outputs": [],
   "source": [
    "digraph = goenrich.obo.ontology('input/go-basic.ob')"
   ]
  },
  {
   "cell_type": "markdown",
   "metadata": {},
   "source": [
    "## only keep GO IDs with depth =>4, replace others with NaN and then remove those rows\n"
   ]
  },
  {
   "cell_type": "code",
   "execution_count": 18,
   "metadata": {},
   "outputs": [
    {
     "name": "stdout",
     "output_type": "stream",
     "text": [
      "Progress: 100%  24960 Out of 24960   \r"
     ]
    }
   ],
   "source": [
    "## code copied from Gene Ontology (GO) Biological Process by Moshe Silverstein \n",
    "\n",
    "lst = []\n",
    "\n",
    "for i,index in enumerate(df_component.index):\n",
    "    \n",
    "    progressPercent = ((i+1)/len(df_component.index))*100\n",
    "\n",
    "    sys.stdout.write(\"Progress: %d%%  %d Out of %d   \\r\" % (progressPercent, (i+1), len(df_component.index)))\n",
    "    sys.stdout.flush()\n",
    "    \n",
    "    term = df_component.loc[index, 'GO ID']\n",
    "    if term in digraph.node:\n",
    "        if digraph.node[term]['depth'] >= 4:\n",
    "            lst.append(term)\n",
    "        else:\n",
    "            lst.append(np.nan)\n",
    "    else:\n",
    "        lst.append(np.nan)\n",
    "           \n",
    "df_component['GO ID'] = lst"
   ]
  },
  {
   "cell_type": "code",
   "execution_count": 19,
   "metadata": {},
   "outputs": [
    {
     "data": {
      "text/plain": [
       "(24960, 2)"
      ]
     },
     "execution_count": 19,
     "metadata": {},
     "output_type": "execute_result"
    }
   ],
   "source": [
    "df_component.shape"
   ]
  },
  {
   "cell_type": "code",
   "execution_count": 20,
   "metadata": {},
   "outputs": [],
   "source": [
    "df_component.dropna(inplace=True)"
   ]
  },
  {
   "cell_type": "code",
   "execution_count": 21,
   "metadata": {},
   "outputs": [
    {
     "data": {
      "text/plain": [
       "(14618, 2)"
      ]
     },
     "execution_count": 21,
     "metadata": {},
     "output_type": "execute_result"
    }
   ],
   "source": [
    "df_component.shape"
   ]
  },
  {
   "cell_type": "markdown",
   "metadata": {},
   "source": [
    "## term propagation-propergate child gene term relationships to parent terms"
   ]
  },
  {
   "cell_type": "code",
   "execution_count": 22,
   "metadata": {},
   "outputs": [],
   "source": [
    "## code copied from Gene Ontology (GO) Biological Process by Moshe Silverstein \n",
    "lst1 = []\n",
    "lst2 = []\n",
    "\n",
    "for i,index in enumerate(df_component.index):\n",
    "    \n",
    "#     progressPercent = ((i+1)/len(df.index))*100\n",
    "\n",
    "#     sys.stdout.write(\"Progress: %d%%  %d Out of %d   \\r\" % (progressPercent, (i+1), len(df.index)))\n",
    "#     sys.stdout.flush()\n",
    "    \n",
    "#     term = df.loc[index, 'GO ID']\n",
    "#     for parent in digraph.predecessors(term):\n",
    "#         if parent in digraph.node:\n",
    "#             if digraph.node[parent]['depth'] >= 4:\n",
    "#                 lst1.append(df.loc[index, 'DB Object Symbol'])\n",
    "#                 lst2.append(parent)\n",
    "#                 print(term, parent)\n",
    "    term = df_component.loc[index, 'GO ID']\n",
    "    for parent in digraph.successors(term):\n",
    "        if parent in digraph.node:\n",
    "            if digraph.node[parent]['depth'] >= 4:\n",
    "                lst1.append(df_component.loc[index, 'Gene symbol'])\n",
    "                lst2.append(parent)\n",
    "#                 print(term, parent)\n",
    "\n",
    "\n",
    "temp = pd.DataFrame()\n",
    "temp['Gene symbol'] = lst1\n",
    "temp['GO ID']  = lst2\n",
    "df_component = pd.concat([df_component, temp])\n",
    "df_component.reset_index(inplace=True)\n",
    "df_component = df_component.drop(columns = 'index')"
   ]
  },
  {
   "cell_type": "code",
   "execution_count": 23,
   "metadata": {},
   "outputs": [
    {
     "data": {
      "text/plain": [
       "(24013, 2)"
      ]
     },
     "execution_count": 23,
     "metadata": {},
     "output_type": "execute_result"
    }
   ],
   "source": [
    "df_component.shape"
   ]
  },
  {
   "cell_type": "code",
   "execution_count": 24,
   "metadata": {},
   "outputs": [
    {
     "data": {
      "text/html": [
       "<div>\n",
       "<style scoped>\n",
       "    .dataframe tbody tr th:only-of-type {\n",
       "        vertical-align: middle;\n",
       "    }\n",
       "\n",
       "    .dataframe tbody tr th {\n",
       "        vertical-align: top;\n",
       "    }\n",
       "\n",
       "    .dataframe thead th {\n",
       "        text-align: right;\n",
       "    }\n",
       "</style>\n",
       "<table border=\"1\" class=\"dataframe\">\n",
       "  <thead>\n",
       "    <tr style=\"text-align: right;\">\n",
       "      <th></th>\n",
       "      <th>Gene symbol</th>\n",
       "      <th>GO ID</th>\n",
       "    </tr>\n",
       "  </thead>\n",
       "  <tbody>\n",
       "    <tr>\n",
       "      <th>0</th>\n",
       "      <td>PTC3</td>\n",
       "      <td>GO:0005634</td>\n",
       "    </tr>\n",
       "    <tr>\n",
       "      <th>1</th>\n",
       "      <td>PTC2</td>\n",
       "      <td>GO:0005634</td>\n",
       "    </tr>\n",
       "    <tr>\n",
       "      <th>2</th>\n",
       "      <td>STE2</td>\n",
       "      <td>GO:0005887</td>\n",
       "    </tr>\n",
       "    <tr>\n",
       "      <th>3</th>\n",
       "      <td>SAL1</td>\n",
       "      <td>GO:0005743</td>\n",
       "    </tr>\n",
       "    <tr>\n",
       "      <th>4</th>\n",
       "      <td>CET1</td>\n",
       "      <td>GO:0031533</td>\n",
       "    </tr>\n",
       "  </tbody>\n",
       "</table>\n",
       "</div>"
      ],
      "text/plain": [
       "  Gene symbol       GO ID\n",
       "0        PTC3  GO:0005634\n",
       "1        PTC2  GO:0005634\n",
       "2        STE2  GO:0005887\n",
       "3        SAL1  GO:0005743\n",
       "4        CET1  GO:0031533"
      ]
     },
     "execution_count": 24,
     "metadata": {},
     "output_type": "execute_result"
    }
   ],
   "source": [
    "df_component.head()"
   ]
  },
  {
   "cell_type": "markdown",
   "metadata": {},
   "source": [
    "## map GO ID to descriptive name"
   ]
  },
  {
   "cell_type": "code",
   "execution_count": 25,
   "metadata": {},
   "outputs": [
    {
     "name": "stdout",
     "output_type": "stream",
     "text": [
      "Progress: 0%  23724 Out of 24013   \r"
     ]
    }
   ],
   "source": [
    "## code copied from Gene Ontology (GO) Biological Process by Moshe Silverstein \n",
    "lst = []\n",
    "\n",
    "for i,index in enumerate(df_component.index):\n",
    "    \n",
    "    progressPercent = ((i+1)/len(df_component.index))*100\n",
    "\n",
    "    sys.stdout.write(\"Progress: %d%%  %d Out of %d   \\r\" % (progressPercent, (i+1), len(df_component.index)))\n",
    "    sys.stdout.flush()\n",
    "    \n",
    "    lst.append(str(digraph.node[df_component.loc[index, 'GO ID']]['name'])+' '+ '('+str(df_component.loc[index, 'GO ID'])+')')\n",
    "    \n",
    "df_component['GO ID'] = lst"
   ]
  },
  {
   "cell_type": "code",
   "execution_count": 26,
   "metadata": {},
   "outputs": [
    {
     "data": {
      "text/plain": [
       "(24013, 2)"
      ]
     },
     "execution_count": 26,
     "metadata": {},
     "output_type": "execute_result"
    }
   ],
   "source": [
    "df_component.shape"
   ]
  },
  {
   "cell_type": "code",
   "execution_count": 27,
   "metadata": {},
   "outputs": [],
   "source": [
    "df_component.drop_duplicates(inplace=True)"
   ]
  },
  {
   "cell_type": "code",
   "execution_count": 28,
   "metadata": {},
   "outputs": [
    {
     "data": {
      "text/plain": [
       "(14321, 2)"
      ]
     },
     "execution_count": 28,
     "metadata": {},
     "output_type": "execute_result"
    }
   ],
   "source": [
    "df_component.shape"
   ]
  },
  {
   "cell_type": "code",
   "execution_count": 29,
   "metadata": {},
   "outputs": [
    {
     "data": {
      "text/html": [
       "<div>\n",
       "<style scoped>\n",
       "    .dataframe tbody tr th:only-of-type {\n",
       "        vertical-align: middle;\n",
       "    }\n",
       "\n",
       "    .dataframe tbody tr th {\n",
       "        vertical-align: top;\n",
       "    }\n",
       "\n",
       "    .dataframe thead th {\n",
       "        text-align: right;\n",
       "    }\n",
       "</style>\n",
       "<table border=\"1\" class=\"dataframe\">\n",
       "  <thead>\n",
       "    <tr style=\"text-align: right;\">\n",
       "      <th></th>\n",
       "      <th>Gene symbol</th>\n",
       "      <th>GO ID</th>\n",
       "    </tr>\n",
       "  </thead>\n",
       "  <tbody>\n",
       "    <tr>\n",
       "      <th>0</th>\n",
       "      <td>PTC3</td>\n",
       "      <td>nucleus (GO:0005634)</td>\n",
       "    </tr>\n",
       "    <tr>\n",
       "      <th>1</th>\n",
       "      <td>PTC2</td>\n",
       "      <td>nucleus (GO:0005634)</td>\n",
       "    </tr>\n",
       "    <tr>\n",
       "      <th>2</th>\n",
       "      <td>STE2</td>\n",
       "      <td>integral component of plasma membrane (GO:0005...</td>\n",
       "    </tr>\n",
       "    <tr>\n",
       "      <th>3</th>\n",
       "      <td>SAL1</td>\n",
       "      <td>mitochondrial inner membrane (GO:0005743)</td>\n",
       "    </tr>\n",
       "    <tr>\n",
       "      <th>4</th>\n",
       "      <td>CET1</td>\n",
       "      <td>mRNA cap methyltransferase complex (GO:0031533)</td>\n",
       "    </tr>\n",
       "  </tbody>\n",
       "</table>\n",
       "</div>"
      ],
      "text/plain": [
       "  Gene symbol                                              GO ID\n",
       "0        PTC3                               nucleus (GO:0005634)\n",
       "1        PTC2                               nucleus (GO:0005634)\n",
       "2        STE2  integral component of plasma membrane (GO:0005...\n",
       "3        SAL1          mitochondrial inner membrane (GO:0005743)\n",
       "4        CET1    mRNA cap methyltransferase complex (GO:0031533)"
      ]
     },
     "execution_count": 29,
     "metadata": {},
     "output_type": "execute_result"
    }
   ],
   "source": [
    "df_component.head()"
   ]
  },
  {
   "cell_type": "code",
   "execution_count": 30,
   "metadata": {},
   "outputs": [],
   "source": [
    "df_component.reset_index(inplace=True)"
   ]
  },
  {
   "cell_type": "code",
   "execution_count": 31,
   "metadata": {},
   "outputs": [
    {
     "data": {
      "text/html": [
       "<div>\n",
       "<style scoped>\n",
       "    .dataframe tbody tr th:only-of-type {\n",
       "        vertical-align: middle;\n",
       "    }\n",
       "\n",
       "    .dataframe tbody tr th {\n",
       "        vertical-align: top;\n",
       "    }\n",
       "\n",
       "    .dataframe thead th {\n",
       "        text-align: right;\n",
       "    }\n",
       "</style>\n",
       "<table border=\"1\" class=\"dataframe\">\n",
       "  <thead>\n",
       "    <tr style=\"text-align: right;\">\n",
       "      <th></th>\n",
       "      <th>index</th>\n",
       "      <th>Gene symbol</th>\n",
       "      <th>GO ID</th>\n",
       "    </tr>\n",
       "  </thead>\n",
       "  <tbody>\n",
       "    <tr>\n",
       "      <th>0</th>\n",
       "      <td>0</td>\n",
       "      <td>PTC3</td>\n",
       "      <td>nucleus (GO:0005634)</td>\n",
       "    </tr>\n",
       "    <tr>\n",
       "      <th>1</th>\n",
       "      <td>1</td>\n",
       "      <td>PTC2</td>\n",
       "      <td>nucleus (GO:0005634)</td>\n",
       "    </tr>\n",
       "    <tr>\n",
       "      <th>2</th>\n",
       "      <td>2</td>\n",
       "      <td>STE2</td>\n",
       "      <td>integral component of plasma membrane (GO:0005...</td>\n",
       "    </tr>\n",
       "    <tr>\n",
       "      <th>3</th>\n",
       "      <td>3</td>\n",
       "      <td>SAL1</td>\n",
       "      <td>mitochondrial inner membrane (GO:0005743)</td>\n",
       "    </tr>\n",
       "    <tr>\n",
       "      <th>4</th>\n",
       "      <td>4</td>\n",
       "      <td>CET1</td>\n",
       "      <td>mRNA cap methyltransferase complex (GO:0031533)</td>\n",
       "    </tr>\n",
       "  </tbody>\n",
       "</table>\n",
       "</div>"
      ],
      "text/plain": [
       "   index Gene symbol                                              GO ID\n",
       "0      0        PTC3                               nucleus (GO:0005634)\n",
       "1      1        PTC2                               nucleus (GO:0005634)\n",
       "2      2        STE2  integral component of plasma membrane (GO:0005...\n",
       "3      3        SAL1          mitochondrial inner membrane (GO:0005743)\n",
       "4      4        CET1    mRNA cap methyltransferase complex (GO:0031533)"
      ]
     },
     "execution_count": 31,
     "metadata": {},
     "output_type": "execute_result"
    }
   ],
   "source": [
    "df_component.head()"
   ]
  },
  {
   "cell_type": "code",
   "execution_count": 32,
   "metadata": {},
   "outputs": [],
   "source": [
    "df_component = df_component.drop(columns = 'index')"
   ]
  },
  {
   "cell_type": "code",
   "execution_count": 33,
   "metadata": {},
   "outputs": [
    {
     "data": {
      "text/plain": [
       "(14321, 2)"
      ]
     },
     "execution_count": 33,
     "metadata": {},
     "output_type": "execute_result"
    }
   ],
   "source": [
    "df_component.shape"
   ]
  },
  {
   "cell_type": "code",
   "execution_count": 34,
   "metadata": {},
   "outputs": [
    {
     "data": {
      "text/plain": [
       "521"
      ]
     },
     "execution_count": 34,
     "metadata": {},
     "output_type": "execute_result"
    }
   ],
   "source": [
    "len(df_component['GO ID'].unique())"
   ]
  },
  {
   "cell_type": "markdown",
   "metadata": {},
   "source": [
    " ## build the protein-coding gene list from companion file"
   ]
  },
  {
   "cell_type": "code",
   "execution_count": 35,
   "metadata": {},
   "outputs": [],
   "source": [
    "sCerevisiae_geneInfo = pd.read_csv(\"input/Saccharomyces_cerevisiae.gene_info\", sep=\"\\t\")"
   ]
  },
  {
   "cell_type": "code",
   "execution_count": 36,
   "metadata": {
    "scrolled": true
   },
   "outputs": [
    {
     "data": {
      "text/html": [
       "<div>\n",
       "<style scoped>\n",
       "    .dataframe tbody tr th:only-of-type {\n",
       "        vertical-align: middle;\n",
       "    }\n",
       "\n",
       "    .dataframe tbody tr th {\n",
       "        vertical-align: top;\n",
       "    }\n",
       "\n",
       "    .dataframe thead th {\n",
       "        text-align: right;\n",
       "    }\n",
       "</style>\n",
       "<table border=\"1\" class=\"dataframe\">\n",
       "  <thead>\n",
       "    <tr style=\"text-align: right;\">\n",
       "      <th></th>\n",
       "      <th>#tax_id</th>\n",
       "      <th>GeneID</th>\n",
       "      <th>Symbol</th>\n",
       "      <th>LocusTag</th>\n",
       "      <th>Synonyms</th>\n",
       "      <th>dbXrefs</th>\n",
       "      <th>chromosome</th>\n",
       "      <th>map_location</th>\n",
       "      <th>description</th>\n",
       "      <th>type_of_gene</th>\n",
       "      <th>Symbol_from_nomenclature_authority</th>\n",
       "      <th>Full_name_from_nomenclature_authority</th>\n",
       "      <th>Nomenclature_status</th>\n",
       "      <th>Other_designations</th>\n",
       "      <th>Modification_date</th>\n",
       "      <th>Feature_type</th>\n",
       "    </tr>\n",
       "  </thead>\n",
       "  <tbody>\n",
       "    <tr>\n",
       "      <th>0</th>\n",
       "      <td>4932</td>\n",
       "      <td>2828223</td>\n",
       "      <td>NEWENTRY</td>\n",
       "      <td>-</td>\n",
       "      <td>-</td>\n",
       "      <td>-</td>\n",
       "      <td>-</td>\n",
       "      <td>-</td>\n",
       "      <td>Record to support submission of GeneRIFs for a...</td>\n",
       "      <td>other</td>\n",
       "      <td>-</td>\n",
       "      <td>-</td>\n",
       "      <td>-</td>\n",
       "      <td>-</td>\n",
       "      <td>20180616</td>\n",
       "      <td>-</td>\n",
       "    </tr>\n",
       "    <tr>\n",
       "      <th>1</th>\n",
       "      <td>4932</td>\n",
       "      <td>24573110</td>\n",
       "      <td>atp6</td>\n",
       "      <td>ACI60_gp06</td>\n",
       "      <td>-</td>\n",
       "      <td>-</td>\n",
       "      <td>MT</td>\n",
       "      <td>-</td>\n",
       "      <td>Atp6</td>\n",
       "      <td>protein-coding</td>\n",
       "      <td>-</td>\n",
       "      <td>-</td>\n",
       "      <td>-</td>\n",
       "      <td>-</td>\n",
       "      <td>20180130</td>\n",
       "      <td>-</td>\n",
       "    </tr>\n",
       "    <tr>\n",
       "      <th>2</th>\n",
       "      <td>4932</td>\n",
       "      <td>24573111</td>\n",
       "      <td>ACI60_gt03</td>\n",
       "      <td>ACI60_gt03</td>\n",
       "      <td>-</td>\n",
       "      <td>-</td>\n",
       "      <td>MT</td>\n",
       "      <td>-</td>\n",
       "      <td>tRNA</td>\n",
       "      <td>tRNA</td>\n",
       "      <td>-</td>\n",
       "      <td>-</td>\n",
       "      <td>-</td>\n",
       "      <td>-</td>\n",
       "      <td>20150619</td>\n",
       "      <td>-</td>\n",
       "    </tr>\n",
       "    <tr>\n",
       "      <th>3</th>\n",
       "      <td>4932</td>\n",
       "      <td>24573112</td>\n",
       "      <td>ACI60_gt04</td>\n",
       "      <td>ACI60_gt04</td>\n",
       "      <td>-</td>\n",
       "      <td>-</td>\n",
       "      <td>MT</td>\n",
       "      <td>-</td>\n",
       "      <td>tRNA</td>\n",
       "      <td>tRNA</td>\n",
       "      <td>-</td>\n",
       "      <td>-</td>\n",
       "      <td>-</td>\n",
       "      <td>-</td>\n",
       "      <td>20150619</td>\n",
       "      <td>-</td>\n",
       "    </tr>\n",
       "    <tr>\n",
       "      <th>4</th>\n",
       "      <td>4932</td>\n",
       "      <td>24573113</td>\n",
       "      <td>ACI60_gr01</td>\n",
       "      <td>ACI60_gr01</td>\n",
       "      <td>-</td>\n",
       "      <td>-</td>\n",
       "      <td>MT</td>\n",
       "      <td>-</td>\n",
       "      <td>large subunit ribosomal RNA</td>\n",
       "      <td>rRNA</td>\n",
       "      <td>-</td>\n",
       "      <td>-</td>\n",
       "      <td>-</td>\n",
       "      <td>-</td>\n",
       "      <td>20150619</td>\n",
       "      <td>-</td>\n",
       "    </tr>\n",
       "  </tbody>\n",
       "</table>\n",
       "</div>"
      ],
      "text/plain": [
       "   #tax_id    GeneID      Symbol    LocusTag Synonyms dbXrefs chromosome  \\\n",
       "0     4932   2828223    NEWENTRY           -        -       -          -   \n",
       "1     4932  24573110        atp6  ACI60_gp06        -       -         MT   \n",
       "2     4932  24573111  ACI60_gt03  ACI60_gt03        -       -         MT   \n",
       "3     4932  24573112  ACI60_gt04  ACI60_gt04        -       -         MT   \n",
       "4     4932  24573113  ACI60_gr01  ACI60_gr01        -       -         MT   \n",
       "\n",
       "  map_location                                        description  \\\n",
       "0            -  Record to support submission of GeneRIFs for a...   \n",
       "1            -                                               Atp6   \n",
       "2            -                                               tRNA   \n",
       "3            -                                               tRNA   \n",
       "4            -                        large subunit ribosomal RNA   \n",
       "\n",
       "     type_of_gene Symbol_from_nomenclature_authority  \\\n",
       "0           other                                  -   \n",
       "1  protein-coding                                  -   \n",
       "2            tRNA                                  -   \n",
       "3            tRNA                                  -   \n",
       "4            rRNA                                  -   \n",
       "\n",
       "  Full_name_from_nomenclature_authority Nomenclature_status  \\\n",
       "0                                     -                   -   \n",
       "1                                     -                   -   \n",
       "2                                     -                   -   \n",
       "3                                     -                   -   \n",
       "4                                     -                   -   \n",
       "\n",
       "  Other_designations  Modification_date Feature_type  \n",
       "0                  -           20180616            -  \n",
       "1                  -           20180130            -  \n",
       "2                  -           20150619            -  \n",
       "3                  -           20150619            -  \n",
       "4                  -           20150619            -  "
      ]
     },
     "execution_count": 36,
     "metadata": {},
     "output_type": "execute_result"
    }
   ],
   "source": [
    "sCerevisiae_geneInfo.head()"
   ]
  },
  {
   "cell_type": "code",
   "execution_count": 37,
   "metadata": {},
   "outputs": [],
   "source": [
    "sCerevisiae_proteinCoding = sCerevisiae_geneInfo[sCerevisiae_geneInfo[\"type_of_gene\"] == \"protein-coding\"]"
   ]
  },
  {
   "cell_type": "code",
   "execution_count": 38,
   "metadata": {},
   "outputs": [
    {
     "data": {
      "text/plain": [
       "(6010, 16)"
      ]
     },
     "execution_count": 38,
     "metadata": {},
     "output_type": "execute_result"
    }
   ],
   "source": [
    "sCerevisiae_proteinCoding.shape"
   ]
  },
  {
   "cell_type": "markdown",
   "metadata": {},
   "source": [
    "## only keep gene symbolys that are in the S cerevisiae table"
   ]
  },
  {
   "cell_type": "code",
   "execution_count": 39,
   "metadata": {},
   "outputs": [],
   "source": [
    "df_component_protein = df_component.loc[df_component[\"Gene symbol\"].isin(sCerevisiae_proteinCoding[\"Symbol\"].unique())]"
   ]
  },
  {
   "cell_type": "code",
   "execution_count": 40,
   "metadata": {},
   "outputs": [
    {
     "data": {
      "text/plain": [
       "(13535, 2)"
      ]
     },
     "execution_count": 40,
     "metadata": {},
     "output_type": "execute_result"
    }
   ],
   "source": [
    "df_component_protein.shape"
   ]
  },
  {
   "cell_type": "code",
   "execution_count": 41,
   "metadata": {},
   "outputs": [
    {
     "name": "stdout",
     "output_type": "stream",
     "text": [
      "Progress: 0%  5 Out of 521   \r"
     ]
    },
    {
     "name": "stderr",
     "output_type": "stream",
     "text": [
      "/Users/maayanlab/anaconda2/lib/python2.7/site-packages/ipykernel_launcher.py:15: SettingWithCopyWarning: \n",
      "A value is trying to be set on a copy of a slice from a DataFrame.\n",
      "Try using .loc[row_indexer,col_indexer] = value instead\n",
      "\n",
      "See the caveats in the documentation: http://pandas.pydata.org/pandas-docs/stable/indexing.html#indexing-view-versus-copy\n",
      "  from ipykernel import kernelapp as app\n"
     ]
    },
    {
     "name": "stdout",
     "output_type": "stream",
     "text": [
      "Progress: 100%  521 Out of 521   \r"
     ]
    }
   ],
   "source": [
    "filename = 'component_gene_ontology_sdg_greater4_%s.gmt'% str(datetime.date.today())[0:7].replace('-', '_')\n",
    "file = open(filename,'w+') \n",
    "terms = df_component_protein[\"GO ID\"].unique()\n",
    "for i,term in enumerate(terms):\n",
    "    \n",
    "    progressPercent = ((i+1)/len(terms))*100\n",
    "    sys.stdout.write(\"Progress: %d%%  %d Out of %d   \\r\" % (progressPercent, (i+1), len(terms)))\n",
    "    sys.stdout.flush()\n",
    "            \n",
    "    df_byTerm = df_component_protein.loc[df_component_protein[\"GO ID\"] == term]\n",
    "    \n",
    "    if df_byTerm.shape[0] > 4:\n",
    "        # split splice variant names\n",
    "        split_splice = lambda x: x.split('.')[0]\n",
    "        df_byTerm[\"Gene symbol\"] = df_byTerm[\"Gene symbol\"].apply(split_splice)\n",
    "        \n",
    "        \n",
    "        if len(df_byTerm[\"Gene symbol\"].unique()) > 4:\n",
    "            file.write(\"%s\\t\" % term)\n",
    "            file.write(\"\\t\")\n",
    "            genes = df_byTerm[\"Gene symbol\"].unique()\n",
    "    \n",
    "            for gene in genes:\n",
    "                file.write(\"%s\\t\" % gene)\n",
    "            file.write(\"\\n\")\n",
    "        \n",
    "file.close()"
   ]
  },
  {
   "cell_type": "markdown",
   "metadata": {},
   "source": [
    "## get stats for gmt"
   ]
  },
  {
   "cell_type": "code",
   "execution_count": 42,
   "metadata": {},
   "outputs": [],
   "source": [
    "def getTermStats(loaded_gmt, geneInfoTable, num_samplings, num_genes_in_sampling) :\n",
    "    # get the relevant terms and set a dictionary for them\n",
    "    term_set = loaded_gmt.iloc[:,0].apply(lambda x: x.split(\"\\t\")[0])\n",
    "    term_genes_dict = {term_set[i]: loaded_gmt.iloc[i,0].split(\"\\t\")[2:] for i in range(0, loaded_gmt.shape[0])}\n",
    "    term_rank_dict = {k: [] for k in term_set}\n",
    "    term_stats_dict = {k: [] for k in term_set}\n",
    "    \n",
    "    # get the total number of genes in the organism\n",
    "    n_genes = len(geneInfoTable[\"Symbol\"].unique())\n",
    "    \n",
    "    # number of genes per sampling, number of times to sample\n",
    "    genes_in_sampleing = num_genes_in_sampling\n",
    "    num_samplings = num_samplings\n",
    "    \n",
    "    for i,x in enumerate(range(0,num_samplings)):\n",
    "        \n",
    "        progressPercent = ((i+1)/len(range(0,num_samplings)))*100\n",
    "        \n",
    "        sys.stdout.write(\"Progress: %d%%  %d Out of %d   \\r\" % (progressPercent, (i+1), len(range(0,num_samplings))))\n",
    "        sys.stdout.flush()\n",
    "            \n",
    "        \n",
    "        randomSet = set(geneInfoTable[\"Symbol\"].sample(genes_in_sampleing).apply(lambda x: x.split('.')[0]))\n",
    "        \n",
    "        # initialize an array to hold the pvalue for each term\n",
    "        pvals = np.array([])\n",
    "        for key in term_rank_dict.keys():\n",
    "            \n",
    "            termSet = set(term_genes_dict[key])\n",
    "            # calculate p value using fisher exact test\n",
    "            # implemented using the formula found in the GeneOverap bioconductor package for R\n",
    "            pval_term = stat.fisher_exact([[n_genes - len(termSet.union(randomSet)), len(randomSet.difference(termSet))], [len(termSet.difference(randomSet)), len(termSet.intersection(randomSet))]])[1]\n",
    "            pvals = np.append(pvals, [pval_term])\n",
    "        \n",
    "        # sort the pvals and add the rank to the term_rank dict\n",
    "        sorted_pvals = pvals.argsort()\n",
    "        \n",
    "        # find the rank for each term by sorting the pvals array and getting the index of the key position in the\n",
    "        # sorted list. Need to +1 because the index begins with 0\n",
    "        \n",
    "        for j,key in enumerate(term_rank_dict.keys()):\n",
    "            term_rank_dict[key].append(np.where(sorted_pvals == j)[0][0] + 1)\n",
    "            \n",
    "    for key in term_rank_dict:\n",
    "        term_stats_dict[key] = [np.mean(term_rank_dict[key]), np.std(term_rank_dict[key])]\n",
    "            \n",
    "    \n",
    "    \n",
    "    return term_stats_dict"
   ]
  },
  {
   "cell_type": "code",
   "execution_count": 44,
   "metadata": {},
   "outputs": [
    {
     "data": {
      "text/plain": [
       "pandas.core.frame.DataFrame"
      ]
     },
     "execution_count": 44,
     "metadata": {},
     "output_type": "execute_result"
    }
   ],
   "source": [
    "component_GO_gmt = pd.read_csv(\"output/component_gene_ontology_sdg_greater4_2018_06.gmt\", sep=\"~\", header=None)\n",
    "type(component_GO_gmt)"
   ]
  },
  {
   "cell_type": "code",
   "execution_count": 45,
   "metadata": {},
   "outputs": [
    {
     "name": "stdout",
     "output_type": "stream",
     "text": [
      "Progress: 100%  200 Out of 200   \r"
     ]
    }
   ],
   "source": [
    "iterations_200 = getTermStats(component_GO_gmt, sCerevisiae_proteinCoding, num_samplings=200, num_genes_in_sampling=300)"
   ]
  },
  {
   "cell_type": "code",
   "execution_count": 46,
   "metadata": {},
   "outputs": [],
   "source": [
    "df_200_iterations = pd.DataFrame.from_dict(iterations_200, orient='index', columns = ['mean', 'sd'])"
   ]
  },
  {
   "cell_type": "code",
   "execution_count": 47,
   "metadata": {},
   "outputs": [],
   "source": [
    "df_200_iterations.to_csv('component_gene_ontology_sdg_greater4_2018_06_stats.tsv', sep='\\t', header=False)"
   ]
  }
 ],
 "metadata": {
  "kernelspec": {
   "display_name": "Python 2",
   "language": "python",
   "name": "python2"
  },
  "language_info": {
   "codemirror_mode": {
    "name": "ipython",
    "version": 2
   },
   "file_extension": ".py",
   "mimetype": "text/x-python",
   "name": "python",
   "nbconvert_exporter": "python",
   "pygments_lexer": "ipython2",
   "version": "2.7.15"
  }
 },
 "nbformat": 4,
 "nbformat_minor": 2
}
