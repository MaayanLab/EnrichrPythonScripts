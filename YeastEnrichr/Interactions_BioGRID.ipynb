{
 "cells": [
  {
   "cell_type": "markdown",
   "metadata": {},
   "source": [
    "# Phyiscal and Gentic Interaction Hubs from BioGRID"
   ]
  },
  {
   "cell_type": "markdown",
   "metadata": {},
   "source": [
    "Author: Zachary Flamholz  \n",
    "Date: 07-2018  \n",
    "Database: https://thebiogrid.org   \n",
    "Data: https://downloads.thebiogrid.org/BioGRID/Release-Archive/BIOGRID-3.4.162/   "
   ]
  },
  {
   "cell_type": "code",
   "execution_count": 1,
   "metadata": {},
   "outputs": [],
   "source": [
    "import numpy as np\n",
    "import pandas as pd\n",
    "import sys, datetime\n",
    "import scipy.stats as stat\n",
    "import matplotlib\n",
    "from matplotlib import pyplot as py"
   ]
  },
  {
   "cell_type": "code",
   "execution_count": 2,
   "metadata": {},
   "outputs": [
    {
     "data": {
      "application/json": {
       "Software versions": [
        {
         "module": "Python",
         "version": "3.6.5 64bit [GCC 4.2.1 Compatible Apple LLVM 9.1.0 (clang-902.0.39.1)]"
        },
        {
         "module": "IPython",
         "version": "6.4.0"
        },
        {
         "module": "OS",
         "version": "Darwin 17.5.0 x86_64 i386 64bit"
        },
        {
         "module": "numpy",
         "version": "1.14.5"
        },
        {
         "module": "pandas",
         "version": "0.23.1"
        }
       ]
      },
      "text/html": [
       "<table><tr><th>Software</th><th>Version</th></tr><tr><td>Python</td><td>3.6.5 64bit [GCC 4.2.1 Compatible Apple LLVM 9.1.0 (clang-902.0.39.1)]</td></tr><tr><td>IPython</td><td>6.4.0</td></tr><tr><td>OS</td><td>Darwin 17.5.0 x86_64 i386 64bit</td></tr><tr><td>numpy</td><td>1.14.5</td></tr><tr><td>pandas</td><td>0.23.1</td></tr><tr><td colspan='2'>Mon Jul 02 15:19:07 2018 EDT</td></tr></table>"
      ],
      "text/latex": [
       "\\begin{tabular}{|l|l|}\\hline\n",
       "{\\bf Software} & {\\bf Version} \\\\ \\hline\\hline\n",
       "Python & 3.6.5 64bit [GCC 4.2.1 Compatible Apple LLVM 9.1.0 (clang-902.0.39.1)] \\\\ \\hline\n",
       "IPython & 6.4.0 \\\\ \\hline\n",
       "OS & Darwin 17.5.0 x86\\_64 i386 64bit \\\\ \\hline\n",
       "numpy & 1.14.5 \\\\ \\hline\n",
       "pandas & 0.23.1 \\\\ \\hline\n",
       "\\hline \\multicolumn{2}{|l|}{Mon Jul 02 15:19:07 2018 EDT} \\\\ \\hline\n",
       "\\end{tabular}\n"
      ],
      "text/plain": [
       "Software versions\n",
       "Python 3.6.5 64bit [GCC 4.2.1 Compatible Apple LLVM 9.1.0 (clang-902.0.39.1)]\n",
       "IPython 6.4.0\n",
       "OS Darwin 17.5.0 x86_64 i386 64bit\n",
       "numpy 1.14.5\n",
       "pandas 0.23.1\n",
       "Mon Jul 02 15:19:07 2018 EDT"
      ]
     },
     "execution_count": 2,
     "metadata": {},
     "output_type": "execute_result"
    }
   ],
   "source": [
    "%load_ext version_information\n",
    "%version_information numpy, pandas"
   ]
  },
  {
   "cell_type": "markdown",
   "metadata": {},
   "source": [
    "## read in data"
   ]
  },
  {
   "cell_type": "code",
   "execution_count": 3,
   "metadata": {},
   "outputs": [
    {
     "name": "stderr",
     "output_type": "stream",
     "text": [
      "/usr/local/lib/python3.6/site-packages/IPython/core/interactiveshell.py:2785: DtypeWarning: Columns (1,2,18) have mixed types. Specify dtype option on import or set low_memory=False.\n",
      "  interactivity=interactivity, compiler=compiler, result=result)\n"
     ]
    }
   ],
   "source": [
    "interactions_df = pd.read_csv(\"input/BIOGRID-ORGANISM-Saccharomyces_cerevisiae_S288c-3.4.162.tab2.txt\", sep=\"\\t\", header=0)"
   ]
  },
  {
   "cell_type": "code",
   "execution_count": 4,
   "metadata": {},
   "outputs": [
    {
     "data": {
      "text/html": [
       "<div>\n",
       "<style scoped>\n",
       "    .dataframe tbody tr th:only-of-type {\n",
       "        vertical-align: middle;\n",
       "    }\n",
       "\n",
       "    .dataframe tbody tr th {\n",
       "        vertical-align: top;\n",
       "    }\n",
       "\n",
       "    .dataframe thead th {\n",
       "        text-align: right;\n",
       "    }\n",
       "</style>\n",
       "<table border=\"1\" class=\"dataframe\">\n",
       "  <thead>\n",
       "    <tr style=\"text-align: right;\">\n",
       "      <th></th>\n",
       "      <th>#BioGRID Interaction ID</th>\n",
       "      <th>Entrez Gene Interactor A</th>\n",
       "      <th>Entrez Gene Interactor B</th>\n",
       "      <th>BioGRID ID Interactor A</th>\n",
       "      <th>BioGRID ID Interactor B</th>\n",
       "      <th>Systematic Name Interactor A</th>\n",
       "      <th>Systematic Name Interactor B</th>\n",
       "      <th>Official Symbol Interactor A</th>\n",
       "      <th>Official Symbol Interactor B</th>\n",
       "      <th>Synonyms Interactor A</th>\n",
       "      <th>...</th>\n",
       "      <th>Pubmed ID</th>\n",
       "      <th>Organism Interactor A</th>\n",
       "      <th>Organism Interactor B</th>\n",
       "      <th>Throughput</th>\n",
       "      <th>Score</th>\n",
       "      <th>Modification</th>\n",
       "      <th>Phenotypes</th>\n",
       "      <th>Qualifications</th>\n",
       "      <th>Tags</th>\n",
       "      <th>Source Database</th>\n",
       "    </tr>\n",
       "  </thead>\n",
       "  <tbody>\n",
       "    <tr>\n",
       "      <th>0</th>\n",
       "      <td>68770</td>\n",
       "      <td>851136</td>\n",
       "      <td>854020</td>\n",
       "      <td>31676</td>\n",
       "      <td>34272</td>\n",
       "      <td>YLR418C</td>\n",
       "      <td>YOL145C</td>\n",
       "      <td>CDC73</td>\n",
       "      <td>CTR9</td>\n",
       "      <td>L000002792</td>\n",
       "      <td>...</td>\n",
       "      <td>14759368</td>\n",
       "      <td>559292</td>\n",
       "      <td>559292</td>\n",
       "      <td>High Throughput</td>\n",
       "      <td>-</td>\n",
       "      <td>-</td>\n",
       "      <td>-</td>\n",
       "      <td>-</td>\n",
       "      <td>-</td>\n",
       "      <td>BIOGRID</td>\n",
       "    </tr>\n",
       "    <tr>\n",
       "      <th>1</th>\n",
       "      <td>68771</td>\n",
       "      <td>854020</td>\n",
       "      <td>851136</td>\n",
       "      <td>34272</td>\n",
       "      <td>31676</td>\n",
       "      <td>YOL145C</td>\n",
       "      <td>YLR418C</td>\n",
       "      <td>CTR9</td>\n",
       "      <td>CDC73</td>\n",
       "      <td>CDP1|L000003477</td>\n",
       "      <td>...</td>\n",
       "      <td>14759368</td>\n",
       "      <td>559292</td>\n",
       "      <td>559292</td>\n",
       "      <td>High Throughput</td>\n",
       "      <td>-</td>\n",
       "      <td>-</td>\n",
       "      <td>-</td>\n",
       "      <td>-</td>\n",
       "      <td>-</td>\n",
       "      <td>BIOGRID</td>\n",
       "    </tr>\n",
       "    <tr>\n",
       "      <th>2</th>\n",
       "      <td>68774</td>\n",
       "      <td>851136</td>\n",
       "      <td>854290</td>\n",
       "      <td>31676</td>\n",
       "      <td>34518</td>\n",
       "      <td>YLR418C</td>\n",
       "      <td>YOR123C</td>\n",
       "      <td>CDC73</td>\n",
       "      <td>LEO1</td>\n",
       "      <td>L000002792</td>\n",
       "      <td>...</td>\n",
       "      <td>14759368</td>\n",
       "      <td>559292</td>\n",
       "      <td>559292</td>\n",
       "      <td>High Throughput</td>\n",
       "      <td>-</td>\n",
       "      <td>-</td>\n",
       "      <td>-</td>\n",
       "      <td>-</td>\n",
       "      <td>-</td>\n",
       "      <td>BIOGRID</td>\n",
       "    </tr>\n",
       "    <tr>\n",
       "      <th>3</th>\n",
       "      <td>68775</td>\n",
       "      <td>854290</td>\n",
       "      <td>851136</td>\n",
       "      <td>34518</td>\n",
       "      <td>31676</td>\n",
       "      <td>YOR123C</td>\n",
       "      <td>YLR418C</td>\n",
       "      <td>LEO1</td>\n",
       "      <td>CDC73</td>\n",
       "      <td>L000000936</td>\n",
       "      <td>...</td>\n",
       "      <td>14759368</td>\n",
       "      <td>559292</td>\n",
       "      <td>559292</td>\n",
       "      <td>High Throughput</td>\n",
       "      <td>-</td>\n",
       "      <td>-</td>\n",
       "      <td>-</td>\n",
       "      <td>-</td>\n",
       "      <td>-</td>\n",
       "      <td>BIOGRID</td>\n",
       "    </tr>\n",
       "    <tr>\n",
       "      <th>4</th>\n",
       "      <td>68778</td>\n",
       "      <td>851136</td>\n",
       "      <td>852582</td>\n",
       "      <td>31676</td>\n",
       "      <td>32973</td>\n",
       "      <td>YLR418C</td>\n",
       "      <td>YBR279W</td>\n",
       "      <td>CDC73</td>\n",
       "      <td>PAF1</td>\n",
       "      <td>L000002792</td>\n",
       "      <td>...</td>\n",
       "      <td>14759368</td>\n",
       "      <td>559292</td>\n",
       "      <td>559292</td>\n",
       "      <td>High Throughput</td>\n",
       "      <td>-</td>\n",
       "      <td>-</td>\n",
       "      <td>-</td>\n",
       "      <td>-</td>\n",
       "      <td>-</td>\n",
       "      <td>BIOGRID</td>\n",
       "    </tr>\n",
       "  </tbody>\n",
       "</table>\n",
       "<p>5 rows × 24 columns</p>\n",
       "</div>"
      ],
      "text/plain": [
       "   #BioGRID Interaction ID Entrez Gene Interactor A Entrez Gene Interactor B  \\\n",
       "0                    68770                   851136                   854020   \n",
       "1                    68771                   854020                   851136   \n",
       "2                    68774                   851136                   854290   \n",
       "3                    68775                   854290                   851136   \n",
       "4                    68778                   851136                   852582   \n",
       "\n",
       "   BioGRID ID Interactor A  BioGRID ID Interactor B  \\\n",
       "0                    31676                    34272   \n",
       "1                    34272                    31676   \n",
       "2                    31676                    34518   \n",
       "3                    34518                    31676   \n",
       "4                    31676                    32973   \n",
       "\n",
       "  Systematic Name Interactor A Systematic Name Interactor B  \\\n",
       "0                      YLR418C                      YOL145C   \n",
       "1                      YOL145C                      YLR418C   \n",
       "2                      YLR418C                      YOR123C   \n",
       "3                      YOR123C                      YLR418C   \n",
       "4                      YLR418C                      YBR279W   \n",
       "\n",
       "  Official Symbol Interactor A Official Symbol Interactor B  \\\n",
       "0                        CDC73                         CTR9   \n",
       "1                         CTR9                        CDC73   \n",
       "2                        CDC73                         LEO1   \n",
       "3                         LEO1                        CDC73   \n",
       "4                        CDC73                         PAF1   \n",
       "\n",
       "  Synonyms Interactor A       ...       Pubmed ID Organism Interactor A  \\\n",
       "0            L000002792       ...        14759368                559292   \n",
       "1       CDP1|L000003477       ...        14759368                559292   \n",
       "2            L000002792       ...        14759368                559292   \n",
       "3            L000000936       ...        14759368                559292   \n",
       "4            L000002792       ...        14759368                559292   \n",
       "\n",
       "  Organism Interactor B       Throughput  Score  Modification  Phenotypes  \\\n",
       "0                559292  High Throughput      -             -           -   \n",
       "1                559292  High Throughput      -             -           -   \n",
       "2                559292  High Throughput      -             -           -   \n",
       "3                559292  High Throughput      -             -           -   \n",
       "4                559292  High Throughput      -             -           -   \n",
       "\n",
       "  Qualifications Tags Source Database  \n",
       "0              -    -         BIOGRID  \n",
       "1              -    -         BIOGRID  \n",
       "2              -    -         BIOGRID  \n",
       "3              -    -         BIOGRID  \n",
       "4              -    -         BIOGRID  \n",
       "\n",
       "[5 rows x 24 columns]"
      ]
     },
     "execution_count": 4,
     "metadata": {},
     "output_type": "execute_result"
    }
   ],
   "source": [
    "interactions_df.head()"
   ]
  },
  {
   "cell_type": "code",
   "execution_count": 5,
   "metadata": {},
   "outputs": [
    {
     "data": {
      "text/plain": [
       "(732719, 24)"
      ]
     },
     "execution_count": 5,
     "metadata": {},
     "output_type": "execute_result"
    }
   ],
   "source": [
    "interactions_df.shape"
   ]
  },
  {
   "cell_type": "code",
   "execution_count": 6,
   "metadata": {},
   "outputs": [
    {
     "data": {
      "text/plain": [
       "Index(['#BioGRID Interaction ID', 'Entrez Gene Interactor A',\n",
       "       'Entrez Gene Interactor B', 'BioGRID ID Interactor A',\n",
       "       'BioGRID ID Interactor B', 'Systematic Name Interactor A',\n",
       "       'Systematic Name Interactor B', 'Official Symbol Interactor A',\n",
       "       'Official Symbol Interactor B', 'Synonyms Interactor A',\n",
       "       'Synonyms Interactor B', 'Experimental System',\n",
       "       'Experimental System Type', 'Author', 'Pubmed ID',\n",
       "       'Organism Interactor A', 'Organism Interactor B', 'Throughput', 'Score',\n",
       "       'Modification', 'Phenotypes', 'Qualifications', 'Tags',\n",
       "       'Source Database'],\n",
       "      dtype='object')"
      ]
     },
     "execution_count": 6,
     "metadata": {},
     "output_type": "execute_result"
    }
   ],
   "source": [
    "interactions_df.columns"
   ]
  },
  {
   "cell_type": "code",
   "execution_count": 7,
   "metadata": {},
   "outputs": [
    {
     "data": {
      "text/plain": [
       "array(['physical', 'genetic'], dtype=object)"
      ]
     },
     "execution_count": 7,
     "metadata": {},
     "output_type": "execute_result"
    }
   ],
   "source": [
    "interactions_df['Experimental System Type'].unique()"
   ]
  },
  {
   "cell_type": "markdown",
   "metadata": {},
   "source": [
    "## divide the interactions into physical and genetic"
   ]
  },
  {
   "cell_type": "code",
   "execution_count": 8,
   "metadata": {},
   "outputs": [],
   "source": [
    "physical_df = interactions_df[interactions_df['Experimental System Type'] == 'physical'].copy()"
   ]
  },
  {
   "cell_type": "code",
   "execution_count": 9,
   "metadata": {},
   "outputs": [
    {
     "data": {
      "text/plain": [
       "(161368, 24)"
      ]
     },
     "execution_count": 9,
     "metadata": {},
     "output_type": "execute_result"
    }
   ],
   "source": [
    "physical_df.shape"
   ]
  },
  {
   "cell_type": "code",
   "execution_count": 10,
   "metadata": {},
   "outputs": [],
   "source": [
    "physical_df = physical_df[['Official Symbol Interactor A', 'Official Symbol Interactor B']]"
   ]
  },
  {
   "cell_type": "code",
   "execution_count": 11,
   "metadata": {},
   "outputs": [],
   "source": [
    "genetic_df = interactions_df[interactions_df['Experimental System Type'] == 'genetic'].copy()"
   ]
  },
  {
   "cell_type": "code",
   "execution_count": 12,
   "metadata": {},
   "outputs": [
    {
     "data": {
      "text/plain": [
       "(571351, 24)"
      ]
     },
     "execution_count": 12,
     "metadata": {},
     "output_type": "execute_result"
    }
   ],
   "source": [
    "genetic_df.shape"
   ]
  },
  {
   "cell_type": "code",
   "execution_count": 13,
   "metadata": {},
   "outputs": [],
   "source": [
    "genetic_df = genetic_df[['Official Symbol Interactor A', 'Official Symbol Interactor B']]"
   ]
  },
  {
   "cell_type": "code",
   "execution_count": 14,
   "metadata": {},
   "outputs": [],
   "source": [
    "def build_interactions(df):\n",
    "    interactions = {}\n",
    "    for i,row in enumerate(range(0, df.shape[0])):\n",
    "        \n",
    "        progressPercent = ((i+1)/len(range(0,df.shape[0])))*100\n",
    "        \n",
    "        sys.stdout.write(\"Progress: %d%%  %d Out of %d   \\r\" % (progressPercent, (i+1), len(range(0,df.shape[0]))))\n",
    "        sys.stdout.flush()\n",
    "        \n",
    "        ## we assume here that the interactions go in both directions\n",
    "        ## therefore we add the hit as a key and the bait as a value\n",
    "        ### there could be a condition to not include self as an interactor\n",
    "        if df.iloc[row,0] in interactions.keys():\n",
    "            if df.iloc[row, 1] not in interactions[df.iloc[row,0]]:\n",
    "                interactions[df.iloc[row,0]].append(df.iloc[row, 1])\n",
    "        else:\n",
    "            interactions[df.iloc[row,0]] = [df.iloc[row,1]]\n",
    "            \n",
    "        if df.iloc[row,1] in interactions.keys():\n",
    "            if df.iloc[row, 0] not in interactions[df.iloc[row,1]]:\n",
    "                interactions[df.iloc[row,1]].append(df.iloc[row, 0])\n",
    "        else:\n",
    "            interactions[df.iloc[row,1]] = [df.iloc[row,0]]\n",
    "\n",
    "    return interactions"
   ]
  },
  {
   "cell_type": "markdown",
   "metadata": {},
   "source": [
    "## build dictionaries for each gene"
   ]
  },
  {
   "cell_type": "code",
   "execution_count": 16,
   "metadata": {},
   "outputs": [
    {
     "name": "stdout",
     "output_type": "stream",
     "text": [
      "Progress: 99%  160808 Out of 161368   \r"
     ]
    }
   ],
   "source": [
    "physical_dict = build_interactions(physical_df)"
   ]
  },
  {
   "cell_type": "code",
   "execution_count": 18,
   "metadata": {},
   "outputs": [
    {
     "name": "stdout",
     "output_type": "stream",
     "text": [
      "Progress: 100%  571351 Out of 571351   \r"
     ]
    }
   ],
   "source": [
    "genetic_dict = build_interactions(genetic_df)"
   ]
  },
  {
   "cell_type": "markdown",
   "metadata": {},
   "source": [
    "## build gmt files from dictionaries"
   ]
  },
  {
   "cell_type": "code",
   "execution_count": 19,
   "metadata": {},
   "outputs": [],
   "source": [
    "## function write a gmt file from the dictionary and outputs the distribution of genes per term\n",
    "def write_gmt(Dict, filename):\n",
    "    \n",
    "    term_sizes = []\n",
    "    with open(filename, 'w') as file:\n",
    "        for key,value in Dict.items():\n",
    "\n",
    "                file.write(str(key) + '\\t' + '\\t')\n",
    "                for element in value:\n",
    "                    file.write(str(element) + '\\t')\n",
    "                file.write('\\n')\n",
    "                term_sizes.append(len(set(value)))\n",
    "    \n",
    "    return term_sizes"
   ]
  },
  {
   "cell_type": "markdown",
   "metadata": {},
   "source": [
    "## analysis of physical interactions library"
   ]
  },
  {
   "cell_type": "code",
   "execution_count": 20,
   "metadata": {},
   "outputs": [],
   "source": [
    "file_physical = 'physical_interactions_biogrid_V2%s.gmt'% str(datetime.date.today())[0:7].replace('-', '_')\n",
    "physical_term_dist = write_gmt(physical_dict, file_physical)"
   ]
  },
  {
   "cell_type": "code",
   "execution_count": 21,
   "metadata": {},
   "outputs": [
    {
     "data": {
      "text/plain": [
       "6815"
      ]
     },
     "execution_count": 21,
     "metadata": {},
     "output_type": "execute_result"
    }
   ],
   "source": [
    "physical_term_dist = np.asarray(physical_term_dist)\n",
    "len(physical_term_dist)"
   ]
  },
  {
   "cell_type": "code",
   "execution_count": 22,
   "metadata": {},
   "outputs": [
    {
     "data": {
      "text/plain": [
       "31.34512105649303"
      ]
     },
     "execution_count": 22,
     "metadata": {},
     "output_type": "execute_result"
    }
   ],
   "source": [
    "physical_term_dist.mean()"
   ]
  },
  {
   "cell_type": "code",
   "execution_count": 23,
   "metadata": {},
   "outputs": [
    {
     "data": {
      "text/plain": [
       "97.53975676090515"
      ]
     },
     "execution_count": 23,
     "metadata": {},
     "output_type": "execute_result"
    }
   ],
   "source": [
    "physical_term_dist.std()"
   ]
  },
  {
   "cell_type": "code",
   "execution_count": 24,
   "metadata": {},
   "outputs": [
    {
     "data": {
      "text/plain": [
       "(array([6.768e+03, 3.100e+01, 5.000e+00, 5.000e+00, 1.000e+00, 2.000e+00,\n",
       "        0.000e+00, 1.000e+00, 1.000e+00, 1.000e+00]),\n",
       " array([1.0000e+00, 3.6140e+02, 7.2180e+02, 1.0822e+03, 1.4426e+03,\n",
       "        1.8030e+03, 2.1634e+03, 2.5238e+03, 2.8842e+03, 3.2446e+03,\n",
       "        3.6050e+03]),\n",
       " <a list of 10 Patch objects>)"
      ]
     },
     "execution_count": 24,
     "metadata": {},
     "output_type": "execute_result"
    },
    {
     "data": {
      "image/png": "[encoded data removed]",
      "text/plain": [
       "<Figure size 432x288 with 1 Axes>"
      ]
     },
     "metadata": {},
     "output_type": "display_data"
    }
   ],
   "source": [
    "py.hist(physical_term_dist, color='red')"
   ]
  },
  {
   "cell_type": "code",
   "execution_count": 25,
   "metadata": {},
   "outputs": [
    {
     "data": {
      "text/plain": [
       "(array([4968., 1075.,  391.,  165.,   71.,   36.,   18.,   14.,   11.,\n",
       "           8.]),\n",
       " array([  1. ,  30.3,  59.6,  88.9, 118.2, 147.5, 176.8, 206.1, 235.4,\n",
       "        264.7, 294. ]),\n",
       " <a list of 10 Patch objects>)"
      ]
     },
     "execution_count": 25,
     "metadata": {},
     "output_type": "execute_result"
    },
    {
     "data": {
      "image/png": "[encoded data removed]",
      "text/plain": [
       "<Figure size 432x288 with 1 Axes>"
      ]
     },
     "metadata": {},
     "output_type": "display_data"
    }
   ],
   "source": [
    "## plot the distribution without the top 10%\n",
    "physical_no_outlier = np.sort(physical_term_dist)[:-58]\n",
    "py.hist(physical_no_outlier, color='pink')"
   ]
  },
  {
   "cell_type": "code",
   "execution_count": 26,
   "metadata": {},
   "outputs": [
    {
     "data": {
      "text/plain": [
       "(array([644.,  21.,   5.,   5.,   1.,   2.,   0.,   1.,   1.,   1.]),\n",
       " array([  64. ,  418.1,  772.2, 1126.3, 1480.4, 1834.5, 2188.6, 2542.7,\n",
       "        2896.8, 3250.9, 3605. ]),\n",
       " <a list of 10 Patch objects>)"
      ]
     },
     "execution_count": 26,
     "metadata": {},
     "output_type": "execute_result"
    },
    {
     "data": {
      "image/png": "[encoded data removed]",
      "text/plain": [
       "<Figure size 432x288 with 1 Axes>"
      ]
     },
     "metadata": {},
     "output_type": "display_data"
    }
   ],
   "source": [
    "## plot only the top 10% of the terms\n",
    "physical_top_ten_percent = np.sort(physical_term_dist)[round(len(physical_term_dist)- .1*len(physical_term_dist)):]\n",
    "py.hist(physical_top_ten_percent, color = 'maroon')"
   ]
  },
  {
   "cell_type": "code",
   "execution_count": 41,
   "metadata": {},
   "outputs": [
    {
     "data": {
      "text/plain": [
       "1015"
      ]
     },
     "execution_count": 41,
     "metadata": {},
     "output_type": "execute_result"
    }
   ],
   "source": [
    "sum(physical_term_dist > 50)"
   ]
  },
  {
   "cell_type": "markdown",
   "metadata": {},
   "source": [
    "## analysis of genetic interactions"
   ]
  },
  {
   "cell_type": "code",
   "execution_count": 28,
   "metadata": {},
   "outputs": [],
   "source": [
    "file_genetic = 'genetic_interactions_biogrid_%s.gmt'% str(datetime.date.today())[0:7].replace('-', '_')\n",
    "genetic_term_dist = write_gmt(genetic_dict, file_genetic)"
   ]
  },
  {
   "cell_type": "code",
   "execution_count": 29,
   "metadata": {},
   "outputs": [
    {
     "data": {
      "text/plain": [
       "5945"
      ]
     },
     "execution_count": 29,
     "metadata": {},
     "output_type": "execute_result"
    }
   ],
   "source": [
    "genetic_term_dist = np.asarray(genetic_term_dist)\n",
    "len(genetic_term_dist)"
   ]
  },
  {
   "cell_type": "code",
   "execution_count": 30,
   "metadata": {},
   "outputs": [
    {
     "data": {
      "text/plain": [
       "147.39158957106812"
      ]
     },
     "execution_count": 30,
     "metadata": {},
     "output_type": "execute_result"
    }
   ],
   "source": [
    "genetic_term_dist.mean()"
   ]
  },
  {
   "cell_type": "code",
   "execution_count": 31,
   "metadata": {},
   "outputs": [
    {
     "data": {
      "text/plain": [
       "171.1027423035584"
      ]
     },
     "execution_count": 31,
     "metadata": {},
     "output_type": "execute_result"
    }
   ],
   "source": [
    "genetic_term_dist.std()"
   ]
  },
  {
   "cell_type": "code",
   "execution_count": 32,
   "metadata": {},
   "outputs": [
    {
     "data": {
      "text/plain": [
       "(array([4.696e+03, 8.460e+02, 2.870e+02, 8.500e+01, 2.600e+01, 3.000e+00,\n",
       "        0.000e+00, 1.000e+00, 0.000e+00, 1.000e+00]),\n",
       " array([1.0000e+00, 2.2520e+02, 4.4940e+02, 6.7360e+02, 8.9780e+02,\n",
       "        1.1220e+03, 1.3462e+03, 1.5704e+03, 1.7946e+03, 2.0188e+03,\n",
       "        2.2430e+03]),\n",
       " <a list of 10 Patch objects>)"
      ]
     },
     "execution_count": 32,
     "metadata": {},
     "output_type": "execute_result"
    },
    {
     "data": {
      "image/png": "[encoded data removed]",
      "text/plain": [
       "<Figure size 432x288 with 1 Axes>"
      ]
     },
     "metadata": {},
     "output_type": "display_data"
    }
   ],
   "source": [
    "py.hist(genetic_term_dist)"
   ]
  },
  {
   "cell_type": "code",
   "execution_count": 33,
   "metadata": {},
   "outputs": [
    {
     "data": {
      "text/plain": [
       "(array([3428., 1117.,  551.,  329.,  223.,  128.,   76.,   42.,   22.,\n",
       "          16.]),\n",
       " array([1.000e+00, 1.022e+02, 2.034e+02, 3.046e+02, 4.058e+02, 5.070e+02,\n",
       "        6.082e+02, 7.094e+02, 8.106e+02, 9.118e+02, 1.013e+03]),\n",
       " <a list of 10 Patch objects>)"
      ]
     },
     "execution_count": 33,
     "metadata": {},
     "output_type": "execute_result"
    },
    {
     "data": {
      "image/png": "[encoded data removed]",
      "text/plain": [
       "<Figure size 432x288 with 1 Axes>"
      ]
     },
     "metadata": {},
     "output_type": "display_data"
    }
   ],
   "source": [
    "## plot the distribution without the top 10%\n",
    "genetic_no_outlier = np.sort(genetic_term_dist)[:-13]\n",
    "py.hist(genetic_no_outlier, color='cyan')"
   ]
  },
  {
   "cell_type": "code",
   "execution_count": 34,
   "metadata": {},
   "outputs": [
    {
     "data": {
      "text/plain": [
       "(array([373., 147.,  47.,  23.,   3.,   0.,   0.,   1.,   0.,   1.]),\n",
       " array([ 377. ,  563.6,  750.2,  936.8, 1123.4, 1310. , 1496.6, 1683.2,\n",
       "        1869.8, 2056.4, 2243. ]),\n",
       " <a list of 10 Patch objects>)"
      ]
     },
     "execution_count": 34,
     "metadata": {},
     "output_type": "execute_result"
    },
    {
     "data": {
      "image/png": "[encoded data removed]",
      "text/plain": [
       "<Figure size 432x288 with 1 Axes>"
      ]
     },
     "metadata": {},
     "output_type": "display_data"
    }
   ],
   "source": [
    "## plot only the top 10% of the terms\n",
    "genetic_top_ten_percent = np.sort(genetic_term_dist)[round(len(genetic_term_dist)- .1*len(genetic_term_dist)):]\n",
    "py.hist(genetic_top_ten_percent, color = 'navy')"
   ]
  },
  {
   "cell_type": "code",
   "execution_count": 42,
   "metadata": {},
   "outputs": [
    {
     "data": {
      "text/plain": [
       "4005"
      ]
     },
     "execution_count": 42,
     "metadata": {},
     "output_type": "execute_result"
    }
   ],
   "source": [
    "sum(genetic_term_dist > 50)"
   ]
  },
  {
   "cell_type": "markdown",
   "metadata": {},
   "source": [
    "## create gmt files for only hubs (> 50 interactors) and elminate some large outliers (> 1000 interactors)"
   ]
  },
  {
   "cell_type": "code",
   "execution_count": 56,
   "metadata": {},
   "outputs": [],
   "source": [
    "## function write a gmt file from the dictionary and outputs the distribution of genes per term\n",
    "def write_gmt(Dict, filename):\n",
    "    \n",
    "    term_sizes = []\n",
    "    with open(filename, 'w') as file:\n",
    "        for key,value in Dict.items():\n",
    "            \n",
    "            if len(set(value)) > 50 and len(set(value)) < 1000:\n",
    "                file.write(str(key).upper() + '\\t' + '\\t')\n",
    "                for element in value:\n",
    "                    file.write(str(element).upper() + '\\t')\n",
    "                file.write('\\n')\n",
    "                term_sizes.append(len(set(value)))\n",
    "    \n",
    "    return term_sizes"
   ]
  },
  {
   "cell_type": "code",
   "execution_count": 57,
   "metadata": {},
   "outputs": [],
   "source": [
    "file_physical = 'physical_interactions_hubs_biogrid_V2_%s.gmt'% str(datetime.date.today())[0:7].replace('-', '_')\n",
    "physical_term_dist = write_gmt(physical_dict, file_physical) "
   ]
  },
  {
   "cell_type": "code",
   "execution_count": 58,
   "metadata": {},
   "outputs": [],
   "source": [
    "file_genetic = 'genetic_interactions_hubs_biogrid_V2_%s.gmt'% str(datetime.date.today())[0:7].replace('-', '_')\n",
    "genetic_term_dist = write_gmt(genetic_dict, file_genetic)"
   ]
  },
  {
   "cell_type": "markdown",
   "metadata": {},
   "source": [
    "## get gmt stats for both physical and genetic interaction hub gmts"
   ]
  },
  {
   "cell_type": "code",
   "execution_count": 48,
   "metadata": {},
   "outputs": [],
   "source": [
    "def getTermStats(loaded_gmt, geneInfoTable, num_samplings, num_genes_in_sampling) :\n",
    "    # get the relevant terms and set a dictionary for them\n",
    "    term_set = loaded_gmt.iloc[:,0].apply(lambda x: x.split(\"\\t\")[0])\n",
    "    term_genes_dict = {term_set[i]: loaded_gmt.iloc[i,0].split(\"\\t\")[2:] for i in range(0, loaded_gmt.shape[0])}\n",
    "    term_rank_dict = {k: [] for k in term_set}\n",
    "    term_stats_dict = {k: [] for k in term_set}\n",
    "    \n",
    "    # get the total number of genes in the organism\n",
    "    n_genes = len(geneInfoTable[\"Symbol\"].unique())\n",
    "    \n",
    "    # number of genes per sampling, number of times to sample\n",
    "    genes_in_sampleing = num_genes_in_sampling\n",
    "    num_samplings = num_samplings\n",
    "    \n",
    "    for i,x in enumerate(range(0,num_samplings)):\n",
    "        \n",
    "        progressPercent = ((i+1)/len(range(0,num_samplings)))*100\n",
    "        \n",
    "        sys.stdout.write(\"Progress: %d%%  %d Out of %d   \\r\" % (progressPercent, (i+1), len(range(0,num_samplings))))\n",
    "        sys.stdout.flush()\n",
    "            \n",
    "        \n",
    "        randomSet = set(geneInfoTable[\"Symbol\"].sample(genes_in_sampleing).apply(lambda x: x.split('.')[0]))\n",
    "        \n",
    "        # initialize an array to hold the pvalue for each term\n",
    "        pvals = np.array([])\n",
    "        for key in term_rank_dict.keys():\n",
    "            \n",
    "            termSet = set(term_genes_dict[key])\n",
    "            # calculate p value using fisher exact test\n",
    "            # implemented using the formula found in the GeneOverap bioconductor package for R\n",
    "            pval_term = stat.fisher_exact([[n_genes - len(termSet.union(randomSet)), len(randomSet.difference(termSet))], [len(termSet.difference(randomSet)), len(termSet.intersection(randomSet))]])[1]\n",
    "            pvals = np.append(pvals, [pval_term])\n",
    "        \n",
    "        # sort the pvals and add the rank to the term_rank dict\n",
    "        sorted_pvals = pvals.argsort()\n",
    "        \n",
    "        # find the rank for each term by sorting the pvals array and getting the index of the key position in the\n",
    "        # sorted list. Need to +1 because the index begins with 0\n",
    "        \n",
    "        for j,key in enumerate(term_rank_dict.keys()):\n",
    "            term_rank_dict[key].append(np.where(sorted_pvals == j)[0][0] + 1)\n",
    "            \n",
    "    for key in term_rank_dict:\n",
    "        term_stats_dict[key] = [np.mean(term_rank_dict[key]), np.std(term_rank_dict[key])]\n",
    "            \n",
    "    \n",
    "    \n",
    "    return term_stats_dict"
   ]
  },
  {
   "cell_type": "code",
   "execution_count": 49,
   "metadata": {},
   "outputs": [],
   "source": [
    "## load the protein-coding set for sampling\n",
    "sCerevisiae_geneInfo = pd.read_csv(\"input/Saccharomyces_cerevisiae.gene_info\", sep=\"\\t\")\n",
    "sCerevisiae_proteinCoding = sCerevisiae_geneInfo[sCerevisiae_geneInfo[\"type_of_gene\"] == \"protein-coding\"]"
   ]
  },
  {
   "cell_type": "code",
   "execution_count": 50,
   "metadata": {},
   "outputs": [
    {
     "data": {
      "text/plain": [
       "pandas.core.frame.DataFrame"
      ]
     },
     "execution_count": 50,
     "metadata": {},
     "output_type": "execute_result"
    }
   ],
   "source": [
    "physical_gmt = pd.read_csv(\"physical_interactions_hubs_biogrid_V2_2018_07.gmt\", sep=\"~\", header=None)\n",
    "type(physical_gmt)"
   ]
  },
  {
   "cell_type": "code",
   "execution_count": 51,
   "metadata": {},
   "outputs": [
    {
     "data": {
      "text/plain": [
       "pandas.core.frame.DataFrame"
      ]
     },
     "execution_count": 51,
     "metadata": {},
     "output_type": "execute_result"
    }
   ],
   "source": [
    "genetic_gmt = pd.read_csv(\"genetic_interactions_hubs_biogrid_V2_2018_07.gmt\", sep=\"~\", header=None)\n",
    "type(genetic_gmt)"
   ]
  },
  {
   "cell_type": "code",
   "execution_count": 52,
   "metadata": {},
   "outputs": [
    {
     "name": "stdout",
     "output_type": "stream",
     "text": [
      "Progress: 100%  200 Out of 200   \r"
     ]
    }
   ],
   "source": [
    "physical_stats = getTermStats(physical_gmt, sCerevisiae_proteinCoding, 200, 300)"
   ]
  },
  {
   "cell_type": "code",
   "execution_count": 53,
   "metadata": {},
   "outputs": [
    {
     "name": "stdout",
     "output_type": "stream",
     "text": [
      "Progress: 100%  200 Out of 200   \r"
     ]
    }
   ],
   "source": [
    "genetic_stats = getTermStats(genetic_gmt, sCerevisiae_proteinCoding, 200, 300)"
   ]
  },
  {
   "cell_type": "code",
   "execution_count": 54,
   "metadata": {},
   "outputs": [],
   "source": [
    "df_physical_stats = pd.DataFrame.from_dict(physical_stats, orient='index', columns=['mean', 'sd'])\n",
    "df_genetic_stats = pd.DataFrame.from_dict(genetic_stats, orient='index', columns=['mean', 'sd'])"
   ]
  },
  {
   "cell_type": "code",
   "execution_count": 55,
   "metadata": {},
   "outputs": [],
   "source": [
    "df_physical_stats.to_csv('output/physical_interactions_hubs_biogrid_V2_2018_07_stats.tsv', sep='\\t', header=False)\n",
    "df_genetic_stats.to_csv('output/genetic_interactions_hubs_biogrid_V2_2018_07_stats.tsv', sep='\\t', header=False)"
   ]
  }
 ],
 "metadata": {
  "kernelspec": {
   "display_name": "Python 3",
   "language": "python",
   "name": "python3"
  },
  "language_info": {
   "codemirror_mode": {
    "name": "ipython",
    "version": 3
   },
   "file_extension": ".py",
   "mimetype": "text/x-python",
   "name": "python",
   "nbconvert_exporter": "python",
   "pygments_lexer": "ipython3",
   "version": "3.6.5"
  }
 },
 "nbformat": 4,
 "nbformat_minor": 2
}
