{
 "cells": [
  {
   "cell_type": "markdown",
   "metadata": {},
   "source": [
    "# Wikipathways Yeast 2018"
   ]
  },
  {
   "cell_type": "markdown",
   "metadata": {},
   "source": [
    "Author: Zachary Flamholz  \n",
    "Date: 07-2018  \n",
    "Database: https://www.wikipathways.org/    \n",
    "Data: http://data.wikipathways.org/20180610/gpml/wikipathways-20180610-gpml-Saccharomyces_cerevisiae.zip (v. 20180610 (10 June 2018)      \n",
    "Companion file: http://ftp.ncbi.nlm.nih.gov/gene/DATA/GENE_INFO/Fungi/Saccharomyces_cerevisiae.gene_info.gz      "
   ]
  },
  {
   "cell_type": "markdown",
   "metadata": {},
   "source": [
    "## import libraries"
   ]
  },
  {
   "cell_type": "code",
   "execution_count": 20,
   "metadata": {},
   "outputs": [],
   "source": [
    "import numpy as np\n",
    "import pandas as pd\n",
    "import sys, datetime\n",
    "import scipy.stats as stat\n",
    "import matplotlib\n",
    "from matplotlib import pyplot as py"
   ]
  },
  {
   "cell_type": "markdown",
   "metadata": {},
   "source": [
    "# Versions of Modules in use"
   ]
  },
  {
   "cell_type": "code",
   "execution_count": 2,
   "metadata": {},
   "outputs": [
    {
     "data": {
      "application/json": {
       "Software versions": [
        {
         "module": "Python",
         "version": "3.6.5 64bit [GCC 4.2.1 Compatible Apple LLVM 9.1.0 (clang-902.0.39.1)]"
        },
        {
         "module": "IPython",
         "version": "6.4.0"
        },
        {
         "module": "OS",
         "version": "Darwin 17.5.0 x86_64 i386 64bit"
        },
        {
         "module": "numpy",
         "version": "1.14.5"
        },
        {
         "module": "pandas",
         "version": "0.23.1"
        }
       ]
      },
      "text/html": [
       "<table><tr><th>Software</th><th>Version</th></tr><tr><td>Python</td><td>3.6.5 64bit [GCC 4.2.1 Compatible Apple LLVM 9.1.0 (clang-902.0.39.1)]</td></tr><tr><td>IPython</td><td>6.4.0</td></tr><tr><td>OS</td><td>Darwin 17.5.0 x86_64 i386 64bit</td></tr><tr><td>numpy</td><td>1.14.5</td></tr><tr><td>pandas</td><td>0.23.1</td></tr><tr><td colspan='2'>Mon Jul 09 17:54:08 2018 EDT</td></tr></table>"
      ],
      "text/latex": [
       "\\begin{tabular}{|l|l|}\\hline\n",
       "{\\bf Software} & {\\bf Version} \\\\ \\hline\\hline\n",
       "Python & 3.6.5 64bit [GCC 4.2.1 Compatible Apple LLVM 9.1.0 (clang-902.0.39.1)] \\\\ \\hline\n",
       "IPython & 6.4.0 \\\\ \\hline\n",
       "OS & Darwin 17.5.0 x86\\_64 i386 64bit \\\\ \\hline\n",
       "numpy & 1.14.5 \\\\ \\hline\n",
       "pandas & 0.23.1 \\\\ \\hline\n",
       "\\hline \\multicolumn{2}{|l|}{Mon Jul 09 17:54:08 2018 EDT} \\\\ \\hline\n",
       "\\end{tabular}\n"
      ],
      "text/plain": [
       "Software versions\n",
       "Python 3.6.5 64bit [GCC 4.2.1 Compatible Apple LLVM 9.1.0 (clang-902.0.39.1)]\n",
       "IPython 6.4.0\n",
       "OS Darwin 17.5.0 x86_64 i386 64bit\n",
       "numpy 1.14.5\n",
       "pandas 0.23.1\n",
       "Mon Jul 09 17:54:08 2018 EDT"
      ]
     },
     "execution_count": 2,
     "metadata": {},
     "output_type": "execute_result"
    }
   ],
   "source": [
    "%load_ext version_information\n",
    "%version_information numpy, pandas"
   ]
  },
  {
   "cell_type": "markdown",
   "metadata": {},
   "source": [
    "## read in data "
   ]
  },
  {
   "cell_type": "code",
   "execution_count": 3,
   "metadata": {},
   "outputs": [],
   "source": [
    "df = pd.read_csv('input/wikipathways_sCerevisiae_2018', sep = '~', header=None)"
   ]
  },
  {
   "cell_type": "code",
   "execution_count": 4,
   "metadata": {},
   "outputs": [
    {
     "data": {
      "text/html": [
       "<div>\n",
       "<style scoped>\n",
       "    .dataframe tbody tr th:only-of-type {\n",
       "        vertical-align: middle;\n",
       "    }\n",
       "\n",
       "    .dataframe tbody tr th {\n",
       "        vertical-align: top;\n",
       "    }\n",
       "\n",
       "    .dataframe thead th {\n",
       "        text-align: right;\n",
       "    }\n",
       "</style>\n",
       "<table border=\"1\" class=\"dataframe\">\n",
       "  <thead>\n",
       "    <tr style=\"text-align: right;\">\n",
       "      <th></th>\n",
       "      <th>0</th>\n",
       "    </tr>\n",
       "  </thead>\n",
       "  <tbody>\n",
       "    <tr>\n",
       "      <th>0</th>\n",
       "      <td>Glycine biosynthesis%WikiPathways_20180610%WP2...</td>\n",
       "    </tr>\n",
       "    <tr>\n",
       "      <th>1</th>\n",
       "      <td>Glucose-1-phosphate metabolism%WikiPathways_20...</td>\n",
       "    </tr>\n",
       "    <tr>\n",
       "      <th>2</th>\n",
       "      <td>De Novo Biosynthesis of Purine Nucleotides%Wik...</td>\n",
       "    </tr>\n",
       "    <tr>\n",
       "      <th>3</th>\n",
       "      <td>RuMP cycle, containing \"Oxidative Branch of th...</td>\n",
       "    </tr>\n",
       "    <tr>\n",
       "      <th>4</th>\n",
       "      <td>Fatty Acid Elongation, Saturated%WikiPathways_...</td>\n",
       "    </tr>\n",
       "  </tbody>\n",
       "</table>\n",
       "</div>"
      ],
      "text/plain": [
       "                                                   0\n",
       "0  Glycine biosynthesis%WikiPathways_20180610%WP2...\n",
       "1  Glucose-1-phosphate metabolism%WikiPathways_20...\n",
       "2  De Novo Biosynthesis of Purine Nucleotides%Wik...\n",
       "3  RuMP cycle, containing \"Oxidative Branch of th...\n",
       "4  Fatty Acid Elongation, Saturated%WikiPathways_..."
      ]
     },
     "execution_count": 4,
     "metadata": {},
     "output_type": "execute_result"
    }
   ],
   "source": [
    "df.head()"
   ]
  },
  {
   "cell_type": "code",
   "execution_count": 5,
   "metadata": {
    "scrolled": true
   },
   "outputs": [
    {
     "data": {
      "text/plain": [
       "0    Glycine biosynthesis%WikiPathways_20180610%WP2...\n",
       "Name: 0, dtype: object"
      ]
     },
     "execution_count": 5,
     "metadata": {},
     "output_type": "execute_result"
    }
   ],
   "source": [
    "df.iloc[0]"
   ]
  },
  {
   "cell_type": "code",
   "execution_count": 6,
   "metadata": {},
   "outputs": [],
   "source": [
    "sCerevisiae_geneInfo = pd.read_csv(\"input/Saccharomyces_cerevisiae.gene_info\", sep=\"\\t\")"
   ]
  },
  {
   "cell_type": "markdown",
   "metadata": {},
   "source": [
    "## load NCBI reference for converting ENTREZ gene ID to gene symbol"
   ]
  },
  {
   "cell_type": "code",
   "execution_count": 7,
   "metadata": {},
   "outputs": [
    {
     "data": {
      "text/html": [
       "<div>\n",
       "<style scoped>\n",
       "    .dataframe tbody tr th:only-of-type {\n",
       "        vertical-align: middle;\n",
       "    }\n",
       "\n",
       "    .dataframe tbody tr th {\n",
       "        vertical-align: top;\n",
       "    }\n",
       "\n",
       "    .dataframe thead th {\n",
       "        text-align: right;\n",
       "    }\n",
       "</style>\n",
       "<table border=\"1\" class=\"dataframe\">\n",
       "  <thead>\n",
       "    <tr style=\"text-align: right;\">\n",
       "      <th></th>\n",
       "      <th>#tax_id</th>\n",
       "      <th>GeneID</th>\n",
       "      <th>Symbol</th>\n",
       "      <th>LocusTag</th>\n",
       "      <th>Synonyms</th>\n",
       "      <th>dbXrefs</th>\n",
       "      <th>chromosome</th>\n",
       "      <th>map_location</th>\n",
       "      <th>description</th>\n",
       "      <th>type_of_gene</th>\n",
       "      <th>Symbol_from_nomenclature_authority</th>\n",
       "      <th>Full_name_from_nomenclature_authority</th>\n",
       "      <th>Nomenclature_status</th>\n",
       "      <th>Other_designations</th>\n",
       "      <th>Modification_date</th>\n",
       "      <th>Feature_type</th>\n",
       "    </tr>\n",
       "  </thead>\n",
       "  <tbody>\n",
       "    <tr>\n",
       "      <th>0</th>\n",
       "      <td>4932</td>\n",
       "      <td>2828223</td>\n",
       "      <td>NEWENTRY</td>\n",
       "      <td>-</td>\n",
       "      <td>-</td>\n",
       "      <td>-</td>\n",
       "      <td>-</td>\n",
       "      <td>-</td>\n",
       "      <td>Record to support submission of GeneRIFs for a...</td>\n",
       "      <td>other</td>\n",
       "      <td>-</td>\n",
       "      <td>-</td>\n",
       "      <td>-</td>\n",
       "      <td>-</td>\n",
       "      <td>20180616</td>\n",
       "      <td>-</td>\n",
       "    </tr>\n",
       "    <tr>\n",
       "      <th>1</th>\n",
       "      <td>4932</td>\n",
       "      <td>24573110</td>\n",
       "      <td>atp6</td>\n",
       "      <td>ACI60_gp06</td>\n",
       "      <td>-</td>\n",
       "      <td>-</td>\n",
       "      <td>MT</td>\n",
       "      <td>-</td>\n",
       "      <td>Atp6</td>\n",
       "      <td>protein-coding</td>\n",
       "      <td>-</td>\n",
       "      <td>-</td>\n",
       "      <td>-</td>\n",
       "      <td>-</td>\n",
       "      <td>20180130</td>\n",
       "      <td>-</td>\n",
       "    </tr>\n",
       "    <tr>\n",
       "      <th>2</th>\n",
       "      <td>4932</td>\n",
       "      <td>24573111</td>\n",
       "      <td>ACI60_gt03</td>\n",
       "      <td>ACI60_gt03</td>\n",
       "      <td>-</td>\n",
       "      <td>-</td>\n",
       "      <td>MT</td>\n",
       "      <td>-</td>\n",
       "      <td>tRNA</td>\n",
       "      <td>tRNA</td>\n",
       "      <td>-</td>\n",
       "      <td>-</td>\n",
       "      <td>-</td>\n",
       "      <td>-</td>\n",
       "      <td>20150619</td>\n",
       "      <td>-</td>\n",
       "    </tr>\n",
       "    <tr>\n",
       "      <th>3</th>\n",
       "      <td>4932</td>\n",
       "      <td>24573112</td>\n",
       "      <td>ACI60_gt04</td>\n",
       "      <td>ACI60_gt04</td>\n",
       "      <td>-</td>\n",
       "      <td>-</td>\n",
       "      <td>MT</td>\n",
       "      <td>-</td>\n",
       "      <td>tRNA</td>\n",
       "      <td>tRNA</td>\n",
       "      <td>-</td>\n",
       "      <td>-</td>\n",
       "      <td>-</td>\n",
       "      <td>-</td>\n",
       "      <td>20150619</td>\n",
       "      <td>-</td>\n",
       "    </tr>\n",
       "    <tr>\n",
       "      <th>4</th>\n",
       "      <td>4932</td>\n",
       "      <td>24573113</td>\n",
       "      <td>ACI60_gr01</td>\n",
       "      <td>ACI60_gr01</td>\n",
       "      <td>-</td>\n",
       "      <td>-</td>\n",
       "      <td>MT</td>\n",
       "      <td>-</td>\n",
       "      <td>large subunit ribosomal RNA</td>\n",
       "      <td>rRNA</td>\n",
       "      <td>-</td>\n",
       "      <td>-</td>\n",
       "      <td>-</td>\n",
       "      <td>-</td>\n",
       "      <td>20150619</td>\n",
       "      <td>-</td>\n",
       "    </tr>\n",
       "  </tbody>\n",
       "</table>\n",
       "</div>"
      ],
      "text/plain": [
       "   #tax_id    GeneID      Symbol    LocusTag Synonyms dbXrefs chromosome  \\\n",
       "0     4932   2828223    NEWENTRY           -        -       -          -   \n",
       "1     4932  24573110        atp6  ACI60_gp06        -       -         MT   \n",
       "2     4932  24573111  ACI60_gt03  ACI60_gt03        -       -         MT   \n",
       "3     4932  24573112  ACI60_gt04  ACI60_gt04        -       -         MT   \n",
       "4     4932  24573113  ACI60_gr01  ACI60_gr01        -       -         MT   \n",
       "\n",
       "  map_location                                        description  \\\n",
       "0            -  Record to support submission of GeneRIFs for a...   \n",
       "1            -                                               Atp6   \n",
       "2            -                                               tRNA   \n",
       "3            -                                               tRNA   \n",
       "4            -                        large subunit ribosomal RNA   \n",
       "\n",
       "     type_of_gene Symbol_from_nomenclature_authority  \\\n",
       "0           other                                  -   \n",
       "1  protein-coding                                  -   \n",
       "2            tRNA                                  -   \n",
       "3            tRNA                                  -   \n",
       "4            rRNA                                  -   \n",
       "\n",
       "  Full_name_from_nomenclature_authority Nomenclature_status  \\\n",
       "0                                     -                   -   \n",
       "1                                     -                   -   \n",
       "2                                     -                   -   \n",
       "3                                     -                   -   \n",
       "4                                     -                   -   \n",
       "\n",
       "  Other_designations  Modification_date Feature_type  \n",
       "0                  -           20180616            -  \n",
       "1                  -           20180130            -  \n",
       "2                  -           20150619            -  \n",
       "3                  -           20150619            -  \n",
       "4                  -           20150619            -  "
      ]
     },
     "execution_count": 7,
     "metadata": {},
     "output_type": "execute_result"
    }
   ],
   "source": [
    "sCerevisiae_geneInfo.head()"
   ]
  },
  {
   "cell_type": "code",
   "execution_count": 8,
   "metadata": {},
   "outputs": [],
   "source": [
    "sCerevisiae_proteinCoding = sCerevisiae_geneInfo[sCerevisiae_geneInfo[\"type_of_gene\"] == \"protein-coding\"]"
   ]
  },
  {
   "cell_type": "code",
   "execution_count": 9,
   "metadata": {},
   "outputs": [
    {
     "data": {
      "text/plain": [
       "numpy.int64"
      ]
     },
     "execution_count": 9,
     "metadata": {},
     "output_type": "execute_result"
    }
   ],
   "source": [
    "type(sCerevisiae_geneInfo.iloc[0, 1])"
   ]
  },
  {
   "cell_type": "code",
   "execution_count": 10,
   "metadata": {},
   "outputs": [
    {
     "data": {
      "text/plain": [
       "'AGX1'"
      ]
     },
     "execution_count": 10,
     "metadata": {},
     "output_type": "execute_result"
    }
   ],
   "source": [
    "sCerevisiae_geneInfo.loc[sCerevisiae_geneInfo['GeneID'] == 850514]['Symbol'].iloc[0]"
   ]
  },
  {
   "cell_type": "markdown",
   "metadata": {},
   "source": [
    "## build a dictionary of terms and genes"
   ]
  },
  {
   "cell_type": "code",
   "execution_count": 11,
   "metadata": {},
   "outputs": [],
   "source": [
    "pathway_dict = {}\n",
    "for row in df.itertuples():\n",
    "    splits = row[1].split('\\t')\n",
    "    term_split = splits[0].split('%')\n",
    "    term = term_split[0] + '_' + term_split[2]\n",
    "    pathway_dict[term] = []\n",
    "    for i in range(2, len(splits)):\n",
    "        if int(splits[i]) in np.asarray(sCerevisiae_geneInfo['GeneID']):\n",
    "            pathway_dict[term].append(sCerevisiae_geneInfo.loc[sCerevisiae_geneInfo['GeneID'] == int(splits[i])]['Symbol'].iloc[0])"
   ]
  },
  {
   "cell_type": "markdown",
   "metadata": {},
   "source": [
    "## numbers for the library"
   ]
  },
  {
   "cell_type": "code",
   "execution_count": 12,
   "metadata": {},
   "outputs": [
    {
     "data": {
      "text/plain": [
       "112"
      ]
     },
     "execution_count": 12,
     "metadata": {},
     "output_type": "execute_result"
    }
   ],
   "source": [
    "## number of terms\n",
    "len(pathway_dict.keys())"
   ]
  },
  {
   "cell_type": "code",
   "execution_count": 21,
   "metadata": {},
   "outputs": [],
   "source": [
    "dist = []\n",
    "for i in list(pathway_dict.values()):\n",
    "    dist.append(len(i))"
   ]
  },
  {
   "cell_type": "code",
   "execution_count": 22,
   "metadata": {},
   "outputs": [
    {
     "data": {
      "text/plain": [
       "(array([88., 13.,  5.,  3.,  0.,  0.,  1.,  0.,  1.,  1.]),\n",
       " array([  1.,  14.,  27.,  40.,  53.,  66.,  79.,  92., 105., 118., 131.]),\n",
       " <a list of 10 Patch objects>)"
      ]
     },
     "execution_count": 22,
     "metadata": {},
     "output_type": "execute_result"
    },
    {
     "data": {
      "image/png": "[encoded data removed]",
      "text/plain": [
       "<Figure size 432x288 with 1 Axes>"
      ]
     },
     "metadata": {},
     "output_type": "display_data"
    }
   ],
   "source": [
    "py.hist(dist, color='red')"
   ]
  },
  {
   "cell_type": "code",
   "execution_count": 13,
   "metadata": {},
   "outputs": [
    {
     "data": {
      "text/plain": [
       "['AGX1', 'SHM2', 'SHM1', 'GLY1']"
      ]
     },
     "execution_count": 13,
     "metadata": {},
     "output_type": "execute_result"
    }
   ],
   "source": [
    "pathway_dict['Glycine biosynthesis_WP261']"
   ]
  },
  {
   "cell_type": "markdown",
   "metadata": {},
   "source": [
    "## build gmt"
   ]
  },
  {
   "cell_type": "code",
   "execution_count": 14,
   "metadata": {},
   "outputs": [
    {
     "name": "stdout",
     "output_type": "stream",
     "text": [
      "Progress: 100%  112 Out of 112   \r"
     ]
    }
   ],
   "source": [
    "filename = 'wikipathways_greater4_%s.gmt'% str(datetime.date.today())[0:7].replace('-', '_')\n",
    "file = open(filename,'w+') \n",
    "terms = pathway_dict.keys()\n",
    "for i,term in enumerate(terms):\n",
    "    \n",
    "    progressPercent = ((i+1)/len(terms))*100\n",
    "    sys.stdout.write(\"Progress: %d%%  %d Out of %d   \\r\" % (progressPercent, (i+1), len(terms)))\n",
    "    sys.stdout.flush()\n",
    "    \n",
    "    if len(pathway_dict[term]) > 4:\n",
    "        file.write(\"%s\\t\" % term)\n",
    "        file.write(\"\\t\")\n",
    "        genes = pathway_dict[term]\n",
    "    \n",
    "        for gene in genes:\n",
    "              file.write(\"%s\\t\" % gene)\n",
    "        file.write(\"\\n\")\n",
    "        \n",
    "file.close()"
   ]
  },
  {
   "cell_type": "markdown",
   "metadata": {},
   "source": [
    "## get gmt stats"
   ]
  },
  {
   "cell_type": "code",
   "execution_count": 15,
   "metadata": {},
   "outputs": [],
   "source": [
    "def getTermStats(loaded_gmt, geneInfoTable, num_samplings, num_genes_in_sampling) :\n",
    "    # get the relevant terms and set a dictionary for them\n",
    "    term_set = loaded_gmt.iloc[:,0].apply(lambda x: x.split(\"\\t\")[0])\n",
    "    term_genes_dict = {term_set[i]: loaded_gmt.iloc[i,0].split(\"\\t\")[2:] for i in range(0, loaded_gmt.shape[0])}\n",
    "    term_rank_dict = {k: [] for k in term_set}\n",
    "    term_stats_dict = {k: [] for k in term_set}\n",
    "    \n",
    "    # get the total number of genes in the organism\n",
    "    n_genes = len(geneInfoTable[\"Symbol\"].unique())\n",
    "    \n",
    "    # number of genes per sampling, number of times to sample\n",
    "    genes_in_sampleing = num_genes_in_sampling\n",
    "    num_samplings = num_samplings\n",
    "    \n",
    "    for i,x in enumerate(range(0,num_samplings)):\n",
    "        \n",
    "        progressPercent = ((i+1)/len(range(0,num_samplings)))*100\n",
    "        \n",
    "        sys.stdout.write(\"Progress: %d%%  %d Out of %d   \\r\" % (progressPercent, (i+1), len(range(0,num_samplings))))\n",
    "        sys.stdout.flush()\n",
    "            \n",
    "        \n",
    "        randomSet = set(geneInfoTable[\"Symbol\"].sample(genes_in_sampleing).apply(lambda x: x.split('.')[0]))\n",
    "        \n",
    "        # initialize an array to hold the pvalue for each term\n",
    "        pvals = np.array([])\n",
    "        for key in term_rank_dict.keys():\n",
    "            \n",
    "            termSet = set(term_genes_dict[key])\n",
    "            # calculate p value using fisher exact test\n",
    "            # implemented using the formula found in the GeneOverap bioconductor package for R\n",
    "            pval_term = stat.fisher_exact([[n_genes - len(termSet.union(randomSet)), len(randomSet.difference(termSet))], [len(termSet.difference(randomSet)), len(termSet.intersection(randomSet))]])[1]\n",
    "            pvals = np.append(pvals, [pval_term])\n",
    "        \n",
    "        # sort the pvals and add the rank to the term_rank dict\n",
    "        sorted_pvals = pvals.argsort()\n",
    "        \n",
    "        # find the rank for each term by sorting the pvals array and getting the index of the key position in the\n",
    "        # sorted list. Need to +1 because the index begins with 0\n",
    "        \n",
    "        for j,key in enumerate(term_rank_dict.keys()):\n",
    "            term_rank_dict[key].append(np.where(sorted_pvals == j)[0][0] + 1)\n",
    "            \n",
    "    for key in term_rank_dict:\n",
    "        term_stats_dict[key] = [np.mean(term_rank_dict[key]), np.std(term_rank_dict[key])]\n",
    "            \n",
    "    \n",
    "    \n",
    "    return term_stats_dict"
   ]
  },
  {
   "cell_type": "code",
   "execution_count": 16,
   "metadata": {},
   "outputs": [],
   "source": [
    "## load gmt\n",
    "wikipathway_gmt = pd.read_csv(\"wikipathways_greater4_2018_07.gmt\", sep=\"~\", header=None)"
   ]
  },
  {
   "cell_type": "code",
   "execution_count": 17,
   "metadata": {},
   "outputs": [
    {
     "data": {
      "text/html": [
       "<div>\n",
       "<style scoped>\n",
       "    .dataframe tbody tr th:only-of-type {\n",
       "        vertical-align: middle;\n",
       "    }\n",
       "\n",
       "    .dataframe tbody tr th {\n",
       "        vertical-align: top;\n",
       "    }\n",
       "\n",
       "    .dataframe thead th {\n",
       "        text-align: right;\n",
       "    }\n",
       "</style>\n",
       "<table border=\"1\" class=\"dataframe\">\n",
       "  <thead>\n",
       "    <tr style=\"text-align: right;\">\n",
       "      <th></th>\n",
       "      <th>0</th>\n",
       "    </tr>\n",
       "  </thead>\n",
       "  <tbody>\n",
       "    <tr>\n",
       "      <th>0</th>\n",
       "      <td>Glucose-1-phosphate metabolism_WP260\\t\\tGLC3\\t...</td>\n",
       "    </tr>\n",
       "    <tr>\n",
       "      <th>1</th>\n",
       "      <td>De Novo Biosynthesis of Purine Nucleotides_WP2...</td>\n",
       "    </tr>\n",
       "    <tr>\n",
       "      <th>2</th>\n",
       "      <td>RuMP cycle, containing \"Oxidative Branch of th...</td>\n",
       "    </tr>\n",
       "    <tr>\n",
       "      <th>3</th>\n",
       "      <td>Pentose Phosphate Pathway_WP369\\t\\tTKL2\\tGND2\\...</td>\n",
       "    </tr>\n",
       "    <tr>\n",
       "      <th>4</th>\n",
       "      <td>Fatty Acid Biosynthesis, Initial Steps_WP137\\t...</td>\n",
       "    </tr>\n",
       "  </tbody>\n",
       "</table>\n",
       "</div>"
      ],
      "text/plain": [
       "                                                   0\n",
       "0  Glucose-1-phosphate metabolism_WP260\\t\\tGLC3\\t...\n",
       "1  De Novo Biosynthesis of Purine Nucleotides_WP2...\n",
       "2  RuMP cycle, containing \"Oxidative Branch of th...\n",
       "3  Pentose Phosphate Pathway_WP369\\t\\tTKL2\\tGND2\\...\n",
       "4  Fatty Acid Biosynthesis, Initial Steps_WP137\\t..."
      ]
     },
     "execution_count": 17,
     "metadata": {},
     "output_type": "execute_result"
    }
   ],
   "source": [
    "wikipathway_gmt.head()"
   ]
  },
  {
   "cell_type": "code",
   "execution_count": 18,
   "metadata": {},
   "outputs": [
    {
     "name": "stdout",
     "output_type": "stream",
     "text": [
      "Progress: 100%  200 Out of 200   \r"
     ]
    }
   ],
   "source": [
    "iterations_200 = getTermStats(wikipathway_gmt, sCerevisiae_proteinCoding, num_samplings=200, num_genes_in_sampling=300)"
   ]
  },
  {
   "cell_type": "code",
   "execution_count": 19,
   "metadata": {},
   "outputs": [],
   "source": [
    "df_200_iterations = pd.DataFrame.from_dict(iterations_200, orient='index', columns = ['mean', 'sd'])\n",
    "df_200_iterations.to_csv('output/wikipathways_greater4_2018_07_stats.tsv', sep='\\t', header=False)"
   ]
  }
 ],
 "metadata": {
  "kernelspec": {
   "display_name": "Python 3",
   "language": "python",
   "name": "python3"
  },
  "language_info": {
   "codemirror_mode": {
    "name": "ipython",
    "version": 3
   },
   "file_extension": ".py",
   "mimetype": "text/x-python",
   "name": "python",
   "nbconvert_exporter": "python",
   "pygments_lexer": "ipython3",
   "version": "3.6.5"
  }
 },
 "nbformat": 4,
 "nbformat_minor": 2
}
